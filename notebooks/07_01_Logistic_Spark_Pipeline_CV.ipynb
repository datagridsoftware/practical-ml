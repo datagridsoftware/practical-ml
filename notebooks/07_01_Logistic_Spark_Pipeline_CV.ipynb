{
 "cells": [
  {
   "cell_type": "markdown",
   "id": "e59c949e",
   "metadata": {},
   "source": [
    "### PySpark Example\n",
    "Logistic regression and HPO+CV with PySpark on the Titanic dataset"
   ]
  },
  {
   "cell_type": "markdown",
   "id": "10a37a97",
   "metadata": {},
   "source": [
    "***\n",
    "#### Environment\n",
    "`conda activate pyspark-env`\n",
    "\n",
    "***\n",
    "#### Goals\n",
    "- Explore PySpark API\n",
    "\n",
    "***\n",
    "#### References\n",
    "https://spark.apache.org/docs/latest/api/python/\n",
    "\n"
   ]
  },
  {
   "cell_type": "markdown",
   "id": "e13e4b20",
   "metadata": {},
   "source": [
    "### Spark initialization"
   ]
  },
  {
   "cell_type": "code",
   "execution_count": null,
   "id": "7fbf01cc",
   "metadata": {},
   "outputs": [],
   "source": [
    "import pyspark\n",
    "from pyspark.sql import SQLContext, SparkSession\n",
    "\n",
    "spark = SparkSession \\\n",
    "    .builder \\\n",
    "    .appName(\"Python Spark SQL Playground\") \\\n",
    "    .master(\"local[*]\") \\\n",
    "    .getOrCreate()\n",
    "\n",
    "\n",
    "spark.sparkContext.setLogLevel(\"ERROR\")\n",
    "\n",
    "sqlContext = SQLContext(sparkContext=spark.sparkContext, sparkSession=spark)\n",
    "print(\"Spark Version: \" + spark.version)\n",
    "print(\"PySpark Version: \" + pyspark.__version__)"
   ]
  },
  {
   "cell_type": "code",
   "execution_count": null,
   "id": "095d1c3a",
   "metadata": {},
   "outputs": [],
   "source": [
    "%%html\n",
    "<style>\n",
    "  table {margin-left: 0 !important;}\n",
    "</style>"
   ]
  },
  {
   "cell_type": "markdown",
   "id": "87f9480a",
   "metadata": {},
   "source": [
    "### CSV Data Read - Train\n",
    "\n",
    "`titanic/train.csv`\n",
    "\n",
    "| Variable| Definition| Key| \n",
    "|:--- |:---   |:--- |\n",
    "| PassengerId|  \tPassenger id|  \t| \n",
    "| Survived|  \tSurvival|  \t0 = No, 1 = Yes| \n",
    "| Pclass|  \tTicket class|  \t1 = 1st, 2 = 2nd, 3 = 3rd| \n",
    "| Name|  \tPassenger name |  \t| \n",
    "| Sex|  \tSex|  \t| \n",
    "| Age|  \tAge in years|  \t| \n",
    "| SibSp|  \t# of siblings / spouses aboard the Titanic \t| | \n",
    "| Parch|  \t# of parents / children aboard the Titanic \t| | \n",
    "| Ticket|  \tTicket number | \t| \n",
    "| Fare|  \tPassenger fare \t| | \n",
    "| Cabin|  \tCabin number \t| | \n",
    "| Embarked|  \tPort of Embarkation|  \tC = Cherbourg, Q = Queenstown, S = Southampton| "
   ]
  },
  {
   "cell_type": "code",
   "execution_count": null,
   "id": "0429d5ca",
   "metadata": {},
   "outputs": [],
   "source": [
    "train_df = spark.read.load(\"data/titanic/train.csv\", format=\"csv\", inferSchema=True,   header=\"true\")\n",
    "train_df.printSchema()\n",
    "train_df.show(5)"
   ]
  },
  {
   "cell_type": "markdown",
   "id": "5dd6cb70",
   "metadata": {},
   "source": [
    "### CSV Data Read - Test\n",
    "\n",
    "`titanic/test.csv`\n",
    "\n",
    "| Variable| Definition| Key| \n",
    "|:--- |:---   |:--- |\n",
    "| PassengerId|  \tPassenger id|  \t| \n",
    "| Pclass|  \tTicket class|  \t1 = 1st, 2 = 2nd, 3 = 3rd| \n",
    "| Name|  \tPassenger name |  \t| \n",
    "| Sex|  \tSex|  \t| \n",
    "| Age|  \tAge in years|  \t| \n",
    "| SibSp|  \t# of siblings / spouses aboard the Titanic \t| | \n",
    "| Parch|  \t# of parents / children aboard the Titanic \t| | \n",
    "| Ticket|  \tTicket number | \t| \n",
    "| Fare|  \tPassenger fare \t| | \n",
    "| Cabin|  \tCabin number \t| | \n",
    "| Embarked|  \tPort of Embarkation|  \tC = Cherbourg, Q = Queenstown, S = Southampton| \n",
    "\n",
    "`titanic/gender_submission.csv`\n",
    "\n",
    "| Variable| Definition| Key| \n",
    "|:--- |:---   |:--- |\n",
    "| PassengerId|  \tPassenger id|  \t| \n",
    "| Survived|  \tSurvival|  \t0 = No, 1 = Yes| \n"
   ]
  },
  {
   "cell_type": "code",
   "execution_count": null,
   "id": "00ddf46a",
   "metadata": {},
   "outputs": [],
   "source": [
    "test_df_no_label = spark.read.load(\"data/titanic/test.csv\", format=\"csv\", inferSchema=True,   header=\"true\")\n",
    "\n",
    "#test_df_no_label.printSchema()\n",
    "#test_df_no_label.show(5)\n",
    "\n",
    "test_df_label = spark.read.load(\"data/titanic/gender_submission.csv\", format=\"csv\", inferSchema=True,   header=\"true\")\n",
    "\n",
    "#test_df_label.printSchema()\n",
    "#test_df_label.show(5)"
   ]
  },
  {
   "cell_type": "markdown",
   "id": "cfe29ad9",
   "metadata": {},
   "source": [
    "### Analize null values"
   ]
  },
  {
   "cell_type": "code",
   "execution_count": null,
   "id": "f34a9106",
   "metadata": {},
   "outputs": [],
   "source": [
    "from pyspark.sql.functions import isnan,isnull, when, count, col\n",
    "\n",
    "train_df.select([count(when(isnull(c), c)).alias(c) for c in train_df.columns]).show()"
   ]
  },
  {
   "cell_type": "markdown",
   "id": "f7556b15",
   "metadata": {},
   "source": [
    "### Data Preparation"
   ]
  },
  {
   "cell_type": "code",
   "execution_count": null,
   "id": "9fc0a356",
   "metadata": {},
   "outputs": [],
   "source": [
    "from pyspark.ml.feature import Imputer, StringIndexer, OneHotEncoder, VectorIndexer, VectorAssembler, MinMaxScaler\n",
    "\n",
    "imputer = Imputer(inputCols=[\"Age\", \"Fare\"], outputCols=[\"Age_out\", \"Fare_out\"])\n",
    "\n",
    "indexer = StringIndexer(inputCols=[ 'Sex', 'Cabin', 'Embarked'], outputCols=[ 'Sex_idx', 'Cabin_idx', 'Embarked_idx'], handleInvalid='keep')\n",
    "\n",
    "ohe_str = OneHotEncoder(inputCols=indexer.getOutputCols(),\n",
    "                    outputCols=['Sex_idx_ohe', 'Cabin_idx_ohe', 'Embarked_idx_ohe']\n",
    "                    )\n",
    "\n",
    "va_numeric = VectorAssembler(inputCols=['Pclass', 'SibSp', 'Parch'], outputCol='numeric_features_asm')\n",
    "vi_numeric = VectorIndexer(inputCol=va_numeric.getOutputCol(), outputCol='numeric_cat', handleInvalid='keep')\n",
    "\n",
    "va_scalers = VectorAssembler(inputCols=imputer.getOutputCols()+ [vi_numeric.getOutputCol()], outputCol='numeric_va_out', handleInvalid='error')\n",
    "scaler = MinMaxScaler(inputCol=va_scalers.getOutputCol(), outputCol=\"numeric_scaled\")\n",
    "\n",
    "va_features = VectorAssembler(inputCols=ohe_str.getOutputCols()+[scaler.getOutputCol()], outputCol='features')"
   ]
  },
  {
   "cell_type": "markdown",
   "id": "2bb8d47f",
   "metadata": {},
   "source": [
    "### Model"
   ]
  },
  {
   "cell_type": "code",
   "execution_count": null,
   "id": "9aeb3d61",
   "metadata": {},
   "outputs": [],
   "source": [
    "from pyspark.ml.classification import LogisticRegression\n",
    "lr = LogisticRegression(maxIter=10, regParam=0.03, featuresCol='features', labelCol='Survived')"
   ]
  },
  {
   "cell_type": "markdown",
   "id": "6dd257b5",
   "metadata": {},
   "source": [
    "### Pipeline"
   ]
  },
  {
   "cell_type": "code",
   "execution_count": null,
   "id": "5915b65c",
   "metadata": {},
   "outputs": [],
   "source": [
    "from pyspark.ml import Pipeline\n",
    "\n",
    "pipeline = Pipeline(stages=[imputer, \n",
    "                            indexer, \n",
    "                            ohe_str, \n",
    "                            va_numeric, \n",
    "                            vi_numeric, \n",
    "                            va_scalers, \n",
    "                            scaler, \n",
    "                            va_features, \n",
    "                            lr])\n"
   ]
  },
  {
   "cell_type": "markdown",
   "id": "1634ed1b",
   "metadata": {},
   "source": [
    "### Train"
   ]
  },
  {
   "cell_type": "code",
   "execution_count": null,
   "id": "a8068aed",
   "metadata": {},
   "outputs": [],
   "source": [
    "pipeline_model = pipeline.fit(train_df)"
   ]
  },
  {
   "cell_type": "markdown",
   "id": "dbd35f17",
   "metadata": {},
   "source": [
    "### Show results for training data"
   ]
  },
  {
   "cell_type": "code",
   "execution_count": null,
   "id": "3e0c67b9",
   "metadata": {},
   "outputs": [],
   "source": [
    "scored_df = pipeline_model.transform(train_df)\n",
    "#scored_df.printSchema()\n",
    "scored_df.show(1, truncate=False, vertical=True)"
   ]
  },
  {
   "cell_type": "markdown",
   "id": "5d0bc8a0",
   "metadata": {},
   "source": [
    "### Score Test Data"
   ]
  },
  {
   "cell_type": "code",
   "execution_count": null,
   "id": "70f5dad8",
   "metadata": {},
   "outputs": [],
   "source": [
    "scored_df = pipeline_model.transform(test_df_no_label)"
   ]
  },
  {
   "cell_type": "code",
   "execution_count": null,
   "id": "e394760b",
   "metadata": {},
   "outputs": [],
   "source": [
    "scored_df_with_label = scored_df.join(test_df_label, ['PassengerId'] )\n",
    "#scored_df_with_label.printSchema()\n",
    "scored_df_with_label.show(1, truncate=False, vertical=True)"
   ]
  },
  {
   "cell_type": "markdown",
   "id": "e71752dc",
   "metadata": {},
   "source": [
    "### Save prediction in CSV format"
   ]
  },
  {
   "cell_type": "code",
   "execution_count": null,
   "id": "aa8f9c3c",
   "metadata": {},
   "outputs": [],
   "source": [
    "scored_df_with_label.select('PassengerId',\n",
    "                            'Pclass', \n",
    "                            'Name', \n",
    "                            'Sex',\n",
    "                            'Age',\n",
    "                            'SibSp',\n",
    "                            'Parch',\n",
    "                            'Ticket',\n",
    "                            'Fare', \n",
    "                            'Cabin', \n",
    "                            'Embarked', \n",
    "                            'Survived',\n",
    "                           'prediction').write.csv(\"./scored_titanic.csv\", mode=\"overwrite\", header='true')"
   ]
  },
  {
   "cell_type": "markdown",
   "id": "f8a220ab",
   "metadata": {},
   "source": [
    "### Model Evaluation"
   ]
  },
  {
   "cell_type": "code",
   "execution_count": null,
   "id": "c1d4d153",
   "metadata": {},
   "outputs": [],
   "source": [
    "from pyspark.mllib.evaluation import BinaryClassificationMetrics\n",
    "\n",
    "pred_label_df = scored_df_with_label.select(scored_df_with_label.prediction,scored_df_with_label.Survived.cast('float'))\n",
    "\n",
    "metrics = BinaryClassificationMetrics(pred_label_df.rdd)\n",
    "\n",
    "# Root mean squared error\n",
    "print(\"AuROC curve = %s\" % metrics.areaUnderROC)\n",
    "\n",
    "# R-squared\n",
    "print(\"area under the precision-recall curve = %s\" % metrics.areaUnderPR)"
   ]
  },
  {
   "cell_type": "markdown",
   "id": "69e95ad0",
   "metadata": {},
   "source": [
    "### Save Pipeline"
   ]
  },
  {
   "cell_type": "code",
   "execution_count": null,
   "id": "95c766d0",
   "metadata": {},
   "outputs": [],
   "source": [
    "pipeline_model.write().overwrite().save(\"./spark-logistic-regression-pipeline-model\")"
   ]
  },
  {
   "cell_type": "markdown",
   "id": "ba70c916",
   "metadata": {},
   "source": [
    "### Hyperparameter tunning with CrossValidator"
   ]
  },
  {
   "cell_type": "code",
   "execution_count": null,
   "id": "96e5519e",
   "metadata": {},
   "outputs": [],
   "source": [
    "%%time\n",
    "from pyspark.ml.feature import HashingTF, Tokenizer\n",
    "from pyspark.ml.tuning import CrossValidator, ParamGridBuilder\n",
    "from pyspark.ml.evaluation import BinaryClassificationEvaluator\n",
    "\n",
    "paramGrid = ParamGridBuilder() \\\n",
    "    .addGrid(imputer.strategy, ['mean', 'median']) \\\n",
    "    .addGrid(ohe_str.dropLast, [True, False]) \\\n",
    "    .addGrid(lr.regParam, [0.1, 0.01, 0.001]) \\\n",
    "    .build()\n",
    "\n",
    "print(\"Searching for the optimal Hyperparameters. This will take a while ...\")\n",
    "\n",
    "crossval = CrossValidator(estimator=pipeline,\n",
    "                          estimatorParamMaps=paramGrid,\n",
    "                          evaluator=BinaryClassificationEvaluator(labelCol='Survived'),\n",
    "                          numFolds=3)  # use 3+ folds in practice\n",
    "\n",
    "# Run cross-validation, and choose the best set of parameters.\n",
    "cvModel = crossval.fit(train_df)"
   ]
  },
  {
   "cell_type": "code",
   "execution_count": null,
   "id": "20b7e5e0",
   "metadata": {},
   "outputs": [],
   "source": [
    "scored_df_cv= cvModel.transform(test_df_no_label)\n",
    "scored_df_with_label_cv = scored_df_cv.join(test_df_label, ['PassengerId'] )\n",
    "pred_label_df_cv = scored_df_with_label_cv.select(scored_df_with_label_cv.prediction,scored_df_with_label_cv.Survived.cast('float'))\n",
    "\n",
    "metrics_cv = BinaryClassificationMetrics(pred_label_df_cv.rdd)\n",
    "\n",
    "# Root mean squared error\n",
    "print(\"CV AuROC curve = %s\" % metrics_cv.areaUnderROC)\n",
    "\n",
    "# R-squared\n",
    "print(\"CV area under the precision-recall curve = %s\" % metrics_cv.areaUnderPR)"
   ]
  },
  {
   "cell_type": "code",
   "execution_count": null,
   "id": "62e47c04",
   "metadata": {},
   "outputs": [],
   "source": [
    "print(\"Best model:\")\n",
    "for stage in cvModel.bestModel.stages:\n",
    "    display (stage)"
   ]
  },
  {
   "cell_type": "code",
   "execution_count": null,
   "id": "0e920f5e",
   "metadata": {},
   "outputs": [],
   "source": [
    "scored_df_with_label_cv.sample(False, 0.1).limit(1).show(1, truncate=False, vertical=True)"
   ]
  },
  {
   "cell_type": "code",
   "execution_count": null,
   "id": "1e3a75f9",
   "metadata": {},
   "outputs": [],
   "source": []
  }
 ],
 "metadata": {
  "kernelspec": {
   "display_name": "Python 3",
   "language": "python",
   "name": "python3"
  },
  "language_info": {
   "codemirror_mode": {
    "name": "ipython",
    "version": 3
   },
   "file_extension": ".py",
   "mimetype": "text/x-python",
   "name": "python",
   "nbconvert_exporter": "python",
   "pygments_lexer": "ipython3",
   "version": "3.8.10"
  }
 },
 "nbformat": 4,
 "nbformat_minor": 5
}

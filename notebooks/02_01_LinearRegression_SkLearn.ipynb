{
 "cells": [
  {
   "cell_type": "markdown",
   "id": "17bbb17f",
   "metadata": {},
   "source": [
    "### Linear regression for data with multiple features\n",
    "Linear regression with sklearn on the auto-mpg dataset"
   ]
  },
  {
   "cell_type": "markdown",
   "id": "2697f4b1",
   "metadata": {},
   "source": [
    "***\n",
    "#### Environment\n",
    "`conda activate sklearn-env`\n",
    "\n",
    "***\n",
    "#### Goals\n",
    "- Train linear regression with sklearn\n",
    "- Predict values from test dataset and compare with test labels\n",
    "\n",
    "***\n",
    "#### References\n",
    "https://scikit-learn.org/stable/modules/generated/sklearn.linear_model.LinearRegression.html"
   ]
  },
  {
   "cell_type": "markdown",
   "id": "42f5a6c9",
   "metadata": {},
   "source": [
    "#### Basic python imports"
   ]
  },
  {
   "cell_type": "code",
   "execution_count": null,
   "id": "81a43151",
   "metadata": {},
   "outputs": [],
   "source": [
    "import matplotlib.pyplot as plt\n",
    "import numpy as np\n",
    "import pandas as pd\n",
    "import seaborn as sns\n",
    "import random \n",
    "\n",
    "\n",
    "# Make numpy printouts easier to read.\n",
    "np.set_printoptions(precision=3, suppress=True)"
   ]
  },
  {
   "cell_type": "markdown",
   "id": "74252345",
   "metadata": {},
   "source": [
    "#### Dataset load from CSV located on UCI website.\n",
    "\n",
    "http://archive.ics.uci.edu/ml/machine-learning-databases/auto-mpg/auto-mpg.data  \n",
    "If the URL does not work the dataset can be loaded from the data folder `./data/auto-mpg.data`."
   ]
  },
  {
   "cell_type": "code",
   "execution_count": null,
   "id": "7c6d841b",
   "metadata": {},
   "outputs": [],
   "source": [
    "url = 'http://archive.ics.uci.edu/ml/machine-learning-databases/auto-mpg/auto-mpg.data'\n",
    "column_names = ['MPG', 'Cylinders', 'Displacement', 'Horsepower', 'Weight',\n",
    "                'Acceleration', 'Model Year', 'Origin']\n",
    "\n",
    "raw_dataset = pd.read_csv(url, names=column_names,\n",
    "                          na_values='?', comment='\\t',\n",
    "                          sep=' ', skipinitialspace=True)\n",
    "dataset = raw_dataset.copy()\n",
    "dataset.tail(2)"
   ]
  },
  {
   "cell_type": "markdown",
   "id": "0b8f8789",
   "metadata": {},
   "source": [
    "#### Data preparation\n",
    "\n",
    "Split data in `training` and `test` datasets\n"
   ]
  },
  {
   "cell_type": "code",
   "execution_count": null,
   "id": "e8f8d4cf",
   "metadata": {},
   "outputs": [],
   "source": [
    "dataset = dataset.dropna().copy()[['MPG', 'Weight']]\n",
    "\n",
    "train_dataset = dataset.sample(frac=0.8, random_state=0)\n",
    "test_dataset = dataset.drop(train_dataset.index)\n",
    "\n",
    "train_features = train_dataset.copy()\n",
    "test_features = test_dataset.copy()\n",
    "\n",
    "train_labels = train_features.pop('MPG')\n",
    "test_labels = test_features.pop('MPG')"
   ]
  },
  {
   "cell_type": "markdown",
   "id": "1218ded3",
   "metadata": {},
   "source": [
    "#### Traing sklean linear regression algorithm (based on training datasets)"
   ]
  },
  {
   "cell_type": "code",
   "execution_count": null,
   "id": "62694be4",
   "metadata": {},
   "outputs": [],
   "source": [
    "from sklearn.linear_model import LinearRegression\n",
    "\n",
    "linear_regressor = LinearRegression().fit(train_features, train_labels)"
   ]
  },
  {
   "cell_type": "markdown",
   "id": "f93c1f83",
   "metadata": {},
   "source": [
    "#### Predict values from test dataset and compare with test labels"
   ]
  },
  {
   "cell_type": "code",
   "execution_count": null,
   "id": "4c7990e2",
   "metadata": {},
   "outputs": [],
   "source": [
    "scored_test = linear_regressor.predict(test_features)\n",
    "test_dataset['Predicted']=scored_test"
   ]
  },
  {
   "cell_type": "code",
   "execution_count": null,
   "id": "628fc783",
   "metadata": {},
   "outputs": [],
   "source": [
    "from sklearn.metrics import mean_squared_error\n",
    "\n",
    "new_df = test_dataset[['Predicted', 'MPG']].copy()\n",
    "rmse = mean_squared_error(new_df[['MPG']], new_df[['Predicted']])\n",
    "print(\"RMSE is %f for %d records\" % (rmse, len(test_features)))\n",
    "\n",
    "new_df.reset_index(inplace=True, drop=True)\n",
    "new_df.head(10)"
   ]
  },
  {
   "cell_type": "code",
   "execution_count": null,
   "id": "d12889db",
   "metadata": {
    "scrolled": true
   },
   "outputs": [],
   "source": [
    "test_digit = random.randint(1, len(scored_test))\n",
    "test_dataset.iloc[[test_digit]]"
   ]
  },
  {
   "cell_type": "markdown",
   "id": "0a9a535b",
   "metadata": {},
   "source": [
    "#### Plot the linear regression"
   ]
  },
  {
   "cell_type": "code",
   "execution_count": null,
   "id": "4eefdae6",
   "metadata": {},
   "outputs": [],
   "source": [
    "# https://machinelearningmastery.com/prediction-intervals-for-machine-learning/\n",
    "from numpy import sum as arraysum\n",
    "from numpy import sqrt\n",
    "from numpy import mean\n",
    "\n",
    "sum_errs = arraysum((test_dataset['MPG'] - test_dataset['Predicted'])**2)\n",
    "stdev = sqrt(1/(len(test_dataset['MPG'])-2) * sum_errs)\n",
    "interval = 1.96 * stdev\n",
    "\n",
    "stdev"
   ]
  },
  {
   "cell_type": "code",
   "execution_count": null,
   "id": "b533c63a",
   "metadata": {},
   "outputs": [],
   "source": [
    "x = test_dataset['Weight'].iloc[0]\n",
    "y = test_dataset['Predicted'].iloc[0]\n",
    "y_base = test_dataset['MPG'].iloc[0]\n",
    "\n",
    "print('Predicted value is %.3f' % y)\n",
    "print('Actual value is %.3f' % y_base)\n",
    "print('95%% likelihood that the true value is between %.3f and %.3f' % (y-interval, y+interval))"
   ]
  },
  {
   "cell_type": "code",
   "execution_count": null,
   "id": "0875f13f",
   "metadata": {},
   "outputs": [],
   "source": [
    "plt.figure(figsize=(10, 6))\n",
    "\n",
    "plt.scatter(test_dataset['Weight'], test_dataset['MPG'])\n",
    "plt.plot(test_dataset['Weight'], test_dataset['Predicted'], color='red')\n",
    "plt.errorbar( x, y, yerr=interval, color='black', fmt='o')\n",
    "\n",
    "plt.legend(['Prediction', 'Actual Value'])\n",
    "plt.xlabel('Weight')\n",
    "plt.ylabel('MPG')\n",
    "\n",
    "plt.title(\"Linear Regression with Prediction Interval\")"
   ]
  }
 ],
 "metadata": {
  "kernelspec": {
   "display_name": "Python 3",
   "language": "python",
   "name": "python3"
  },
  "language_info": {
   "codemirror_mode": {
    "name": "ipython",
    "version": 3
   },
   "file_extension": ".py",
   "mimetype": "text/x-python",
   "name": "python",
   "nbconvert_exporter": "python",
   "pygments_lexer": "ipython3",
   "version": "3.8.10"
  }
 },
 "nbformat": 4,
 "nbformat_minor": 5
}

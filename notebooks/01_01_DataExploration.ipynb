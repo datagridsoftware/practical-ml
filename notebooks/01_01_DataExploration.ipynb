{
 "cells": [
  {
   "cell_type": "markdown",
   "id": "82896cc3",
   "metadata": {},
   "source": [
    "### Feature Corelation\n",
    "Basic data analysis with sklearn on the auto-mpg dataset"
   ]
  },
  {
   "cell_type": "markdown",
   "id": "851ab252",
   "metadata": {},
   "source": [
    "***\n",
    "#### Environment\n",
    "`conda activate sklearn-env`\n",
    "\n",
    "***\n",
    "#### Goals\n",
    "   \n",
    "- Load data in a pandas dataframe\n",
    "- Remove records with missing values\n",
    "- Display statistical information about the data\n",
    "- Display dataset features correlation matrix\n",
    "- Visualise dataset features heatmap"
   ]
  },
  {
   "cell_type": "markdown",
   "id": "0b13bdea",
   "metadata": {},
   "source": [
    "#### Basic python imports for panda (dataframe) and seaborn(visualization) packages"
   ]
  },
  {
   "cell_type": "code",
   "execution_count": null,
   "id": "ebef8b06",
   "metadata": {},
   "outputs": [],
   "source": [
    "import pandas as pd\n",
    "import numpy as np\n",
    "import seaborn as sns\n",
    "import matplotlib.pyplot as plt"
   ]
  },
  {
   "cell_type": "markdown",
   "id": "79776a5c",
   "metadata": {},
   "source": [
    "#### Dataset load from CSV located on UCI website.\n",
    "\n",
    "http://archive.ics.uci.edu/ml/machine-learning-databases/auto-mpg/auto-mpg.data  \n",
    "If the URL does not work the dataset can be loaded from the data folder `./data/auto-mpg.data`."
   ]
  },
  {
   "cell_type": "code",
   "execution_count": null,
   "id": "e4f9ce2c",
   "metadata": {},
   "outputs": [],
   "source": [
    "url = 'http://archive.ics.uci.edu/ml/machine-learning-databases/auto-mpg/auto-mpg.data'\n",
    "column_names = ['MPG', 'Cylinders', 'Displacement', 'Horsepower', 'Weight',\n",
    "                'Acceleration', 'Model Year', 'Origin']\n",
    "\n",
    "raw_dataset = pd.read_csv(url, names=column_names,\n",
    "                          na_values='?', comment='\\t',\n",
    "                          sep=' ', skipinitialspace=True)\n",
    "raw_dataset.sample(10)"
   ]
  },
  {
   "cell_type": "markdown",
   "id": "b2ce7b08",
   "metadata": {},
   "source": [
    "\n"
   ]
  },
  {
   "cell_type": "code",
   "execution_count": null,
   "id": "cfc751ac",
   "metadata": {},
   "outputs": [],
   "source": [
    "from sklearn.datasets import load_iris\n",
    "data = load_iris(as_frame = True )\n",
    "print(data.DESCR)"
   ]
  },
  {
   "cell_type": "markdown",
   "id": "254fab54",
   "metadata": {},
   "source": [
    "#### Keep original dataset imutable and copy its content in a new dataset for further changes"
   ]
  },
  {
   "cell_type": "code",
   "execution_count": null,
   "id": "301423f9",
   "metadata": {},
   "outputs": [],
   "source": [
    "dataset = raw_dataset.copy()\n",
    "dataset.sample(10)"
   ]
  },
  {
   "cell_type": "markdown",
   "id": "55cba9ec",
   "metadata": {},
   "source": [
    "#### Display dataset info"
   ]
  },
  {
   "cell_type": "code",
   "execution_count": null,
   "id": "5667d93a",
   "metadata": {},
   "outputs": [],
   "source": [
    "dataset.info()"
   ]
  },
  {
   "cell_type": "markdown",
   "id": "f6ddf3a9",
   "metadata": {},
   "source": [
    "#### Display total count of missing values "
   ]
  },
  {
   "cell_type": "code",
   "execution_count": null,
   "id": "fdcc8a06",
   "metadata": {},
   "outputs": [],
   "source": [
    "dataset.isna().sum()"
   ]
  },
  {
   "cell_type": "markdown",
   "id": "f3987e9b",
   "metadata": {},
   "source": [
    "#### Eliminate records with missing values from dataset"
   ]
  },
  {
   "cell_type": "code",
   "execution_count": null,
   "id": "be226f00",
   "metadata": {},
   "outputs": [],
   "source": [
    "dataset = dataset.dropna()"
   ]
  },
  {
   "cell_type": "markdown",
   "id": "b0505e28",
   "metadata": {},
   "source": [
    "#### Compute basic statistics"
   ]
  },
  {
   "cell_type": "code",
   "execution_count": null,
   "id": "e164b494",
   "metadata": {},
   "outputs": [],
   "source": [
    "stats = dataset.describe().transpose()\n",
    "stats"
   ]
  },
  {
   "cell_type": "markdown",
   "id": "e2312c17",
   "metadata": {},
   "source": [
    "#### Compute correlation matrix on this dataset"
   ]
  },
  {
   "cell_type": "code",
   "execution_count": null,
   "id": "3d013cc0",
   "metadata": {},
   "outputs": [],
   "source": [
    "corr = dataset.corr()\n",
    "corr"
   ]
  },
  {
   "cell_type": "markdown",
   "id": "169bb2e8",
   "metadata": {},
   "source": [
    "#### Visualize correlation matrix using seaborn heatmap plot\n",
    "\n",
    "https://seaborn.pydata.org/examples/many_pairwise_correlations.html"
   ]
  },
  {
   "cell_type": "code",
   "execution_count": null,
   "id": "863771a0",
   "metadata": {},
   "outputs": [],
   "source": [
    "# Generate a mask for the upper triangle\n",
    "mask = np.triu(np.ones_like(corr, dtype=bool))\n",
    "plt.figure(figsize = (8,6))\n",
    "sns.heatmap(corr, annot=True, fmt='.2f', mask = mask, xticklabels=corr.columns.values, yticklabels=corr.columns.values, cmap=\"Greens\")\n",
    "plt.title(\"Correlation Heatmap\")"
   ]
  },
  {
   "cell_type": "markdown",
   "id": "be8093a0",
   "metadata": {},
   "source": [
    "#### Visualize pairs of fields\n",
    "\n",
    "https://seaborn.pydata.org/examples/scatterplot_matrix.html"
   ]
  },
  {
   "cell_type": "code",
   "execution_count": null,
   "id": "b22b6190",
   "metadata": {},
   "outputs": [],
   "source": [
    "sns.pairplot(dataset[['MPG', 'Cylinders', 'Displacement', 'Horsepower', 'Weight', 'Acceleration']], diag_kind='kde', corner=True)"
   ]
  },
  {
   "cell_type": "markdown",
   "id": "535a6f8c",
   "metadata": {},
   "source": [
    "#### Linear Regression"
   ]
  },
  {
   "cell_type": "code",
   "execution_count": null,
   "id": "f1b6bfee",
   "metadata": {},
   "outputs": [],
   "source": [
    "sns.pairplot(dataset[['MPG', 'Cylinders', 'Displacement', 'Horsepower', 'Weight', 'Acceleration']], diag_kind='kde', corner=True, height=5, aspect=.8, kind=\"reg\")"
   ]
  },
  {
   "cell_type": "code",
   "execution_count": null,
   "id": "d993673e",
   "metadata": {},
   "outputs": [],
   "source": [
    "fig, axes = plt.subplots(1, 3, figsize=(16, 6))\n",
    "sns.regplot(ax=axes[0], x='Displacement', y='MPG', data=dataset, order=1, ci=None, line_kws={'color': 'red'});\n",
    "sns.regplot(ax=axes[1], x='Displacement', y='MPG', data=dataset, order=4, ci=None, line_kws={'color': 'red'});\n",
    "sns.regplot(ax=axes[2], x='Displacement', y='MPG', data=dataset, order=15, ci=None, line_kws={'color': 'red'});"
   ]
  },
  {
   "cell_type": "code",
   "execution_count": null,
   "id": "81c8ff3f",
   "metadata": {},
   "outputs": [],
   "source": []
  }
 ],
 "metadata": {
  "kernelspec": {
   "display_name": "Python 3",
   "language": "python",
   "name": "python3"
  },
  "language_info": {
   "codemirror_mode": {
    "name": "ipython",
    "version": 3
   },
   "file_extension": ".py",
   "mimetype": "text/x-python",
   "name": "python",
   "nbconvert_exporter": "python",
   "pygments_lexer": "ipython3",
   "version": "3.8.10"
  }
 },
 "nbformat": 4,
 "nbformat_minor": 5
}

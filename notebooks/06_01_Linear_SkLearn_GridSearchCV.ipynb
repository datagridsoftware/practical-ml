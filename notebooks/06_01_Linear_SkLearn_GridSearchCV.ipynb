{
 "cells": [
  {
   "cell_type": "markdown",
   "id": "6f8ca9bd",
   "metadata": {},
   "source": [
    "### Exhaustive search over specified pipeline estimator parameters\n",
    "HPO with sklearn for linear regression on the auto-mpg dataset"
   ]
  },
  {
   "cell_type": "markdown",
   "id": "8bb0a864",
   "metadata": {},
   "source": [
    "***\n",
    "#### Environment\n",
    "`conda activate sklearn-env`\n",
    "\n",
    "***\n",
    "#### Goals\n",
    "***\n",
    "\n",
    "- Build a pipeline\n",
    "- Use the pipeline to transform data\n",
    "- Use the pipeline to predict\n",
    "- Gready search for best pipeline parameter pair using gread search cross validation technique\n",
    "\n",
    "***\n",
    "#### References\n",
    "\n",
    "https://scikit-learn.org/stable/modules/generated/sklearn.preprocessing.OneHotEncoder.html\n",
    "\n",
    "https://scikit-learn.org/stable/auto_examples/compose/plot_column_transformer_mixed_types.html\n",
    "\n",
    "https://scikit-learn.org/stable/modules/generated/sklearn.preprocessing.MinMaxScaler.html\n",
    "\n",
    "https://scikit-learn.org/stable/modules/generated/sklearn.linear_model.LinearRegression.html\n",
    "\n",
    "https://scikit-learn.org/stable/modules/generated/sklearn.pipeline.Pipeline.html\n",
    "\n",
    "https://scikit-learn.org/stable/modules/generated/sklearn.model_selection.GridSearchCV.html\n"
   ]
  },
  {
   "cell_type": "code",
   "execution_count": 1,
   "id": "2c09634a",
   "metadata": {},
   "outputs": [],
   "source": [
    "import matplotlib.pyplot as plt\n",
    "import numpy as np\n",
    "import pandas as pd\n",
    "import seaborn as sns\n",
    "import random\n",
    "\n",
    "# Make numpy printouts easier to read.\n",
    "np.set_printoptions(precision=3, suppress=True)"
   ]
  },
  {
   "cell_type": "markdown",
   "id": "b15daaa7",
   "metadata": {},
   "source": [
    "#### Dataset load from CSV located on UCI website.\n",
    "\n",
    "http://archive.ics.uci.edu/ml/machine-learning-databases/auto-mpg/auto-mpg.data  \n",
    "If the URL does not work the dataset can be loaded from the data folder `./data/auto-mpg.data`."
   ]
  },
  {
   "cell_type": "code",
   "execution_count": 2,
   "id": "431367cf",
   "metadata": {},
   "outputs": [
    {
     "data": {
      "text/html": [
       "<div>\n",
       "<style scoped>\n",
       "    .dataframe tbody tr th:only-of-type {\n",
       "        vertical-align: middle;\n",
       "    }\n",
       "\n",
       "    .dataframe tbody tr th {\n",
       "        vertical-align: top;\n",
       "    }\n",
       "\n",
       "    .dataframe thead th {\n",
       "        text-align: right;\n",
       "    }\n",
       "</style>\n",
       "<table border=\"1\" class=\"dataframe\">\n",
       "  <thead>\n",
       "    <tr style=\"text-align: right;\">\n",
       "      <th></th>\n",
       "      <th>MPG</th>\n",
       "      <th>Cylinders</th>\n",
       "      <th>Displacement</th>\n",
       "      <th>Horsepower</th>\n",
       "      <th>Weight</th>\n",
       "      <th>Acceleration</th>\n",
       "      <th>Model Year</th>\n",
       "      <th>Origin</th>\n",
       "    </tr>\n",
       "  </thead>\n",
       "  <tbody>\n",
       "    <tr>\n",
       "      <th>230</th>\n",
       "      <td>15.5</td>\n",
       "      <td>8</td>\n",
       "      <td>350.0</td>\n",
       "      <td>170.0</td>\n",
       "      <td>4165.0</td>\n",
       "      <td>11.4</td>\n",
       "      <td>77</td>\n",
       "      <td>1</td>\n",
       "    </tr>\n",
       "    <tr>\n",
       "      <th>357</th>\n",
       "      <td>32.9</td>\n",
       "      <td>4</td>\n",
       "      <td>119.0</td>\n",
       "      <td>100.0</td>\n",
       "      <td>2615.0</td>\n",
       "      <td>14.8</td>\n",
       "      <td>81</td>\n",
       "      <td>3</td>\n",
       "    </tr>\n",
       "    <tr>\n",
       "      <th>244</th>\n",
       "      <td>43.1</td>\n",
       "      <td>4</td>\n",
       "      <td>90.0</td>\n",
       "      <td>48.0</td>\n",
       "      <td>1985.0</td>\n",
       "      <td>21.5</td>\n",
       "      <td>78</td>\n",
       "      <td>2</td>\n",
       "    </tr>\n",
       "    <tr>\n",
       "      <th>121</th>\n",
       "      <td>15.0</td>\n",
       "      <td>8</td>\n",
       "      <td>318.0</td>\n",
       "      <td>150.0</td>\n",
       "      <td>3399.0</td>\n",
       "      <td>11.0</td>\n",
       "      <td>73</td>\n",
       "      <td>1</td>\n",
       "    </tr>\n",
       "    <tr>\n",
       "      <th>63</th>\n",
       "      <td>14.0</td>\n",
       "      <td>8</td>\n",
       "      <td>400.0</td>\n",
       "      <td>175.0</td>\n",
       "      <td>4385.0</td>\n",
       "      <td>12.0</td>\n",
       "      <td>72</td>\n",
       "      <td>1</td>\n",
       "    </tr>\n",
       "  </tbody>\n",
       "</table>\n",
       "</div>"
      ],
      "text/plain": [
       "      MPG  Cylinders  Displacement  Horsepower  Weight  Acceleration  \\\n",
       "230  15.5          8         350.0       170.0  4165.0          11.4   \n",
       "357  32.9          4         119.0       100.0  2615.0          14.8   \n",
       "244  43.1          4          90.0        48.0  1985.0          21.5   \n",
       "121  15.0          8         318.0       150.0  3399.0          11.0   \n",
       "63   14.0          8         400.0       175.0  4385.0          12.0   \n",
       "\n",
       "     Model Year  Origin  \n",
       "230          77       1  \n",
       "357          81       3  \n",
       "244          78       2  \n",
       "121          73       1  \n",
       "63           72       1  "
      ]
     },
     "execution_count": 2,
     "metadata": {},
     "output_type": "execute_result"
    }
   ],
   "source": [
    "url = 'http://archive.ics.uci.edu/ml/machine-learning-databases/auto-mpg/auto-mpg.data'\n",
    "column_names = ['MPG', 'Cylinders', 'Displacement', 'Horsepower', 'Weight',\n",
    "                'Acceleration', 'Model Year', 'Origin']\n",
    "\n",
    "raw_dataset = pd.read_csv(url, names=column_names,\n",
    "                          na_values='?', comment='\\t',\n",
    "                          sep=' ', skipinitialspace=True)\n",
    "dataset = raw_dataset.copy()\n",
    "dataset.sample(5)"
   ]
  },
  {
   "cell_type": "markdown",
   "id": "98d62708",
   "metadata": {},
   "source": [
    "### Dataset split\n",
    "- row base in test and train datasets\n",
    "- column base in features and labels"
   ]
  },
  {
   "cell_type": "code",
   "execution_count": 3,
   "id": "afea41f4",
   "metadata": {},
   "outputs": [],
   "source": [
    "train_dataset = dataset.sample(frac=0.8, random_state=random.randint(0, 1000))\n",
    "test_dataset = dataset.drop(train_dataset.index)\n",
    "\n",
    "train_features = train_dataset.copy()\n",
    "test_features = test_dataset.copy()\n",
    "\n",
    "train_labels = train_features.pop('MPG')\n",
    "test_labels = test_features.pop('MPG')\n",
    "\n",
    "test_labels.reset_index(drop=True, inplace=True)"
   ]
  },
  {
   "cell_type": "markdown",
   "id": "cd64d37f",
   "metadata": {},
   "source": [
    "#### Build the pipeline"
   ]
  },
  {
   "cell_type": "code",
   "execution_count": 4,
   "id": "c15500e4",
   "metadata": {
    "scrolled": true
   },
   "outputs": [],
   "source": [
    "from sklearn.preprocessing import MinMaxScaler\n",
    "from sklearn.linear_model import LinearRegression\n",
    "from sklearn.linear_model import ElasticNet\n",
    "from sklearn.impute import SimpleImputer\n",
    "from sklearn.preprocessing import StandardScaler, OneHotEncoder\n",
    "from sklearn.compose import ColumnTransformer\n",
    "\n",
    "from sklearn.pipeline import Pipeline\n",
    "\n",
    "numeric_features = ['Cylinders', 'Displacement', 'Horsepower', 'Weight', 'Acceleration', 'Model Year']\n",
    "numeric_transformer = Pipeline(steps=[\n",
    "    ('imputer', SimpleImputer(strategy='median')),\n",
    "    ('scaler', StandardScaler())])\n",
    "\n",
    "categorical_features = ['Origin']\n",
    "categorical_transformer = OneHotEncoder(handle_unknown='error')\n",
    "\n",
    "preprocessor = ColumnTransformer(\n",
    "    transformers=[\n",
    "        ('num', numeric_transformer, numeric_features),\n",
    "        ('cat', categorical_transformer, categorical_features)])\n",
    "\n",
    "data_prep_pipeline = Pipeline(steps=[('preprocessor', preprocessor)])"
   ]
  },
  {
   "cell_type": "markdown",
   "id": "35db1d85",
   "metadata": {},
   "source": [
    "#### Use the pipeline to transform data"
   ]
  },
  {
   "cell_type": "code",
   "execution_count": 5,
   "id": "879debf2",
   "metadata": {},
   "outputs": [
    {
     "data": {
      "text/html": [
       "<div>\n",
       "<style scoped>\n",
       "    .dataframe tbody tr th:only-of-type {\n",
       "        vertical-align: middle;\n",
       "    }\n",
       "\n",
       "    .dataframe tbody tr th {\n",
       "        vertical-align: top;\n",
       "    }\n",
       "\n",
       "    .dataframe thead th {\n",
       "        text-align: right;\n",
       "    }\n",
       "</style>\n",
       "<table border=\"1\" class=\"dataframe\">\n",
       "  <thead>\n",
       "    <tr style=\"text-align: right;\">\n",
       "      <th></th>\n",
       "      <th>0</th>\n",
       "      <th>1</th>\n",
       "      <th>2</th>\n",
       "      <th>3</th>\n",
       "      <th>4</th>\n",
       "      <th>5</th>\n",
       "      <th>6</th>\n",
       "      <th>7</th>\n",
       "      <th>8</th>\n",
       "    </tr>\n",
       "  </thead>\n",
       "  <tbody>\n",
       "    <tr>\n",
       "      <th>0</th>\n",
       "      <td>-0.861904</td>\n",
       "      <td>-0.991885</td>\n",
       "      <td>-1.150362</td>\n",
       "      <td>-1.378623</td>\n",
       "      <td>0.297752</td>\n",
       "      <td>0.572728</td>\n",
       "      <td>0.0</td>\n",
       "      <td>0.0</td>\n",
       "      <td>1.0</td>\n",
       "    </tr>\n",
       "    <tr>\n",
       "      <th>1</th>\n",
       "      <td>1.485723</td>\n",
       "      <td>1.950488</td>\n",
       "      <td>1.840024</td>\n",
       "      <td>1.758271</td>\n",
       "      <td>-1.449075</td>\n",
       "      <td>-1.313207</td>\n",
       "      <td>1.0</td>\n",
       "      <td>0.0</td>\n",
       "      <td>0.0</td>\n",
       "    </tr>\n",
       "    <tr>\n",
       "      <th>2</th>\n",
       "      <td>-0.861904</td>\n",
       "      <td>-0.925230</td>\n",
       "      <td>-1.020345</td>\n",
       "      <td>-0.695666</td>\n",
       "      <td>1.830682</td>\n",
       "      <td>1.380985</td>\n",
       "      <td>1.0</td>\n",
       "      <td>0.0</td>\n",
       "      <td>0.0</td>\n",
       "    </tr>\n",
       "    <tr>\n",
       "      <th>3</th>\n",
       "      <td>1.485723</td>\n",
       "      <td>1.950488</td>\n",
       "      <td>3.270208</td>\n",
       "      <td>1.539254</td>\n",
       "      <td>-2.162066</td>\n",
       "      <td>-0.774368</td>\n",
       "      <td>1.0</td>\n",
       "      <td>0.0</td>\n",
       "      <td>0.0</td>\n",
       "    </tr>\n",
       "    <tr>\n",
       "      <th>4</th>\n",
       "      <td>-0.861904</td>\n",
       "      <td>-0.525295</td>\n",
       "      <td>-0.396265</td>\n",
       "      <td>-0.254098</td>\n",
       "      <td>0.083855</td>\n",
       "      <td>0.303308</td>\n",
       "      <td>1.0</td>\n",
       "      <td>0.0</td>\n",
       "      <td>0.0</td>\n",
       "    </tr>\n",
       "  </tbody>\n",
       "</table>\n",
       "</div>"
      ],
      "text/plain": [
       "          0         1         2         3         4         5    6    7    8\n",
       "0 -0.861904 -0.991885 -1.150362 -1.378623  0.297752  0.572728  0.0  0.0  1.0\n",
       "1  1.485723  1.950488  1.840024  1.758271 -1.449075 -1.313207  1.0  0.0  0.0\n",
       "2 -0.861904 -0.925230 -1.020345 -0.695666  1.830682  1.380985  1.0  0.0  0.0\n",
       "3  1.485723  1.950488  3.270208  1.539254 -2.162066 -0.774368  1.0  0.0  0.0\n",
       "4 -0.861904 -0.525295 -0.396265 -0.254098  0.083855  0.303308  1.0  0.0  0.0"
      ]
     },
     "execution_count": 5,
     "metadata": {},
     "output_type": "execute_result"
    }
   ],
   "source": [
    "data_prep_data = data_prep_pipeline.fit_transform(train_features, train_labels)\n",
    "\n",
    "transformed_df = pd.DataFrame(data = data_prep_data)\n",
    "transformed_df.head(5)"
   ]
  },
  {
   "cell_type": "markdown",
   "id": "99214467",
   "metadata": {},
   "source": [
    "#### Build the full pipeline"
   ]
  },
  {
   "cell_type": "code",
   "execution_count": 6,
   "id": "c787c1c9",
   "metadata": {},
   "outputs": [
    {
     "name": "stdout",
     "output_type": "stream",
     "text": [
      "Pipeline(steps=[('preprocessor',\n",
      "                 ColumnTransformer(transformers=[('num',\n",
      "                                                  Pipeline(steps=[('imputer',\n",
      "                                                                   SimpleImputer(strategy='median')),\n",
      "                                                                  ('scaler',\n",
      "                                                                   StandardScaler())]),\n",
      "                                                  ['Cylinders', 'Displacement',\n",
      "                                                   'Horsepower', 'Weight',\n",
      "                                                   'Acceleration',\n",
      "                                                   'Model Year']),\n",
      "                                                 ('cat', OneHotEncoder(),\n",
      "                                                  ['Origin'])])),\n",
      "                ('regressor', ElasticNet(random_state=0))])\n"
     ]
    }
   ],
   "source": [
    "pipeline = Pipeline(steps=[('preprocessor', preprocessor), ('regressor', ElasticNet(random_state=0))])\n",
    "pipeline_model = pipeline.fit(train_features, train_labels)\n",
    "print(pipeline_model)"
   ]
  },
  {
   "cell_type": "code",
   "execution_count": 7,
   "id": "5cca1c26",
   "metadata": {},
   "outputs": [
    {
     "data": {
      "text/html": [
       "<style>#sk-92d4ffe6-fb6c-4241-b48c-4d286f1c01b4 {color: black;background-color: white;}#sk-92d4ffe6-fb6c-4241-b48c-4d286f1c01b4 pre{padding: 0;}#sk-92d4ffe6-fb6c-4241-b48c-4d286f1c01b4 div.sk-toggleable {background-color: white;}#sk-92d4ffe6-fb6c-4241-b48c-4d286f1c01b4 label.sk-toggleable__label {cursor: pointer;display: block;width: 100%;margin-bottom: 0;padding: 0.2em 0.3em;box-sizing: border-box;text-align: center;}#sk-92d4ffe6-fb6c-4241-b48c-4d286f1c01b4 div.sk-toggleable__content {max-height: 0;max-width: 0;overflow: hidden;text-align: left;background-color: #f0f8ff;}#sk-92d4ffe6-fb6c-4241-b48c-4d286f1c01b4 div.sk-toggleable__content pre {margin: 0.2em;color: black;border-radius: 0.25em;background-color: #f0f8ff;}#sk-92d4ffe6-fb6c-4241-b48c-4d286f1c01b4 input.sk-toggleable__control:checked~div.sk-toggleable__content {max-height: 200px;max-width: 100%;overflow: auto;}#sk-92d4ffe6-fb6c-4241-b48c-4d286f1c01b4 div.sk-estimator input.sk-toggleable__control:checked~label.sk-toggleable__label {background-color: #d4ebff;}#sk-92d4ffe6-fb6c-4241-b48c-4d286f1c01b4 div.sk-label input.sk-toggleable__control:checked~label.sk-toggleable__label {background-color: #d4ebff;}#sk-92d4ffe6-fb6c-4241-b48c-4d286f1c01b4 input.sk-hidden--visually {border: 0;clip: rect(1px 1px 1px 1px);clip: rect(1px, 1px, 1px, 1px);height: 1px;margin: -1px;overflow: hidden;padding: 0;position: absolute;width: 1px;}#sk-92d4ffe6-fb6c-4241-b48c-4d286f1c01b4 div.sk-estimator {font-family: monospace;background-color: #f0f8ff;margin: 0.25em 0.25em;border: 1px dotted black;border-radius: 0.25em;box-sizing: border-box;}#sk-92d4ffe6-fb6c-4241-b48c-4d286f1c01b4 div.sk-estimator:hover {background-color: #d4ebff;}#sk-92d4ffe6-fb6c-4241-b48c-4d286f1c01b4 div.sk-parallel-item::after {content: \"\";width: 100%;border-bottom: 1px solid gray;flex-grow: 1;}#sk-92d4ffe6-fb6c-4241-b48c-4d286f1c01b4 div.sk-label:hover label.sk-toggleable__label {background-color: #d4ebff;}#sk-92d4ffe6-fb6c-4241-b48c-4d286f1c01b4 div.sk-serial::before {content: \"\";position: absolute;border-left: 1px solid gray;box-sizing: border-box;top: 2em;bottom: 0;left: 50%;}#sk-92d4ffe6-fb6c-4241-b48c-4d286f1c01b4 div.sk-serial {display: flex;flex-direction: column;align-items: center;background-color: white;}#sk-92d4ffe6-fb6c-4241-b48c-4d286f1c01b4 div.sk-item {z-index: 1;}#sk-92d4ffe6-fb6c-4241-b48c-4d286f1c01b4 div.sk-parallel {display: flex;align-items: stretch;justify-content: center;background-color: white;}#sk-92d4ffe6-fb6c-4241-b48c-4d286f1c01b4 div.sk-parallel-item {display: flex;flex-direction: column;position: relative;background-color: white;}#sk-92d4ffe6-fb6c-4241-b48c-4d286f1c01b4 div.sk-parallel-item:first-child::after {align-self: flex-end;width: 50%;}#sk-92d4ffe6-fb6c-4241-b48c-4d286f1c01b4 div.sk-parallel-item:last-child::after {align-self: flex-start;width: 50%;}#sk-92d4ffe6-fb6c-4241-b48c-4d286f1c01b4 div.sk-parallel-item:only-child::after {width: 0;}#sk-92d4ffe6-fb6c-4241-b48c-4d286f1c01b4 div.sk-dashed-wrapped {border: 1px dashed gray;margin: 0.2em;box-sizing: border-box;padding-bottom: 0.1em;background-color: white;position: relative;}#sk-92d4ffe6-fb6c-4241-b48c-4d286f1c01b4 div.sk-label label {font-family: monospace;font-weight: bold;background-color: white;display: inline-block;line-height: 1.2em;}#sk-92d4ffe6-fb6c-4241-b48c-4d286f1c01b4 div.sk-label-container {position: relative;z-index: 2;text-align: center;}#sk-92d4ffe6-fb6c-4241-b48c-4d286f1c01b4 div.sk-container {display: inline-block;position: relative;}</style><div id=\"sk-92d4ffe6-fb6c-4241-b48c-4d286f1c01b4\" class\"sk-top-container\"><div class=\"sk-container\"><div class=\"sk-item sk-dashed-wrapped\"><div class=\"sk-label-container\"><div class=\"sk-label sk-toggleable\"><input class=\"sk-toggleable__control sk-hidden--visually\" id=\"fa70addb-9dce-404a-b625-e16e0dc7ea85\" type=\"checkbox\" ><label class=\"sk-toggleable__label\" for=\"fa70addb-9dce-404a-b625-e16e0dc7ea85\">Pipeline</label><div class=\"sk-toggleable__content\"><pre>Pipeline(steps=[('preprocessor',\n",
       "                 ColumnTransformer(transformers=[('num',\n",
       "                                                  Pipeline(steps=[('imputer',\n",
       "                                                                   SimpleImputer(strategy='median')),\n",
       "                                                                  ('scaler',\n",
       "                                                                   StandardScaler())]),\n",
       "                                                  ['Cylinders', 'Displacement',\n",
       "                                                   'Horsepower', 'Weight',\n",
       "                                                   'Acceleration',\n",
       "                                                   'Model Year']),\n",
       "                                                 ('cat', OneHotEncoder(),\n",
       "                                                  ['Origin'])])),\n",
       "                ('regressor', ElasticNet(random_state=0))])</pre></div></div></div><div class=\"sk-serial\"><div class=\"sk-item sk-dashed-wrapped\"><div class=\"sk-label-container\"><div class=\"sk-label sk-toggleable\"><input class=\"sk-toggleable__control sk-hidden--visually\" id=\"75fdd2be-e3eb-4271-b0c8-df30cb60f5b8\" type=\"checkbox\" ><label class=\"sk-toggleable__label\" for=\"75fdd2be-e3eb-4271-b0c8-df30cb60f5b8\">preprocessor: ColumnTransformer</label><div class=\"sk-toggleable__content\"><pre>ColumnTransformer(transformers=[('num',\n",
       "                                 Pipeline(steps=[('imputer',\n",
       "                                                  SimpleImputer(strategy='median')),\n",
       "                                                 ('scaler', StandardScaler())]),\n",
       "                                 ['Cylinders', 'Displacement', 'Horsepower',\n",
       "                                  'Weight', 'Acceleration', 'Model Year']),\n",
       "                                ('cat', OneHotEncoder(), ['Origin'])])</pre></div></div></div><div class=\"sk-parallel\"><div class=\"sk-parallel-item\"><div class=\"sk-item\"><div class=\"sk-label-container\"><div class=\"sk-label sk-toggleable\"><input class=\"sk-toggleable__control sk-hidden--visually\" id=\"27e75003-ede8-4af1-b1fb-31d99e21c227\" type=\"checkbox\" ><label class=\"sk-toggleable__label\" for=\"27e75003-ede8-4af1-b1fb-31d99e21c227\">num</label><div class=\"sk-toggleable__content\"><pre>['Cylinders', 'Displacement', 'Horsepower', 'Weight', 'Acceleration', 'Model Year']</pre></div></div></div><div class=\"sk-serial\"><div class=\"sk-item\"><div class=\"sk-serial\"><div class=\"sk-item\"><div class=\"sk-estimator sk-toggleable\"><input class=\"sk-toggleable__control sk-hidden--visually\" id=\"f3366ec5-6d20-48ac-bdce-9c04c7196f80\" type=\"checkbox\" ><label class=\"sk-toggleable__label\" for=\"f3366ec5-6d20-48ac-bdce-9c04c7196f80\">SimpleImputer</label><div class=\"sk-toggleable__content\"><pre>SimpleImputer(strategy='median')</pre></div></div></div><div class=\"sk-item\"><div class=\"sk-estimator sk-toggleable\"><input class=\"sk-toggleable__control sk-hidden--visually\" id=\"4cc3a74f-86fc-4331-9595-4475679d0824\" type=\"checkbox\" ><label class=\"sk-toggleable__label\" for=\"4cc3a74f-86fc-4331-9595-4475679d0824\">StandardScaler</label><div class=\"sk-toggleable__content\"><pre>StandardScaler()</pre></div></div></div></div></div></div></div></div><div class=\"sk-parallel-item\"><div class=\"sk-item\"><div class=\"sk-label-container\"><div class=\"sk-label sk-toggleable\"><input class=\"sk-toggleable__control sk-hidden--visually\" id=\"c07dd825-8c6a-401e-8993-e2d880910b0a\" type=\"checkbox\" ><label class=\"sk-toggleable__label\" for=\"c07dd825-8c6a-401e-8993-e2d880910b0a\">cat</label><div class=\"sk-toggleable__content\"><pre>['Origin']</pre></div></div></div><div class=\"sk-serial\"><div class=\"sk-item\"><div class=\"sk-estimator sk-toggleable\"><input class=\"sk-toggleable__control sk-hidden--visually\" id=\"ae3939dc-d306-4f44-b8ff-836333caa477\" type=\"checkbox\" ><label class=\"sk-toggleable__label\" for=\"ae3939dc-d306-4f44-b8ff-836333caa477\">OneHotEncoder</label><div class=\"sk-toggleable__content\"><pre>OneHotEncoder()</pre></div></div></div></div></div></div></div></div><div class=\"sk-item\"><div class=\"sk-estimator sk-toggleable\"><input class=\"sk-toggleable__control sk-hidden--visually\" id=\"ff04f382-c464-4dc9-a501-f80450c6ddc7\" type=\"checkbox\" ><label class=\"sk-toggleable__label\" for=\"ff04f382-c464-4dc9-a501-f80450c6ddc7\">ElasticNet</label><div class=\"sk-toggleable__content\"><pre>ElasticNet(random_state=0)</pre></div></div></div></div></div></div></div>"
      ],
      "text/plain": [
       "Pipeline(steps=[('preprocessor',\n",
       "                 ColumnTransformer(transformers=[('num',\n",
       "                                                  Pipeline(steps=[('imputer',\n",
       "                                                                   SimpleImputer(strategy='median')),\n",
       "                                                                  ('scaler',\n",
       "                                                                   StandardScaler())]),\n",
       "                                                  ['Cylinders', 'Displacement',\n",
       "                                                   'Horsepower', 'Weight',\n",
       "                                                   'Acceleration',\n",
       "                                                   'Model Year']),\n",
       "                                                 ('cat', OneHotEncoder(),\n",
       "                                                  ['Origin'])])),\n",
       "                ('regressor', ElasticNet(random_state=0))])"
      ]
     },
     "execution_count": 7,
     "metadata": {},
     "output_type": "execute_result"
    }
   ],
   "source": [
    "from sklearn import set_config\n",
    "\n",
    "set_config(display='diagram')\n",
    "pipeline"
   ]
  },
  {
   "cell_type": "markdown",
   "id": "96aa2a19",
   "metadata": {},
   "source": [
    "#### Use pipeline to predict values"
   ]
  },
  {
   "cell_type": "code",
   "execution_count": 8,
   "id": "8fe63353",
   "metadata": {},
   "outputs": [],
   "source": [
    "scored_data = pipeline.predict(test_features)"
   ]
  },
  {
   "cell_type": "markdown",
   "id": "6d107772",
   "metadata": {},
   "source": [
    "#### Show predicted values"
   ]
  },
  {
   "cell_type": "code",
   "execution_count": 9,
   "id": "d74f66b8",
   "metadata": {},
   "outputs": [
    {
     "data": {
      "text/html": [
       "<div>\n",
       "<style scoped>\n",
       "    .dataframe tbody tr th:only-of-type {\n",
       "        vertical-align: middle;\n",
       "    }\n",
       "\n",
       "    .dataframe tbody tr th {\n",
       "        vertical-align: top;\n",
       "    }\n",
       "\n",
       "    .dataframe thead th {\n",
       "        text-align: right;\n",
       "    }\n",
       "</style>\n",
       "<table border=\"1\" class=\"dataframe\">\n",
       "  <thead>\n",
       "    <tr style=\"text-align: right;\">\n",
       "      <th></th>\n",
       "      <th>0</th>\n",
       "      <th>MPG</th>\n",
       "    </tr>\n",
       "  </thead>\n",
       "  <tbody>\n",
       "    <tr>\n",
       "      <th>0</th>\n",
       "      <td>16.173961</td>\n",
       "      <td>16.0</td>\n",
       "    </tr>\n",
       "    <tr>\n",
       "      <th>1</th>\n",
       "      <td>13.360672</td>\n",
       "      <td>15.0</td>\n",
       "    </tr>\n",
       "    <tr>\n",
       "      <th>2</th>\n",
       "      <td>14.549930</td>\n",
       "      <td>15.0</td>\n",
       "    </tr>\n",
       "    <tr>\n",
       "      <th>3</th>\n",
       "      <td>12.889736</td>\n",
       "      <td>10.0</td>\n",
       "    </tr>\n",
       "    <tr>\n",
       "      <th>4</th>\n",
       "      <td>12.373267</td>\n",
       "      <td>9.0</td>\n",
       "    </tr>\n",
       "  </tbody>\n",
       "</table>\n",
       "</div>"
      ],
      "text/plain": [
       "           0   MPG\n",
       "0  16.173961  16.0\n",
       "1  13.360672  15.0\n",
       "2  14.549930  15.0\n",
       "3  12.889736  10.0\n",
       "4  12.373267   9.0"
      ]
     },
     "execution_count": 9,
     "metadata": {},
     "output_type": "execute_result"
    }
   ],
   "source": [
    "scored_df = pd.DataFrame(data = scored_data)\n",
    "\n",
    "scored_df = pd.concat([scored_df, test_labels], axis=1)\n",
    "scored_df.head(5)"
   ]
  },
  {
   "cell_type": "markdown",
   "id": "82b5a498",
   "metadata": {},
   "source": [
    "### Model evaluation"
   ]
  },
  {
   "cell_type": "markdown",
   "id": "fa392caf",
   "metadata": {},
   "source": [
    "#### Mean squared error\n",
    "\n",
    "https://scikit-learn.org/stable/modules/generated/sklearn.metrics.mean_squared_error.html    \n",
    "https://scikit-learn.org/stable/modules/generated/sklearn.metrics.mean_absolute_error.html  \n",
    "https://scikit-learn.org/stable/modules/generated/sklearn.metrics.mean_squared_log_error.html#sklearn.metrics.mean_squared_log_error  "
   ]
  },
  {
   "cell_type": "code",
   "execution_count": 10,
   "id": "6c12c433",
   "metadata": {},
   "outputs": [],
   "source": [
    "from sklearn.metrics import mean_squared_error\n",
    "from sklearn.metrics import mean_absolute_error\n",
    "from sklearn.metrics import mean_squared_log_error\n",
    "\n",
    "def printMetrics(test_labels, scored_data):\n",
    "    print( \"RMSE:\", mean_squared_error(test_labels, scored_data))\n",
    "    print( \"MAE: \", mean_absolute_error(test_labels, scored_data))\n",
    "    print( \"MSLE:\", mean_squared_log_error(test_labels, scored_data))"
   ]
  },
  {
   "cell_type": "code",
   "execution_count": 11,
   "id": "3bb5092e",
   "metadata": {},
   "outputs": [
    {
     "name": "stdout",
     "output_type": "stream",
     "text": [
      "RMSE: 18.307138109819437\n",
      "MAE:  3.2543371254539153\n",
      "MSLE: 0.026774521632362887\n"
     ]
    }
   ],
   "source": [
    "printMetrics(test_labels, scored_data)"
   ]
  },
  {
   "cell_type": "code",
   "execution_count": 12,
   "id": "7941e62a",
   "metadata": {},
   "outputs": [
    {
     "data": {
      "text/plain": [
       "0.7104719939899797"
      ]
     },
     "execution_count": 12,
     "metadata": {},
     "output_type": "execute_result"
    }
   ],
   "source": [
    "pipeline.score(test_features, test_labels)"
   ]
  },
  {
   "cell_type": "code",
   "execution_count": 13,
   "id": "4da3cc8b",
   "metadata": {},
   "outputs": [
    {
     "name": "stdout",
     "output_type": "stream",
     "text": [
      "Best params:\n",
      "{'preprocessor__cat__drop': None, 'preprocessor__num__imputer__strategy': 'mean', 'regressor__alpha': 0.1, 'regressor__l1_ratio': 1.0, 'regressor__selection': 'cyclic', 'regressor__tol': 0.01}\n",
      "Internal CV score: 0.809\n"
     ]
    },
    {
     "data": {
      "text/html": [
       "<style>#sk-94cdc70c-aa0b-44bf-9219-9cde7d2273f8 {color: black;background-color: white;}#sk-94cdc70c-aa0b-44bf-9219-9cde7d2273f8 pre{padding: 0;}#sk-94cdc70c-aa0b-44bf-9219-9cde7d2273f8 div.sk-toggleable {background-color: white;}#sk-94cdc70c-aa0b-44bf-9219-9cde7d2273f8 label.sk-toggleable__label {cursor: pointer;display: block;width: 100%;margin-bottom: 0;padding: 0.2em 0.3em;box-sizing: border-box;text-align: center;}#sk-94cdc70c-aa0b-44bf-9219-9cde7d2273f8 div.sk-toggleable__content {max-height: 0;max-width: 0;overflow: hidden;text-align: left;background-color: #f0f8ff;}#sk-94cdc70c-aa0b-44bf-9219-9cde7d2273f8 div.sk-toggleable__content pre {margin: 0.2em;color: black;border-radius: 0.25em;background-color: #f0f8ff;}#sk-94cdc70c-aa0b-44bf-9219-9cde7d2273f8 input.sk-toggleable__control:checked~div.sk-toggleable__content {max-height: 200px;max-width: 100%;overflow: auto;}#sk-94cdc70c-aa0b-44bf-9219-9cde7d2273f8 div.sk-estimator input.sk-toggleable__control:checked~label.sk-toggleable__label {background-color: #d4ebff;}#sk-94cdc70c-aa0b-44bf-9219-9cde7d2273f8 div.sk-label input.sk-toggleable__control:checked~label.sk-toggleable__label {background-color: #d4ebff;}#sk-94cdc70c-aa0b-44bf-9219-9cde7d2273f8 input.sk-hidden--visually {border: 0;clip: rect(1px 1px 1px 1px);clip: rect(1px, 1px, 1px, 1px);height: 1px;margin: -1px;overflow: hidden;padding: 0;position: absolute;width: 1px;}#sk-94cdc70c-aa0b-44bf-9219-9cde7d2273f8 div.sk-estimator {font-family: monospace;background-color: #f0f8ff;margin: 0.25em 0.25em;border: 1px dotted black;border-radius: 0.25em;box-sizing: border-box;}#sk-94cdc70c-aa0b-44bf-9219-9cde7d2273f8 div.sk-estimator:hover {background-color: #d4ebff;}#sk-94cdc70c-aa0b-44bf-9219-9cde7d2273f8 div.sk-parallel-item::after {content: \"\";width: 100%;border-bottom: 1px solid gray;flex-grow: 1;}#sk-94cdc70c-aa0b-44bf-9219-9cde7d2273f8 div.sk-label:hover label.sk-toggleable__label {background-color: #d4ebff;}#sk-94cdc70c-aa0b-44bf-9219-9cde7d2273f8 div.sk-serial::before {content: \"\";position: absolute;border-left: 1px solid gray;box-sizing: border-box;top: 2em;bottom: 0;left: 50%;}#sk-94cdc70c-aa0b-44bf-9219-9cde7d2273f8 div.sk-serial {display: flex;flex-direction: column;align-items: center;background-color: white;}#sk-94cdc70c-aa0b-44bf-9219-9cde7d2273f8 div.sk-item {z-index: 1;}#sk-94cdc70c-aa0b-44bf-9219-9cde7d2273f8 div.sk-parallel {display: flex;align-items: stretch;justify-content: center;background-color: white;}#sk-94cdc70c-aa0b-44bf-9219-9cde7d2273f8 div.sk-parallel-item {display: flex;flex-direction: column;position: relative;background-color: white;}#sk-94cdc70c-aa0b-44bf-9219-9cde7d2273f8 div.sk-parallel-item:first-child::after {align-self: flex-end;width: 50%;}#sk-94cdc70c-aa0b-44bf-9219-9cde7d2273f8 div.sk-parallel-item:last-child::after {align-self: flex-start;width: 50%;}#sk-94cdc70c-aa0b-44bf-9219-9cde7d2273f8 div.sk-parallel-item:only-child::after {width: 0;}#sk-94cdc70c-aa0b-44bf-9219-9cde7d2273f8 div.sk-dashed-wrapped {border: 1px dashed gray;margin: 0.2em;box-sizing: border-box;padding-bottom: 0.1em;background-color: white;position: relative;}#sk-94cdc70c-aa0b-44bf-9219-9cde7d2273f8 div.sk-label label {font-family: monospace;font-weight: bold;background-color: white;display: inline-block;line-height: 1.2em;}#sk-94cdc70c-aa0b-44bf-9219-9cde7d2273f8 div.sk-label-container {position: relative;z-index: 2;text-align: center;}#sk-94cdc70c-aa0b-44bf-9219-9cde7d2273f8 div.sk-container {display: inline-block;position: relative;}</style><div id=\"sk-94cdc70c-aa0b-44bf-9219-9cde7d2273f8\" class\"sk-top-container\"><div class=\"sk-container\"><div class=\"sk-item sk-dashed-wrapped\"><div class=\"sk-label-container\"><div class=\"sk-label sk-toggleable\"><input class=\"sk-toggleable__control sk-hidden--visually\" id=\"9d625879-efcd-4f3a-b9a9-69db7f21d377\" type=\"checkbox\" ><label class=\"sk-toggleable__label\" for=\"9d625879-efcd-4f3a-b9a9-69db7f21d377\">GridSearchCV</label><div class=\"sk-toggleable__content\"><pre>GridSearchCV(cv=5,\n",
       "             estimator=Pipeline(steps=[('preprocessor',\n",
       "                                        ColumnTransformer(transformers=[('num',\n",
       "                                                                         Pipeline(steps=[('imputer',\n",
       "                                                                                          SimpleImputer(strategy='median')),\n",
       "                                                                                         ('scaler',\n",
       "                                                                                          StandardScaler())]),\n",
       "                                                                         ['Cylinders',\n",
       "                                                                          'Displacement',\n",
       "                                                                          'Horsepower',\n",
       "                                                                          'Weight',\n",
       "                                                                          'Acceleration',\n",
       "                                                                          'Model '\n",
       "                                                                          'Year']),\n",
       "                                                                        ('cat',\n",
       "                                                                         OneHotEncoder(),\n",
       "                                                                         ['Origin'])])),\n",
       "                                       ('regressor',\n",
       "                                        ElasticNet(random_state=0))]),\n",
       "             param_grid={'preprocessor__cat__drop': ['first', None],\n",
       "                         'preprocessor__num__imputer__strategy': ['mean',\n",
       "                                                                  'median'],\n",
       "                         'regressor__alpha': [1.0, 0.5, 0.1],\n",
       "                         'regressor__l1_ratio': [0.1, 0.5, 1.0],\n",
       "                         'regressor__selection': ['cyclic', 'random'],\n",
       "                         'regressor__tol': [0.1, 0.01, 0.001, 0.0001]})</pre></div></div></div><div class=\"sk-parallel\"><div class=\"sk-parallel-item\"><div class=\"sk-item\"><div class=\"sk-serial\"><div class=\"sk-item\"><div class=\"sk-serial\"><div class=\"sk-item sk-dashed-wrapped\"><div class=\"sk-label-container\"><div class=\"sk-label sk-toggleable\"><input class=\"sk-toggleable__control sk-hidden--visually\" id=\"37fa26d2-6f97-491d-82f4-f0968b6dce37\" type=\"checkbox\" ><label class=\"sk-toggleable__label\" for=\"37fa26d2-6f97-491d-82f4-f0968b6dce37\">preprocessor: ColumnTransformer</label><div class=\"sk-toggleable__content\"><pre>ColumnTransformer(transformers=[('num',\n",
       "                                 Pipeline(steps=[('imputer',\n",
       "                                                  SimpleImputer(strategy='median')),\n",
       "                                                 ('scaler', StandardScaler())]),\n",
       "                                 ['Cylinders', 'Displacement', 'Horsepower',\n",
       "                                  'Weight', 'Acceleration', 'Model Year']),\n",
       "                                ('cat', OneHotEncoder(), ['Origin'])])</pre></div></div></div><div class=\"sk-parallel\"><div class=\"sk-parallel-item\"><div class=\"sk-item\"><div class=\"sk-label-container\"><div class=\"sk-label sk-toggleable\"><input class=\"sk-toggleable__control sk-hidden--visually\" id=\"2fdae390-b2b9-4090-a18c-3ca59baed235\" type=\"checkbox\" ><label class=\"sk-toggleable__label\" for=\"2fdae390-b2b9-4090-a18c-3ca59baed235\">num</label><div class=\"sk-toggleable__content\"><pre>['Cylinders', 'Displacement', 'Horsepower', 'Weight', 'Acceleration', 'Model Year']</pre></div></div></div><div class=\"sk-serial\"><div class=\"sk-item\"><div class=\"sk-serial\"><div class=\"sk-item\"><div class=\"sk-estimator sk-toggleable\"><input class=\"sk-toggleable__control sk-hidden--visually\" id=\"0c8b431d-13ed-4cdb-9b4a-754078bad278\" type=\"checkbox\" ><label class=\"sk-toggleable__label\" for=\"0c8b431d-13ed-4cdb-9b4a-754078bad278\">SimpleImputer</label><div class=\"sk-toggleable__content\"><pre>SimpleImputer(strategy='median')</pre></div></div></div><div class=\"sk-item\"><div class=\"sk-estimator sk-toggleable\"><input class=\"sk-toggleable__control sk-hidden--visually\" id=\"daa26c0c-2d61-4d7d-8435-86e12016529b\" type=\"checkbox\" ><label class=\"sk-toggleable__label\" for=\"daa26c0c-2d61-4d7d-8435-86e12016529b\">StandardScaler</label><div class=\"sk-toggleable__content\"><pre>StandardScaler()</pre></div></div></div></div></div></div></div></div><div class=\"sk-parallel-item\"><div class=\"sk-item\"><div class=\"sk-label-container\"><div class=\"sk-label sk-toggleable\"><input class=\"sk-toggleable__control sk-hidden--visually\" id=\"5fd4671c-eaa5-420c-af31-754e6b646700\" type=\"checkbox\" ><label class=\"sk-toggleable__label\" for=\"5fd4671c-eaa5-420c-af31-754e6b646700\">cat</label><div class=\"sk-toggleable__content\"><pre>['Origin']</pre></div></div></div><div class=\"sk-serial\"><div class=\"sk-item\"><div class=\"sk-estimator sk-toggleable\"><input class=\"sk-toggleable__control sk-hidden--visually\" id=\"90b70c5c-573d-4300-93b3-7d3fec7ad792\" type=\"checkbox\" ><label class=\"sk-toggleable__label\" for=\"90b70c5c-573d-4300-93b3-7d3fec7ad792\">OneHotEncoder</label><div class=\"sk-toggleable__content\"><pre>OneHotEncoder()</pre></div></div></div></div></div></div></div></div><div class=\"sk-item\"><div class=\"sk-estimator sk-toggleable\"><input class=\"sk-toggleable__control sk-hidden--visually\" id=\"942d1d38-0abb-4143-a062-15770a524bc0\" type=\"checkbox\" ><label class=\"sk-toggleable__label\" for=\"942d1d38-0abb-4143-a062-15770a524bc0\">ElasticNet</label><div class=\"sk-toggleable__content\"><pre>ElasticNet(random_state=0)</pre></div></div></div></div></div></div></div></div></div></div></div></div>"
      ],
      "text/plain": [
       "GridSearchCV(cv=5,\n",
       "             estimator=Pipeline(steps=[('preprocessor',\n",
       "                                        ColumnTransformer(transformers=[('num',\n",
       "                                                                         Pipeline(steps=[('imputer',\n",
       "                                                                                          SimpleImputer(strategy='median')),\n",
       "                                                                                         ('scaler',\n",
       "                                                                                          StandardScaler())]),\n",
       "                                                                         ['Cylinders',\n",
       "                                                                          'Displacement',\n",
       "                                                                          'Horsepower',\n",
       "                                                                          'Weight',\n",
       "                                                                          'Acceleration',\n",
       "                                                                          'Model '\n",
       "                                                                          'Year']),\n",
       "                                                                        ('cat',\n",
       "                                                                         OneHotEncoder(),\n",
       "                                                                         ['Origin'])])),\n",
       "                                       ('regressor',\n",
       "                                        ElasticNet(random_state=0))]),\n",
       "             param_grid={'preprocessor__cat__drop': ['first', None],\n",
       "                         'preprocessor__num__imputer__strategy': ['mean',\n",
       "                                                                  'median'],\n",
       "                         'regressor__alpha': [1.0, 0.5, 0.1],\n",
       "                         'regressor__l1_ratio': [0.1, 0.5, 1.0],\n",
       "                         'regressor__selection': ['cyclic', 'random'],\n",
       "                         'regressor__tol': [0.1, 0.01, 0.001, 0.0001]})"
      ]
     },
     "execution_count": 13,
     "metadata": {},
     "output_type": "execute_result"
    }
   ],
   "source": [
    "from sklearn.model_selection import GridSearchCV\n",
    "\n",
    "\n",
    "param_grid = {\n",
    "    'preprocessor__num__imputer__strategy': ['mean', 'median'],\n",
    "    'preprocessor__cat__drop': ['first', None],\n",
    "    'regressor__tol': [0.1, 0.01, 0.001, 0.0001],\n",
    "    'regressor__selection': [\"cyclic\", 'random'],\n",
    "    'regressor__alpha': [1.0, 0.5, 0.1],\n",
    "    'regressor__l1_ratio': [0.1, 0.5, 1.0],  \n",
    "}\n",
    "\n",
    "grid_search = GridSearchCV(pipeline, param_grid, cv=5)\n",
    "grid_search.fit(train_features, train_labels)\n",
    "\n",
    "print(f\"Best params:\")\n",
    "print(grid_search.best_params_)\n",
    "\n",
    "print(f\"Internal CV score: {grid_search.best_score_:.3f}\")\n",
    "\n",
    "grid_search"
   ]
  },
  {
   "cell_type": "code",
   "execution_count": null,
   "id": "94275000",
   "metadata": {},
   "outputs": [],
   "source": []
  }
 ],
 "metadata": {
  "kernelspec": {
   "display_name": "Python 3",
   "language": "python",
   "name": "python3"
  },
  "language_info": {
   "codemirror_mode": {
    "name": "ipython",
    "version": 3
   },
   "file_extension": ".py",
   "mimetype": "text/x-python",
   "name": "python",
   "nbconvert_exporter": "python",
   "pygments_lexer": "ipython3",
   "version": "3.8.10"
  }
 },
 "nbformat": 4,
 "nbformat_minor": 5
}

{
 "cells": [
  {
   "cell_type": "markdown",
   "id": "53012b48",
   "metadata": {},
   "source": [
    "### Module 03 - Assignment"
   ]
  },
  {
   "cell_type": "markdown",
   "id": "919d9299",
   "metadata": {},
   "source": [
    "***\n",
    "#### Environment\n",
    "`conda activate sklearn-env`\n",
    "***\n",
    "#### Goals\n",
    "   \n",
    "- [Load the data sets from the UCI website](#Dataset-load-from-CSV-located-on-UCI-website)\n",
    "- [Print statistics about the data](#Basic-statistical-properties)\n",
    "- [Display total count of missing values](#Display-total-count-of-missing-values)\n",
    "- [Use `IterativeImputer` to compute missing values](#Use-IterativeImputer-to-compute-missing-values)\n",
    "- [Use `OneHotEncoder` to encode  `Cylinders` and `Origin` fields](#Use-OneHotEncoder-to-encode-Cylinders-and-Origin-fields)\n",
    "- [Rescale `Displacement`, `Horsepower`, `Weight`, `Acceleration` fields using `RobustScaler` estimator](#Rescale-Displacement,-Horsepower,-Weight,-Acceleration-fields-using-RobustScaler)\n",
    "- [Bucketize `Model year` field in 4 different bins to reduce the number of distinct values used in it](#Bucketize-Model-year-field-in-4-different-bins-to-reduce-the-number-of-distinct-values-used-in-it)\n",
    "- [Run `LinearRegression` estimator over the transformed data and print predicted values along with label values](#Run-LinearRegression-estimator-over-the-transformed-data-and-print-predicted-values-along-with-label-values)\n",
    "\n",
    "- [Optional](#Optional) *\n",
    "- [Apply the same transformations (imp_mean,encoder, scaler, bucketer and reg ) on test datasets](#Apply-the-same-transformations-(imp_mean,-encoder,-scaler,-bucketer-and-reg-)-on-test-datasets)\n",
    "  - [Apply imputer (`imp_mean` object)](#Apply-imputer-(imp_mean-object))\n",
    "  - [Apply category encoder (`encoder` object)](#Apply-category-encoder-(encoder-object))\n",
    "  - [Apply scaller (`scaler` object)](#Apply-scaller-(scaler-object))\n",
    "  - [Apply binning (`bucketer` object)](#Apply-binning-(bucketer-object))\n",
    "  - [Run logistic regression and compute model $R^2$ score (`reg` object)](#Run-logistic-regression-and-compute-model-$R^2$-score-(reg-object))"
   ]
  },
  {
   "cell_type": "markdown",
   "id": "ebd63d56",
   "metadata": {},
   "source": [
    "#### Basic python imports for panda (dataframe) and seaborn(visualization) packages"
   ]
  },
  {
   "cell_type": "code",
   "execution_count": null,
   "id": "2d79a233",
   "metadata": {},
   "outputs": [],
   "source": [
    "import pandas as pd\n",
    "import numpy as np\n",
    "import seaborn as sns\n",
    "import matplotlib.pyplot as plt\n",
    "from IPython.display import display"
   ]
  },
  {
   "cell_type": "markdown",
   "id": "c9730da2",
   "metadata": {},
   "source": [
    "#### Dataset load from CSV located on UCI website.\n",
    "\n",
    "http://archive.ics.uci.edu/ml/machine-learning-databases/auto-mpg/auto-mpg.data  \n",
    "If the URL does not work the dataset can be loaded from the data folder `./data/auto-mpg.data`."
   ]
  },
  {
   "cell_type": "code",
   "execution_count": null,
   "id": "52f7f0b0",
   "metadata": {},
   "outputs": [],
   "source": [
    "url = 'http://archive.ics.uci.edu/ml/machine-learning-databases/auto-mpg/auto-mpg.data'\n",
    "column_names = ['MPG', 'Cylinders', 'Displacement', 'Horsepower', 'Weight',\n",
    "                'Acceleration', 'Model Year', 'Origin']\n",
    "\n",
    "raw_dataset = pd.read_csv(url, names=column_names,\n",
    "                          na_values='?', comment='\\t',\n",
    "                          sep=' ', skipinitialspace=True)\n",
    "dataset = raw_dataset.copy()\n",
    "dataset.tail(2)"
   ]
  },
  {
   "cell_type": "markdown",
   "id": "efc21d96",
   "metadata": {},
   "source": [
    "#### Dataset meta information"
   ]
  },
  {
   "cell_type": "code",
   "execution_count": null,
   "id": "a69f5bde",
   "metadata": {},
   "outputs": [],
   "source": [
    "dataset.info()"
   ]
  },
  {
   "cell_type": "markdown",
   "id": "daf94618",
   "metadata": {},
   "source": [
    "#### Basic statistical properties"
   ]
  },
  {
   "cell_type": "code",
   "execution_count": null,
   "id": "dba6d90f",
   "metadata": {},
   "outputs": [],
   "source": [
    "dataset.describe().transpose()"
   ]
  },
  {
   "cell_type": "markdown",
   "id": "97b5a0d2",
   "metadata": {},
   "source": [
    "#### Display total count of missing values\n",
    "\n",
    "Nottice missing values on one of the fields."
   ]
  },
  {
   "cell_type": "code",
   "execution_count": null,
   "id": "e478c496",
   "metadata": {},
   "outputs": [],
   "source": [
    "dataset.isna().sum()"
   ]
  },
  {
   "cell_type": "markdown",
   "id": "a16d1301",
   "metadata": {},
   "source": [
    "#### Data preparation\n",
    "\n",
    "Split data in `training` and `test` datasets"
   ]
  },
  {
   "cell_type": "code",
   "execution_count": null,
   "id": "95759ff5",
   "metadata": {},
   "outputs": [],
   "source": [
    "from sklearn.model_selection import train_test_split\n",
    "\n",
    "train_dataset, test_dataset = train_test_split(dataset, test_size=0.2)\n",
    "train_dataset.reset_index(drop=True,inplace=True)\n",
    "test_dataset.reset_index(drop=True,inplace=True)\n",
    "\n",
    "train_features = train_dataset.drop('MPG', axis='columns', inplace=False)\n",
    "test_features = test_dataset.drop('MPG', axis='columns', inplace=False)\n",
    "\n",
    "train_labels = train_dataset.pop('MPG')\n",
    "test_labels = test_dataset.pop('MPG')"
   ]
  },
  {
   "cell_type": "markdown",
   "id": "dfa4bcdd",
   "metadata": {},
   "source": [
    "### Use `IterativeImputer` to compute missing values\n",
    "\n",
    "https://scikit-learn.org/stable//modules/generated/sklearn.impute.IterativeImputer.html\n",
    "\n",
    "This imputer estimates the replacement for missing values based on the other fields. For this reason we are passing to `fit` and `transform` calls, all the other columns not only the ones that have missing elements "
   ]
  },
  {
   "cell_type": "code",
   "execution_count": null,
   "id": "cf282721",
   "metadata": {},
   "outputs": [],
   "source": [
    "from sklearn.experimental import enable_iterative_imputer\n",
    "from sklearn.impute import IterativeImputer\n",
    "imp_mean = IterativeImputer(random_state=0 , skip_complete=True)\n",
    "imp_mean.fit(train_features)\n",
    "\n",
    "\n",
    "train_features[['Cylinders',\n",
    "                'Displacement',\n",
    "                'Horsepower', \n",
    "                'Weight', \n",
    "                'Acceleration', \n",
    "                'Model Year', \n",
    "                'Origin' ]] = imp_mean.transform(train_features)\n",
    "\n",
    "train_features.head()\n"
   ]
  },
  {
   "cell_type": "markdown",
   "id": "327a373c",
   "metadata": {},
   "source": [
    "### Use `OneHotEncoder` to encode `Cylinders` and `Origin` fields\n",
    "\n",
    "https://scikit-learn.org/stable//modules/generated/sklearn.preprocessing.OneHotEncoder.html"
   ]
  },
  {
   "cell_type": "code",
   "execution_count": null,
   "id": "0ccf2a14",
   "metadata": {},
   "outputs": [],
   "source": [
    "from sklearn.preprocessing import OneHotEncoder\n",
    "\n",
    "encoder = OneHotEncoder(sparse=False, handle_unknown='ignore').fit(train_features[['Cylinders', 'Origin']])\n",
    "display(\"OHE categories: for Cylinders and Origin columns \" + str(encoder.categories_))\n",
    "\n",
    "train_features[['Cylinders_3',\n",
    "              'Cylinders_4',\n",
    "              'Cylinders_5',\n",
    "              'Cylinders_6',\n",
    "              'Cylinders_8',\n",
    "              'Origin_USA',\n",
    "              'Origin_Europe',\n",
    "              'Origin_Japan']] = encoder.transform(train_features[['Cylinders', 'Origin']])\n",
    "\n",
    "train_features.drop(['Cylinders', 'Origin'], axis=1, inplace=True)\n",
    "\n",
    "train_features.head()"
   ]
  },
  {
   "cell_type": "markdown",
   "id": "08b15430",
   "metadata": {},
   "source": [
    "### Rescale `Displacement`, `Horsepower`, `Weight`, `Acceleration` fields using `RobustScaler`\n",
    "\n",
    "https://scikit-learn.org/stable//modules/generated/sklearn.preprocessing.KBinsDiscretizer.htm\n"
   ]
  },
  {
   "cell_type": "code",
   "execution_count": null,
   "id": "406d0c6d",
   "metadata": {},
   "outputs": [],
   "source": [
    "from sklearn.preprocessing import RobustScaler\n",
    "\n",
    "scaler = RobustScaler().fit(train_features[['Displacement', 'Horsepower', 'Weight', 'Acceleration']])\n",
    "train_features[['Displacement', 'Horsepower', 'Weight', 'Acceleration']] = scaler.transform(train_features[['Displacement', 'Horsepower', 'Weight', 'Acceleration']])\n",
    "train_features.head()"
   ]
  },
  {
   "cell_type": "markdown",
   "id": "37645c33",
   "metadata": {},
   "source": [
    "### Bucketize `Model year` field in 4 different bins to reduce the number of distinct values used in it\n",
    "\n",
    "https://scikit-learn.org/stable//modules/generated/sklearn.preprocessing.KBinsDiscretizer.html"
   ]
  },
  {
   "cell_type": "code",
   "execution_count": null,
   "id": "87fb5d43",
   "metadata": {},
   "outputs": [],
   "source": [
    "from sklearn.preprocessing import KBinsDiscretizer\n",
    "\n",
    "bucketer = KBinsDiscretizer(n_bins=4, encode='ordinal', strategy='uniform').fit(train_features[['Model Year']])\n",
    "\n",
    "train_features[['Model Year']] = bucketer.transform(train_features[['Model Year']])\n",
    "train_features.head()"
   ]
  },
  {
   "cell_type": "markdown",
   "id": "a8da8c4c",
   "metadata": {},
   "source": [
    "### Run `LinearRegression` estimator over the transformed data and print predicted values along with label values\n",
    "\n",
    "https://scikit-learn.org/stable//modules/generated/sklearn.linear_model.LinearRegression.html"
   ]
  },
  {
   "cell_type": "code",
   "execution_count": null,
   "id": "87080215",
   "metadata": {},
   "outputs": [],
   "source": [
    "from sklearn.linear_model import LinearRegression\n",
    "\n",
    "reg = LinearRegression().fit(train_features, train_labels)\n",
    "\n",
    "train_features['Predicted_MPG'] = reg.predict(train_features)\n",
    "pd.concat([train_features, train_labels], axis=1).head()\n"
   ]
  },
  {
   "cell_type": "markdown",
   "id": "162a1dd7",
   "metadata": {},
   "source": [
    "### Optional\n",
    "\n",
    "### Apply the same transformations (`imp_mean`, `encoder`, `scaler`, `bucketer` and `reg` ) on test datasets\n",
    "\n",
    "\n",
    "Note: do not retrain these estimators on this unused data (do not call `fit` method)"
   ]
  },
  {
   "cell_type": "markdown",
   "id": "8458dc90",
   "metadata": {},
   "source": [
    "#### Apply imputer (`imp_mean` object)"
   ]
  },
  {
   "cell_type": "code",
   "execution_count": null,
   "id": "de134fb4",
   "metadata": {},
   "outputs": [],
   "source": [
    "test_features[['Cylinders',\n",
    "                'Displacement',\n",
    "                'Horsepower', \n",
    "                'Weight', \n",
    "                'Acceleration', \n",
    "                'Model Year', \n",
    "                'Origin' ]] = imp_mean.transform(test_features)\n",
    "\n",
    "test_features.head()"
   ]
  },
  {
   "cell_type": "markdown",
   "id": "f383bd5b",
   "metadata": {},
   "source": [
    "#### Apply category encoder (`encoder` object)"
   ]
  },
  {
   "cell_type": "code",
   "execution_count": null,
   "id": "842e89bb",
   "metadata": {},
   "outputs": [],
   "source": [
    "test_features[['Cylinders_3',\n",
    "              'Cylinders_4',\n",
    "              'Cylinders_5',\n",
    "              'Cylinders_6',\n",
    "              'Cylinders_8',\n",
    "              'Origin_USA',\n",
    "              'Origin_Europe',\n",
    "              'Origin_Japan']] = encoder.transform(test_features[['Cylinders', 'Origin']])\n",
    "\n",
    "test_features.drop(['Cylinders', 'Origin'], axis=1, inplace=True)\n",
    "\n",
    "test_features.head()"
   ]
  },
  {
   "cell_type": "markdown",
   "id": "e0c04891",
   "metadata": {},
   "source": [
    "#### Apply scaller (`scaler` object)"
   ]
  },
  {
   "cell_type": "code",
   "execution_count": null,
   "id": "b7ac3c68",
   "metadata": {},
   "outputs": [],
   "source": [
    "test_features[['Displacement', 'Horsepower', 'Weight', 'Acceleration']] = scaler.transform(test_features[['Displacement', 'Horsepower', 'Weight', 'Acceleration']])\n",
    "test_features.head()"
   ]
  },
  {
   "cell_type": "markdown",
   "id": "eea5a0f6",
   "metadata": {},
   "source": [
    "#### Apply binning (`bucketer` object)"
   ]
  },
  {
   "cell_type": "code",
   "execution_count": null,
   "id": "ae83f6b1",
   "metadata": {},
   "outputs": [],
   "source": [
    "test_features[['Model Year']] = bucketer.transform(test_features[['Model Year']])\n",
    "test_features.head()"
   ]
  },
  {
   "cell_type": "markdown",
   "id": "e90aa5aa",
   "metadata": {},
   "source": [
    "### Run `LinearRegression` estimator on test data "
   ]
  },
  {
   "cell_type": "code",
   "execution_count": null,
   "id": "bb29093f",
   "metadata": {},
   "outputs": [],
   "source": [
    "test_features['Predicted_MPG'] = reg.predict(test_features)"
   ]
  },
  {
   "cell_type": "markdown",
   "id": "2addc93b",
   "metadata": {},
   "source": [
    "#### Print a random sample of 10 records to observe prediction accuracy"
   ]
  },
  {
   "cell_type": "code",
   "execution_count": null,
   "id": "31253265",
   "metadata": {},
   "outputs": [],
   "source": [
    "pd.concat([test_features, test_labels], axis=1).sample(10)"
   ]
  },
  {
   "cell_type": "code",
   "execution_count": null,
   "id": "37a56d61",
   "metadata": {},
   "outputs": [],
   "source": []
  }
 ],
 "metadata": {
  "kernelspec": {
   "display_name": "Python 3",
   "language": "python",
   "name": "python3"
  },
  "language_info": {
   "codemirror_mode": {
    "name": "ipython",
    "version": 3
   },
   "file_extension": ".py",
   "mimetype": "text/x-python",
   "name": "python",
   "nbconvert_exporter": "python",
   "pygments_lexer": "ipython3",
   "version": "3.8.10"
  }
 },
 "nbformat": 4,
 "nbformat_minor": 5
}

{
 "cells": [
  {
   "cell_type": "markdown",
   "id": "e59c949e",
   "metadata": {},
   "source": [
    "### PySpark Example\n",
    "Logistic regression and HPO+CV with PySpark on the Titanic dataset"
   ]
  },
  {
   "cell_type": "markdown",
   "id": "10a37a97",
   "metadata": {},
   "source": [
    "***\n",
    "#### Environment\n",
    "`conda activate pyspark-env`\n",
    "\n",
    "***\n",
    "#### Goals\n",
    "- Explore PySpark API\n",
    "\n",
    "***\n",
    "#### References\n",
    "https://spark.apache.org/docs/latest/api/python/\n",
    "\n"
   ]
  },
  {
   "cell_type": "markdown",
   "id": "e13e4b20",
   "metadata": {},
   "source": [
    "### Spark initialization"
   ]
  },
  {
   "cell_type": "code",
   "execution_count": 1,
   "id": "7fbf01cc",
   "metadata": {},
   "outputs": [
    {
     "name": "stdout",
     "output_type": "stream",
     "text": [
      "Spark Version: 3.1.1\n",
      "PySpark Version: 3.1.2\n"
     ]
    }
   ],
   "source": [
    "import pyspark\n",
    "from pyspark.sql import SQLContext, SparkSession\n",
    "\n",
    "spark = SparkSession \\\n",
    "    .builder \\\n",
    "    .appName(\"Python Spark SQL Playground\") \\\n",
    "    .master(\"local[*]\") \\\n",
    "    .getOrCreate()\n",
    "\n",
    "\n",
    "spark.sparkContext.setLogLevel(\"ERROR\")\n",
    "\n",
    "sqlContext = SQLContext(sparkContext=spark.sparkContext, sparkSession=spark)\n",
    "print(\"Spark Version: \" + spark.version)\n",
    "print(\"PySpark Version: \" + pyspark.__version__)"
   ]
  },
  {
   "cell_type": "code",
   "execution_count": 2,
   "id": "095d1c3a",
   "metadata": {},
   "outputs": [
    {
     "data": {
      "text/html": [
       "<style>\n",
       "  table {margin-left: 0 !important;}\n",
       "</style>\n"
      ],
      "text/plain": [
       "<IPython.core.display.HTML object>"
      ]
     },
     "metadata": {},
     "output_type": "display_data"
    }
   ],
   "source": [
    "%%html\n",
    "<style>\n",
    "  table {margin-left: 0 !important;}\n",
    "</style>"
   ]
  },
  {
   "cell_type": "markdown",
   "id": "87f9480a",
   "metadata": {},
   "source": [
    "### CSV Data Read - Train\n",
    "\n",
    "`titanic/train.csv`\n",
    "\n",
    "| Variable| Definition| Key| \n",
    "|:--- |:---   |:--- |\n",
    "| PassengerId|  \tPassenger id|  \t| \n",
    "| Survived|  \tSurvival|  \t0 = No, 1 = Yes| \n",
    "| Pclass|  \tTicket class|  \t1 = 1st, 2 = 2nd, 3 = 3rd| \n",
    "| Name|  \tPassenger name |  \t| \n",
    "| Sex|  \tSex|  \t| \n",
    "| Age|  \tAge in years|  \t| \n",
    "| SibSp|  \t# of siblings / spouses aboard the Titanic \t| | \n",
    "| Parch|  \t# of parents / children aboard the Titanic \t| | \n",
    "| Ticket|  \tTicket number | \t| \n",
    "| Fare|  \tPassenger fare \t| | \n",
    "| Cabin|  \tCabin number \t| | \n",
    "| Embarked|  \tPort of Embarkation|  \tC = Cherbourg, Q = Queenstown, S = Southampton| "
   ]
  },
  {
   "cell_type": "code",
   "execution_count": 3,
   "id": "0429d5ca",
   "metadata": {
    "scrolled": true
   },
   "outputs": [
    {
     "name": "stdout",
     "output_type": "stream",
     "text": [
      "root\n",
      " |-- PassengerId: integer (nullable = true)\n",
      " |-- Survived: integer (nullable = true)\n",
      " |-- Pclass: integer (nullable = true)\n",
      " |-- Name: string (nullable = true)\n",
      " |-- Sex: string (nullable = true)\n",
      " |-- Age: double (nullable = true)\n",
      " |-- SibSp: integer (nullable = true)\n",
      " |-- Parch: integer (nullable = true)\n",
      " |-- Ticket: string (nullable = true)\n",
      " |-- Fare: double (nullable = true)\n",
      " |-- Cabin: string (nullable = true)\n",
      " |-- Embarked: string (nullable = true)\n",
      "\n",
      "+-----------+--------+------+--------------------+------+----+-----+-----+----------------+-------+-----+--------+\n",
      "|PassengerId|Survived|Pclass|                Name|   Sex| Age|SibSp|Parch|          Ticket|   Fare|Cabin|Embarked|\n",
      "+-----------+--------+------+--------------------+------+----+-----+-----+----------------+-------+-----+--------+\n",
      "|          1|       0|     3|Braund, Mr. Owen ...|  male|22.0|    1|    0|       A/5 21171|   7.25| null|       S|\n",
      "|          2|       1|     1|Cumings, Mrs. Joh...|female|38.0|    1|    0|        PC 17599|71.2833|  C85|       C|\n",
      "|          3|       1|     3|Heikkinen, Miss. ...|female|26.0|    0|    0|STON/O2. 3101282|  7.925| null|       S|\n",
      "|          4|       1|     1|Futrelle, Mrs. Ja...|female|35.0|    1|    0|          113803|   53.1| C123|       S|\n",
      "|          5|       0|     3|Allen, Mr. Willia...|  male|35.0|    0|    0|          373450|   8.05| null|       S|\n",
      "+-----------+--------+------+--------------------+------+----+-----+-----+----------------+-------+-----+--------+\n",
      "only showing top 5 rows\n",
      "\n"
     ]
    }
   ],
   "source": [
    "train_df = spark.read.load(\"../data/titanic/train.csv\", format=\"csv\", inferSchema=True,   header=\"true\")\n",
    "train_df.printSchema()\n",
    "train_df.show(5)"
   ]
  },
  {
   "cell_type": "markdown",
   "id": "5dd6cb70",
   "metadata": {},
   "source": [
    "### CSV Data Read - Test\n",
    "\n",
    "`titanic/test.csv`\n",
    "\n",
    "| Variable| Definition| Key| \n",
    "|:--- |:---   |:--- |\n",
    "| PassengerId|  \tPassenger id|  \t| \n",
    "| Pclass|  \tTicket class|  \t1 = 1st, 2 = 2nd, 3 = 3rd| \n",
    "| Name|  \tPassenger name |  \t| \n",
    "| Sex|  \tSex|  \t| \n",
    "| Age|  \tAge in years|  \t| \n",
    "| SibSp|  \t# of siblings / spouses aboard the Titanic \t| | \n",
    "| Parch|  \t# of parents / children aboard the Titanic \t| | \n",
    "| Ticket|  \tTicket number | \t| \n",
    "| Fare|  \tPassenger fare \t| | \n",
    "| Cabin|  \tCabin number \t| | \n",
    "| Embarked|  \tPort of Embarkation|  \tC = Cherbourg, Q = Queenstown, S = Southampton| \n",
    "\n",
    "`titanic/gender_submission.csv`\n",
    "\n",
    "| Variable| Definition| Key| \n",
    "|:--- |:---   |:--- |\n",
    "| PassengerId|  \tPassenger id|  \t| \n",
    "| Survived|  \tSurvival|  \t0 = No, 1 = Yes| \n"
   ]
  },
  {
   "cell_type": "code",
   "execution_count": 4,
   "id": "00ddf46a",
   "metadata": {},
   "outputs": [],
   "source": [
    "test_df_no_label = spark.read.load(\"../data/titanic/test.csv\", format=\"csv\", inferSchema=True,   header=\"true\")\n",
    "\n",
    "#test_df_no_label.printSchema()\n",
    "#test_df_no_label.show(5)\n",
    "\n",
    "test_df_label = spark.read.load(\"../data/titanic/gender_submission.csv\", format=\"csv\", inferSchema=True,   header=\"true\")\n",
    "\n",
    "#test_df_label.printSchema()\n",
    "#test_df_label.show(5)"
   ]
  },
  {
   "cell_type": "markdown",
   "id": "cfe29ad9",
   "metadata": {},
   "source": [
    "### Analize null values"
   ]
  },
  {
   "cell_type": "code",
   "execution_count": 5,
   "id": "f34a9106",
   "metadata": {},
   "outputs": [
    {
     "name": "stdout",
     "output_type": "stream",
     "text": [
      "+-----------+--------+------+----+---+---+-----+-----+------+----+-----+--------+\n",
      "|PassengerId|Survived|Pclass|Name|Sex|Age|SibSp|Parch|Ticket|Fare|Cabin|Embarked|\n",
      "+-----------+--------+------+----+---+---+-----+-----+------+----+-----+--------+\n",
      "|          0|       0|     0|   0|  0|177|    0|    0|     0|   0|  687|       2|\n",
      "+-----------+--------+------+----+---+---+-----+-----+------+----+-----+--------+\n",
      "\n"
     ]
    }
   ],
   "source": [
    "from pyspark.sql.functions import isnan,isnull, when, count, col\n",
    "\n",
    "train_df.select([count(when(isnull(c), c)).alias(c) for c in train_df.columns]).show()"
   ]
  },
  {
   "cell_type": "markdown",
   "id": "f7556b15",
   "metadata": {},
   "source": [
    "### Data Preparation"
   ]
  },
  {
   "cell_type": "code",
   "execution_count": 6,
   "id": "9fc0a356",
   "metadata": {},
   "outputs": [],
   "source": [
    "from pyspark.ml.feature import Imputer, StringIndexer, OneHotEncoder, VectorIndexer, VectorAssembler, MinMaxScaler\n",
    "\n",
    "imputer = Imputer(inputCols=[\"Age\", \"Fare\"], outputCols=[\"Age_out\", \"Fare_out\"])\n",
    "\n",
    "indexer = StringIndexer(inputCols=[ 'Sex', 'Cabin', 'Embarked'], outputCols=[ 'Sex_idx', 'Cabin_idx', 'Embarked_idx'], handleInvalid='keep')\n",
    "\n",
    "ohe_str = OneHotEncoder(inputCols=indexer.getOutputCols(),\n",
    "                    outputCols=['Sex_idx_ohe', 'Cabin_idx_ohe', 'Embarked_idx_ohe']\n",
    "                    )\n",
    "\n",
    "va_numeric = VectorAssembler(inputCols=['Pclass', 'SibSp', 'Parch'], outputCol='numeric_features_asm')\n",
    "vi_numeric = VectorIndexer(inputCol=va_numeric.getOutputCol(), outputCol='numeric_cat', handleInvalid='keep')\n",
    "\n",
    "va_scalers = VectorAssembler(inputCols=imputer.getOutputCols()+ [vi_numeric.getOutputCol()], outputCol='numeric_va_out', handleInvalid='error')\n",
    "scaler = MinMaxScaler(inputCol=va_scalers.getOutputCol(), outputCol=\"numeric_scaled\")\n",
    "\n",
    "va_features = VectorAssembler(inputCols=ohe_str.getOutputCols()+[scaler.getOutputCol()], outputCol='features')"
   ]
  },
  {
   "cell_type": "markdown",
   "id": "2bb8d47f",
   "metadata": {},
   "source": [
    "### Model"
   ]
  },
  {
   "cell_type": "code",
   "execution_count": 7,
   "id": "9aeb3d61",
   "metadata": {},
   "outputs": [],
   "source": [
    "from pyspark.ml.classification import LogisticRegression\n",
    "lr = LogisticRegression(maxIter=10, regParam=0.03, featuresCol='features', labelCol='Survived')"
   ]
  },
  {
   "cell_type": "markdown",
   "id": "6dd257b5",
   "metadata": {},
   "source": [
    "### Pipeline"
   ]
  },
  {
   "cell_type": "code",
   "execution_count": 8,
   "id": "5915b65c",
   "metadata": {},
   "outputs": [],
   "source": [
    "from pyspark.ml import Pipeline\n",
    "\n",
    "pipeline = Pipeline(stages=[imputer, \n",
    "                            indexer, \n",
    "                            ohe_str, \n",
    "                            va_numeric, \n",
    "                            vi_numeric, \n",
    "                            va_scalers, \n",
    "                            scaler, \n",
    "                            va_features, \n",
    "                            lr])\n"
   ]
  },
  {
   "cell_type": "markdown",
   "id": "1634ed1b",
   "metadata": {},
   "source": [
    "### Train"
   ]
  },
  {
   "cell_type": "code",
   "execution_count": 9,
   "id": "a8068aed",
   "metadata": {},
   "outputs": [],
   "source": [
    "pipeline_model = pipeline.fit(train_df)"
   ]
  },
  {
   "cell_type": "markdown",
   "id": "dbd35f17",
   "metadata": {},
   "source": [
    "### Show results for training data"
   ]
  },
  {
   "cell_type": "code",
   "execution_count": 10,
   "id": "3e0c67b9",
   "metadata": {},
   "outputs": [
    {
     "name": "stdout",
     "output_type": "stream",
     "text": [
      "-RECORD 0-----------------------------------------------------------------------------------------------------------------------\n",
      " PassengerId          | 1                                                                                                       \n",
      " Survived             | 0                                                                                                       \n",
      " Pclass               | 3                                                                                                       \n",
      " Name                 | Braund, Mr. Owen Harris                                                                                 \n",
      " Sex                  | male                                                                                                    \n",
      " Age                  | 22.0                                                                                                    \n",
      " SibSp                | 1                                                                                                       \n",
      " Parch                | 0                                                                                                       \n",
      " Ticket               | A/5 21171                                                                                               \n",
      " Fare                 | 7.25                                                                                                    \n",
      " Cabin                | null                                                                                                    \n",
      " Embarked             | S                                                                                                       \n",
      " Age_out              | 22.0                                                                                                    \n",
      " Fare_out             | 7.25                                                                                                    \n",
      " Sex_idx              | 0.0                                                                                                     \n",
      " Cabin_idx            | 147.0                                                                                                   \n",
      " Embarked_idx         | 0.0                                                                                                     \n",
      " Sex_idx_ohe          | (2,[0],[1.0])                                                                                           \n",
      " Cabin_idx_ohe        | (147,[],[])                                                                                             \n",
      " Embarked_idx_ohe     | (3,[0],[1.0])                                                                                           \n",
      " numeric_features_asm | [3.0,1.0,0.0]                                                                                           \n",
      " numeric_cat          | [2.0,1.0,0.0]                                                                                           \n",
      " numeric_va_out       | [22.0,7.25,2.0,1.0,0.0]                                                                                 \n",
      " numeric_scaled       | [0.2711736617240513,0.014151057562208049,1.0,0.16666666666666666,0.0]                                   \n",
      " features             | (157,[0,149,152,153,154,155],[1.0,1.0,0.2711736617240513,0.014151057562208049,1.0,0.16666666666666666]) \n",
      " rawPrediction        | [2.1229142608675016,-2.1229142608675016]                                                                \n",
      " probability          | [0.8931104558968489,0.1068895441031511]                                                                 \n",
      " prediction           | 0.0                                                                                                     \n",
      "only showing top 1 row\n",
      "\n"
     ]
    }
   ],
   "source": [
    "scored_df = pipeline_model.transform(train_df)\n",
    "#scored_df.printSchema()\n",
    "scored_df.show(1, truncate=False, vertical=True)"
   ]
  },
  {
   "cell_type": "markdown",
   "id": "5d0bc8a0",
   "metadata": {},
   "source": [
    "### Score Test Data"
   ]
  },
  {
   "cell_type": "code",
   "execution_count": 11,
   "id": "70f5dad8",
   "metadata": {},
   "outputs": [],
   "source": [
    "scored_df = pipeline_model.transform(test_df_no_label)"
   ]
  },
  {
   "cell_type": "code",
   "execution_count": 21,
   "id": "e394760b",
   "metadata": {},
   "outputs": [
    {
     "name": "stdout",
     "output_type": "stream",
     "text": [
      "-RECORD 0-----------------------------------------------------------------------------------------------------------------------\n",
      " PassengerId          | 892                                                                                                     \n",
      " Pclass               | 3                                                                                                       \n",
      " Name                 | Kelly, Mr. James                                                                                        \n",
      " Sex                  | male                                                                                                    \n",
      " Age                  | 34.5                                                                                                    \n",
      " SibSp                | 0                                                                                                       \n",
      " Parch                | 0                                                                                                       \n",
      " Ticket               | 330911                                                                                                  \n",
      " Fare                 | 7.8292                                                                                                  \n",
      " Cabin                | null                                                                                                    \n",
      " Embarked             | Q                                                                                                       \n",
      " Age_out              | 34.5                                                                                                    \n",
      " Fare_out             | 7.8292                                                                                                  \n",
      " Sex_idx              | 0.0                                                                                                     \n",
      " Cabin_idx            | 147.0                                                                                                   \n",
      " Embarked_idx         | 2.0                                                                                                     \n",
      " Sex_idx_ohe          | (2,[0],[1.0])                                                                                           \n",
      " Cabin_idx_ohe        | (147,[],[])                                                                                             \n",
      " Embarked_idx_ohe     | (3,[2],[1.0])                                                                                           \n",
      " numeric_features_asm | [3.0,0.0,0.0]                                                                                           \n",
      " numeric_cat          | [2.0,0.0,0.0]                                                                                           \n",
      " numeric_va_out       | [34.5,7.8292,2.0,0.0,0.0]                                                                               \n",
      " numeric_scaled       | [0.4282483035938678,0.015281580671177828,1.0,0.0,0.0]                                                   \n",
      " features             | (157,[0,151,152,153,154],[1.0,1.0,0.4282483035938678,0.015281580671177828,1.0])                         \n",
      " rawPrediction        | [1.8774852746916364,-1.8774852746916364]                                                                \n",
      " probability          | [0.8673220128132767,0.1326779871867233]                                                                 \n",
      " prediction           | 0.0                                                                                                     \n",
      " Survived             | 0                                                                                                       \n",
      "-RECORD 1-----------------------------------------------------------------------------------------------------------------------\n",
      " PassengerId          | 893                                                                                                     \n",
      " Pclass               | 3                                                                                                       \n",
      " Name                 | Wilkes, Mrs. James (Ellen Needs)                                                                        \n",
      " Sex                  | female                                                                                                  \n",
      " Age                  | 47.0                                                                                                    \n",
      " SibSp                | 1                                                                                                       \n",
      " Parch                | 0                                                                                                       \n",
      " Ticket               | 363272                                                                                                  \n",
      " Fare                 | 7.0                                                                                                     \n",
      " Cabin                | null                                                                                                    \n",
      " Embarked             | S                                                                                                       \n",
      " Age_out              | 47.0                                                                                                    \n",
      " Fare_out             | 7.0                                                                                                     \n",
      " Sex_idx              | 1.0                                                                                                     \n",
      " Cabin_idx            | 147.0                                                                                                   \n",
      " Embarked_idx         | 0.0                                                                                                     \n",
      " Sex_idx_ohe          | (2,[1],[1.0])                                                                                           \n",
      " Cabin_idx_ohe        | (147,[],[])                                                                                             \n",
      " Embarked_idx_ohe     | (3,[0],[1.0])                                                                                           \n",
      " numeric_features_asm | [3.0,1.0,0.0]                                                                                           \n",
      " numeric_cat          | [2.0,1.0,0.0]                                                                                           \n",
      " numeric_va_out       | [47.0,7.0,2.0,1.0,0.0]                                                                                  \n",
      " numeric_scaled       | [0.5853229454636844,0.013663090060062943,1.0,0.16666666666666666,0.0]                                   \n",
      " features             | (157,[1,149,152,153,154,155],[1.0,1.0,0.5853229454636844,0.013663090060062943,1.0,0.16666666666666666]) \n",
      " rawPrediction        | [0.34788648169692615,-0.34788648169692615]                                                              \n",
      " probability          | [0.5861049625817575,0.4138950374182425]                                                                 \n",
      " prediction           | 0.0                                                                                                     \n",
      " Survived             | 1                                                                                                       \n",
      "-RECORD 2-----------------------------------------------------------------------------------------------------------------------\n",
      " PassengerId          | 894                                                                                                     \n",
      " Pclass               | 2                                                                                                       \n",
      " Name                 | Myles, Mr. Thomas Francis                                                                               \n",
      " Sex                  | male                                                                                                    \n",
      " Age                  | 62.0                                                                                                    \n",
      " SibSp                | 0                                                                                                       \n",
      " Parch                | 0                                                                                                       \n",
      " Ticket               | 240276                                                                                                  \n",
      " Fare                 | 9.6875                                                                                                  \n",
      " Cabin                | null                                                                                                    \n",
      " Embarked             | Q                                                                                                       \n",
      " Age_out              | 62.0                                                                                                    \n",
      " Fare_out             | 9.6875                                                                                                  \n",
      " Sex_idx              | 0.0                                                                                                     \n",
      " Cabin_idx            | 147.0                                                                                                   \n",
      " Embarked_idx         | 2.0                                                                                                     \n",
      " Sex_idx_ohe          | (2,[0],[1.0])                                                                                           \n",
      " Cabin_idx_ohe        | (147,[],[])                                                                                             \n",
      " Embarked_idx_ohe     | (3,[2],[1.0])                                                                                           \n",
      " numeric_features_asm | [2.0,0.0,0.0]                                                                                           \n",
      " numeric_cat          | [1.0,0.0,0.0]                                                                                           \n",
      " numeric_va_out       | [62.0,9.6875,1.0,0.0,0.0]                                                                               \n",
      " numeric_scaled       | [0.7738125157074641,0.018908740708122825,0.5,0.0,0.0]                                                   \n",
      " features             | (157,[0,151,152,153,154],[1.0,1.0,0.7738125157074641,0.018908740708122825,0.5])                         \n",
      " rawPrediction        | [1.9807121613517185,-1.9807121613517185]                                                                \n",
      " probability          | [0.8787570584485128,0.12124294155148718]                                                                \n",
      " prediction           | 0.0                                                                                                     \n",
      " Survived             | 0                                                                                                       \n",
      "only showing top 3 rows\n",
      "\n"
     ]
    }
   ],
   "source": [
    "scored_df_with_label = scored_df.join(test_df_label, ['PassengerId'] )\n",
    "#scored_df_with_label.printSchema()\n",
    "scored_df_with_label.show(1, truncate=False, vertical=True)"
   ]
  },
  {
   "cell_type": "markdown",
   "id": "e71752dc",
   "metadata": {},
   "source": [
    "### Save prediction in CSV format"
   ]
  },
  {
   "cell_type": "code",
   "execution_count": 13,
   "id": "aa8f9c3c",
   "metadata": {},
   "outputs": [],
   "source": [
    "scored_df_with_label.select('PassengerId',\n",
    "                            'Pclass', \n",
    "                            'Name', \n",
    "                            'Sex',\n",
    "                            'Age',\n",
    "                            'SibSp',\n",
    "                            'Parch',\n",
    "                            'Ticket',\n",
    "                            'Fare', \n",
    "                            'Cabin', \n",
    "                            'Embarked', \n",
    "                            'Survived',\n",
    "                           'prediction').write.csv(\"./scored_titanic.csv\", mode=\"overwrite\", header='true')"
   ]
  },
  {
   "cell_type": "markdown",
   "id": "f8a220ab",
   "metadata": {},
   "source": [
    "### Model Evaluation"
   ]
  },
  {
   "cell_type": "code",
   "execution_count": 14,
   "id": "c1d4d153",
   "metadata": {},
   "outputs": [
    {
     "name": "stdout",
     "output_type": "stream",
     "text": [
      "AuROC curve = 0.930921052631579\n",
      "area under the precision-recall curve = 0.8851967820621071\n"
     ]
    }
   ],
   "source": [
    "from pyspark.mllib.evaluation import BinaryClassificationMetrics\n",
    "\n",
    "pred_label_df = scored_df_with_label.select(scored_df_with_label.prediction,scored_df_with_label.Survived.cast('float'))\n",
    "\n",
    "metrics = BinaryClassificationMetrics(pred_label_df.rdd)\n",
    "\n",
    "# Root mean squared error\n",
    "print(\"AuROC curve = %s\" % metrics.areaUnderROC)\n",
    "\n",
    "# R-squared\n",
    "print(\"area under the precision-recall curve = %s\" % metrics.areaUnderPR)"
   ]
  },
  {
   "cell_type": "markdown",
   "id": "69e95ad0",
   "metadata": {},
   "source": [
    "### Save Pipeline"
   ]
  },
  {
   "cell_type": "code",
   "execution_count": 15,
   "id": "95c766d0",
   "metadata": {},
   "outputs": [],
   "source": [
    "pipeline_model.write().overwrite().save(\"./spark-logistic-regression-pipeline-model\")"
   ]
  },
  {
   "cell_type": "markdown",
   "id": "ba70c916",
   "metadata": {},
   "source": [
    "### Hyperparameter tunning with CrossValidator"
   ]
  },
  {
   "cell_type": "code",
   "execution_count": 16,
   "id": "96e5519e",
   "metadata": {},
   "outputs": [
    {
     "name": "stdout",
     "output_type": "stream",
     "text": [
      "Searching for the optimal Hyperparameters. This will take a while ...\n",
      "Wall time: 59.4 s\n"
     ]
    }
   ],
   "source": [
    "%%time\n",
    "from pyspark.ml.feature import HashingTF, Tokenizer\n",
    "from pyspark.ml.tuning import CrossValidator, ParamGridBuilder\n",
    "from pyspark.ml.evaluation import BinaryClassificationEvaluator\n",
    "\n",
    "paramGrid = ParamGridBuilder() \\\n",
    "    .addGrid(imputer.strategy, ['mean', 'median']) \\\n",
    "    .addGrid(ohe_str.dropLast, [True, False]) \\\n",
    "    .addGrid(lr.regParam, [0.1, 0.01, 0.001]) \\\n",
    "    .build()\n",
    "\n",
    "print(\"Searching for the optimal Hyperparameters. This will take a while ...\")\n",
    "\n",
    "crossval = CrossValidator(estimator=pipeline,\n",
    "                          estimatorParamMaps=paramGrid,\n",
    "                          evaluator=BinaryClassificationEvaluator(labelCol='Survived'),\n",
    "                          numFolds=3)  # use 3+ folds in practice\n",
    "\n",
    "# Run cross-validation, and choose the best set of parameters.\n",
    "cvModel = crossval.fit(train_df)"
   ]
  },
  {
   "cell_type": "code",
   "execution_count": 17,
   "id": "20b7e5e0",
   "metadata": {},
   "outputs": [
    {
     "name": "stdout",
     "output_type": "stream",
     "text": [
      "CV AuROC curve = 0.9375000000000001\n",
      "CV area under the precision-recall curve = 0.8899193548387097\n"
     ]
    }
   ],
   "source": [
    "scored_df_cv= cvModel.transform(test_df_no_label)\n",
    "scored_df_with_label_cv = scored_df_cv.join(test_df_label, ['PassengerId'] )\n",
    "pred_label_df_cv = scored_df_with_label_cv.select(scored_df_with_label_cv.prediction,scored_df_with_label_cv.Survived.cast('float'))\n",
    "\n",
    "metrics_cv = BinaryClassificationMetrics(pred_label_df_cv.rdd)\n",
    "\n",
    "# Root mean squared error\n",
    "print(\"CV AuROC curve = %s\" % metrics_cv.areaUnderROC)\n",
    "\n",
    "# R-squared\n",
    "print(\"CV area under the precision-recall curve = %s\" % metrics_cv.areaUnderPR)"
   ]
  },
  {
   "cell_type": "code",
   "execution_count": 18,
   "id": "62e47c04",
   "metadata": {},
   "outputs": [
    {
     "name": "stdout",
     "output_type": "stream",
     "text": [
      "Best model:\n"
     ]
    },
    {
     "data": {
      "text/plain": [
       "ImputerModel: uid=Imputer_2eb7f354067d, strategy=mean, missingValue=NaN, numInputCols=2, numOutputCols=2"
      ]
     },
     "metadata": {},
     "output_type": "display_data"
    },
    {
     "data": {
      "text/plain": [
       "StringIndexerModel: uid=StringIndexer_47c610f325e3, handleInvalid=keep, numInputCols=3, numOutputCols=3"
      ]
     },
     "metadata": {},
     "output_type": "display_data"
    },
    {
     "data": {
      "text/plain": [
       "OneHotEncoderModel: uid=OneHotEncoder_0e4318b82683, dropLast=true, handleInvalid=error, numInputCols=3, numOutputCols=3"
      ]
     },
     "metadata": {},
     "output_type": "display_data"
    },
    {
     "data": {
      "text/plain": [
       "VectorAssembler_9cf49971179d"
      ]
     },
     "metadata": {},
     "output_type": "display_data"
    },
    {
     "data": {
      "text/plain": [
       "VectorIndexerModel: uid=VectorIndexer_559a76b0d72c, numFeatures=3, handleInvalid=keep"
      ]
     },
     "metadata": {},
     "output_type": "display_data"
    },
    {
     "data": {
      "text/plain": [
       "VectorAssembler_829569e6e978"
      ]
     },
     "metadata": {},
     "output_type": "display_data"
    },
    {
     "data": {
      "text/plain": [
       "MinMaxScalerModel: uid=MinMaxScaler_5185f5358903, numFeatures=5, min=0.0, max=1.0"
      ]
     },
     "metadata": {},
     "output_type": "display_data"
    },
    {
     "data": {
      "text/plain": [
       "VectorAssembler_0725dae1b970"
      ]
     },
     "metadata": {},
     "output_type": "display_data"
    },
    {
     "data": {
      "text/plain": [
       "LogisticRegressionModel: uid=LogisticRegression_fe5f1d43aab5, numClasses=2, numFeatures=157"
      ]
     },
     "metadata": {},
     "output_type": "display_data"
    }
   ],
   "source": [
    "print(\"Best model:\")\n",
    "for stage in cvModel.bestModel.stages:\n",
    "    display (stage)"
   ]
  },
  {
   "cell_type": "code",
   "execution_count": 19,
   "id": "0e920f5e",
   "metadata": {},
   "outputs": [
    {
     "name": "stdout",
     "output_type": "stream",
     "text": [
      "-RECORD 0------------------------------------------------------------------------------------------------\n",
      " PassengerId          | 902                                                                              \n",
      " Pclass               | 3                                                                                \n",
      " Name                 | Ilieff, Mr. Ylio                                                                 \n",
      " Sex                  | male                                                                             \n",
      " Age                  | null                                                                             \n",
      " SibSp                | 0                                                                                \n",
      " Parch                | 0                                                                                \n",
      " Ticket               | 349220                                                                           \n",
      " Fare                 | 7.8958                                                                           \n",
      " Cabin                | null                                                                             \n",
      " Embarked             | S                                                                                \n",
      " Age_out              | 29.69911764705882                                                                \n",
      " Fare_out             | 7.8958                                                                           \n",
      " Sex_idx              | 0.0                                                                              \n",
      " Cabin_idx            | 147.0                                                                            \n",
      " Embarked_idx         | 0.0                                                                              \n",
      " Sex_idx_ohe          | (2,[0],[1.0])                                                                    \n",
      " Cabin_idx_ohe        | (147,[],[])                                                                      \n",
      " Embarked_idx_ohe     | (3,[0],[1.0])                                                                    \n",
      " numeric_features_asm | [3.0,0.0,0.0]                                                                    \n",
      " numeric_cat          | [2.0,0.0,0.0]                                                                    \n",
      " numeric_va_out       | [29.69911764705882,7.8958,2.0,0.0,0.0]                                           \n",
      " numeric_scaled       | [0.36792055349407915,0.015411575213749286,1.0,0.0,0.0]                           \n",
      " features             | (157,[0,149,152,153,154],[1.0,1.0,0.36792055349407915,0.015411575213749286,1.0]) \n",
      " rawPrediction        | [1.7502436597736208,-1.7502436597736208]                                         \n",
      " probability          | [0.8519835319513113,0.14801646804868873]                                         \n",
      " prediction           | 0.0                                                                              \n",
      " Survived             | 0                                                                                \n",
      "\n"
     ]
    }
   ],
   "source": [
    "scored_df_with_label_cv.sample(False, 0.1).limit(1).show(1, truncate=False, vertical=True)"
   ]
  }
 ],
 "metadata": {
  "kernelspec": {
   "display_name": "Python 3",
   "language": "python",
   "name": "python3"
  },
  "language_info": {
   "codemirror_mode": {
    "name": "ipython",
    "version": 3
   },
   "file_extension": ".py",
   "mimetype": "text/x-python",
   "name": "python",
   "nbconvert_exporter": "python",
   "pygments_lexer": "ipython3",
   "version": "3.8.10"
  }
 },
 "nbformat": 4,
 "nbformat_minor": 5
}

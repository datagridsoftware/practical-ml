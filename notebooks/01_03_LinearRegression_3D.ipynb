{
 "cells": [
  {
   "cell_type": "markdown",
   "id": "d88c4803",
   "metadata": {},
   "source": [
    "### Linear Regression 3D\n",
    "\n",
    "Implementation of linear regression with two features"
   ]
  },
  {
   "cell_type": "markdown",
   "id": "1f8d46ba",
   "metadata": {},
   "source": [
    "***\n",
    "#### Environment\n",
    "`conda activate sklearn-env`\n",
    "\n",
    "***\n",
    "#### Goals\n",
    "\n",
    "- Mathematical intuition\n",
    "- Run gradient descent\n",
    "- Visualize cost values during gradient descent run\n",
    "- Visualize (3D) hypothetis during gradient descent run\n",
    "- Predict (score) MPG for the first dataset row  "
   ]
  },
  {
   "cell_type": "markdown",
   "id": "59561f9f",
   "metadata": {},
   "source": [
    "***\n",
    "$\\mathbf{\\text{Multivariate Linear regression - dual features}}$<br>\n",
    "***\n",
    "- #### Hypothesis $$h_{\\theta}(x) = {\\theta}_{0} +{\\theta}_{1}X_{1}+{\\theta}_{2}X_{2}$$ <br> or <br> $$h_{\\theta}(x) = {\\theta}^TX$$\n",
    "\n",
    "- #### Cost function J $$ J(\\theta) = \\frac{1}{2m} \\sum _{i=1} ^{m} (h_{\\theta}(x^{(i)}) - y^{(i)})^2$$\n",
    "\n",
    "- #### Gradient descent <br> \n",
    "  repeat until convergence $${\\theta}_{j} := {\\theta}_{j} - \\alpha \\frac{\\partial}{\\partial \\theta_{j}} J_{\\theta}$$ \n",
    "   <br> or <br>\n",
    "  repeat until convergence { $${\\theta}_{0} := {\\theta}_{0} - \\alpha \\frac{1}{m} \\sum _{i=1} ^{m} (h_{\\theta}(x^{(i)}) - y^{(i)}) $$  <br> $${\\theta}_{1} := {\\theta}_{1} - \\alpha \\frac{1}{m} \\sum _{i=1} ^{m} (h_{\\theta}(x^{(i)}) - y^{(i)})  x^{(i)}_1 $$ <br> $${\\theta}_{2} := {\\theta}_{2} - \\alpha \\frac{1}{m} \\sum _{i=1} ^{m} (h_{\\theta}(x^{(i)}) - y^{(i)})  x^{(i)}_2 $$  }\n",
    "\n",
    "- #### Features scaling $$ x_{i} := \\frac{x_{i} - \\mu_{i}}{s_{i}}$$\n",
    "\n",
    "***"
   ]
  },
  {
   "cell_type": "markdown",
   "id": "b6ca5513",
   "metadata": {},
   "source": [
    "#### Basic python imports for panda (dataframe), numpy (numeric computation), matplotlib (visualization) packages"
   ]
  },
  {
   "cell_type": "code",
   "execution_count": null,
   "id": "6f930d59",
   "metadata": {},
   "outputs": [],
   "source": [
    "import matplotlib.pyplot as plt\n",
    "import numpy as np\n",
    "import pandas as pd\n",
    "\n",
    "\n",
    "# Make numpy printouts easier to read.\n",
    "np.set_printoptions(precision=3, suppress=True)"
   ]
  },
  {
   "cell_type": "markdown",
   "id": "50571ae3",
   "metadata": {},
   "source": [
    "#### Dataset load from CSV located on UCI website.\n",
    "\n",
    "http://archive.ics.uci.edu/ml/machine-learning-databases/auto-mpg/auto-mpg.data  \n",
    "If the URL does not work the dataset can be loaded from the data folder `./data/auto-mpg.data`."
   ]
  },
  {
   "cell_type": "code",
   "execution_count": null,
   "id": "c34081e3",
   "metadata": {},
   "outputs": [],
   "source": [
    "url = 'http://archive.ics.uci.edu/ml/machine-learning-databases/auto-mpg/auto-mpg.data'\n",
    "column_names = ['MPG', 'Cylinders', 'Displacement', 'Horsepower', 'Weight',\n",
    "                'Acceleration', 'Model Year', 'Origin']\n",
    "\n",
    "raw_dataset = pd.read_csv(url, names=column_names,\n",
    "                          na_values='?', comment='\\t',\n",
    "                          sep=' ', skipinitialspace=True)"
   ]
  },
  {
   "cell_type": "markdown",
   "id": "6a2af514",
   "metadata": {},
   "source": [
    "#### Keep original dataset imutabe and copy its content in a new dataset for further changes"
   ]
  },
  {
   "cell_type": "code",
   "execution_count": null,
   "id": "3716913b",
   "metadata": {},
   "outputs": [],
   "source": [
    "dataset = raw_dataset.copy()\n",
    "dataset.tail()"
   ]
  },
  {
   "cell_type": "markdown",
   "id": "231e73a5",
   "metadata": {},
   "source": [
    "#### Display total count of missing values "
   ]
  },
  {
   "cell_type": "code",
   "execution_count": null,
   "id": "7dc892c9",
   "metadata": {},
   "outputs": [],
   "source": [
    "dataset.isna().sum()"
   ]
  },
  {
   "cell_type": "markdown",
   "id": "59f564ea",
   "metadata": {},
   "source": [
    "#### Eliminate missing values from dataset"
   ]
  },
  {
   "cell_type": "code",
   "execution_count": null,
   "id": "47757256",
   "metadata": {},
   "outputs": [],
   "source": [
    "dataset = dataset.dropna()"
   ]
  },
  {
   "cell_type": "markdown",
   "id": "e0ba4f95",
   "metadata": {},
   "source": [
    "#### Use only `MPG` `Weight` and `Horsepower` columns"
   ]
  },
  {
   "cell_type": "code",
   "execution_count": null,
   "id": "06468b42",
   "metadata": {},
   "outputs": [],
   "source": [
    "train_dataset = dataset.drop(['Cylinders', 'Displacement', 'Acceleration', 'Model Year', 'Origin'], axis=1, inplace=False)\n",
    "train_dataset.tail()"
   ]
  },
  {
   "cell_type": "markdown",
   "id": "ca83fa4f",
   "metadata": {},
   "source": [
    "#### Separate features(columns used to predict) and labels (predicted) columns"
   ]
  },
  {
   "cell_type": "code",
   "execution_count": null,
   "id": "544b5f98",
   "metadata": {},
   "outputs": [],
   "source": [
    "train_features = train_dataset.copy()\n",
    "train_labels = train_features.pop('MPG')"
   ]
  },
  {
   "cell_type": "markdown",
   "id": "8c612df0",
   "metadata": {},
   "source": [
    "#### Rescale features column to have values in [0,1] interval"
   ]
  },
  {
   "cell_type": "code",
   "execution_count": null,
   "id": "e2e10800",
   "metadata": {},
   "outputs": [],
   "source": [
    "stats = train_features.describe().transpose()[['mean', 'std', 'count', 'min', 'max']]\n",
    "normalized_train_features = (train_features - stats['mean'].transpose()) /  stats['std'].transpose()\n",
    "normalized_train_features.tail()"
   ]
  },
  {
   "cell_type": "markdown",
   "id": "c22c56f2",
   "metadata": {},
   "source": [
    "#### Insert $X_0$ column as static value (1.0) in order to match $\\theta$ vector length"
   ]
  },
  {
   "cell_type": "code",
   "execution_count": null,
   "id": "275049ed",
   "metadata": {},
   "outputs": [],
   "source": [
    "normalized_ones_features = normalized_train_features.copy()\n",
    "normalized_ones_features.insert(0, 'Oness', 1.0)\n",
    "normalized_ones_features.head()"
   ]
  },
  {
   "cell_type": "markdown",
   "id": "ee133d32",
   "metadata": {},
   "source": [
    "#### Run gradient descent and compute cost at every step "
   ]
  },
  {
   "cell_type": "code",
   "execution_count": null,
   "id": "077286b1",
   "metadata": {},
   "outputs": [],
   "source": [
    "def costFunction(X, y , theta):\n",
    "    m = len(y)\n",
    "    sqHipe = np.matmul(X , theta) - y\n",
    "    cost = (1/(2*m)) * np.sum(sqHipe * sqHipe)\n",
    "    return cost\n",
    "    \n",
    "\n",
    "def gradientDescent(X, y, theta, alpha, num_iter):\n",
    "    m = len(y)\n",
    "    jurnal = np.zeros(num_iter)\n",
    "    theta_jurnal = np.zeros((num_iter, len(theta)))\n",
    "    for iter in range(num_iter):\n",
    "        theta = theta - alpha * (1/m) * np.sum(((np.matmul(X , theta) - y).transpose() * X.transpose()).transpose(), axis=0)\n",
    "        jurnal[iter] = costFunction(X, y, theta)\n",
    "        theta_jurnal[iter] = theta\n",
    "    return theta, jurnal, theta_jurnal\n",
    "\n",
    "\n",
    "theta = np.zeros(len(normalized_ones_features.columns))\n",
    "alpha = 0.01;\n",
    "num_iters = 400;\n",
    "theta , jurnal, theta_jurnal = gradientDescent(normalized_ones_features.to_numpy(), train_labels.to_numpy(), theta, alpha, num_iters);\n",
    "theta\n",
    "print(f\"Hypothesis: h(X)= {theta[0]} + {theta[1]} * X1 +  {theta[2]} * X2 \")\n"
   ]
  },
  {
   "cell_type": "markdown",
   "id": "0f62ee36",
   "metadata": {},
   "source": [
    "#### #### Visualize cost reduction"
   ]
  },
  {
   "cell_type": "code",
   "execution_count": null,
   "id": "08d6bf5a",
   "metadata": {},
   "outputs": [],
   "source": [
    "import matplotlib.pyplot as plt\n",
    "from matplotlib.pyplot import figure\n",
    "\n",
    "figure(figsize=(10, 10), dpi=80)\n",
    "\n",
    "plt.plot(range(num_iters), jurnal)\n",
    "plt.xlabel('Number of iterations' , fontsize=15)\n",
    "plt.ylabel('Cost J' , fontsize=15)\n",
    "plt.show()"
   ]
  },
  {
   "cell_type": "markdown",
   "id": "9a8c6221",
   "metadata": {},
   "source": [
    "#### Visualize (3D) hypothesis plan during gradient descent run "
   ]
  },
  {
   "cell_type": "code",
   "execution_count": null,
   "id": "39b76c21",
   "metadata": {},
   "outputs": [],
   "source": [
    "X = np.linspace(stats['min']['Weight'],stats['max']['Weight'],  2)\n",
    "X_scaled = (X-stats['mean']['Weight']) / stats['std']['Weight']\n",
    "\n",
    "Y = np.linspace(stats['min']['Horsepower'],stats['max']['Horsepower'],  2)\n",
    "Y_scaled = (Y-stats['mean']['Horsepower']) / stats['std']['Horsepower']\n",
    "\n",
    "XY=np.ones((len(X_scaled),len(theta)))\n",
    "XY[:,1:]=X_scaled[:,np.newaxis]\n",
    "XY[:,2:]=Y_scaled[:,np.newaxis]\n",
    "\n",
    "A, B = np.meshgrid(X, Y)\n",
    "\n",
    "z = np.matmul(XY , theta)\n",
    "\n",
    "A, B = np.meshgrid(X, Y)\n",
    "\n",
    "Z = np.ones((2,2))\n",
    "Z_jurnal = np.ones((2,2))\n",
    "\n",
    "Z[0,0]= np.matmul(np.array([1.0, X_scaled[0], Y_scaled[0]]), theta)\n",
    "Z[0,1]= np.matmul(np.array([1.0, X_scaled[0], Y_scaled[1]]), theta)\n",
    "Z[1,0]= np.matmul(np.array([1.0, X_scaled[1], Y_scaled[0]]), theta)\n",
    "Z[1,1]= np.matmul(np.array([1.0, X_scaled[1], Y_scaled[1]]), theta)\n"
   ]
  },
  {
   "cell_type": "code",
   "execution_count": null,
   "id": "cc200a98",
   "metadata": {},
   "outputs": [],
   "source": [
    "class Container:\n",
    "    def __init__(self, surface):\n",
    "        self.surface = surface\n",
    "\n",
    "    def update_surface(self, other):\n",
    "        self.surface = other\n"
   ]
  },
  {
   "cell_type": "code",
   "execution_count": null,
   "id": "aa924c41",
   "metadata": {},
   "outputs": [],
   "source": [
    "import matplotlib.animation\n",
    "\n",
    "fig = plt.figure(figsize=(10, 10), dpi=80)\n",
    "ax = fig.add_subplot(111, projection='3d')\n",
    "ax.set_title('Theta variance')\n",
    "\n",
    "ax.set_xlabel(r'Weight', fontsize=15)\n",
    "ax.set_ylabel(r'Horsepower', fontsize=15)\n",
    "ax.set_zlabel(r'MPG', fontsize=15)\n",
    "\n",
    "ax.scatter(train_features['Weight'], train_features['Horsepower'] ,train_labels)\n",
    "\n",
    "#ax.legend(loc=\"upper left\",  shadow=True, title=\"Legend\")\n",
    "#ax.get_legend().get_title().set_color(\"red\")\n",
    "\n",
    "ax = fig.gca()\n",
    "\n",
    "surf = ax.plot_surface(A, B, Z, color = 'b' #, cmap=cm.coolwarm\n",
    "                       ,linewidth=0, antialiased=False, alpha=0.4, label=\"Theta \"+ str(theta))\n",
    "\n",
    "surf_other = ax.plot_surface(A, B, Z_jurnal, color = 'r' #, cmap=cm.coolwarm\n",
    "                       ,linewidth=0, antialiased=False, alpha=0.3, label=\"Theta []\")\n",
    "container = Container(surf_other)\n",
    "\n",
    "def animate(i):\n",
    "    Z_jurnal[0,0]= np.matmul(np.array([1.0, X_scaled[0], Y_scaled[0]]), theta_jurnal[i*8])\n",
    "    Z_jurnal[0,1]= np.matmul(np.array([1.0, X_scaled[0], Y_scaled[1]]), theta_jurnal[i*8])\n",
    "    Z_jurnal[1,0]= np.matmul(np.array([1.0, X_scaled[1], Y_scaled[0]]), theta_jurnal[i*8])\n",
    "    Z_jurnal[1,1]= np.matmul(np.array([1.0, X_scaled[1], Y_scaled[1]]), theta_jurnal[i*8])\n",
    "\n",
    "    #surf_other.set_data(A, B,  Z_jurnal)\n",
    "    #ax.clear\n",
    "    container.surface.remove()\n",
    "    container.update_surface( ax.plot_surface(A, B, Z_jurnal, color = 'r' #, cmap=cm.coolwarm\n",
    "                                 ,linewidth=0, antialiased=False, alpha=0.2, label=\"Theta: \"+ str(theta_jurnal[i*8])))\n",
    "\n",
    "ani = matplotlib.animation.FuncAnimation(fig, animate, frames=int(num_iters/8))\n",
    "\n",
    "from IPython.display import HTML\n",
    "anim = HTML(ani.to_jshtml())\n",
    "anim"
   ]
  },
  {
   "cell_type": "code",
   "execution_count": null,
   "id": "29466bb6",
   "metadata": {},
   "outputs": [],
   "source": [
    "score_input = (train_features.head(1).to_numpy()[0] -  stats['mean'].transpose()) /  stats['std'].transpose();\n",
    "score_elem = np.insert(score_input.to_numpy(),0,1,axis=0)"
   ]
  },
  {
   "cell_type": "code",
   "execution_count": null,
   "id": "652252c4",
   "metadata": {},
   "outputs": [],
   "source": [
    "test_mpg = np.matmul(score_elem , theta)\n",
    "print(\"Predicted MPG:\" ,test_mpg,  \" actual value \", train_labels.head(1).to_numpy()[0])"
   ]
  }
 ],
 "metadata": {
  "kernelspec": {
   "display_name": "Python 3",
   "language": "python",
   "name": "python3"
  },
  "language_info": {
   "codemirror_mode": {
    "name": "ipython",
    "version": 3
   },
   "file_extension": ".py",
   "mimetype": "text/x-python",
   "name": "python",
   "nbconvert_exporter": "python",
   "pygments_lexer": "ipython3",
   "version": "3.8.10"
  }
 },
 "nbformat": 4,
 "nbformat_minor": 5
}

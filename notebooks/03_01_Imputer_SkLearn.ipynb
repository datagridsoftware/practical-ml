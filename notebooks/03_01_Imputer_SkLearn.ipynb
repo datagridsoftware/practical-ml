{
 "cells": [
  {
   "cell_type": "markdown",
   "id": "2a54c098",
   "metadata": {},
   "source": [
    "### Feature engineering - Imputers\n",
    "scikit learn SimplerImputer on the Titanic dataset "
   ]
  },
  {
   "cell_type": "markdown",
   "id": "f4807dcf",
   "metadata": {},
   "source": [
    "***\n",
    "#### Environment\n",
    "`conda activate sklearn-env`\n",
    "\n",
    "***\n",
    "#### Goals\n",
    "- Replace continuous missing values with mean value of all the other elements from corresponsing columns \n",
    "- Replace discrete or categorical missing values with most frequent value from the same column. \n",
    "\n",
    "***\n",
    "#### References\n",
    "https://scikit-learn.org/stable/modules/generated/sklearn.impute.SimpleImputer.html\n"
   ]
  },
  {
   "cell_type": "markdown",
   "id": "8522b092",
   "metadata": {},
   "source": [
    "#### Basic python imports"
   ]
  },
  {
   "cell_type": "code",
   "execution_count": null,
   "id": "7263d2a7",
   "metadata": {},
   "outputs": [],
   "source": [
    "import matplotlib.pyplot as plt\n",
    "import numpy as np\n",
    "import pandas as pd\n",
    "import random\n",
    "import seaborn as sns\n",
    "\n",
    "# Make numpy printouts easier to read.\n",
    "np.set_printoptions(precision=3, suppress=True)"
   ]
  },
  {
   "cell_type": "markdown",
   "id": "ff2e7a87",
   "metadata": {},
   "source": [
    "#### Dataset load using sklearn API from https://www.openml.org site\n",
    "\n",
    "https://www.openml.org/d/40945"
   ]
  },
  {
   "cell_type": "code",
   "execution_count": null,
   "id": "9908bd4e",
   "metadata": {},
   "outputs": [],
   "source": [
    "from sklearn.datasets import fetch_openml\n",
    "\n",
    "# Load data from https://www.openml.org/d/40945\n",
    "raw_dataset = fetch_openml(\"titanic\", version=1, as_frame=True).frame\n",
    "dataset = raw_dataset.copy()\n",
    "dataset.head(10)"
   ]
  },
  {
   "cell_type": "code",
   "execution_count": null,
   "id": "e886eaa1",
   "metadata": {},
   "outputs": [],
   "source": [
    "dataset.drop(['boat', 'body', 'home.dest'],  axis=1, inplace=True)\n",
    "dataset"
   ]
  },
  {
   "cell_type": "markdown",
   "id": "1e5ada0d",
   "metadata": {},
   "source": [
    "### Verify missing data in dataset\n",
    "\n",
    "Notice:\n",
    "- missing values in `age` , `fare`, `cabin` and `embarked` fields.\n",
    "- `age` and `fare` fields - continuous\n",
    "- `cabin` and `embarked` fields - categorical"
   ]
  },
  {
   "cell_type": "code",
   "execution_count": null,
   "id": "f5c71d72",
   "metadata": {},
   "outputs": [],
   "source": [
    "dataset.isna().sum()"
   ]
  },
  {
   "cell_type": "code",
   "execution_count": null,
   "id": "e2192e89",
   "metadata": {},
   "outputs": [],
   "source": [
    "sns.set(rc={'figure.figsize':(15,15)})\n",
    "sns.heatmap(dataset.isnull(), cbar = False).set_title(\"Missing values heatmap\")"
   ]
  },
  {
   "cell_type": "code",
   "execution_count": null,
   "id": "86db8c2c",
   "metadata": {},
   "outputs": [],
   "source": [
    "from sklearn.impute import SimpleImputer\n",
    "\n",
    "imputerAge = SimpleImputer(strategy='median').fit(dataset[['age', 'fare']])"
   ]
  },
  {
   "cell_type": "code",
   "execution_count": null,
   "id": "578c885f",
   "metadata": {},
   "outputs": [],
   "source": [
    "dataset[['age', 'fare']] = imputerAge.transform(dataset[['age', 'fare']])"
   ]
  },
  {
   "cell_type": "code",
   "execution_count": null,
   "id": "13c25533",
   "metadata": {},
   "outputs": [],
   "source": [
    "dataset.isna().sum()"
   ]
  },
  {
   "cell_type": "code",
   "execution_count": null,
   "id": "9f6bd8dd",
   "metadata": {},
   "outputs": [],
   "source": [
    "sns.set(rc={'figure.figsize':(15,15)})\n",
    "sns.heatmap(dataset.isnull(), cbar = False).set_title(\"Missing values heatmap\")"
   ]
  },
  {
   "cell_type": "code",
   "execution_count": null,
   "id": "0de5a8c7",
   "metadata": {},
   "outputs": [],
   "source": [
    "from sklearn.impute import SimpleImputer\n",
    "\n",
    "imputer_embarked = SimpleImputer(missing_values=np.NaN, \n",
    "                                 strategy='most_frequent').fit(dataset[['embarked']])"
   ]
  },
  {
   "cell_type": "code",
   "execution_count": null,
   "id": "a9e8fb10",
   "metadata": {},
   "outputs": [],
   "source": [
    "dataset[['embarked']] = imputer_embarked.transform(dataset[['embarked']])"
   ]
  },
  {
   "cell_type": "code",
   "execution_count": null,
   "id": "a2c7f821",
   "metadata": {},
   "outputs": [],
   "source": [
    "from sklearn.impute import SimpleImputer\n",
    "\n",
    "dataset[['cabin']] = SimpleImputer(missing_values=None, \n",
    "                                   strategy='constant', \n",
    "                                   fill_value='unknown_cabin').fit_transform(dataset[['cabin']])"
   ]
  },
  {
   "cell_type": "code",
   "execution_count": null,
   "id": "4471cbbc",
   "metadata": {},
   "outputs": [],
   "source": [
    "dataset.isna().sum()"
   ]
  },
  {
   "cell_type": "markdown",
   "id": "15a74c29",
   "metadata": {},
   "source": [
    "Notice replaced values in dataset"
   ]
  },
  {
   "cell_type": "code",
   "execution_count": null,
   "id": "ade2b1a6",
   "metadata": {},
   "outputs": [],
   "source": [
    "dataset.sample(20)"
   ]
  }
 ],
 "metadata": {
  "kernelspec": {
   "display_name": "Python 3",
   "language": "python",
   "name": "python3"
  },
  "language_info": {
   "codemirror_mode": {
    "name": "ipython",
    "version": 3
   },
   "file_extension": ".py",
   "mimetype": "text/x-python",
   "name": "python",
   "nbconvert_exporter": "python",
   "pygments_lexer": "ipython3",
   "version": "3.8.10"
  }
 },
 "nbformat": 4,
 "nbformat_minor": 5
}

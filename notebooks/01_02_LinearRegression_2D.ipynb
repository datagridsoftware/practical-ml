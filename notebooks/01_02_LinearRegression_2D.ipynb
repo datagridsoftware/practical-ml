{
 "cells": [
  {
   "cell_type": "markdown",
   "id": "0ccf18a9",
   "metadata": {},
   "source": [
    "### Linear Regression 2D\n",
    "\n",
    "Implementation of linear regression with a single feature"
   ]
  },
  {
   "cell_type": "markdown",
   "id": "b8a75365",
   "metadata": {},
   "source": [
    "***\n",
    "#### Environment\n",
    "`conda activate sklearn-env`\n",
    "\n",
    "***\n",
    "#### Goals\n",
    "\n",
    "- Mathematical intuition\n",
    "- Run gradient descent\n",
    "- Visualize cost values during gradient descent run\n",
    "- Visualize (2D) hypothetis during gradient descent run\n",
    "- Predict (score) MPG for the first dataset row  "
   ]
  },
  {
   "cell_type": "markdown",
   "id": "62754ad5",
   "metadata": {},
   "source": [
    "***\n",
    "$\\mathbf{\\text{Univariate Linear regression}}$<br>\n",
    "***\n",
    "- #### Hypothesis $$h_{\\theta}(x) = {\\theta}_{0} +{\\theta}_{1}X_{1}$$ <br> or <br> $$h_{\\theta}(x) = {\\theta}^TX$$\n",
    "\n",
    "- #### Cost function J $$ J(\\theta) = \\frac{1}{2m} \\sum _{i=1} ^{m} (h_{\\theta}(x^{(i)}) - y^{(i)})^2$$\n",
    "\n",
    "- Gradient descent <br> \n",
    "  repeat until convergence $${\\theta}_{j} := {\\theta}_{j} - \\alpha \\frac{\\partial}{\\partial \\theta_{j}} J_{\\theta}$$ \n",
    "   <br> or <br>\n",
    "  repeat until convergence { $${\\theta}_{0} := {\\theta}_{0} - \\alpha \\frac{1}{m} \\sum _{i=1} ^{m} (h_{\\theta}(x^{(i)}) - y^{(i)}) $$  <br> $${\\theta}_{1} := {\\theta}_{1} - \\alpha \\frac{1}{m} \\sum _{i=1} ^{m} (h_{\\theta}(x^{(i)}) - y^{(i)})  x^{(i)}_1 $$ }\n",
    "\n",
    "- Features scaling $$ x_{i} := \\frac{x_{i} - \\mu_{i}}{s_{i}}$$\n",
    "\n",
    "***"
   ]
  },
  {
   "cell_type": "markdown",
   "id": "f05b5168",
   "metadata": {},
   "source": [
    "#### Basic python imports for panda (dataframe), numpy (numeric computation), matplotlib (visualization) packages"
   ]
  },
  {
   "cell_type": "code",
   "execution_count": null,
   "id": "697b7bd0",
   "metadata": {},
   "outputs": [],
   "source": [
    "import matplotlib.pyplot as plt\n",
    "import numpy as np\n",
    "import pandas as pd\n",
    "\n",
    "\n",
    "# Make numpy printouts easier to read.\n",
    "np.set_printoptions(precision=3, suppress=True)"
   ]
  },
  {
   "cell_type": "markdown",
   "id": "df4a51ac",
   "metadata": {},
   "source": [
    "#### Dataset load from CSV located on UCI website.\n",
    "\n",
    "http://archive.ics.uci.edu/ml/machine-learning-databases/auto-mpg/auto-mpg.data  \n",
    "If the URL does not work the dataset can be loaded from the data folder `./data/auto-mpg.data`."
   ]
  },
  {
   "cell_type": "code",
   "execution_count": null,
   "id": "343c868e",
   "metadata": {},
   "outputs": [],
   "source": [
    "url = 'http://archive.ics.uci.edu/ml/machine-learning-databases/auto-mpg/auto-mpg.data'\n",
    "column_names = ['MPG', 'Cylinders', 'Displacement', 'Horsepower', 'Weight',\n",
    "                'Acceleration', 'Model Year', 'Origin']\n",
    "\n",
    "raw_dataset = pd.read_csv(url, names=column_names,\n",
    "                          na_values='?', comment='\\t',\n",
    "                          sep=' ', skipinitialspace=True)"
   ]
  },
  {
   "cell_type": "markdown",
   "id": "ebd65193",
   "metadata": {},
   "source": [
    "#### Keep original dataset imutabe and copy its content in a new dataset for further changes"
   ]
  },
  {
   "cell_type": "code",
   "execution_count": null,
   "id": "e3901057",
   "metadata": {},
   "outputs": [],
   "source": [
    "dataset = raw_dataset.copy()\n",
    "dataset.tail()"
   ]
  },
  {
   "cell_type": "markdown",
   "id": "4d8bd4a4",
   "metadata": {},
   "source": [
    "#### Display total count of missing values "
   ]
  },
  {
   "cell_type": "code",
   "execution_count": null,
   "id": "f5f0ee57",
   "metadata": {},
   "outputs": [],
   "source": [
    "dataset.isna().sum()"
   ]
  },
  {
   "cell_type": "markdown",
   "id": "e37e6ddd",
   "metadata": {},
   "source": [
    "#### Eliminate missing values from dataset"
   ]
  },
  {
   "cell_type": "code",
   "execution_count": null,
   "id": "48ab4da5",
   "metadata": {},
   "outputs": [],
   "source": [
    "dataset = dataset.dropna()"
   ]
  },
  {
   "cell_type": "markdown",
   "id": "4206fac2",
   "metadata": {},
   "source": [
    "#### Use only `MPG` and `Weight` columns"
   ]
  },
  {
   "cell_type": "code",
   "execution_count": null,
   "id": "83b09a18",
   "metadata": {},
   "outputs": [],
   "source": [
    "train_dataset = dataset[['MPG', 'Weight']]\n",
    "#train_dataset = dataset.drop(['Cylinders', 'Displacement', 'Horsepower', 'Acceleration', 'Model Year', 'Origin'], axis=1, inplace=False)\n",
    "train_dataset.tail()"
   ]
  },
  {
   "cell_type": "markdown",
   "id": "2f0cf761",
   "metadata": {},
   "source": [
    "#### Separate features(columns used to predict) and labels (predicted) columns"
   ]
  },
  {
   "cell_type": "code",
   "execution_count": null,
   "id": "5119415e",
   "metadata": {},
   "outputs": [],
   "source": [
    "train_features = train_dataset.copy()\n",
    "train_labels = train_features.pop('MPG')"
   ]
  },
  {
   "cell_type": "markdown",
   "id": "6af53b1c",
   "metadata": {},
   "source": [
    "#### Rescale features column to have values in [0,1] interval"
   ]
  },
  {
   "cell_type": "code",
   "execution_count": null,
   "id": "d4f243dc",
   "metadata": {},
   "outputs": [],
   "source": [
    "stats = train_features.describe().transpose()[['mean', 'std', 'count', 'min', 'max']]\n",
    "normalized_train_features = (train_features - stats['mean'].transpose()) /  stats['std'].transpose()\n",
    "normalized_train_features.tail()"
   ]
  },
  {
   "cell_type": "markdown",
   "id": "ea8c75bf",
   "metadata": {},
   "source": [
    "#### Insert $X_0$ column as static value (1.0) in order to match $\\theta$ vector length"
   ]
  },
  {
   "cell_type": "code",
   "execution_count": null,
   "id": "ecd45681",
   "metadata": {},
   "outputs": [],
   "source": [
    "normalized_ones_features = normalized_train_features.copy()\n",
    "normalized_ones_features.insert(0, 'Oness', 1.0)\n",
    "normalized_ones_features.head()"
   ]
  },
  {
   "cell_type": "markdown",
   "id": "8c7b05f2",
   "metadata": {},
   "source": [
    "#### Run gradient descent and compute cost at every step "
   ]
  },
  {
   "cell_type": "code",
   "execution_count": null,
   "id": "27b7d4b9",
   "metadata": {},
   "outputs": [],
   "source": [
    "def costFunction(X, y , theta):\n",
    "    m = len(y)\n",
    "    sqHipe = np.matmul(X , theta) - y\n",
    "    cost = (1/(2*m)) * np.sum(sqHipe * sqHipe)\n",
    "    return cost\n",
    "    \n",
    "\n",
    "def gradientDescent(X, y, theta, alpha, num_iter):\n",
    "    m = len(y)\n",
    "    jurnal = np.zeros(num_iter)\n",
    "    theta_jurnal = np.zeros((num_iter, len(theta)))\n",
    "    for iter in range(num_iter):\n",
    "        theta = theta - alpha * (1/m) * np.sum(((np.matmul(X , theta) - y).transpose() * X.transpose()).transpose(), axis=0)\n",
    "        jurnal[iter] = costFunction(X, y, theta)\n",
    "        theta_jurnal[iter] = theta\n",
    "    return theta, jurnal, theta_jurnal\n",
    "\n",
    "\n",
    "theta = np.zeros(len(normalized_ones_features.columns))\n",
    "alpha = 0.01;\n",
    "num_iters = 400;\n",
    "theta , jurnal, theta_jurnal = gradientDescent(normalized_ones_features.to_numpy(), train_labels.to_numpy(), theta, alpha, num_iters);\n",
    "print(f\"Hypothesis: h(X)= {theta[0]} + {theta[1]} * X\")\n"
   ]
  },
  {
   "cell_type": "markdown",
   "id": "deaabe32",
   "metadata": {},
   "source": [
    "#### Visualize cost reduction"
   ]
  },
  {
   "cell_type": "code",
   "execution_count": null,
   "id": "b4013a5d",
   "metadata": {},
   "outputs": [],
   "source": [
    "import matplotlib.pyplot as plt\n",
    "from matplotlib.pyplot import figure\n",
    "\n",
    "figure(figsize=(10, 10), dpi=80)\n",
    "\n",
    "plt.plot(range(num_iters), jurnal)\n",
    "plt.xlabel('Number of iterations' , fontsize=15)\n",
    "plt.ylabel('Cost J' , fontsize=15)\n",
    "plt.show()"
   ]
  },
  {
   "cell_type": "markdown",
   "id": "d5a5fc21",
   "metadata": {},
   "source": [
    "#### Visualize hypothesis during gradient descent run "
   ]
  },
  {
   "cell_type": "code",
   "execution_count": null,
   "id": "9bb760ca",
   "metadata": {},
   "outputs": [],
   "source": [
    "draw_range = np.linspace(stats['min']['Weight'],stats['max']['Weight'],  stats['count']['Weight'].astype(int))\n",
    "draw_range_scaled = (draw_range-stats['mean']['Weight']) / stats['std']['Weight']\n",
    "X=np.ones((len(draw_range_scaled),len(theta)))\n",
    "X.shape\n",
    "X[:,1:]=draw_range_scaled[:,np.newaxis]\n",
    "y = np.matmul(X , theta)\n",
    "\n",
    "y_jurnal = np.matmul(X , theta_jurnal.transpose())\n"
   ]
  },
  {
   "cell_type": "code",
   "execution_count": null,
   "id": "3b3fd822",
   "metadata": {},
   "outputs": [],
   "source": [
    "import matplotlib.pyplot as plt\n",
    "import matplotlib.animation\n",
    "import numpy as np\n",
    "\n",
    "fig, ax = plt.subplots(figsize=(10, 10), dpi=80)\n",
    "ax.set_title('Hypothesis optimization')\n",
    "\n",
    "ax.set_xlabel(r'Weight', fontsize=15)\n",
    "ax.set_ylabel(r'MPG', fontsize=15)\n",
    "\n",
    "ax.scatter(train_features,train_labels)\n",
    "final_line, = ax.plot(draw_range,y, color='b', label=\"Theta \"+ str(theta))\n",
    "\n",
    "l, = ax.plot([],[], color='r', label=\"Hypothesis optimization\")\n",
    "\n",
    "ax.legend(loc=\"upper left\",  shadow=True, title=\"Legend\")\n",
    "ax.get_legend().get_title().set_color(\"red\")\n",
    "\n",
    "def animate(i):\n",
    "    l.set_data(draw_range,  y_jurnal[:,i*8])\n",
    "    l.set_label(\"Theta: \"+ str(theta_jurnal[i*8]))\n",
    "    ax.legend()\n",
    "\n",
    "ani = matplotlib.animation.FuncAnimation(fig, animate, frames=int(num_iters/8))\n",
    "\n",
    "from IPython.display import HTML\n",
    "anim = HTML(ani.to_jshtml())\n",
    "\n",
    "anim\n",
    "\n",
    "#HTML(ani.to_html5_video())"
   ]
  },
  {
   "cell_type": "markdown",
   "id": "16f2f89f",
   "metadata": {},
   "source": [
    "#### Predict `MPG` for the first element from dataset based on car `Weight`"
   ]
  },
  {
   "cell_type": "code",
   "execution_count": null,
   "id": "242baa73",
   "metadata": {},
   "outputs": [],
   "source": [
    "score_input = (train_features.head(1).to_numpy()[0] -  stats['mean'].transpose()) /  stats['std'].transpose();\n",
    "score_elem = np.insert(score_input.to_numpy(),0,1,axis=0)"
   ]
  },
  {
   "cell_type": "code",
   "execution_count": null,
   "id": "8e3e7302",
   "metadata": {},
   "outputs": [],
   "source": [
    "test_mpg = np.matmul(score_elem , theta)\n",
    "print(\"Predicted MPG:\" ,test_mpg,  \" actual value \", train_labels.head(1).to_numpy()[0])"
   ]
  },
  {
   "cell_type": "code",
   "execution_count": null,
   "id": "10990a56",
   "metadata": {},
   "outputs": [],
   "source": []
  }
 ],
 "metadata": {
  "kernelspec": {
   "display_name": "Python 3",
   "language": "python",
   "name": "python3"
  },
  "language_info": {
   "codemirror_mode": {
    "name": "ipython",
    "version": 3
   },
   "file_extension": ".py",
   "mimetype": "text/x-python",
   "name": "python",
   "nbconvert_exporter": "python",
   "pygments_lexer": "ipython3",
   "version": "3.8.10"
  }
 },
 "nbformat": 4,
 "nbformat_minor": 5
}

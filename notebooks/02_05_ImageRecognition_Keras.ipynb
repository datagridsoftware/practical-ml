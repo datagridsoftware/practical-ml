{
 "cells": [
  {
   "cell_type": "markdown",
   "id": "fcc265c1",
   "metadata": {},
   "source": [
    "### Image Recognition with Keras\n",
    "CNN with Keras on the MNIST dataset"
   ]
  },
  {
   "cell_type": "markdown",
   "id": "54c783d9",
   "metadata": {},
   "source": [
    "***\n",
    "#### Environment\n",
    "`conda activate tf-env`\n",
    "\n",
    "***\n",
    "#### Goals\n",
    "- Build a neural network model\n",
    "- Observe time taken to train\n",
    "- Observe ease of use\n",
    "- Experiment predicting on samples from test data\n",
    "\n",
    "***\n",
    "#### References:\n",
    "https://keras.io/examples/vision/mnist_convnet/"
   ]
  },
  {
   "cell_type": "markdown",
   "id": "1d7f7d45",
   "metadata": {},
   "source": [
    "#### Basic python imports"
   ]
  },
  {
   "cell_type": "code",
   "execution_count": null,
   "id": "9ba4a0fc",
   "metadata": {},
   "outputs": [],
   "source": [
    "import numpy as np\n",
    "import random\n",
    "from tensorflow import keras\n",
    "from tensorflow.keras import layers\n",
    "import matplotlib.pyplot as plt"
   ]
  },
  {
   "cell_type": "markdown",
   "id": "14a63a00",
   "metadata": {},
   "source": [
    "#### Load and prepare data\n",
    "\n",
    "Predefined dataset consisting in 6000 28x28 images for train and 1000 28x28 images for test"
   ]
  },
  {
   "cell_type": "code",
   "execution_count": null,
   "id": "d5f96bc3",
   "metadata": {},
   "outputs": [],
   "source": [
    "# Model / data parameters\n",
    "num_classes = 10\n",
    "input_shape = (28, 28, 1)\n",
    "\n",
    "# the data, split between train and test sets\n",
    "(x_train, y_train), (x_test, y_test) = keras.datasets.mnist.load_data()\n",
    "\n",
    "# Scale images to the [0, 1] range\n",
    "x_train = x_train.astype(\"float32\") / 255\n",
    "x_test = x_test.astype(\"float32\") / 255\n",
    "# Make sure images have shape (28, 28, 1)\n",
    "x_train = np.expand_dims(x_train, -1)\n",
    "x_test = np.expand_dims(x_test, -1)\n",
    "print(\"x_train shape:\", x_train.shape)\n",
    "print(x_train.shape[0], \"train samples\")\n",
    "print(x_test.shape[0], \"test samples\")\n",
    "\n",
    "\n",
    "# convert class vectors to binary class matrices\n",
    "y_train = keras.utils.to_categorical(y_train, num_classes)\n",
    "y_test = keras.utils.to_categorical(y_test, num_classes)"
   ]
  },
  {
   "cell_type": "markdown",
   "id": "312f47d5",
   "metadata": {},
   "source": [
    "#### Define the Neural Network's Architecture\n",
    "\n",
    "This is a multiclass classification, hence Softmax is used on the last layer."
   ]
  },
  {
   "cell_type": "code",
   "execution_count": null,
   "id": "77e43cbc",
   "metadata": {},
   "outputs": [],
   "source": [
    "model = keras.Sequential(\n",
    "    [\n",
    "        keras.layers.Input(shape=input_shape),\n",
    "        layers.Conv2D(32, kernel_size=(3, 3), activation=\"relu\"),\n",
    "        layers.MaxPooling2D(pool_size=(2, 2)),\n",
    "        layers.Conv2D(64, kernel_size=(3, 3), activation=\"relu\"),\n",
    "        layers.MaxPooling2D(pool_size=(2, 2)),\n",
    "        layers.Flatten(),\n",
    "        layers.Dropout(0.5),\n",
    "        layers.Dense(num_classes, activation=\"softmax\"),\n",
    "    ]\n",
    ")\n",
    "\n",
    "model.summary()"
   ]
  },
  {
   "cell_type": "markdown",
   "id": "5523e087",
   "metadata": {},
   "source": [
    "#### Train the model\n",
    "\n",
    "Observe time taken for a small data set of 6000 28x28 images"
   ]
  },
  {
   "cell_type": "code",
   "execution_count": null,
   "id": "76c085f2",
   "metadata": {},
   "outputs": [],
   "source": [
    "batch_size = 128\n",
    "epochs = 3 # use 15 for a better model\n",
    "\n",
    "model.compile(loss=\"categorical_crossentropy\", optimizer=\"adam\", metrics=[\"accuracy\"])\n",
    "\n",
    "model.fit(x_train, y_train, batch_size=batch_size, epochs=epochs, validation_split=0.1)"
   ]
  },
  {
   "cell_type": "markdown",
   "id": "c5e49695",
   "metadata": {},
   "source": [
    "#### Run on test data\n",
    "\n",
    "Asses model qulity on the test dataset"
   ]
  },
  {
   "cell_type": "code",
   "execution_count": null,
   "id": "95e7de62",
   "metadata": {},
   "outputs": [],
   "source": [
    "score = model.evaluate(x_test, y_test, verbose=0)\n",
    "predictions = model.predict(x_test)\n",
    "print(\"Test loss:\", score[0])\n",
    "print(\"Test accuracy:\", score[1])"
   ]
  },
  {
   "cell_type": "markdown",
   "id": "6800a58c",
   "metadata": {},
   "source": [
    "#### Pick a random sample"
   ]
  },
  {
   "cell_type": "code",
   "execution_count": null,
   "id": "7e8fb3b5",
   "metadata": {},
   "outputs": [],
   "source": [
    "test_digit = random.randint(1, 1000)\n",
    "print(\"Using test digit sample\", test_digit)\n",
    "plt.imshow(x_test[test_digit])"
   ]
  },
  {
   "cell_type": "markdown",
   "id": "6a4cd5e5",
   "metadata": {},
   "source": [
    "#### Make the prediction on the sample"
   ]
  },
  {
   "cell_type": "code",
   "execution_count": null,
   "id": "6b474cd0",
   "metadata": {},
   "outputs": [],
   "source": [
    "prediction = predictions[test_digit]\n",
    "\n",
    "index_min = np.argmax(predictions[test_digit])\n",
    "print( \"Max probability: \", max(predictions[test_digit]))\n",
    "print( \"I reckon the digit is: \", index_min)       "
   ]
  },
  {
   "cell_type": "code",
   "execution_count": null,
   "id": "ffca6146",
   "metadata": {},
   "outputs": [],
   "source": []
  }
 ],
 "metadata": {
  "kernelspec": {
   "display_name": "Python 3",
   "language": "python",
   "name": "python3"
  },
  "language_info": {
   "codemirror_mode": {
    "name": "ipython",
    "version": 3
   },
   "file_extension": ".py",
   "mimetype": "text/x-python",
   "name": "python",
   "nbconvert_exporter": "python",
   "pygments_lexer": "ipython3",
   "version": "3.8.10"
  }
 },
 "nbformat": 4,
 "nbformat_minor": 5
}

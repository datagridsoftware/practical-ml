{
 "cells": [
  {
   "cell_type": "markdown",
   "id": "d4313799",
   "metadata": {},
   "source": [
    "### Cross validation for logistic regression\n",
    "Cross validation with sklearm for logistic regression on the Titanic dataset"
   ]
  },
  {
   "cell_type": "markdown",
   "id": "7a9b2108",
   "metadata": {},
   "source": [
    "***\n",
    "#### Environment\n",
    "`conda activate sklearn-env`\n",
    "\n",
    "***\n",
    "#### Goals\n",
    "- Build a pipeline\n",
    "- Use the pipeline to transform data\n",
    "- Use the pipeline to predict\n",
    "- Run cross validation on generated pipeline model and display default score metrics for each fold\n",
    "\n",
    "***\n",
    "#### References\n",
    "\n",
    "https://scikit-learn.org/stable/modules/generated/sklearn.preprocessing.OneHotEncoder.html\n",
    "\n",
    "https://scikit-learn.org/stable/auto_examples/compose/plot_column_transformer_mixed_types.html\n",
    "\n",
    "https://scikit-learn.org/stable/modules/generated/sklearn.preprocessing.MinMaxScaler.html\n",
    "\n",
    "https://scikit-learn.org/stable/modules/generated/sklearn.linear_model.LinearRegression.html\n",
    "\n",
    "https://scikit-learn.org/stable/modules/generated/sklearn.pipeline.Pipeline.html\n",
    "\n",
    "https://scikit-learn.org/stable/modules/cross_validation.html\n",
    "\n"
   ]
  },
  {
   "cell_type": "code",
   "execution_count": null,
   "id": "61478e57",
   "metadata": {},
   "outputs": [],
   "source": [
    "import matplotlib.pyplot as plt\n",
    "import numpy as np\n",
    "import pandas as pd\n",
    "import seaborn as sns\n",
    "import random\n",
    "\n",
    "\n",
    "# Make numpy printouts easier to read.\n",
    "np.set_printoptions(precision=3, suppress=True)"
   ]
  },
  {
   "cell_type": "markdown",
   "id": "52fcc7b0",
   "metadata": {},
   "source": [
    "#### Dataset load from CSV located on UCI website.\n",
    "\n",
    "http://archive.ics.uci.edu/ml/machine-learning-databases/auto-mpg/auto-mpg.data  \n",
    "If the URL does not work the dataset can be loaded from the data folder `./data/auto-mpg.data`."
   ]
  },
  {
   "cell_type": "code",
   "execution_count": null,
   "id": "fa69154c",
   "metadata": {
    "scrolled": false
   },
   "outputs": [],
   "source": [
    "from sklearn.datasets import fetch_openml\n",
    "\n",
    "# Load data from https://www.openml.org/d/40945\n",
    "raw_dataset = fetch_openml(\"titanic\", version=1, as_frame=True).frame\n",
    "dataset = raw_dataset.copy()\n",
    "dataset.head(10)"
   ]
  },
  {
   "cell_type": "code",
   "execution_count": null,
   "id": "46b34939",
   "metadata": {},
   "outputs": [],
   "source": [
    "dataset.drop(['boat', 'body', 'home.dest', 'fare', 'cabin'],  axis=1, inplace=True)"
   ]
  },
  {
   "cell_type": "markdown",
   "id": "87d0fb4f",
   "metadata": {},
   "source": [
    "### Dataset split\n",
    "- row base in test and train datasets\n",
    "- column base in features and labels"
   ]
  },
  {
   "cell_type": "code",
   "execution_count": null,
   "id": "bfa0f99f",
   "metadata": {},
   "outputs": [],
   "source": [
    "train_dataset = dataset.sample(frac=0.8, random_state=random.randint(0, 1000))\n",
    "test_dataset = dataset.drop(train_dataset.index)\n",
    "\n",
    "train_features = train_dataset.copy()\n",
    "test_features = test_dataset.copy()\n",
    "\n",
    "train_labels = train_features.pop('survived')\n",
    "test_labels = test_features.pop('survived')\n",
    "\n",
    "test_labels.reset_index(drop=True, inplace=True)"
   ]
  },
  {
   "cell_type": "markdown",
   "id": "7973f31a",
   "metadata": {},
   "source": [
    "#### Build the pipeline"
   ]
  },
  {
   "cell_type": "code",
   "execution_count": null,
   "id": "289963a0",
   "metadata": {
    "scrolled": true
   },
   "outputs": [],
   "source": [
    "from sklearn.preprocessing import MinMaxScaler\n",
    "from sklearn.impute import SimpleImputer\n",
    "from sklearn.preprocessing import OneHotEncoder,OrdinalEncoder\n",
    "from sklearn.compose import ColumnTransformer\n",
    "from sklearn.preprocessing import FunctionTransformer\n",
    "\n",
    "from sklearn.pipeline import Pipeline\n",
    "\n",
    "numeric_features = ['age', 'sibsp', 'parch']\n",
    "numeric_transformer = Pipeline(steps=[\n",
    "    ('imputer', SimpleImputer(strategy='median')),\n",
    "    ('scaler', MinMaxScaler())])\n",
    "\n",
    "custom_features = ['pclass']\n",
    "custom_transformer = FunctionTransformer(np.square, validate=True)\n",
    "\n",
    "categorical_features = ['embarked', 'sex']\n",
    "ohe_transformer = OneHotEncoder(handle_unknown='ignore')\n",
    "categorical_transformer = Pipeline(steps=[\n",
    "    ('imputer', SimpleImputer(strategy='most_frequent')),\n",
    "    ('ohe', ohe_transformer)])\n",
    "\n",
    "preprocessor = ColumnTransformer(\n",
    "    transformers=[\n",
    "        ('num', numeric_transformer, numeric_features),\n",
    "        ('ohe', categorical_transformer, categorical_features),\n",
    "        ('cust', custom_transformer, custom_features)])\n",
    "\n",
    "pipeline = Pipeline(steps=[('preprocessor', preprocessor)])"
   ]
  },
  {
   "cell_type": "markdown",
   "id": "2844bfc7",
   "metadata": {},
   "source": [
    "#### Use the pipeline to transform data"
   ]
  },
  {
   "cell_type": "code",
   "execution_count": null,
   "id": "745fc382",
   "metadata": {},
   "outputs": [],
   "source": [
    "pipeline_model = pipeline.fit_transform(train_features, train_labels)\n",
    "\n",
    "transformed_df = pd.DataFrame(data = pipeline_model)\n",
    "transformed_df.head(10)"
   ]
  },
  {
   "cell_type": "markdown",
   "id": "fd32c954",
   "metadata": {},
   "source": [
    "#### Build the full pipeline"
   ]
  },
  {
   "cell_type": "code",
   "execution_count": null,
   "id": "f6bad235",
   "metadata": {},
   "outputs": [],
   "source": [
    "from sklearn.linear_model import LogisticRegression\n",
    "pipeline = Pipeline(steps=[('preprocessor', preprocessor), ('regressor', LogisticRegression())])\n",
    "pipeline_model = pipeline.fit(train_features, train_labels)\n",
    "print(pipeline_model)"
   ]
  },
  {
   "cell_type": "code",
   "execution_count": null,
   "id": "fe847b36",
   "metadata": {},
   "outputs": [],
   "source": [
    "from sklearn import set_config\n",
    "\n",
    "set_config(display='diagram')\n",
    "pipeline"
   ]
  },
  {
   "cell_type": "markdown",
   "id": "807f80ab",
   "metadata": {},
   "source": [
    "#### Use pipeline to predict values"
   ]
  },
  {
   "cell_type": "code",
   "execution_count": null,
   "id": "34067083",
   "metadata": {},
   "outputs": [],
   "source": [
    "scored_data = pipeline.predict(test_features)"
   ]
  },
  {
   "cell_type": "markdown",
   "id": "d1b55d2c",
   "metadata": {},
   "source": [
    "#### Show predicted values"
   ]
  },
  {
   "cell_type": "code",
   "execution_count": null,
   "id": "115c8cd7",
   "metadata": {},
   "outputs": [],
   "source": [
    "scored_df = pd.DataFrame(data = scored_data)\n",
    "\n",
    "scored_df = pd.concat([scored_df, test_labels], axis=1)\n",
    "scored_df.head(10)"
   ]
  },
  {
   "cell_type": "markdown",
   "id": "dd8b874a",
   "metadata": {},
   "source": [
    "### Cross Validation"
   ]
  },
  {
   "cell_type": "code",
   "execution_count": null,
   "id": "45f222dc",
   "metadata": {},
   "outputs": [],
   "source": [
    "from sklearn.model_selection import cross_val_score\n",
    "folds = 5\n",
    "scores = cross_val_score(pipeline_model,train_features, train_labels, cv=folds)\n",
    "scores"
   ]
  },
  {
   "cell_type": "code",
   "execution_count": null,
   "id": "45d102b9",
   "metadata": {},
   "outputs": [],
   "source": [
    "print(\"%0.2f accuracy, with a standard deviation of %0.2f\" % (scores.mean(), scores.std()))\n",
    "fig, ax = plt.subplots(figsize=(7, 7), dpi=80)\n",
    "plt.ylim(0,1)\n",
    "plt.plot(range(folds), scores)\n",
    "ax.set_xlabel('KFolds')\n",
    "ax.set_ylabel('Accurary (The Higher,the better )')\n",
    "plt.show()"
   ]
  },
  {
   "cell_type": "code",
   "execution_count": null,
   "id": "8d1e0a05",
   "metadata": {},
   "outputs": [],
   "source": []
  }
 ],
 "metadata": {
  "kernelspec": {
   "display_name": "Python 3",
   "language": "python",
   "name": "python3"
  },
  "language_info": {
   "codemirror_mode": {
    "name": "ipython",
    "version": 3
   },
   "file_extension": ".py",
   "mimetype": "text/x-python",
   "name": "python",
   "nbconvert_exporter": "python",
   "pygments_lexer": "ipython3",
   "version": "3.8.10"
  }
 },
 "nbformat": 4,
 "nbformat_minor": 5
}

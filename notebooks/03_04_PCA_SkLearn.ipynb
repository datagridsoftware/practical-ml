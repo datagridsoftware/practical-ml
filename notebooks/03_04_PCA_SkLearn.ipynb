{
 "cells": [
  {
   "cell_type": "markdown",
   "id": "b2acfa7e",
   "metadata": {},
   "source": [
    "### Feature engineering - PCA\n",
    "PCA with sklearn on the auto-mpg and Iris datasets"
   ]
  },
  {
   "cell_type": "markdown",
   "id": "fa5b5a52",
   "metadata": {},
   "source": [
    "***\n",
    "#### Environment\n",
    "`conda activate sklearn-env`\n",
    "\n",
    "***\n",
    "#### Goals\n",
    "- Run PCA\n",
    "- Observe explained variance\n",
    "- Observe the scatter plot of the PCA features\n",
    "\n",
    "***\n",
    "#### References\n",
    "https://scikit-learn.org/stable/modules/generated/sklearn.decomposition.PCA.html\n"
   ]
  },
  {
   "cell_type": "markdown",
   "id": "dafe55cc",
   "metadata": {},
   "source": [
    "#### Basic python imports"
   ]
  },
  {
   "cell_type": "code",
   "execution_count": null,
   "id": "4f56f268",
   "metadata": {},
   "outputs": [],
   "source": [
    "import matplotlib.pyplot as plt\n",
    "import numpy as np\n",
    "import pandas as pd\n",
    "import seaborn as sns\n",
    "from sklearn.datasets import load_iris\n",
    "\n",
    "# Make numpy printouts easier to read.\n",
    "np.set_printoptions(precision=3, suppress=True)"
   ]
  },
  {
   "cell_type": "markdown",
   "id": "f3a35441",
   "metadata": {},
   "source": [
    "#### Dataset load from CSV located on UCI website.\n",
    "\n",
    "http://archive.ics.uci.edu/ml/machine-learning-databases/auto-mpg/auto-mpg.data  \n",
    "If the URL does not work the dataset can be loaded from the data folder `./data/auto-mpg.data`."
   ]
  },
  {
   "cell_type": "code",
   "execution_count": null,
   "id": "f3c2e268",
   "metadata": {},
   "outputs": [],
   "source": [
    "label = ''\n",
    "dataset = None\n",
    "\n",
    "if True :\n",
    "    label = 'MPG'\n",
    "\n",
    "    url = 'http://archive.ics.uci.edu/ml/machine-learning-databases/auto-mpg/auto-mpg.data'\n",
    "    column_names = ['MPG', 'Cylinders', 'Displacement', 'Horsepower', 'Weight',\n",
    "                    'Acceleration', 'Model Year', 'Origin']\n",
    "\n",
    "    raw_dataset = pd.read_csv(url, names=column_names,\n",
    "                              na_values='?', comment='\\t',\n",
    "                              sep=' ', skipinitialspace=True)\n",
    "    dataset = raw_dataset.copy()\n",
    "    dataset.sample(5)\n",
    "else :\n",
    "    label = 'target'\n",
    "    data = load_iris(as_frame = True )\n",
    "    dataset = data.frame\n",
    "    dataset.head(2)"
   ]
  },
  {
   "cell_type": "markdown",
   "id": "0813495c",
   "metadata": {},
   "source": [
    "### Dataset split\n",
    "- row base in test and train datasets\n",
    "- column base in features and labels"
   ]
  },
  {
   "cell_type": "code",
   "execution_count": null,
   "id": "997410e9",
   "metadata": {},
   "outputs": [],
   "source": [
    "dataset = dataset.dropna().copy()\n",
    "\n",
    "dataset.reset_index(drop=True, inplace=True)\n",
    "\n",
    "train_dataset = dataset.sample(frac=0.8, random_state=0)\n",
    "test_dataset = dataset.drop(train_dataset.index)\n",
    "\n",
    "train_features = train_dataset.copy()\n",
    "test_features = test_dataset.copy()\n",
    "\n",
    "train_labels = train_features.pop(label)\n",
    "train_labels.reset_index(drop=True, inplace=True)\n",
    "test_labels = test_features.pop(label)"
   ]
  },
  {
   "cell_type": "markdown",
   "id": "43916713",
   "metadata": {},
   "source": [
    "#### Standardize data"
   ]
  },
  {
   "cell_type": "code",
   "execution_count": null,
   "id": "dd3aaea4",
   "metadata": {},
   "outputs": [],
   "source": [
    "from sklearn.preprocessing import StandardScaler\n",
    "scaled_features = StandardScaler().fit_transform(train_features)"
   ]
  },
  {
   "cell_type": "markdown",
   "id": "f413fe04",
   "metadata": {},
   "source": [
    "#### PCA"
   ]
  },
  {
   "cell_type": "code",
   "execution_count": null,
   "id": "49494019",
   "metadata": {
    "scrolled": true
   },
   "outputs": [],
   "source": [
    "from sklearn.decomposition import PCA\n",
    "pca_transformer = PCA()\n",
    "pca_result = pca_transformer.fit_transform(scaled_features)\n",
    "\n",
    "labels = {\n",
    "    str(i): f\"pca {i+1}\"\n",
    "    for i, var in enumerate(pca_transformer.explained_variance_ratio_ * 100)\n",
    "}\n",
    "\n",
    "pca_df = pd.DataFrame(data = pca_result, columns = labels)\n",
    "\n",
    "pca_df = pd.concat([pca_df, train_labels], axis=1)\n",
    "\n",
    "pca_df.sample(10)"
   ]
  },
  {
   "cell_type": "markdown",
   "id": "b4140a47",
   "metadata": {},
   "source": [
    "#### Explain and visualize output"
   ]
  },
  {
   "cell_type": "code",
   "execution_count": null,
   "id": "cb52684d",
   "metadata": {},
   "outputs": [],
   "source": [
    "print('Explained variance ratio:', pca_transformer.explained_variance_ratio_)"
   ]
  },
  {
   "cell_type": "code",
   "execution_count": null,
   "id": "4f6d199e",
   "metadata": {},
   "outputs": [],
   "source": [
    "corr_orig = dataset.corr()\n",
    "corr_pca = pca_df.corr()\n",
    "\n",
    "fig, (ax1, ax2) = plt.subplots(1, 2, figsize=(16,4))\n",
    "\n",
    "ax1.set_title('PCA Features')\n",
    "ax2.set_title('Original Features')\n",
    "\n",
    "sns.color_palette(\"hls\", 8)\n",
    "\n",
    "# Generate a mask for the upper triangle\n",
    "mask = np.triu(np.ones_like(corr_pca, dtype=bool))\n",
    "sns.heatmap(corr_pca, annot=True, fmt='.2f', mask = mask, cmap=\"YlGnBu\", xticklabels=corr_pca.columns.values,yticklabels=corr_pca.columns.values, ax = ax1)\n",
    "\n",
    "mask = np.triu(np.ones_like(corr_orig, dtype=bool))\n",
    "sns.heatmap(corr_orig, annot=True, fmt='.2f', mask = mask, cmap=\"YlGnBu\", xticklabels=corr_orig.columns.values,yticklabels=corr_orig.columns.values, ax = ax2)"
   ]
  },
  {
   "cell_type": "markdown",
   "id": "bf3ec0d2",
   "metadata": {},
   "source": [
    "#### Plot \"new\" data"
   ]
  },
  {
   "cell_type": "code",
   "execution_count": null,
   "id": "e740decc",
   "metadata": {},
   "outputs": [],
   "source": [
    "plt.scatter(pca_df['0'], pca_df['1'], c = pca_df[label])\n",
    "plt.xlabel('PCA 1')\n",
    "plt.ylabel('PCA 2')\n",
    "plt.title(f'{label}')\n",
    "plt.show()"
   ]
  },
  {
   "cell_type": "code",
   "execution_count": null,
   "id": "9b84bea3",
   "metadata": {},
   "outputs": [],
   "source": []
  }
 ],
 "metadata": {
  "kernelspec": {
   "display_name": "Python 3",
   "language": "python",
   "name": "python3"
  },
  "language_info": {
   "codemirror_mode": {
    "name": "ipython",
    "version": 3
   },
   "file_extension": ".py",
   "mimetype": "text/x-python",
   "name": "python",
   "nbconvert_exporter": "python",
   "pygments_lexer": "ipython3",
   "version": "3.8.10"
  }
 },
 "nbformat": 4,
 "nbformat_minor": 5
}

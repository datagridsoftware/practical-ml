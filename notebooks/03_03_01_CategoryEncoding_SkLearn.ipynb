{
 "cells": [
  {
   "cell_type": "markdown",
   "id": "e6420d29",
   "metadata": {},
   "source": [
    "### Feature engineering - CategoryEncoding - Indexers\n",
    "CategoryEncoding with sklearn on the Titanic dataset "
   ]
  },
  {
   "cell_type": "markdown",
   "id": "8b1cdd5b",
   "metadata": {},
   "source": [
    "*** \n",
    "#### Environment\n",
    "`conda activate sklearn-env`\n",
    "\n",
    "***\n",
    "#### Goals\n",
    "- Replace categorical and discrete columns with categorical elements corespondng to each value fomr dataset\n",
    "\n",
    "***\n",
    "#### References\n",
    "https://scikit-learn.org/stable/modules/generated/sklearn.preprocessing.OrdinalEncoder.html"
   ]
  },
  {
   "cell_type": "markdown",
   "id": "0ed92b1f",
   "metadata": {},
   "source": [
    "#### Basic python imports"
   ]
  },
  {
   "cell_type": "code",
   "execution_count": null,
   "id": "8a368c24",
   "metadata": {},
   "outputs": [],
   "source": [
    "import matplotlib.pyplot as plt\n",
    "import numpy as np\n",
    "import pandas as pd\n",
    "import random\n",
    "import seaborn as sns\n",
    "\n",
    "# Make numpy printouts easier to read.\n",
    "np.set_printoptions(precision=3, suppress=True)"
   ]
  },
  {
   "cell_type": "markdown",
   "id": "5990a793",
   "metadata": {},
   "source": [
    "#### Dataset load using sklearn API from https://www.openml.org site\n",
    "\n",
    "https://www.openml.org/d/40945"
   ]
  },
  {
   "cell_type": "code",
   "execution_count": null,
   "id": "611a9aa3",
   "metadata": {},
   "outputs": [],
   "source": [
    "from sklearn.datasets import fetch_openml\n",
    "\n",
    "# Load data from https://www.openml.org/d/40945\n",
    "raw_dataset = fetch_openml(\"titanic\", version=1, as_frame=True).frame\n",
    "dataset = raw_dataset.copy()\n",
    "dataset.head(10)"
   ]
  },
  {
   "cell_type": "code",
   "execution_count": null,
   "id": "b450c57e",
   "metadata": {},
   "outputs": [],
   "source": [
    "dataset.drop(['boat', 'body', 'home.dest'],  axis=1, inplace=True)\n",
    "dataset = dataset.dropna().copy()"
   ]
  },
  {
   "cell_type": "markdown",
   "id": "20041007",
   "metadata": {},
   "source": [
    "### Verify categorical /discrete fields in dataset\n",
    "\n",
    "Notice:\n",
    "- `pclass` discrete fiels having 3 distinct values.\n",
    "- `sex` and `embarked` fields - categorical"
   ]
  },
  {
   "cell_type": "code",
   "execution_count": null,
   "id": "2c7c7f48",
   "metadata": {},
   "outputs": [],
   "source": [
    "dataset.info()"
   ]
  },
  {
   "cell_type": "code",
   "execution_count": null,
   "id": "7c12bdd9",
   "metadata": {},
   "outputs": [],
   "source": [
    "from sklearn.preprocessing import OrdinalEncoder\n",
    "\n",
    "encoder = OrdinalEncoder().fit(dataset[['pclass', 'sex', 'embarked']])\n",
    "encoder.categories_"
   ]
  },
  {
   "cell_type": "code",
   "execution_count": null,
   "id": "3e6c6ad6",
   "metadata": {},
   "outputs": [],
   "source": [
    "dataset[['pclass', 'sex', 'embarked']] = encoder.transform(dataset[['pclass', 'sex', 'embarked']])"
   ]
  },
  {
   "cell_type": "markdown",
   "id": "c91ec89c",
   "metadata": {},
   "source": [
    "### Notice changed column type for 'pclass', 'sex', 'embarked'"
   ]
  },
  {
   "cell_type": "code",
   "execution_count": null,
   "id": "f2f9d6b1",
   "metadata": {},
   "outputs": [],
   "source": [
    "dataset.sample(20)"
   ]
  }
 ],
 "metadata": {
  "kernelspec": {
   "display_name": "Python 3",
   "language": "python",
   "name": "python3"
  },
  "language_info": {
   "codemirror_mode": {
    "name": "ipython",
    "version": 3
   },
   "file_extension": ".py",
   "mimetype": "text/x-python",
   "name": "python",
   "nbconvert_exporter": "python",
   "pygments_lexer": "ipython3",
   "version": "3.8.10"
  }
 },
 "nbformat": 4,
 "nbformat_minor": 5
}

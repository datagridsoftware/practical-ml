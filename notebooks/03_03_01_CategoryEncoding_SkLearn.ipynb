{
 "cells": [
  {
   "cell_type": "markdown",
   "id": "296fca07",
   "metadata": {},
   "source": [
    "### Feature engineering - CategoryEncoding - Indexers\n",
    "CategoryEncoding with sklearn on the Titanic dataset "
   ]
  },
  {
   "cell_type": "markdown",
   "id": "f5500c49",
   "metadata": {},
   "source": [
    "*** \n",
    "#### Environment\n",
    "`conda activate sklearn-env`\n",
    "\n",
    "***\n",
    "#### Goals\n",
    "- Replace categorical and discrete columns with categorical elements corespondng to each value fomr dataset\n",
    "\n",
    "***\n",
    "#### References\n",
    "https://scikit-learn.org/stable/modules/generated/sklearn.preprocessing.OrdinalEncoder.html"
   ]
  },
  {
   "cell_type": "markdown",
   "id": "a6d74d64",
   "metadata": {},
   "source": [
    "#### Basic python imports"
   ]
  },
  {
   "cell_type": "code",
   "execution_count": null,
   "id": "ff7c8468",
   "metadata": {},
   "outputs": [],
   "source": [
    "import matplotlib.pyplot as plt\n",
    "import numpy as np\n",
    "import pandas as pd\n",
    "import random\n",
    "import seaborn as sns\n",
    "\n",
    "# Make numpy printouts easier to read.\n",
    "np.set_printoptions(precision=3, suppress=True)"
   ]
  },
  {
   "cell_type": "markdown",
   "id": "b0c4fa7d",
   "metadata": {},
   "source": [
    "#### Dataset load using sklearn API from https://www.openml.org site\n",
    "\n",
    "https://www.openml.org/d/40945"
   ]
  },
  {
   "cell_type": "code",
   "execution_count": null,
   "id": "f201bdb6",
   "metadata": {},
   "outputs": [],
   "source": [
    "from sklearn.datasets import fetch_openml\n",
    "\n",
    "# Load data from https://www.openml.org/d/40945\n",
    "raw_dataset = fetch_openml(\"titanic\", version=1, as_frame=True).frame\n",
    "dataset = raw_dataset.copy()\n",
    "dataset.head(10)"
   ]
  },
  {
   "cell_type": "code",
   "execution_count": null,
   "id": "902f287e",
   "metadata": {},
   "outputs": [],
   "source": [
    "dataset.drop(['boat', 'body', 'home.dest'],  axis=1, inplace=True)\n",
    "dataset = dataset.dropna().copy()"
   ]
  },
  {
   "cell_type": "markdown",
   "id": "857e227b",
   "metadata": {},
   "source": [
    "### Verify categorical /discrete fields in dataset\n",
    "\n",
    "Notice:\n",
    "- `pclass` discrete fiels having 3 distinct values.\n",
    "- `sex` and `embarked` fields - categorical"
   ]
  },
  {
   "cell_type": "code",
   "execution_count": null,
   "id": "1d2104a2",
   "metadata": {},
   "outputs": [],
   "source": [
    "dataset.info()"
   ]
  },
  {
   "cell_type": "code",
   "execution_count": null,
   "id": "b2d6a6b2",
   "metadata": {},
   "outputs": [],
   "source": [
    "from sklearn.preprocessing import OrdinalEncoder\n",
    "\n",
    "encoder = OrdinalEncoder().fit(dataset[['pclass', 'sex', 'embarked']])\n",
    "encoder.categories_"
   ]
  },
  {
   "cell_type": "code",
   "execution_count": null,
   "id": "f5ec56c7",
   "metadata": {},
   "outputs": [],
   "source": [
    "new_dataset = dataset.copy()\n",
    "new_dataset[['pclass', 'sex', 'embarked']] = encoder.transform(new_dataset[['pclass', 'sex', 'embarked']])"
   ]
  },
  {
   "cell_type": "markdown",
   "id": "6e9f56ef",
   "metadata": {},
   "source": [
    "### Notice changed column type for 'pclass', 'sex', 'embarked'"
   ]
  },
  {
   "cell_type": "code",
   "execution_count": null,
   "id": "263e5afa",
   "metadata": {},
   "outputs": [],
   "source": [
    "new_dataset.head(10)"
   ]
  },
  {
   "cell_type": "markdown",
   "id": "0ec46550",
   "metadata": {},
   "source": [
    "#### Predict and compare results"
   ]
  },
  {
   "cell_type": "code",
   "execution_count": null,
   "id": "3fd79750",
   "metadata": {},
   "outputs": [],
   "source": [
    "from sklearn.preprocessing import MinMaxScaler\n",
    "\n",
    "def raw_dataset(df):\n",
    "    dataset = df[['age','sibsp','parch', 'fare', 'survived']].copy()\n",
    "    return dataset\n",
    "    \n",
    "def prepared_dataset(df):\n",
    "    dataset = df.copy().drop(['name', 'fare', 'ticket', 'cabin'], axis='columns')\n",
    "    dataset[['age']] = MinMaxScaler().fit_transform(dataset[['age']])\n",
    "    return dataset\n",
    "\n",
    "#use the prepared data set\n",
    "dataset = prepared_dataset(new_dataset)\n",
    "\n",
    "#or use the raw dataset\n",
    "#dataset = raw_dataset(dataset)\n",
    "\n",
    "train_dataset = dataset.sample(frac=0.8, random_state=0)\n",
    "test_dataset = dataset.drop(train_dataset.index)\n",
    "\n",
    "train_features = train_dataset.copy()\n",
    "test_features = test_dataset.copy()\n",
    "\n",
    "train_labels = train_features.pop('survived')\n",
    "test_labels = test_features.pop('survived')"
   ]
  },
  {
   "cell_type": "code",
   "execution_count": null,
   "id": "2928b313",
   "metadata": {},
   "outputs": [],
   "source": [
    "from sklearn.linear_model import LogisticRegression\n",
    "\n",
    "logistic_regressor = LogisticRegression(max_iter=1000).fit(train_features, train_labels)\n",
    "\n",
    "scored_test = logistic_regressor.predict(test_features)\n",
    "scored_test_proba = logistic_regressor.predict_proba(test_features)\n",
    "test_dataset['predicted'] = scored_test\n",
    "\n",
    "print(\"Training converged in %d iterations\" % (logistic_regressor.n_iter_))"
   ]
  },
  {
   "cell_type": "code",
   "execution_count": null,
   "id": "e43b1616",
   "metadata": {},
   "outputs": [],
   "source": [
    "from sklearn.metrics import accuracy_score\n",
    "acc = accuracy_score(test_dataset['survived'], test_dataset['predicted'])\n",
    "print(\"Accuracy of the model is %f\" % acc)"
   ]
  },
  {
   "cell_type": "code",
   "execution_count": null,
   "id": "6178c434",
   "metadata": {},
   "outputs": [],
   "source": [
    "test_dataset[['survived', 'predicted']].head(20)"
   ]
  }
 ],
 "metadata": {
  "kernelspec": {
   "display_name": "Python 3",
   "language": "python",
   "name": "python3"
  },
  "language_info": {
   "codemirror_mode": {
    "name": "ipython",
    "version": 3
   },
   "file_extension": ".py",
   "mimetype": "text/x-python",
   "name": "python",
   "nbconvert_exporter": "python",
   "pygments_lexer": "ipython3",
   "version": "3.8.10"
  }
 },
 "nbformat": 4,
 "nbformat_minor": 5
}

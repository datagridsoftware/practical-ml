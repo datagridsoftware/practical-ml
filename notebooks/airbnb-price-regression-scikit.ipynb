{
 "cells": [
  {
   "cell_type": "markdown",
   "metadata": {},
   "source": [
    "## MLeap Scikit-Learn Demo"
   ]
  },
  {
   "cell_type": "markdown",
   "metadata": {},
   "source": [
    "The goal of this demo is to:\n",
    "    1. Put together an ML pipeline using scikit transformers, pipeline and feature unions\n",
    "    2. Train a linear regression to predict listing prices\n",
    "    3. Demonstrate how to serialize scikit-learn transformers and models to bundle.ml\n",
    "    4. TODO: use .deploy() to deploy a model to combust cloud\n",
    "    5. TODO: deserialize the pipeline in Spark\n",
    "    \n"
   ]
  },
  {
   "cell_type": "markdown",
   "metadata": {},
   "source": [
    "## Background on the Dataset"
   ]
  },
  {
   "cell_type": "markdown",
   "metadata": {},
   "source": [
    "The dataset used for the demo was pulled together from individual cities' data found [here](http://insideairbnb.com/get-the-data.html). We've also gone ahead and pulled the individual datasets and relevant features into this [research dataset](https://s3-us-west-2.amazonaws.com/mleap-demo/datasources/airbnb.csv) stored as csv."
   ]
  },
  {
   "cell_type": "markdown",
   "metadata": {},
   "source": [
    "### Step 0: Load libraries and data"
   ]
  },
  {
   "cell_type": "code",
   "execution_count": 1,
   "metadata": {},
   "outputs": [],
   "source": [
    "import warnings\n",
    "warnings.filterwarnings('ignore')\n",
    "warnings.simplefilter('ignore')"
   ]
  },
  {
   "cell_type": "code",
   "execution_count": 2,
   "metadata": {},
   "outputs": [
    {
     "name": "stderr",
     "output_type": "stream",
     "text": [
      "c:\\users\\drago\\.conda\\envs\\mleap-env\\lib\\site-packages\\sklearn\\linear_model\\least_angle.py:35: DeprecationWarning: `np.float` is a deprecated alias for the builtin `float`. To silence this warning, use `float` by itself. Doing this will not modify any behavior and is safe. If you specifically wanted the numpy scalar type, use `np.float64` here.\n",
      "Deprecated in NumPy 1.20; for more details and guidance: https://numpy.org/devdocs/release/1.20.0-notes.html#deprecations\n",
      "  eps=np.finfo(np.float).eps,\n",
      "c:\\users\\drago\\.conda\\envs\\mleap-env\\lib\\site-packages\\sklearn\\linear_model\\least_angle.py:597: DeprecationWarning: `np.float` is a deprecated alias for the builtin `float`. To silence this warning, use `float` by itself. Doing this will not modify any behavior and is safe. If you specifically wanted the numpy scalar type, use `np.float64` here.\n",
      "Deprecated in NumPy 1.20; for more details and guidance: https://numpy.org/devdocs/release/1.20.0-notes.html#deprecations\n",
      "  eps=np.finfo(np.float).eps, copy_X=True, fit_path=True,\n",
      "c:\\users\\drago\\.conda\\envs\\mleap-env\\lib\\site-packages\\sklearn\\linear_model\\least_angle.py:836: DeprecationWarning: `np.float` is a deprecated alias for the builtin `float`. To silence this warning, use `float` by itself. Doing this will not modify any behavior and is safe. If you specifically wanted the numpy scalar type, use `np.float64` here.\n",
      "Deprecated in NumPy 1.20; for more details and guidance: https://numpy.org/devdocs/release/1.20.0-notes.html#deprecations\n",
      "  eps=np.finfo(np.float).eps, copy_X=True, fit_path=True,\n",
      "c:\\users\\drago\\.conda\\envs\\mleap-env\\lib\\site-packages\\sklearn\\linear_model\\least_angle.py:862: DeprecationWarning: `np.float` is a deprecated alias for the builtin `float`. To silence this warning, use `float` by itself. Doing this will not modify any behavior and is safe. If you specifically wanted the numpy scalar type, use `np.float64` here.\n",
      "Deprecated in NumPy 1.20; for more details and guidance: https://numpy.org/devdocs/release/1.20.0-notes.html#deprecations\n",
      "  eps=np.finfo(np.float).eps, positive=False):\n",
      "c:\\users\\drago\\.conda\\envs\\mleap-env\\lib\\site-packages\\sklearn\\linear_model\\least_angle.py:1074: DeprecationWarning: `np.float` is a deprecated alias for the builtin `float`. To silence this warning, use `float` by itself. Doing this will not modify any behavior and is safe. If you specifically wanted the numpy scalar type, use `np.float64` here.\n",
      "Deprecated in NumPy 1.20; for more details and guidance: https://numpy.org/devdocs/release/1.20.0-notes.html#deprecations\n",
      "  max_n_alphas=1000, n_jobs=1, eps=np.finfo(np.float).eps,\n",
      "c:\\users\\drago\\.conda\\envs\\mleap-env\\lib\\site-packages\\sklearn\\linear_model\\least_angle.py:1306: DeprecationWarning: `np.float` is a deprecated alias for the builtin `float`. To silence this warning, use `float` by itself. Doing this will not modify any behavior and is safe. If you specifically wanted the numpy scalar type, use `np.float64` here.\n",
      "Deprecated in NumPy 1.20; for more details and guidance: https://numpy.org/devdocs/release/1.20.0-notes.html#deprecations\n",
      "  max_n_alphas=1000, n_jobs=1, eps=np.finfo(np.float).eps,\n",
      "c:\\users\\drago\\.conda\\envs\\mleap-env\\lib\\site-packages\\sklearn\\linear_model\\least_angle.py:1442: DeprecationWarning: `np.float` is a deprecated alias for the builtin `float`. To silence this warning, use `float` by itself. Doing this will not modify any behavior and is safe. If you specifically wanted the numpy scalar type, use `np.float64` here.\n",
      "Deprecated in NumPy 1.20; for more details and guidance: https://numpy.org/devdocs/release/1.20.0-notes.html#deprecations\n",
      "  eps=np.finfo(np.float).eps, copy_X=True, positive=False):\n",
      "c:\\users\\drago\\.conda\\envs\\mleap-env\\lib\\site-packages\\sklearn\\linear_model\\randomized_l1.py:152: DeprecationWarning: `np.float` is a deprecated alias for the builtin `float`. To silence this warning, use `float` by itself. Doing this will not modify any behavior and is safe. If you specifically wanted the numpy scalar type, use `np.float64` here.\n",
      "Deprecated in NumPy 1.20; for more details and guidance: https://numpy.org/devdocs/release/1.20.0-notes.html#deprecations\n",
      "  precompute=False, eps=np.finfo(np.float).eps,\n",
      "c:\\users\\drago\\.conda\\envs\\mleap-env\\lib\\site-packages\\sklearn\\linear_model\\randomized_l1.py:318: DeprecationWarning: `np.float` is a deprecated alias for the builtin `float`. To silence this warning, use `float` by itself. Doing this will not modify any behavior and is safe. If you specifically wanted the numpy scalar type, use `np.float64` here.\n",
      "Deprecated in NumPy 1.20; for more details and guidance: https://numpy.org/devdocs/release/1.20.0-notes.html#deprecations\n",
      "  eps=np.finfo(np.float).eps, random_state=None,\n",
      "c:\\users\\drago\\.conda\\envs\\mleap-env\\lib\\site-packages\\sklearn\\linear_model\\randomized_l1.py:575: DeprecationWarning: `np.float` is a deprecated alias for the builtin `float`. To silence this warning, use `float` by itself. Doing this will not modify any behavior and is safe. If you specifically wanted the numpy scalar type, use `np.float64` here.\n",
      "Deprecated in NumPy 1.20; for more details and guidance: https://numpy.org/devdocs/release/1.20.0-notes.html#deprecations\n",
      "  eps=4 * np.finfo(np.float).eps, n_jobs=1,\n",
      "c:\\users\\drago\\.conda\\envs\\mleap-env\\lib\\site-packages\\sklearn\\ensemble\\weight_boosting.py:29: DeprecationWarning: numpy.core.umath_tests is an internal NumPy module and should not be imported. It will be removed in a future NumPy release.\n",
      "  from numpy.core.umath_tests import inner1d\n",
      "c:\\users\\drago\\.conda\\envs\\mleap-env\\lib\\site-packages\\sklearn\\ensemble\\gradient_boosting.py:34: DeprecationWarning: `np.bool` is a deprecated alias for the builtin `bool`. To silence this warning, use `bool` by itself. Doing this will not modify any behavior and is safe. If you specifically wanted the numpy scalar type, use `np.bool_` here.\n",
      "Deprecated in NumPy 1.20; for more details and guidance: https://numpy.org/devdocs/release/1.20.0-notes.html#deprecations\n",
      "  from ._gradient_boosting import predict_stages\n",
      "c:\\users\\drago\\.conda\\envs\\mleap-env\\lib\\site-packages\\sklearn\\ensemble\\gradient_boosting.py:34: DeprecationWarning: `np.bool` is a deprecated alias for the builtin `bool`. To silence this warning, use `bool` by itself. Doing this will not modify any behavior and is safe. If you specifically wanted the numpy scalar type, use `np.bool_` here.\n",
      "Deprecated in NumPy 1.20; for more details and guidance: https://numpy.org/devdocs/release/1.20.0-notes.html#deprecations\n",
      "  from ._gradient_boosting import predict_stages\n"
     ]
    }
   ],
   "source": [
    "import pandas as pd\n",
    "\n",
    "import mleap.sklearn.pipeline\n",
    "import mleap.sklearn.feature_union\n",
    "import mleap.sklearn.base\n",
    "import mleap.sklearn.logistic\n",
    "import mleap.sklearn.preprocessing.data\n",
    "from mleap.sklearn.ensemble import forest\n",
    "\n",
    "from mleap.sklearn.preprocessing.data import FeatureExtractor, LabelEncoder, ReshapeArrayToN1\n",
    "\n",
    "from sklearn.linear_model import LinearRegression\n",
    "from sklearn.ensemble.forest import RandomForestRegressor\n",
    "from sklearn.pipeline import Pipeline, FeatureUnion\n",
    "\n",
    "from sklearn.preprocessing import StandardScaler\n",
    "from sklearn.preprocessing import Imputer\n",
    "from sklearn.model_selection import train_test_split\n",
    "\n",
    "from sklearn.preprocessing import OneHotEncoder\n",
    "\n",
    "import numpy as np"
   ]
  },
  {
   "cell_type": "code",
   "execution_count": 3,
   "metadata": {},
   "outputs": [
    {
     "data": {
      "text/html": [
       "<div>\n",
       "<style scoped>\n",
       "    .dataframe tbody tr th:only-of-type {\n",
       "        vertical-align: middle;\n",
       "    }\n",
       "\n",
       "    .dataframe tbody tr th {\n",
       "        vertical-align: top;\n",
       "    }\n",
       "\n",
       "    .dataframe thead th {\n",
       "        text-align: right;\n",
       "    }\n",
       "</style>\n",
       "<table border=\"1\" class=\"dataframe\">\n",
       "  <thead>\n",
       "    <tr style=\"text-align: right;\">\n",
       "      <th></th>\n",
       "      <th>id</th>\n",
       "      <th>name</th>\n",
       "      <th>price</th>\n",
       "      <th>bedrooms</th>\n",
       "      <th>bathrooms</th>\n",
       "      <th>room_type</th>\n",
       "      <th>square_feet</th>\n",
       "      <th>host_is_superhost</th>\n",
       "      <th>state</th>\n",
       "      <th>cancellation_policy</th>\n",
       "      <th>security_deposit</th>\n",
       "      <th>cleaning_fee</th>\n",
       "      <th>extra_people</th>\n",
       "      <th>number_of_reviews</th>\n",
       "      <th>price_per_bedroom</th>\n",
       "      <th>review_scores_rating</th>\n",
       "      <th>instant_bookable</th>\n",
       "    </tr>\n",
       "  </thead>\n",
       "  <tbody>\n",
       "    <tr>\n",
       "      <th>0</th>\n",
       "      <td>1949687</td>\n",
       "      <td>Delectable Victorian Flat for two</td>\n",
       "      <td>80.0</td>\n",
       "      <td>1.0</td>\n",
       "      <td>1.0</td>\n",
       "      <td>Entire home/apt</td>\n",
       "      <td>NaN</td>\n",
       "      <td>0.0</td>\n",
       "      <td>London</td>\n",
       "      <td>moderate</td>\n",
       "      <td>100.0</td>\n",
       "      <td>20.0</td>\n",
       "      <td>10.0</td>\n",
       "      <td>8</td>\n",
       "      <td>80.0</td>\n",
       "      <td>94.0</td>\n",
       "      <td>0.0</td>\n",
       "    </tr>\n",
       "    <tr>\n",
       "      <th>1</th>\n",
       "      <td>3863509</td>\n",
       "      <td>Fully Furnished 3 Bed House/Garden</td>\n",
       "      <td>40.0</td>\n",
       "      <td>1.0</td>\n",
       "      <td>1.0</td>\n",
       "      <td>Private room</td>\n",
       "      <td>NaN</td>\n",
       "      <td>0.0</td>\n",
       "      <td>London</td>\n",
       "      <td>flexible</td>\n",
       "      <td>0.0</td>\n",
       "      <td>0.0</td>\n",
       "      <td>0.0</td>\n",
       "      <td>5</td>\n",
       "      <td>40.0</td>\n",
       "      <td>55.0</td>\n",
       "      <td>0.0</td>\n",
       "    </tr>\n",
       "    <tr>\n",
       "      <th>2</th>\n",
       "      <td>1988980</td>\n",
       "      <td>Cozy Double Room in Victorian House</td>\n",
       "      <td>35.0</td>\n",
       "      <td>1.0</td>\n",
       "      <td>1.0</td>\n",
       "      <td>Private room</td>\n",
       "      <td>NaN</td>\n",
       "      <td>0.0</td>\n",
       "      <td>Greenwich</td>\n",
       "      <td>flexible</td>\n",
       "      <td>0.0</td>\n",
       "      <td>5.0</td>\n",
       "      <td>10.0</td>\n",
       "      <td>32</td>\n",
       "      <td>35.0</td>\n",
       "      <td>89.0</td>\n",
       "      <td>0.0</td>\n",
       "    </tr>\n",
       "    <tr>\n",
       "      <th>3</th>\n",
       "      <td>2347198</td>\n",
       "      <td>Double Room In Central London.</td>\n",
       "      <td>42.0</td>\n",
       "      <td>1.0</td>\n",
       "      <td>1.0</td>\n",
       "      <td>Private room</td>\n",
       "      <td>NaN</td>\n",
       "      <td>0.0</td>\n",
       "      <td>London</td>\n",
       "      <td>strict</td>\n",
       "      <td>0.0</td>\n",
       "      <td>0.0</td>\n",
       "      <td>15.0</td>\n",
       "      <td>24</td>\n",
       "      <td>42.0</td>\n",
       "      <td>71.0</td>\n",
       "      <td>0.0</td>\n",
       "    </tr>\n",
       "    <tr>\n",
       "      <th>4</th>\n",
       "      <td>144337</td>\n",
       "      <td>Fast WIFI Breakfast FREE Parking 5</td>\n",
       "      <td>200.0</td>\n",
       "      <td>1.0</td>\n",
       "      <td>1.5</td>\n",
       "      <td>Private room</td>\n",
       "      <td>250.0</td>\n",
       "      <td>0.0</td>\n",
       "      <td>London</td>\n",
       "      <td>strict</td>\n",
       "      <td>300.0</td>\n",
       "      <td>0.0</td>\n",
       "      <td>20.0</td>\n",
       "      <td>24</td>\n",
       "      <td>200.0</td>\n",
       "      <td>84.0</td>\n",
       "      <td>0.0</td>\n",
       "    </tr>\n",
       "  </tbody>\n",
       "</table>\n",
       "</div>"
      ],
      "text/plain": [
       "        id                                 name  price  bedrooms  bathrooms  \\\n",
       "0  1949687    Delectable Victorian Flat for two   80.0       1.0        1.0   \n",
       "1  3863509   Fully Furnished 3 Bed House/Garden   40.0       1.0        1.0   \n",
       "2  1988980  Cozy Double Room in Victorian House   35.0       1.0        1.0   \n",
       "3  2347198       Double Room In Central London.   42.0       1.0        1.0   \n",
       "4   144337   Fast WIFI Breakfast FREE Parking 5  200.0       1.0        1.5   \n",
       "\n",
       "         room_type  square_feet  host_is_superhost      state  \\\n",
       "0  Entire home/apt          NaN                0.0     London   \n",
       "1     Private room          NaN                0.0     London   \n",
       "2     Private room          NaN                0.0  Greenwich   \n",
       "3     Private room          NaN                0.0     London   \n",
       "4     Private room        250.0                0.0     London   \n",
       "\n",
       "  cancellation_policy  security_deposit  cleaning_fee  extra_people  \\\n",
       "0            moderate             100.0          20.0          10.0   \n",
       "1            flexible               0.0           0.0           0.0   \n",
       "2            flexible               0.0           5.0          10.0   \n",
       "3              strict               0.0           0.0          15.0   \n",
       "4              strict             300.0           0.0          20.0   \n",
       "\n",
       "   number_of_reviews  price_per_bedroom  review_scores_rating  \\\n",
       "0                  8               80.0                  94.0   \n",
       "1                  5               40.0                  55.0   \n",
       "2                 32               35.0                  89.0   \n",
       "3                 24               42.0                  71.0   \n",
       "4                 24              200.0                  84.0   \n",
       "\n",
       "   instant_bookable  \n",
       "0               0.0  \n",
       "1               0.0  \n",
       "2               0.0  \n",
       "3               0.0  \n",
       "4               0.0  "
      ]
     },
     "execution_count": 3,
     "metadata": {},
     "output_type": "execute_result"
    }
   ],
   "source": [
    "df = pd.read_csv('../data/airbnb.csv', error_bad_lines=False, warn_bad_lines=False)\n",
    "df[:5]"
   ]
  },
  {
   "cell_type": "markdown",
   "metadata": {},
   "source": [
    "### Step 1: Standardize the data for out demo"
   ]
  },
  {
   "cell_type": "code",
   "execution_count": 4,
   "metadata": {},
   "outputs": [],
   "source": [
    "def _transform_state(state):\n",
    "    if state in ['NY', 'CA', 'London', 'Berlin', 'TX', 'IL', 'OR', 'DC', 'WA']:\n",
    "        return state\n",
    "    return 'Other'\n"
   ]
  },
  {
   "cell_type": "markdown",
   "metadata": {},
   "source": [
    "### Step 1.1: Take a look at some summary statistics of the data"
   ]
  },
  {
   "cell_type": "code",
   "execution_count": 5,
   "metadata": {},
   "outputs": [
    {
     "data": {
      "text/html": [
       "<div>\n",
       "<style scoped>\n",
       "    .dataframe tbody tr th:only-of-type {\n",
       "        vertical-align: middle;\n",
       "    }\n",
       "\n",
       "    .dataframe tbody tr th {\n",
       "        vertical-align: top;\n",
       "    }\n",
       "\n",
       "    .dataframe thead tr th {\n",
       "        text-align: left;\n",
       "    }\n",
       "\n",
       "    .dataframe thead tr:last-of-type th {\n",
       "        text-align: right;\n",
       "    }\n",
       "</style>\n",
       "<table border=\"1\" class=\"dataframe\">\n",
       "  <thead>\n",
       "    <tr>\n",
       "      <th></th>\n",
       "      <th colspan=\"2\" halign=\"left\">price</th>\n",
       "    </tr>\n",
       "    <tr>\n",
       "      <th></th>\n",
       "      <th>size</th>\n",
       "      <th>mean</th>\n",
       "    </tr>\n",
       "    <tr>\n",
       "      <th>state</th>\n",
       "      <th></th>\n",
       "      <th></th>\n",
       "    </tr>\n",
       "  </thead>\n",
       "  <tbody>\n",
       "    <tr>\n",
       "      <th>NY</th>\n",
       "      <td>52737</td>\n",
       "      <td>142.010695</td>\n",
       "    </tr>\n",
       "    <tr>\n",
       "      <th>CA</th>\n",
       "      <td>48467</td>\n",
       "      <td>159.672870</td>\n",
       "    </tr>\n",
       "    <tr>\n",
       "      <th>Île-de-France</th>\n",
       "      <td>47371</td>\n",
       "      <td>98.960166</td>\n",
       "    </tr>\n",
       "    <tr>\n",
       "      <th>Berlin</th>\n",
       "      <td>23842</td>\n",
       "      <td>60.337807</td>\n",
       "    </tr>\n",
       "    <tr>\n",
       "      <th>London</th>\n",
       "      <td>22873</td>\n",
       "      <td>99.098413</td>\n",
       "    </tr>\n",
       "    <tr>\n",
       "      <th>NSW</th>\n",
       "      <td>15356</td>\n",
       "      <td>170.841039</td>\n",
       "    </tr>\n",
       "    <tr>\n",
       "      <th>VIC</th>\n",
       "      <td>9788</td>\n",
       "      <td>135.221087</td>\n",
       "    </tr>\n",
       "    <tr>\n",
       "      <th>Noord-Holland</th>\n",
       "      <td>9256</td>\n",
       "      <td>125.686690</td>\n",
       "    </tr>\n",
       "    <tr>\n",
       "      <th>Catalunya</th>\n",
       "      <td>8929</td>\n",
       "      <td>65.640945</td>\n",
       "    </tr>\n",
       "    <tr>\n",
       "      <th>Catalonia</th>\n",
       "      <td>8728</td>\n",
       "      <td>82.069317</td>\n",
       "    </tr>\n",
       "  </tbody>\n",
       "</table>\n",
       "</div>"
      ],
      "text/plain": [
       "               price            \n",
       "                size        mean\n",
       "state                           \n",
       "NY             52737  142.010695\n",
       "CA             48467  159.672870\n",
       "Île-de-France  47371   98.960166\n",
       "Berlin         23842   60.337807\n",
       "London         22873   99.098413\n",
       "NSW            15356  170.841039\n",
       "VIC             9788  135.221087\n",
       "Noord-Holland   9256  125.686690\n",
       "Catalunya       8929   65.640945\n",
       "Catalonia       8728   82.069317"
      ]
     },
     "execution_count": 5,
     "metadata": {},
     "output_type": "execute_result"
    }
   ],
   "source": [
    "df[['state', 'price']].groupby('state').agg([np.size, np.mean]).sort_values(by=('price', 'size'), ascending=False)[:10]"
   ]
  },
  {
   "cell_type": "code",
   "execution_count": 6,
   "metadata": {},
   "outputs": [
    {
     "data": {
      "text/html": [
       "<div>\n",
       "<style scoped>\n",
       "    .dataframe tbody tr th:only-of-type {\n",
       "        vertical-align: middle;\n",
       "    }\n",
       "\n",
       "    .dataframe tbody tr th {\n",
       "        vertical-align: top;\n",
       "    }\n",
       "\n",
       "    .dataframe thead tr th {\n",
       "        text-align: left;\n",
       "    }\n",
       "\n",
       "    .dataframe thead tr:last-of-type th {\n",
       "        text-align: right;\n",
       "    }\n",
       "</style>\n",
       "<table border=\"1\" class=\"dataframe\">\n",
       "  <thead>\n",
       "    <tr>\n",
       "      <th></th>\n",
       "      <th colspan=\"3\" halign=\"left\">price</th>\n",
       "    </tr>\n",
       "    <tr>\n",
       "      <th></th>\n",
       "      <th>size</th>\n",
       "      <th>mean</th>\n",
       "      <th>amax</th>\n",
       "    </tr>\n",
       "    <tr>\n",
       "      <th>state</th>\n",
       "      <th></th>\n",
       "      <th></th>\n",
       "      <th></th>\n",
       "    </tr>\n",
       "  </thead>\n",
       "  <tbody>\n",
       "    <tr>\n",
       "      <th>TX</th>\n",
       "      <td>7515</td>\n",
       "      <td>213.240319</td>\n",
       "      <td>2549.0</td>\n",
       "    </tr>\n",
       "    <tr>\n",
       "      <th>TN</th>\n",
       "      <td>3347</td>\n",
       "      <td>184.748730</td>\n",
       "      <td>1570.0</td>\n",
       "    </tr>\n",
       "    <tr>\n",
       "      <th>LA</th>\n",
       "      <td>4196</td>\n",
       "      <td>174.781220</td>\n",
       "      <td>1840.0</td>\n",
       "    </tr>\n",
       "    <tr>\n",
       "      <th>MA</th>\n",
       "      <td>4067</td>\n",
       "      <td>173.470371</td>\n",
       "      <td>1200.0</td>\n",
       "    </tr>\n",
       "    <tr>\n",
       "      <th>NSW</th>\n",
       "      <td>15356</td>\n",
       "      <td>170.841039</td>\n",
       "      <td>9002.0</td>\n",
       "    </tr>\n",
       "    <tr>\n",
       "      <th>Vic</th>\n",
       "      <td>36</td>\n",
       "      <td>162.722222</td>\n",
       "      <td>701.0</td>\n",
       "    </tr>\n",
       "    <tr>\n",
       "      <th>New South Wales</th>\n",
       "      <td>1474</td>\n",
       "      <td>161.008820</td>\n",
       "      <td>2001.0</td>\n",
       "    </tr>\n",
       "    <tr>\n",
       "      <th>CA</th>\n",
       "      <td>48467</td>\n",
       "      <td>159.672870</td>\n",
       "      <td>10000.0</td>\n",
       "    </tr>\n",
       "    <tr>\n",
       "      <th>NY</th>\n",
       "      <td>52737</td>\n",
       "      <td>142.010695</td>\n",
       "      <td>6001.0</td>\n",
       "    </tr>\n",
       "    <tr>\n",
       "      <th>IL</th>\n",
       "      <td>8208</td>\n",
       "      <td>137.878533</td>\n",
       "      <td>2000.0</td>\n",
       "    </tr>\n",
       "  </tbody>\n",
       "</table>\n",
       "</div>"
      ],
      "text/plain": [
       "                 price                     \n",
       "                  size        mean     amax\n",
       "state                                      \n",
       "TX                7515  213.240319   2549.0\n",
       "TN                3347  184.748730   1570.0\n",
       "LA                4196  174.781220   1840.0\n",
       "MA                4067  173.470371   1200.0\n",
       "NSW              15356  170.841039   9002.0\n",
       "Vic                 36  162.722222    701.0\n",
       "New South Wales   1474  161.008820   2001.0\n",
       "CA               48467  159.672870  10000.0\n",
       "NY               52737  142.010695   6001.0\n",
       "IL                8208  137.878533   2000.0"
      ]
     },
     "execution_count": 6,
     "metadata": {},
     "output_type": "execute_result"
    }
   ],
   "source": [
    "price_stats=df[['state', 'price']].groupby('state').agg([np.size, np.mean, np.max]).sort_values(by=('price', 'mean'), ascending=False)\n",
    "price_stats[price_stats[('price','size')]>25][:10]"
   ]
  },
  {
   "cell_type": "code",
   "execution_count": 7,
   "metadata": {},
   "outputs": [],
   "source": [
    "# convert to categorical feature\n",
    "df['host_is_superhost'] = df['host_is_superhost'].apply(str)\n",
    "df['instant_bookable'] = df['instant_bookable'].apply(str)\n",
    "\n",
    "# normalize state\n",
    "df['state'] = df.state.apply(_transform_state)\n"
   ]
  },
  {
   "cell_type": "markdown",
   "metadata": {},
   "source": [
    "### Step 2: Define continous and categorical features and filter nulls"
   ]
  },
  {
   "cell_type": "code",
   "execution_count": 8,
   "metadata": {},
   "outputs": [],
   "source": [
    "continuous_features = [\"bathrooms\",\n",
    "  \"bedrooms\",\n",
    "  \"security_deposit\",\n",
    "  \"cleaning_fee\",\n",
    "  \"extra_people\",\n",
    "  \"number_of_reviews\",\n",
    "  \"square_feet\",\n",
    "  \"review_scores_rating\"]\n",
    "\n",
    "categorical_features = [\"room_type\",\n",
    "  \"host_is_superhost\",\n",
    "  \"cancellation_policy\",\n",
    "  \"state\",\n",
    "  \"instant_bookable\"]\n"
   ]
  },
  {
   "cell_type": "code",
   "execution_count": 9,
   "metadata": {},
   "outputs": [],
   "source": [
    "imputed_continuous_features = ['imp_{}'.format(x) for x in continuous_features]\n",
    "\n",
    "feature_extractor2_tf = FeatureExtractor(input_scalars=continuous_features, output_vector='imputed_features', output_vector_items=imputed_continuous_features)\n",
    "\n",
    "impute_security_deposit_tf = Imputer(strategy='mean', axis=0)\n",
    "impute_security_deposit_tf.mlinit(prior_tf=feature_extractor2_tf, output_features='imputed_features')\n",
    "\n",
    "impute_pipeline = Pipeline([\n",
    "        (feature_extractor2_tf.name, feature_extractor2_tf),\n",
    "        (impute_security_deposit_tf.name, impute_security_deposit_tf)\n",
    "    ])\n",
    "impute_pipeline.mlinit()\n",
    "\n",
    "# Consider doing this via a feature union\n",
    "df2 = df.join(pd.DataFrame(impute_pipeline.fit_transform(df), columns=feature_extractor2_tf.output_vector_items))\n",
    "\n",
    "all_features = imputed_continuous_features + categorical_features"
   ]
  },
  {
   "cell_type": "markdown",
   "metadata": {},
   "source": [
    "### Step 3: Split data into training and validation "
   ]
  },
  {
   "cell_type": "code",
   "execution_count": 10,
   "metadata": {},
   "outputs": [],
   "source": [
    "# First filter out outlier prices\n",
    "df2 = df2[(df2.price>=50)&(df2.price<=500)]\n",
    "\n",
    "# Split into training and test\n",
    "X_train, X_test, y_train, y_test = train_test_split(df2[all_features], df2[['price']], test_size=0.33, random_state=42)"
   ]
  },
  {
   "cell_type": "markdown",
   "metadata": {},
   "source": [
    "### Step 4: Continous Feature Pipeline"
   ]
  },
  {
   "cell_type": "code",
   "execution_count": 11,
   "metadata": {},
   "outputs": [],
   "source": [
    "feature_extractor_tf = FeatureExtractor(input_scalars=imputed_continuous_features, output_vector='unscaled_cont_features', output_vector_items=[\"scaled_{}\".format(x) for x in imputed_continuous_features])\n",
    "\n",
    "standard_scaler_tf = StandardScaler()\n",
    "standard_scaler_tf.mlinit(prior_tf=feature_extractor_tf, output_features='scaled_cont_features')\n",
    "\n",
    "standard_scaler_pipeline = Pipeline([(feature_extractor_tf.name, feature_extractor_tf),\n",
    "                            (standard_scaler_tf.name, standard_scaler_tf)])\n",
    "standard_scaler_pipeline.mlinit()"
   ]
  },
  {
   "cell_type": "markdown",
   "metadata": {},
   "source": [
    "### Step 5: Categorical Feature Pipeline"
   ]
  },
  {
   "cell_type": "code",
   "execution_count": 12,
   "metadata": {},
   "outputs": [],
   "source": [
    "# TODO: Need to fix scikit's One-Hot-Encoder to drop the last column of a matrix if we're using it for ML\n",
    "def _create_le_one_hot_pipeline(feature_name):\n",
    "    feature_extractor3_tf = FeatureExtractor(input_scalars=[feature_name], output_vector='{}_label'.format(feature_name), output_vector_items=[feature_name])\n",
    "\n",
    "    # Label Encoder for x1 Label \n",
    "    label_encoder_tf = LabelEncoder(input_features = feature_extractor3_tf.output_vector_items, output_features='{}_label_le'.format(feature_name))\n",
    "\n",
    "    # Reshape the output of the LabelEncoder to N-by-1 array\n",
    "    reshape_le_tf = ReshapeArrayToN1()\n",
    "\n",
    "    # Vector Assembler for x1 One Hot Encoder\n",
    "    one_hot_encoder_tf = OneHotEncoder(sparse=False)\n",
    "    one_hot_encoder_tf.mlinit(prior_tf=label_encoder_tf, output_features = '{}_label_one_hot_encoded'.format(feature_name))\n",
    "\n",
    "    one_hot_encoder_pipeline_x0 = Pipeline([\n",
    "                                             (feature_extractor3_tf.name, feature_extractor3_tf),\n",
    "                                             (label_encoder_tf.name, label_encoder_tf),\n",
    "                                             (reshape_le_tf.name, reshape_le_tf),\n",
    "                                             (one_hot_encoder_tf.name, one_hot_encoder_tf)\n",
    "                                            ])\n",
    "    \n",
    "    one_hot_encoder_pipeline_x0.mlinit()\n",
    "    \n",
    "    return one_hot_encoder_pipeline_x0"
   ]
  },
  {
   "cell_type": "code",
   "execution_count": 13,
   "metadata": {},
   "outputs": [],
   "source": [
    "oh_pipelines = [_create_le_one_hot_pipeline(x) for x in categorical_features]\n",
    "oh_fes = [x.steps[-1][1] for x in oh_pipelines]"
   ]
  },
  {
   "cell_type": "markdown",
   "metadata": {},
   "source": [
    "### Step 6: Assemble our features and feature pipeline"
   ]
  },
  {
   "cell_type": "code",
   "execution_count": 14,
   "metadata": {},
   "outputs": [],
   "source": [
    "feature_union = FeatureUnion([\n",
    "        (standard_scaler_pipeline.name, standard_scaler_pipeline)\n",
    "    ] + [(x.name, x) for x in oh_pipelines])\n",
    "feature_union.mlinit()"
   ]
  },
  {
   "cell_type": "markdown",
   "metadata": {},
   "source": [
    "### Step 7: Define our linear regression model"
   ]
  },
  {
   "cell_type": "code",
   "execution_count": 15,
   "metadata": {},
   "outputs": [
    {
     "data": {
      "text/plain": [
       "['room_type_label_one_hot_encoded',\n",
       " 'host_is_superhost_label_one_hot_encoded',\n",
       " 'cancellation_policy_label_one_hot_encoded',\n",
       " 'state_label_one_hot_encoded',\n",
       " 'instant_bookable_label_one_hot_encoded']"
      ]
     },
     "execution_count": 15,
     "metadata": {},
     "output_type": "execute_result"
    }
   ],
   "source": [
    "# Put all of the categorical features into a list\n",
    "oh_features_lists = [[y[1].output_features for y in x.steps if y[1].op == 'one_hot_encoder'] for x in oh_pipelines]\n",
    "oh_features = [item for sublist in oh_features_lists for item in sublist]\n",
    "oh_features"
   ]
  },
  {
   "cell_type": "code",
   "execution_count": 16,
   "metadata": {},
   "outputs": [],
   "source": [
    "# Vector Assembler, for serialization purposes only\n",
    "feature_extractor_lr_model_tf = FeatureExtractor(input_vectors=[feature_extractor_tf] + oh_fes, output_vector='input_features', output_vector_items=[standard_scaler_tf.output_features] + oh_features)\n",
    "feature_extractor_lr_model_tf.skip_fit_transform = True\n",
    "\n",
    "# Define our linear regression\n",
    "lr_model = LinearRegression()\n",
    "lr_model.mlinit(input_features='input_features', prediction_column='price_prediction')\n",
    "\n",
    "lr_model_pipeline = Pipeline([\n",
    "        (feature_extractor_lr_model_tf.name, feature_extractor_lr_model_tf),\n",
    "        (lr_model.name, lr_model)\n",
    "    ])\n",
    "lr_model_pipeline.mlinit()"
   ]
  },
  {
   "cell_type": "code",
   "execution_count": 17,
   "metadata": {},
   "outputs": [],
   "source": [
    "model_pipeline = Pipeline([(feature_union.name, feature_union),\n",
    "                            (lr_model_pipeline.name, lr_model_pipeline)])\n",
    "\n",
    "model_pipeline.mlinit()"
   ]
  },
  {
   "cell_type": "markdown",
   "metadata": {},
   "source": [
    "### Step 9: Define our Random Forest Regression Model"
   ]
  },
  {
   "cell_type": "code",
   "execution_count": 18,
   "metadata": {},
   "outputs": [],
   "source": [
    "# Vector Assembler, for serialization purposes only\n",
    "feature_extractor_rf_model_tf = FeatureExtractor(input_scalars=imputed_continuous_features, output_vector='input_features', output_vector_items=imputed_continuous_features)\n",
    "feature_extractor_rf_model_tf.skip_fit_transform = True\n",
    "\n",
    "\n",
    "rf = RandomForestRegressor(max_depth=4, n_estimators=11)\n",
    "rf.mlinit(input_features=feature_extractor_rf_model_tf.output_vector, prediction_column='price_prediction', feature_names=imputed_continuous_features)\n",
    "\n",
    "rf_model_pipeline = Pipeline([\n",
    "        (feature_extractor_rf_model_tf.name, feature_extractor_rf_model_tf),\n",
    "        (rf.name, rf)\n",
    "    ])\n",
    "rf_model_pipeline.mlinit()\n"
   ]
  },
  {
   "cell_type": "code",
   "execution_count": 19,
   "metadata": {},
   "outputs": [
    {
     "data": {
      "text/plain": [
       "Pipeline(memory=None,\n",
       "     steps=[('vector_assembler_498cc0cc-e611-11eb-a813-54ee7558c217', FeatureExtractor(input_scalars=['imp_bathrooms', 'imp_bedrooms', 'imp_security_deposit', 'imp_cleaning_fee', 'imp_extra_people', 'imp_number_of_reviews', 'imp_square_feet', 'imp_review_scores_rating'],\n",
       "         input_vectors=None, outp...timators=11, n_jobs=1,\n",
       "           oob_score=False, random_state=None, verbose=0, warm_start=False))])"
      ]
     },
     "execution_count": 19,
     "metadata": {},
     "output_type": "execute_result"
    }
   ],
   "source": [
    "rf_model_pipeline.fit(X_train[imputed_continuous_features], y_train)"
   ]
  },
  {
   "cell_type": "markdown",
   "metadata": {},
   "source": [
    "### Step 8: Fit our pipeline and regression\n"
   ]
  },
  {
   "cell_type": "code",
   "execution_count": 20,
   "metadata": {},
   "outputs": [
    {
     "name": "stderr",
     "output_type": "stream",
     "text": [
      "c:\\users\\drago\\.conda\\envs\\mleap-env\\lib\\site-packages\\sklearn\\model_selection\\_split.py:428: DeprecationWarning: `np.int` is a deprecated alias for the builtin `int`. To silence this warning, use `int` by itself. Doing this will not modify any behavior and is safe. When replacing `np.int`, you may wish to use e.g. `np.int64` or `np.int32` to specify the precision. If you wish to review your current use, check the release note link for additional information.\n",
      "Deprecated in NumPy 1.20; for more details and guidance: https://numpy.org/devdocs/release/1.20.0-notes.html#deprecations\n",
      "  fold_sizes = (n_samples // n_splits) * np.ones(n_splits, dtype=np.int)\n",
      "c:\\users\\drago\\.conda\\envs\\mleap-env\\lib\\site-packages\\sklearn\\model_selection\\_split.py:108: DeprecationWarning: `np.bool` is a deprecated alias for the builtin `bool`. To silence this warning, use `bool` by itself. Doing this will not modify any behavior and is safe. If you specifically wanted the numpy scalar type, use `np.bool_` here.\n",
      "Deprecated in NumPy 1.20; for more details and guidance: https://numpy.org/devdocs/release/1.20.0-notes.html#deprecations\n",
      "  test_mask = np.zeros(_num_samples(X), dtype=np.bool)\n",
      "c:\\users\\drago\\.conda\\envs\\mleap-env\\lib\\site-packages\\sklearn\\model_selection\\_split.py:108: DeprecationWarning: `np.bool` is a deprecated alias for the builtin `bool`. To silence this warning, use `bool` by itself. Doing this will not modify any behavior and is safe. If you specifically wanted the numpy scalar type, use `np.bool_` here.\n",
      "Deprecated in NumPy 1.20; for more details and guidance: https://numpy.org/devdocs/release/1.20.0-notes.html#deprecations\n",
      "  test_mask = np.zeros(_num_samples(X), dtype=np.bool)\n",
      "c:\\users\\drago\\.conda\\envs\\mleap-env\\lib\\site-packages\\sklearn\\model_selection\\_split.py:108: DeprecationWarning: `np.bool` is a deprecated alias for the builtin `bool`. To silence this warning, use `bool` by itself. Doing this will not modify any behavior and is safe. If you specifically wanted the numpy scalar type, use `np.bool_` here.\n",
      "Deprecated in NumPy 1.20; for more details and guidance: https://numpy.org/devdocs/release/1.20.0-notes.html#deprecations\n",
      "  test_mask = np.zeros(_num_samples(X), dtype=np.bool)\n",
      "c:\\users\\drago\\.conda\\envs\\mleap-env\\lib\\site-packages\\sklearn\\externals\\joblib\\numpy_pickle.py:93: DeprecationWarning: tostring() is deprecated. Use tobytes() instead.\n",
      "  pickler.file_handle.write(chunk.tostring('C'))\n",
      "c:\\users\\drago\\.conda\\envs\\mleap-env\\lib\\site-packages\\sklearn\\externals\\joblib\\numpy_pickle.py:93: DeprecationWarning: tostring() is deprecated. Use tobytes() instead.\n",
      "  pickler.file_handle.write(chunk.tostring('C'))\n",
      "c:\\users\\drago\\.conda\\envs\\mleap-env\\lib\\site-packages\\sklearn\\externals\\joblib\\numpy_pickle.py:93: DeprecationWarning: tostring() is deprecated. Use tobytes() instead.\n",
      "  pickler.file_handle.write(chunk.tostring('C'))\n",
      "c:\\users\\drago\\.conda\\envs\\mleap-env\\lib\\site-packages\\sklearn\\model_selection\\_search.py:706: DeprecationWarning: `np.int` is a deprecated alias for the builtin `int`. To silence this warning, use `int` by itself. Doing this will not modify any behavior and is safe. When replacing `np.int`, you may wish to use e.g. `np.int64` or `np.int32` to specify the precision. If you wish to review your current use, check the release note link for additional information.\n",
      "Deprecated in NumPy 1.20; for more details and guidance: https://numpy.org/devdocs/release/1.20.0-notes.html#deprecations\n",
      "  dtype=np.int)\n"
     ]
    },
    {
     "data": {
      "text/plain": [
       "GridSearchCV(cv=None, error_score='raise',\n",
       "       estimator=Pipeline(memory=None,\n",
       "     steps=[('vector_assembler_498cc0cc-e611-11eb-a813-54ee7558c217', FeatureExtractor(input_scalars=['imp_bathrooms', 'imp_bedrooms', 'imp_security_deposit', 'imp_cleaning_fee', 'imp_extra_people', 'imp_number_of_reviews', 'imp_square_feet', 'imp_review_scores_rating'],\n",
       "         input_vectors=None, outp...timators=11, n_jobs=1,\n",
       "           oob_score=False, random_state=None, verbose=0, warm_start=False))]),\n",
       "       fit_params=None, iid=True, n_jobs=-1,\n",
       "       param_grid={'random_forest_regression_498cc0cd-e611-11eb-8e4d-54ee7558c217__max_depth': [5, 10], 'random_forest_regression_498cc0cd-e611-11eb-8e4d-54ee7558c217__n_estimators': [10, 15, 20]},\n",
       "       pre_dispatch='2*n_jobs', refit=True, return_train_score='warn',\n",
       "       scoring=None, verbose=0)"
      ]
     },
     "execution_count": 20,
     "metadata": {},
     "output_type": "execute_result"
    }
   ],
   "source": [
    "from sklearn.model_selection import GridSearchCV\n",
    "params = {\n",
    "    \"{}__max_depth\".format(rf.name): [5, 10],\n",
    "    \"{}__n_estimators\".format(rf.name): [10, 15, 20]\n",
    "}\n",
    "\n",
    "rf_grid = GridSearchCV(estimator=rf_model_pipeline, param_grid=params, n_jobs=-1)\n",
    "rf_grid.fit(X_train[imputed_continuous_features], y_train)"
   ]
  },
  {
   "cell_type": "code",
   "execution_count": 21,
   "metadata": {},
   "outputs": [],
   "source": [
    "best_rf = rf_grid.best_params_\n",
    "best_max_depth = best_rf[\"{}__max_depth\".format(rf.name)]\n",
    "best_n_estimators = best_rf[\"{}__n_estimators\".format(rf.name)]\n",
    "\n",
    "rf_optimal = RandomForestRegressor(max_depth=best_max_depth, n_estimators=best_n_estimators)\n",
    "\n",
    "rf_optimal.mlinit(input_features=feature_extractor_rf_model_tf.output_vector, \n",
    "                  prediction_column='price_prediction', \n",
    "                  feature_names=imputed_continuous_features)\n",
    "\n",
    "rf_model_pipeline = Pipeline([\n",
    "        (feature_extractor_rf_model_tf.name, feature_extractor_rf_model_tf),\n",
    "        (rf_optimal.name, rf_optimal)\n",
    "    ])\n",
    "rf_model_pipeline.mlinit()"
   ]
  },
  {
   "cell_type": "code",
   "execution_count": 22,
   "metadata": {
    "scrolled": true
   },
   "outputs": [
    {
     "name": "stderr",
     "output_type": "stream",
     "text": [
      "c:\\users\\drago\\.conda\\envs\\mleap-env\\lib\\site-packages\\sklearn\\preprocessing\\data.py:1961: DeprecationWarning: `np.int` is a deprecated alias for the builtin `int`. To silence this warning, use `int` by itself. Doing this will not modify any behavior and is safe. When replacing `np.int`, you may wish to use e.g. `np.int64` or `np.int32` to specify the precision. If you wish to review your current use, check the release note link for additional information.\n",
      "Deprecated in NumPy 1.20; for more details and guidance: https://numpy.org/devdocs/release/1.20.0-notes.html#deprecations\n",
      "  X = check_array(X, dtype=np.int)\n",
      "c:\\users\\drago\\.conda\\envs\\mleap-env\\lib\\site-packages\\sklearn\\preprocessing\\data.py:1961: DeprecationWarning: `np.int` is a deprecated alias for the builtin `int`. To silence this warning, use `int` by itself. Doing this will not modify any behavior and is safe. When replacing `np.int`, you may wish to use e.g. `np.int64` or `np.int32` to specify the precision. If you wish to review your current use, check the release note link for additional information.\n",
      "Deprecated in NumPy 1.20; for more details and guidance: https://numpy.org/devdocs/release/1.20.0-notes.html#deprecations\n",
      "  X = check_array(X, dtype=np.int)\n",
      "c:\\users\\drago\\.conda\\envs\\mleap-env\\lib\\site-packages\\sklearn\\preprocessing\\data.py:1961: DeprecationWarning: `np.int` is a deprecated alias for the builtin `int`. To silence this warning, use `int` by itself. Doing this will not modify any behavior and is safe. When replacing `np.int`, you may wish to use e.g. `np.int64` or `np.int32` to specify the precision. If you wish to review your current use, check the release note link for additional information.\n",
      "Deprecated in NumPy 1.20; for more details and guidance: https://numpy.org/devdocs/release/1.20.0-notes.html#deprecations\n",
      "  X = check_array(X, dtype=np.int)\n",
      "c:\\users\\drago\\.conda\\envs\\mleap-env\\lib\\site-packages\\sklearn\\preprocessing\\data.py:1961: DeprecationWarning: `np.int` is a deprecated alias for the builtin `int`. To silence this warning, use `int` by itself. Doing this will not modify any behavior and is safe. When replacing `np.int`, you may wish to use e.g. `np.int64` or `np.int32` to specify the precision. If you wish to review your current use, check the release note link for additional information.\n",
      "Deprecated in NumPy 1.20; for more details and guidance: https://numpy.org/devdocs/release/1.20.0-notes.html#deprecations\n",
      "  X = check_array(X, dtype=np.int)\n",
      "c:\\users\\drago\\.conda\\envs\\mleap-env\\lib\\site-packages\\sklearn\\preprocessing\\data.py:1961: DeprecationWarning: `np.int` is a deprecated alias for the builtin `int`. To silence this warning, use `int` by itself. Doing this will not modify any behavior and is safe. When replacing `np.int`, you may wish to use e.g. `np.int64` or `np.int32` to specify the precision. If you wish to review your current use, check the release note link for additional information.\n",
      "Deprecated in NumPy 1.20; for more details and guidance: https://numpy.org/devdocs/release/1.20.0-notes.html#deprecations\n",
      "  X = check_array(X, dtype=np.int)\n"
     ]
    },
    {
     "data": {
      "text/plain": [
       "Pipeline(memory=None,\n",
       "     steps=[('vector_assembler_498cc0cc-e611-11eb-a813-54ee7558c217', FeatureExtractor(input_scalars=['imp_bathrooms', 'imp_bedrooms', 'imp_security_deposit', 'imp_cleaning_fee', 'imp_extra_people', 'imp_number_of_reviews', 'imp_square_feet', 'imp_review_scores_rating'],\n",
       "         input_vectors=None, outp...timators=20, n_jobs=1,\n",
       "           oob_score=False, random_state=None, verbose=0, warm_start=False))])"
      ]
     },
     "execution_count": 22,
     "metadata": {},
     "output_type": "execute_result"
    }
   ],
   "source": [
    "model_pipeline.fit(X_train, y_train)\n",
    "rf_model_pipeline.fit(X_train[imputed_continuous_features], y_train)"
   ]
  },
  {
   "cell_type": "markdown",
   "metadata": {},
   "source": [
    "### Step 9: Serialize our pipelines to bundle.ml"
   ]
  },
  {
   "cell_type": "code",
   "execution_count": 23,
   "metadata": {},
   "outputs": [],
   "source": [
    "# Serialize the linear regression model\n",
    "model_pipeline.serialize_to_bundle('../out', 'scikit-airbnb.lr', init=True)\n",
    "\n",
    "# Serialiaze the random forest model\n",
    "rf_model_pipeline.serialize_to_bundle('../out', 'scikit-airbnb.rf', init=True)"
   ]
  },
  {
   "cell_type": "code",
   "execution_count": null,
   "metadata": {},
   "outputs": [],
   "source": []
  }
 ],
 "metadata": {
  "kernelspec": {
   "display_name": "Python 3 (ipykernel)",
   "language": "python",
   "name": "python3"
  },
  "language_info": {
   "codemirror_mode": {
    "name": "ipython",
    "version": 3
   },
   "file_extension": ".py",
   "mimetype": "text/x-python",
   "name": "python",
   "nbconvert_exporter": "python",
   "pygments_lexer": "ipython3",
   "version": "3.7.10"
  }
 },
 "nbformat": 4,
 "nbformat_minor": 1
}

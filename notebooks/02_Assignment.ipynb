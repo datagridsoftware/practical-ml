{
 "cells": [
  {
   "cell_type": "markdown",
   "id": "53012b48",
   "metadata": {},
   "source": [
    "### Module 02 - Assignment"
   ]
  },
  {
   "cell_type": "markdown",
   "id": "919d9299",
   "metadata": {},
   "source": [
    "***\n",
    "#### Environment\n",
    "`conda activate sklearn-env`\n",
    "***\n",
    "#### Goals\n",
    "   \n",
    "- [Load the data sets from the links page](#Dataset-load-from-CSV-located-on-OpenML-website)\n",
    "- [Print statistics about the data](#Print-statistics-about-the-data)\n",
    "- [Train a support vector machine classifier using spam dataset](#Train-a-support-vector-machine-classifier-(SVC)-using-spam-dataset)\n",
    "- Optional\n",
    "  - [Retrain SVC using different parameters (change kernel or penality values) ](#Retrain-SVC-and-set-penalty-(C-parameter)-to-a-higher-value(e.g.-3.0))"
   ]
  },
  {
   "cell_type": "markdown",
   "id": "ebd63d56",
   "metadata": {},
   "source": [
    "#### Basic python imports for panda (dataframe) and seaborn(visualization) packages"
   ]
  },
  {
   "cell_type": "code",
   "execution_count": null,
   "id": "2d79a233",
   "metadata": {},
   "outputs": [],
   "source": [
    "import pandas as pd\n",
    "import numpy as np\n",
    "import seaborn as sns\n",
    "import matplotlib.pyplot as plt\n",
    "from IPython.display import display"
   ]
  },
  {
   "cell_type": "code",
   "execution_count": null,
   "id": "52f7f0b0",
   "metadata": {},
   "outputs": [],
   "source": [
    "from sklearn.datasets import fetch_openml\n",
    "\n",
    "# Load data from https://www.openml.org/d/44\n",
    "data = fetch_openml(\"spambase\", version=1, as_frame=True)\n",
    "dataset = data.frame.copy()\n",
    "dataset['class'] = pd.to_numeric(dataset['class'])\n",
    "dataset.head()"
   ]
  },
  {
   "cell_type": "markdown",
   "id": "eef60435",
   "metadata": {},
   "source": [
    "### Print statistics about the data\n",
    "\n",
    "#### Data description"
   ]
  },
  {
   "cell_type": "code",
   "execution_count": null,
   "id": "b7e4fd35",
   "metadata": {},
   "outputs": [],
   "source": [
    "#print description from the data object\n",
    "<INSERT YOUR CODE HERE>"
   ]
  },
  {
   "cell_type": "markdown",
   "id": "efc21d96",
   "metadata": {},
   "source": [
    "#### Dataset meta information"
   ]
  },
  {
   "cell_type": "code",
   "execution_count": null,
   "id": "a69f5bde",
   "metadata": {},
   "outputs": [],
   "source": [
    "#print dataset information\n",
    "<INSERT YOUR CODE HERE>"
   ]
  },
  {
   "cell_type": "markdown",
   "id": "75ad183d",
   "metadata": {},
   "source": [
    "#### Display total count of missing values "
   ]
  },
  {
   "cell_type": "code",
   "execution_count": null,
   "id": "839069aa",
   "metadata": {},
   "outputs": [],
   "source": [
    "#count all NA values in the dataset\n",
    "<INSERT YOUR CODE HERE>"
   ]
  },
  {
   "cell_type": "markdown",
   "id": "daf94618",
   "metadata": {},
   "source": [
    "#### Basic statistical properties"
   ]
  },
  {
   "cell_type": "code",
   "execution_count": null,
   "id": "dba6d90f",
   "metadata": {},
   "outputs": [],
   "source": [
    "#use dataset's describe method to compute all available statistical properties for the dataset\n",
    "<INSERT YOUR CODE HERE>"
   ]
  },
  {
   "cell_type": "markdown",
   "id": "df23f394",
   "metadata": {},
   "source": [
    "#### Data preparation\n",
    "\n",
    "Split data in `training` and `test` datasets"
   ]
  },
  {
   "cell_type": "code",
   "execution_count": null,
   "id": "6f355fcf",
   "metadata": {},
   "outputs": [],
   "source": [
    "from sklearn.model_selection import train_test_split\n",
    "\n",
    "train_dataset, test_dataset = train_test_split(dataset, test_size=0.2, stratify=dataset['class'])\n",
    "train_dataset.reset_index(drop=True,inplace=True)\n",
    "test_dataset.reset_index(drop=True,inplace=True)\n",
    "\n",
    "train_features = train_dataset.drop('class', axis='columns', inplace=False)\n",
    "test_features = test_dataset.drop('class', axis='columns', inplace=False)\n",
    "\n",
    "train_labels = train_dataset.pop('class')\n",
    "test_labels = test_dataset.pop('class')"
   ]
  },
  {
   "cell_type": "markdown",
   "id": "de265cbd",
   "metadata": {},
   "source": [
    "### Train a support vector machine classifier (SVC) using spam dataset"
   ]
  },
  {
   "cell_type": "code",
   "execution_count": null,
   "id": "cd1bc766",
   "metadata": {},
   "outputs": [],
   "source": [
    "from sklearn.svm import SVC\n",
    "\n",
    "# use sklearn's SVC to create the classifier and fit the training dataset\n",
    "# see https://scikit-learn.org/stable/modules/generated/sklearn.svm.SVC.html for documentation\n",
    "classifier = <INSERT YOUR CODE HERE>\n",
    "classifier.fit(<INSERT YOUR CODE HERE>) \n",
    "\n",
    "print(f\"Model accuracy: {classifier.score(test_features, test_labels )}\")"
   ]
  },
  {
   "cell_type": "code",
   "execution_count": null,
   "id": "d9eb6e10",
   "metadata": {},
   "outputs": [],
   "source": [
    "predicted_class = classifier.predict(test_features)\n",
    "result_df = pd.concat([test_labels, pd.DataFrame(predicted_class, columns=['predicted'])], axis=1)\n",
    "        \n",
    "result_df.sample(10)"
   ]
  },
  {
   "cell_type": "code",
   "execution_count": null,
   "id": "fe1f6efe",
   "metadata": {},
   "outputs": [],
   "source": [
    "print(f\"Model accuracy: {classifier.score(test_features, test_labels )}\")"
   ]
  },
  {
   "cell_type": "markdown",
   "id": "ce4a0674",
   "metadata": {},
   "source": [
    "## Optional"
   ]
  },
  {
   "cell_type": "markdown",
   "id": "54c094a2",
   "metadata": {},
   "source": [
    "### Retrain SVC and set penalty (C parameter) to a higher value(e.g. 3.0)\n",
    "\n",
    "The default value for penalty is 1.0. Compare results with previous model"
   ]
  },
  {
   "cell_type": "code",
   "execution_count": null,
   "id": "e6ef6e9e",
   "metadata": {},
   "outputs": [],
   "source": [
    "# use sklearn's SVC to create the classifier with a C parameter higher than 3 and fit the training dataset\n",
    "# see https://scikit-learn.org/stable/modules/generated/sklearn.svm.SVC.html for documentation\n",
    "classifier = <INSERT YOUR CODE HERE>\n",
    "classifier.fit(<INSERT YOUR CODE HERE>) \n",
    "\n",
    "print(f\"Model accuracy: {classifier.score(test_features, test_labels )}\")"
   ]
  },
  {
   "cell_type": "code",
   "execution_count": null,
   "id": "68f21afd",
   "metadata": {},
   "outputs": [],
   "source": [
    "predicted_class = classifier.predict(test_features)\n",
    "result_df = pd.concat([test_labels, pd.DataFrame(predicted_class, columns=['predicted'])], axis=1)\n",
    "        \n",
    "result_df.sample(10)"
   ]
  }
 ],
 "metadata": {
  "kernelspec": {
   "display_name": "Python 3",
   "language": "python",
   "name": "python3"
  },
  "language_info": {
   "codemirror_mode": {
    "name": "ipython",
    "version": 3
   },
   "file_extension": ".py",
   "mimetype": "text/x-python",
   "name": "python",
   "nbconvert_exporter": "python",
   "pygments_lexer": "ipython3",
   "version": "3.8.10"
  }
 },
 "nbformat": 4,
 "nbformat_minor": 5
}

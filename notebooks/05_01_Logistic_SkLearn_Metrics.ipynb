{
 "cells": [
  {
   "cell_type": "markdown",
   "id": "005ae7fa",
   "metadata": {},
   "source": [
    "### Model evaluation for logistic regression\n",
    "Model metrics with sklearn for logistic regression on the Titanic dataset"
   ]
  },
  {
   "cell_type": "markdown",
   "id": "cf34ac4f",
   "metadata": {},
   "source": [
    "***\n",
    "#### Environment\n",
    "`conda activate sklearn-env`\n",
    "\n",
    "\n",
    "***\n",
    "#### Goals\n",
    "- Build a pipeline\n",
    "- Use the pipeline to transform data\n",
    "- Use the pipeline to predict\n",
    "- Compute various metrics specific to classification models \n",
    "\n",
    "***\n",
    "#### References\n",
    "\n",
    "https://scikit-learn.org/stable/modules/generated/sklearn.preprocessing.OneHotEncoder.html\n",
    "\n",
    "https://scikit-learn.org/stable/auto_examples/compose/plot_column_transformer_mixed_types.html\n",
    "\n",
    "https://scikit-learn.org/stable/modules/generated/sklearn.preprocessing.MinMaxScaler.html\n",
    "\n",
    "https://scikit-learn.org/stable/modules/generated/sklearn.linear_model.LinearRegression.html\n",
    "\n",
    "https://scikit-learn.org/stable/modules/generated/sklearn.pipeline.Pipeline.html\n",
    "\n",
    "https://scikit-learn.org/stable/modules/model_evaluation.html\n",
    "\n"
   ]
  },
  {
   "cell_type": "code",
   "execution_count": null,
   "id": "41fdff1c",
   "metadata": {},
   "outputs": [],
   "source": [
    "import matplotlib.pyplot as plt\n",
    "import numpy as np\n",
    "import pandas as pd\n",
    "import seaborn as sns\n",
    "import random\n",
    "\n",
    "\n",
    "# Make numpy printouts easier to read.\n",
    "np.set_printoptions(precision=3, suppress=True)"
   ]
  },
  {
   "cell_type": "markdown",
   "id": "58a94818",
   "metadata": {},
   "source": [
    "#### Dataset load from CSV located on UCI website.\n",
    "\n",
    "http://archive.ics.uci.edu/ml/machine-learning-databases/auto-mpg/auto-mpg.data  \n",
    "If the URL does not work the dataset can be loaded from the data folder `./data/auto-mpg.data`."
   ]
  },
  {
   "cell_type": "code",
   "execution_count": null,
   "id": "7accb87e",
   "metadata": {
    "scrolled": false
   },
   "outputs": [],
   "source": [
    "from sklearn.datasets import fetch_openml\n",
    "\n",
    "# Load data from https://www.openml.org/d/40945\n",
    "raw_dataset = fetch_openml(\"titanic\", version=1, as_frame=True).frame\n",
    "dataset = raw_dataset.copy()\n",
    "dataset.head(10)"
   ]
  },
  {
   "cell_type": "code",
   "execution_count": null,
   "id": "8c395fee",
   "metadata": {},
   "outputs": [],
   "source": [
    "dataset.drop(['boat', 'body', 'home.dest', 'fare', 'cabin'],  axis=1, inplace=True)"
   ]
  },
  {
   "cell_type": "markdown",
   "id": "df5b02a1",
   "metadata": {},
   "source": [
    "### Dataset split\n",
    "- row base in test and train datasets\n",
    "- column base in features and labels"
   ]
  },
  {
   "cell_type": "code",
   "execution_count": null,
   "id": "5d52ed5d",
   "metadata": {},
   "outputs": [],
   "source": [
    "train_dataset = dataset.sample(frac=0.8, random_state=random.randint(0, 1000))\n",
    "test_dataset = dataset.drop(train_dataset.index)\n",
    "\n",
    "train_features = train_dataset.copy()\n",
    "test_features = test_dataset.copy()\n",
    "\n",
    "train_labels = train_features.pop('survived')\n",
    "test_labels = test_features.pop('survived')\n",
    "\n",
    "test_labels.reset_index(drop=True, inplace=True)"
   ]
  },
  {
   "cell_type": "markdown",
   "id": "98bdef47",
   "metadata": {},
   "source": [
    "#### Build the pipeline"
   ]
  },
  {
   "cell_type": "code",
   "execution_count": null,
   "id": "f622b03e",
   "metadata": {
    "scrolled": true
   },
   "outputs": [],
   "source": [
    "from sklearn.preprocessing import MinMaxScaler\n",
    "from sklearn.impute import SimpleImputer\n",
    "from sklearn.preprocessing import OneHotEncoder,OrdinalEncoder\n",
    "from sklearn.compose import ColumnTransformer\n",
    "from sklearn.preprocessing import FunctionTransformer\n",
    "\n",
    "from sklearn.pipeline import Pipeline\n",
    "\n",
    "numeric_features = ['age', 'sibsp', 'parch']\n",
    "numeric_transformer = Pipeline(steps=[\n",
    "    ('imputer', SimpleImputer(strategy='median')),\n",
    "    ('scaler', MinMaxScaler())])\n",
    "\n",
    "custom_features = ['pclass']\n",
    "custom_transformer = FunctionTransformer(np.square, validate=True)\n",
    "\n",
    "categorical_features = ['embarked', 'sex']\n",
    "ohe_transformer = OneHotEncoder(handle_unknown='ignore')\n",
    "categorical_transformer = Pipeline(steps=[\n",
    "    ('imputer', SimpleImputer(strategy='most_frequent')),\n",
    "    ('ohe', ohe_transformer)])\n",
    "\n",
    "preprocessor = ColumnTransformer(\n",
    "    transformers=[\n",
    "        ('num', numeric_transformer, numeric_features),\n",
    "        ('ohe', categorical_transformer, categorical_features),\n",
    "        ('cust', custom_transformer, custom_features)])\n",
    "\n",
    "data_prep_pipeline = Pipeline(steps=[('preprocessor', preprocessor)])"
   ]
  },
  {
   "cell_type": "markdown",
   "id": "0220f42d",
   "metadata": {},
   "source": [
    "#### Use the pipeline to transform data"
   ]
  },
  {
   "cell_type": "code",
   "execution_count": null,
   "id": "484f39c1",
   "metadata": {},
   "outputs": [],
   "source": [
    "data_prep_data = data_prep_pipeline.fit_transform(train_features, train_labels)\n",
    "\n",
    "transformed_df = pd.DataFrame(data = data_prep_data)\n",
    "transformed_df.head(10)"
   ]
  },
  {
   "cell_type": "markdown",
   "id": "bd67ca85",
   "metadata": {},
   "source": [
    "#### Build the full pipeline"
   ]
  },
  {
   "cell_type": "code",
   "execution_count": null,
   "id": "34f9a879",
   "metadata": {},
   "outputs": [],
   "source": [
    "from sklearn.linear_model import LogisticRegression\n",
    "pipeline = Pipeline(steps=[('preprocessor', preprocessor), ('regressor', LogisticRegression())])\n",
    "pipeline_model = pipeline.fit(train_features, train_labels)\n",
    "print(pipeline_model)"
   ]
  },
  {
   "cell_type": "code",
   "execution_count": null,
   "id": "5d251a7b",
   "metadata": {},
   "outputs": [],
   "source": [
    "from sklearn import set_config\n",
    "\n",
    "set_config(display='diagram')\n",
    "pipeline"
   ]
  },
  {
   "cell_type": "markdown",
   "id": "eafce26d",
   "metadata": {},
   "source": [
    "#### Use pipeline to predict values"
   ]
  },
  {
   "cell_type": "code",
   "execution_count": null,
   "id": "fbdb445c",
   "metadata": {},
   "outputs": [],
   "source": [
    "scored_data = pipeline.predict(test_features)"
   ]
  },
  {
   "cell_type": "markdown",
   "id": "2f3c2e3c",
   "metadata": {},
   "source": [
    "#### Show predicted values"
   ]
  },
  {
   "cell_type": "code",
   "execution_count": null,
   "id": "f8056caa",
   "metadata": {},
   "outputs": [],
   "source": [
    "scored_df = pd.DataFrame(data = scored_data)\n",
    "\n",
    "scored_df = pd.concat([scored_df, test_labels], axis=1)\n",
    "scored_df.head(10)"
   ]
  },
  {
   "cell_type": "markdown",
   "id": "181e67f4",
   "metadata": {},
   "source": [
    "### Model evaluation"
   ]
  },
  {
   "cell_type": "markdown",
   "id": "0cdd2e14",
   "metadata": {},
   "source": [
    "#### Confusion matrix\n",
    "https://scikit-learn.org/stable/modules/generated/sklearn.metrics.confusion_matrix.html"
   ]
  },
  {
   "cell_type": "code",
   "execution_count": null,
   "id": "5c8e91b6",
   "metadata": {},
   "outputs": [],
   "source": [
    "from sklearn.metrics import confusion_matrix\n",
    "tn, fp, fn, tp = confusion_matrix(test_labels, scored_data).ravel()"
   ]
  },
  {
   "cell_type": "markdown",
   "id": "b480abab",
   "metadata": {},
   "source": [
    "#### Plot Confusion Matrix\n",
    "https://scikit-learn.org/stable/modules/generated/sklearn.metrics.confusion_matrix.html"
   ]
  },
  {
   "cell_type": "code",
   "execution_count": null,
   "id": "9fcac487",
   "metadata": {},
   "outputs": [],
   "source": [
    "from sklearn.metrics import plot_confusion_matrix\n",
    "\n",
    "def plotConfusionMatrix(test_features, test_labels, pipeline):\n",
    "    title = \"Confusion matrix\"\n",
    "    \n",
    "    disp = plot_confusion_matrix(pipeline, test_features, test_labels,\n",
    "                                 display_labels=['Survived', 'Not survived'],\n",
    "                                 cmap=plt.cm.Blues)\n",
    "    disp.ax_.set_title(title)\n",
    "    \n",
    "    print(title)\n",
    "    print(disp.confusion_matrix)\n",
    "    \n",
    "    plt.show()"
   ]
  },
  {
   "cell_type": "code",
   "execution_count": null,
   "id": "a12a4b48",
   "metadata": {},
   "outputs": [],
   "source": [
    "plotConfusionMatrix(test_features, test_labels, pipeline)"
   ]
  },
  {
   "cell_type": "markdown",
   "id": "59f1c6a8",
   "metadata": {},
   "source": [
    "#### Metrics \n",
    "https://scikit-learn.org/stable/modules/generated/sklearn.metrics.accuracy_score.html  \n",
    "https://scikit-learn.org/stable/modules/generated/sklearn.metrics.precision_score.html  \n",
    "https://scikit-learn.org/stable/modules/generated/sklearn.metrics.recall_score.html  \n",
    "https://scikit-learn.org/stable/modules/generated/sklearn.metrics.f1_score.html  \n",
    "https://scikit-learn.org/stable/modules/generated/sklearn.metrics.roc_auc_score.html\n",
    "https://scikit-learn.org/stable/modules/generated/sklearn.metrics.log_loss.html"
   ]
  },
  {
   "cell_type": "code",
   "execution_count": null,
   "id": "659b6745",
   "metadata": {},
   "outputs": [],
   "source": [
    "def showMetrics(test_features, test_labels, scored_data, pipeline):\n",
    "    from sklearn.metrics import accuracy_score\n",
    "    print(\"Accuracy: \", accuracy_score(test_labels, scored_data))\n",
    "    \n",
    "    from sklearn.metrics import precision_score\n",
    "    print( \"Precission\", precision_score(test_labels, scored_data, average='binary', pos_label='1'))\n",
    "    \n",
    "    from sklearn.metrics import recall_score\n",
    "    print( \"Sensitivity: \", recall_score(test_labels, scored_data, average='binary', pos_label='1'))\n",
    "\n",
    "    print(\"Specify\", tn / (tn+fp))\n",
    "    \n",
    "    from sklearn.metrics import f1_score\n",
    "    print( \"F1 score\", f1_score(test_labels, scored_data, average='binary', pos_label='1'))\n",
    "    \n",
    "    from sklearn.metrics import roc_auc_score\n",
    "    print( \"AuROC\", roc_auc_score(test_labels, pipeline.predict_proba(test_features)[:, 1]))\n",
    "\n",
    "    from sklearn.metrics import log_loss\n",
    "    print( \"Cross-entropy loss\", log_loss(test_labels, pipeline.predict_proba(test_features)[:, 1]))\n",
    "\n",
    "    log_loss\n",
    "    "
   ]
  },
  {
   "cell_type": "code",
   "execution_count": null,
   "id": "4f1dd0c0",
   "metadata": {},
   "outputs": [],
   "source": [
    "showMetrics(test_features, test_labels, scored_data, pipeline)"
   ]
  },
  {
   "cell_type": "markdown",
   "id": "0154055e",
   "metadata": {},
   "source": [
    "#### Roc Curve - plot\n",
    "\n",
    "https://scikit-learn.org/stable/modules/generated/sklearn.metrics.RocCurveDisplay.html\n",
    "https://scikit-learn.org/stable/modules/generated/sklearn.metrics.plot_roc_curve.html"
   ]
  },
  {
   "cell_type": "code",
   "execution_count": null,
   "id": "5f495895",
   "metadata": {},
   "outputs": [],
   "source": [
    "import matplotlib.pyplot as plt  \n",
    "import numpy as np\n",
    "from sklearn import metrics\n",
    "\n",
    "def plotAuROC(test_features, test_labels, pipeline):\n",
    "    fpr, tpr, thresholds = metrics.roc_curve(test_labels, pipeline.predict_proba(test_features)[:, 1], pos_label='1')\n",
    "    roc_auc = metrics.auc(fpr, tpr)\n",
    "    display = metrics.RocCurveDisplay(fpr=fpr, tpr=tpr, roc_auc=roc_auc, estimator_name='Logistic regression estimator')\n",
    "    display.plot()  \n",
    "    plt.show()      "
   ]
  },
  {
   "cell_type": "code",
   "execution_count": null,
   "id": "f9a18a03",
   "metadata": {
    "scrolled": true
   },
   "outputs": [],
   "source": [
    "plotAuROC(test_features, test_labels, pipeline)"
   ]
  },
  {
   "cell_type": "markdown",
   "id": "53c63358",
   "metadata": {},
   "source": [
    "### Build basic model without feature engineering and compare metrics"
   ]
  },
  {
   "cell_type": "code",
   "execution_count": null,
   "id": "aca94be6",
   "metadata": {},
   "outputs": [],
   "source": [
    "train_dataset_new = train_dataset[['pclass','sibsp','parch', 'survived' ]].copy()\n",
    "test_dataset_new = test_dataset[['pclass','sibsp','parch', 'survived' ]].copy()\n",
    "\n",
    "train_features_new = train_dataset_new.copy()\n",
    "test_features_new = test_dataset_new.copy()\n",
    "\n",
    "train_labels_new = train_features_new.pop('survived')\n",
    "test_labels_new = test_features_new.pop('survived')"
   ]
  },
  {
   "cell_type": "code",
   "execution_count": null,
   "id": "001ffbca",
   "metadata": {},
   "outputs": [],
   "source": [
    "from sklearn.linear_model import LogisticRegression\n",
    "\n",
    "logistic_regressor_new = LogisticRegression().fit(train_features_new, train_labels_new)\n",
    "scored_data_new = logistic_regressor_new.predict(test_features_new)"
   ]
  },
  {
   "cell_type": "code",
   "execution_count": null,
   "id": "d7fa61f6",
   "metadata": {},
   "outputs": [],
   "source": [
    "tn, fp, fn, tp = confusion_matrix(test_labels_new, scored_data_new).ravel()"
   ]
  },
  {
   "cell_type": "code",
   "execution_count": null,
   "id": "e90be13d",
   "metadata": {},
   "outputs": [],
   "source": [
    "plotConfusionMatrix(test_features_new, test_labels_new, logistic_regressor_new)"
   ]
  },
  {
   "cell_type": "code",
   "execution_count": null,
   "id": "1168f326",
   "metadata": {},
   "outputs": [],
   "source": [
    "showMetrics(test_features_new, test_labels_new, scored_data_new, logistic_regressor_new)"
   ]
  },
  {
   "cell_type": "code",
   "execution_count": null,
   "id": "cf8cbab7",
   "metadata": {},
   "outputs": [],
   "source": [
    "plotAuROC(test_features_new, test_labels_new, logistic_regressor_new)"
   ]
  }
 ],
 "metadata": {
  "kernelspec": {
   "display_name": "Python 3",
   "language": "python",
   "name": "python3"
  },
  "language_info": {
   "codemirror_mode": {
    "name": "ipython",
    "version": 3
   },
   "file_extension": ".py",
   "mimetype": "text/x-python",
   "name": "python",
   "nbconvert_exporter": "python",
   "pygments_lexer": "ipython3",
   "version": "3.8.10"
  }
 },
 "nbformat": 4,
 "nbformat_minor": 5
}

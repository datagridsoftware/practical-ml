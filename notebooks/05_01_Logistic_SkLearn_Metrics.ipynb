{
 "cells": [
  {
   "cell_type": "markdown",
   "id": "005ae7fa",
   "metadata": {},
   "source": [
    "### Model evaluation for logistic regression\n",
    "Model metrics with sklearn for logistic regression on the Titanic dataset"
   ]
  },
  {
   "cell_type": "markdown",
   "id": "cf34ac4f",
   "metadata": {},
   "source": [
    "***\n",
    "#### Environment\n",
    "`conda activate sklearn-env`\n",
    "\n",
    "\n",
    "***\n",
    "#### Goals\n",
    "- Build a pipeline\n",
    "- Use the pipeline to transform data\n",
    "- Use the pipeline to predict\n",
    "- Compute various metrics specific to classification models \n",
    "\n",
    "***\n",
    "#### References\n",
    "\n",
    "https://scikit-learn.org/stable/modules/generated/sklearn.preprocessing.OneHotEncoder.html\n",
    "\n",
    "https://scikit-learn.org/stable/auto_examples/compose/plot_column_transformer_mixed_types.html\n",
    "\n",
    "https://scikit-learn.org/stable/modules/generated/sklearn.preprocessing.MinMaxScaler.html\n",
    "\n",
    "https://scikit-learn.org/stable/modules/generated/sklearn.linear_model.LinearRegression.html\n",
    "\n",
    "https://scikit-learn.org/stable/modules/generated/sklearn.pipeline.Pipeline.html\n",
    "\n",
    "https://scikit-learn.org/stable/modules/model_evaluation.html\n",
    "\n"
   ]
  },
  {
   "cell_type": "code",
   "execution_count": 1,
   "id": "41fdff1c",
   "metadata": {},
   "outputs": [],
   "source": [
    "import matplotlib.pyplot as plt\n",
    "import numpy as np\n",
    "import pandas as pd\n",
    "import seaborn as sns\n",
    "import random\n",
    "\n",
    "\n",
    "# Make numpy printouts easier to read.\n",
    "np.set_printoptions(precision=3, suppress=True)"
   ]
  },
  {
   "cell_type": "markdown",
   "id": "58a94818",
   "metadata": {},
   "source": [
    "#### Dataset load from CSV located on UCI website.\n",
    "\n",
    "http://archive.ics.uci.edu/ml/machine-learning-databases/auto-mpg/auto-mpg.data  \n",
    "If the URL does not work the dataset can be loaded from the data folder `./data/auto-mpg.data`."
   ]
  },
  {
   "cell_type": "code",
   "execution_count": 2,
   "id": "7accb87e",
   "metadata": {
    "scrolled": false
   },
   "outputs": [
    {
     "data": {
      "text/html": [
       "<div>\n",
       "<style scoped>\n",
       "    .dataframe tbody tr th:only-of-type {\n",
       "        vertical-align: middle;\n",
       "    }\n",
       "\n",
       "    .dataframe tbody tr th {\n",
       "        vertical-align: top;\n",
       "    }\n",
       "\n",
       "    .dataframe thead th {\n",
       "        text-align: right;\n",
       "    }\n",
       "</style>\n",
       "<table border=\"1\" class=\"dataframe\">\n",
       "  <thead>\n",
       "    <tr style=\"text-align: right;\">\n",
       "      <th></th>\n",
       "      <th>pclass</th>\n",
       "      <th>survived</th>\n",
       "      <th>name</th>\n",
       "      <th>sex</th>\n",
       "      <th>age</th>\n",
       "      <th>sibsp</th>\n",
       "      <th>parch</th>\n",
       "      <th>ticket</th>\n",
       "      <th>fare</th>\n",
       "      <th>cabin</th>\n",
       "      <th>embarked</th>\n",
       "      <th>boat</th>\n",
       "      <th>body</th>\n",
       "      <th>home.dest</th>\n",
       "    </tr>\n",
       "  </thead>\n",
       "  <tbody>\n",
       "    <tr>\n",
       "      <th>0</th>\n",
       "      <td>1.0</td>\n",
       "      <td>1</td>\n",
       "      <td>Allen, Miss. Elisabeth Walton</td>\n",
       "      <td>female</td>\n",
       "      <td>29.0000</td>\n",
       "      <td>0.0</td>\n",
       "      <td>0.0</td>\n",
       "      <td>24160</td>\n",
       "      <td>211.3375</td>\n",
       "      <td>B5</td>\n",
       "      <td>S</td>\n",
       "      <td>2</td>\n",
       "      <td>NaN</td>\n",
       "      <td>St Louis, MO</td>\n",
       "    </tr>\n",
       "    <tr>\n",
       "      <th>1</th>\n",
       "      <td>1.0</td>\n",
       "      <td>1</td>\n",
       "      <td>Allison, Master. Hudson Trevor</td>\n",
       "      <td>male</td>\n",
       "      <td>0.9167</td>\n",
       "      <td>1.0</td>\n",
       "      <td>2.0</td>\n",
       "      <td>113781</td>\n",
       "      <td>151.5500</td>\n",
       "      <td>C22 C26</td>\n",
       "      <td>S</td>\n",
       "      <td>11</td>\n",
       "      <td>NaN</td>\n",
       "      <td>Montreal, PQ / Chesterville, ON</td>\n",
       "    </tr>\n",
       "    <tr>\n",
       "      <th>2</th>\n",
       "      <td>1.0</td>\n",
       "      <td>0</td>\n",
       "      <td>Allison, Miss. Helen Loraine</td>\n",
       "      <td>female</td>\n",
       "      <td>2.0000</td>\n",
       "      <td>1.0</td>\n",
       "      <td>2.0</td>\n",
       "      <td>113781</td>\n",
       "      <td>151.5500</td>\n",
       "      <td>C22 C26</td>\n",
       "      <td>S</td>\n",
       "      <td>None</td>\n",
       "      <td>NaN</td>\n",
       "      <td>Montreal, PQ / Chesterville, ON</td>\n",
       "    </tr>\n",
       "    <tr>\n",
       "      <th>3</th>\n",
       "      <td>1.0</td>\n",
       "      <td>0</td>\n",
       "      <td>Allison, Mr. Hudson Joshua Creighton</td>\n",
       "      <td>male</td>\n",
       "      <td>30.0000</td>\n",
       "      <td>1.0</td>\n",
       "      <td>2.0</td>\n",
       "      <td>113781</td>\n",
       "      <td>151.5500</td>\n",
       "      <td>C22 C26</td>\n",
       "      <td>S</td>\n",
       "      <td>None</td>\n",
       "      <td>135.0</td>\n",
       "      <td>Montreal, PQ / Chesterville, ON</td>\n",
       "    </tr>\n",
       "    <tr>\n",
       "      <th>4</th>\n",
       "      <td>1.0</td>\n",
       "      <td>0</td>\n",
       "      <td>Allison, Mrs. Hudson J C (Bessie Waldo Daniels)</td>\n",
       "      <td>female</td>\n",
       "      <td>25.0000</td>\n",
       "      <td>1.0</td>\n",
       "      <td>2.0</td>\n",
       "      <td>113781</td>\n",
       "      <td>151.5500</td>\n",
       "      <td>C22 C26</td>\n",
       "      <td>S</td>\n",
       "      <td>None</td>\n",
       "      <td>NaN</td>\n",
       "      <td>Montreal, PQ / Chesterville, ON</td>\n",
       "    </tr>\n",
       "    <tr>\n",
       "      <th>5</th>\n",
       "      <td>1.0</td>\n",
       "      <td>1</td>\n",
       "      <td>Anderson, Mr. Harry</td>\n",
       "      <td>male</td>\n",
       "      <td>48.0000</td>\n",
       "      <td>0.0</td>\n",
       "      <td>0.0</td>\n",
       "      <td>19952</td>\n",
       "      <td>26.5500</td>\n",
       "      <td>E12</td>\n",
       "      <td>S</td>\n",
       "      <td>3</td>\n",
       "      <td>NaN</td>\n",
       "      <td>New York, NY</td>\n",
       "    </tr>\n",
       "    <tr>\n",
       "      <th>6</th>\n",
       "      <td>1.0</td>\n",
       "      <td>1</td>\n",
       "      <td>Andrews, Miss. Kornelia Theodosia</td>\n",
       "      <td>female</td>\n",
       "      <td>63.0000</td>\n",
       "      <td>1.0</td>\n",
       "      <td>0.0</td>\n",
       "      <td>13502</td>\n",
       "      <td>77.9583</td>\n",
       "      <td>D7</td>\n",
       "      <td>S</td>\n",
       "      <td>10</td>\n",
       "      <td>NaN</td>\n",
       "      <td>Hudson, NY</td>\n",
       "    </tr>\n",
       "    <tr>\n",
       "      <th>7</th>\n",
       "      <td>1.0</td>\n",
       "      <td>0</td>\n",
       "      <td>Andrews, Mr. Thomas Jr</td>\n",
       "      <td>male</td>\n",
       "      <td>39.0000</td>\n",
       "      <td>0.0</td>\n",
       "      <td>0.0</td>\n",
       "      <td>112050</td>\n",
       "      <td>0.0000</td>\n",
       "      <td>A36</td>\n",
       "      <td>S</td>\n",
       "      <td>None</td>\n",
       "      <td>NaN</td>\n",
       "      <td>Belfast, NI</td>\n",
       "    </tr>\n",
       "    <tr>\n",
       "      <th>8</th>\n",
       "      <td>1.0</td>\n",
       "      <td>1</td>\n",
       "      <td>Appleton, Mrs. Edward Dale (Charlotte Lamson)</td>\n",
       "      <td>female</td>\n",
       "      <td>53.0000</td>\n",
       "      <td>2.0</td>\n",
       "      <td>0.0</td>\n",
       "      <td>11769</td>\n",
       "      <td>51.4792</td>\n",
       "      <td>C101</td>\n",
       "      <td>S</td>\n",
       "      <td>D</td>\n",
       "      <td>NaN</td>\n",
       "      <td>Bayside, Queens, NY</td>\n",
       "    </tr>\n",
       "    <tr>\n",
       "      <th>9</th>\n",
       "      <td>1.0</td>\n",
       "      <td>0</td>\n",
       "      <td>Artagaveytia, Mr. Ramon</td>\n",
       "      <td>male</td>\n",
       "      <td>71.0000</td>\n",
       "      <td>0.0</td>\n",
       "      <td>0.0</td>\n",
       "      <td>PC 17609</td>\n",
       "      <td>49.5042</td>\n",
       "      <td>None</td>\n",
       "      <td>C</td>\n",
       "      <td>None</td>\n",
       "      <td>22.0</td>\n",
       "      <td>Montevideo, Uruguay</td>\n",
       "    </tr>\n",
       "  </tbody>\n",
       "</table>\n",
       "</div>"
      ],
      "text/plain": [
       "   pclass survived                                             name     sex  \\\n",
       "0     1.0        1                    Allen, Miss. Elisabeth Walton  female   \n",
       "1     1.0        1                   Allison, Master. Hudson Trevor    male   \n",
       "2     1.0        0                     Allison, Miss. Helen Loraine  female   \n",
       "3     1.0        0             Allison, Mr. Hudson Joshua Creighton    male   \n",
       "4     1.0        0  Allison, Mrs. Hudson J C (Bessie Waldo Daniels)  female   \n",
       "5     1.0        1                              Anderson, Mr. Harry    male   \n",
       "6     1.0        1                Andrews, Miss. Kornelia Theodosia  female   \n",
       "7     1.0        0                           Andrews, Mr. Thomas Jr    male   \n",
       "8     1.0        1    Appleton, Mrs. Edward Dale (Charlotte Lamson)  female   \n",
       "9     1.0        0                          Artagaveytia, Mr. Ramon    male   \n",
       "\n",
       "       age  sibsp  parch    ticket      fare    cabin embarked  boat   body  \\\n",
       "0  29.0000    0.0    0.0     24160  211.3375       B5        S     2    NaN   \n",
       "1   0.9167    1.0    2.0    113781  151.5500  C22 C26        S    11    NaN   \n",
       "2   2.0000    1.0    2.0    113781  151.5500  C22 C26        S  None    NaN   \n",
       "3  30.0000    1.0    2.0    113781  151.5500  C22 C26        S  None  135.0   \n",
       "4  25.0000    1.0    2.0    113781  151.5500  C22 C26        S  None    NaN   \n",
       "5  48.0000    0.0    0.0     19952   26.5500      E12        S     3    NaN   \n",
       "6  63.0000    1.0    0.0     13502   77.9583       D7        S    10    NaN   \n",
       "7  39.0000    0.0    0.0    112050    0.0000      A36        S  None    NaN   \n",
       "8  53.0000    2.0    0.0     11769   51.4792     C101        S     D    NaN   \n",
       "9  71.0000    0.0    0.0  PC 17609   49.5042     None        C  None   22.0   \n",
       "\n",
       "                         home.dest  \n",
       "0                     St Louis, MO  \n",
       "1  Montreal, PQ / Chesterville, ON  \n",
       "2  Montreal, PQ / Chesterville, ON  \n",
       "3  Montreal, PQ / Chesterville, ON  \n",
       "4  Montreal, PQ / Chesterville, ON  \n",
       "5                     New York, NY  \n",
       "6                       Hudson, NY  \n",
       "7                      Belfast, NI  \n",
       "8              Bayside, Queens, NY  \n",
       "9              Montevideo, Uruguay  "
      ]
     },
     "execution_count": 2,
     "metadata": {},
     "output_type": "execute_result"
    }
   ],
   "source": [
    "from sklearn.datasets import fetch_openml\n",
    "\n",
    "# Load data from https://www.openml.org/d/40945\n",
    "raw_dataset = fetch_openml(\"titanic\", version=1, as_frame=True).frame\n",
    "dataset = raw_dataset.copy()\n",
    "dataset.head(10)"
   ]
  },
  {
   "cell_type": "code",
   "execution_count": 3,
   "id": "8c395fee",
   "metadata": {},
   "outputs": [],
   "source": [
    "dataset.drop(['boat', 'body', 'home.dest', 'fare', 'cabin'],  axis=1, inplace=True)"
   ]
  },
  {
   "cell_type": "markdown",
   "id": "df5b02a1",
   "metadata": {},
   "source": [
    "### Dataset split\n",
    "- row base in test and train datasets\n",
    "- column base in features and labels"
   ]
  },
  {
   "cell_type": "code",
   "execution_count": 4,
   "id": "5d52ed5d",
   "metadata": {},
   "outputs": [],
   "source": [
    "train_dataset = dataset.sample(frac=0.8, random_state=random.randint(0, 1000))\n",
    "test_dataset = dataset.drop(train_dataset.index)\n",
    "\n",
    "train_features = train_dataset.copy()\n",
    "test_features = test_dataset.copy()\n",
    "\n",
    "train_labels = train_features.pop('survived')\n",
    "test_labels = test_features.pop('survived')\n",
    "\n",
    "test_labels.reset_index(drop=True, inplace=True)"
   ]
  },
  {
   "cell_type": "markdown",
   "id": "98bdef47",
   "metadata": {},
   "source": [
    "#### Build the pipeline"
   ]
  },
  {
   "cell_type": "code",
   "execution_count": 5,
   "id": "f622b03e",
   "metadata": {
    "scrolled": true
   },
   "outputs": [],
   "source": [
    "from sklearn.preprocessing import MinMaxScaler\n",
    "from sklearn.impute import SimpleImputer\n",
    "from sklearn.preprocessing import OneHotEncoder,OrdinalEncoder\n",
    "from sklearn.compose import ColumnTransformer\n",
    "from sklearn.preprocessing import FunctionTransformer\n",
    "\n",
    "from sklearn.pipeline import Pipeline\n",
    "\n",
    "numeric_features = ['age', 'sibsp', 'parch']\n",
    "numeric_transformer = Pipeline(steps=[\n",
    "    ('imputer', SimpleImputer(strategy='median')),\n",
    "    ('scaler', MinMaxScaler())])\n",
    "\n",
    "custom_features = ['pclass']\n",
    "custom_transformer = FunctionTransformer(np.square, validate=True)\n",
    "\n",
    "categorical_features = ['embarked', 'sex']\n",
    "ohe_transformer = OneHotEncoder(handle_unknown='ignore')\n",
    "categorical_transformer = Pipeline(steps=[\n",
    "    ('imputer', SimpleImputer(strategy='most_frequent')),\n",
    "    ('ohe', ohe_transformer)])\n",
    "\n",
    "preprocessor = ColumnTransformer(\n",
    "    transformers=[\n",
    "        ('num', numeric_transformer, numeric_features),\n",
    "        ('ohe', categorical_transformer, categorical_features),\n",
    "        ('cust', custom_transformer, custom_features)])\n",
    "\n",
    "data_prep_pipeline = Pipeline(steps=[('preprocessor', preprocessor)])"
   ]
  },
  {
   "cell_type": "markdown",
   "id": "0220f42d",
   "metadata": {},
   "source": [
    "#### Use the pipeline to transform data"
   ]
  },
  {
   "cell_type": "code",
   "execution_count": 6,
   "id": "484f39c1",
   "metadata": {},
   "outputs": [
    {
     "data": {
      "text/html": [
       "<div>\n",
       "<style scoped>\n",
       "    .dataframe tbody tr th:only-of-type {\n",
       "        vertical-align: middle;\n",
       "    }\n",
       "\n",
       "    .dataframe tbody tr th {\n",
       "        vertical-align: top;\n",
       "    }\n",
       "\n",
       "    .dataframe thead th {\n",
       "        text-align: right;\n",
       "    }\n",
       "</style>\n",
       "<table border=\"1\" class=\"dataframe\">\n",
       "  <thead>\n",
       "    <tr style=\"text-align: right;\">\n",
       "      <th></th>\n",
       "      <th>0</th>\n",
       "      <th>1</th>\n",
       "      <th>2</th>\n",
       "      <th>3</th>\n",
       "      <th>4</th>\n",
       "      <th>5</th>\n",
       "      <th>6</th>\n",
       "      <th>7</th>\n",
       "      <th>8</th>\n",
       "    </tr>\n",
       "  </thead>\n",
       "  <tbody>\n",
       "    <tr>\n",
       "      <th>0</th>\n",
       "      <td>0.524008</td>\n",
       "      <td>0.125</td>\n",
       "      <td>0.000000</td>\n",
       "      <td>0.0</td>\n",
       "      <td>0.0</td>\n",
       "      <td>1.0</td>\n",
       "      <td>0.0</td>\n",
       "      <td>1.0</td>\n",
       "      <td>4.0</td>\n",
       "    </tr>\n",
       "    <tr>\n",
       "      <th>1</th>\n",
       "      <td>0.373695</td>\n",
       "      <td>0.000</td>\n",
       "      <td>0.000000</td>\n",
       "      <td>0.0</td>\n",
       "      <td>0.0</td>\n",
       "      <td>1.0</td>\n",
       "      <td>0.0</td>\n",
       "      <td>1.0</td>\n",
       "      <td>4.0</td>\n",
       "    </tr>\n",
       "    <tr>\n",
       "      <th>2</th>\n",
       "      <td>0.048016</td>\n",
       "      <td>0.125</td>\n",
       "      <td>0.111111</td>\n",
       "      <td>0.0</td>\n",
       "      <td>0.0</td>\n",
       "      <td>1.0</td>\n",
       "      <td>1.0</td>\n",
       "      <td>0.0</td>\n",
       "      <td>9.0</td>\n",
       "    </tr>\n",
       "    <tr>\n",
       "      <th>3</th>\n",
       "      <td>0.235908</td>\n",
       "      <td>0.000</td>\n",
       "      <td>0.222222</td>\n",
       "      <td>0.0</td>\n",
       "      <td>0.0</td>\n",
       "      <td>1.0</td>\n",
       "      <td>1.0</td>\n",
       "      <td>0.0</td>\n",
       "      <td>1.0</td>\n",
       "    </tr>\n",
       "    <tr>\n",
       "      <th>4</th>\n",
       "      <td>0.461378</td>\n",
       "      <td>0.125</td>\n",
       "      <td>0.111111</td>\n",
       "      <td>1.0</td>\n",
       "      <td>0.0</td>\n",
       "      <td>0.0</td>\n",
       "      <td>0.0</td>\n",
       "      <td>1.0</td>\n",
       "      <td>1.0</td>\n",
       "    </tr>\n",
       "    <tr>\n",
       "      <th>5</th>\n",
       "      <td>0.173277</td>\n",
       "      <td>0.125</td>\n",
       "      <td>0.000000</td>\n",
       "      <td>1.0</td>\n",
       "      <td>0.0</td>\n",
       "      <td>0.0</td>\n",
       "      <td>1.0</td>\n",
       "      <td>0.0</td>\n",
       "      <td>4.0</td>\n",
       "    </tr>\n",
       "    <tr>\n",
       "      <th>6</th>\n",
       "      <td>0.348643</td>\n",
       "      <td>0.000</td>\n",
       "      <td>0.000000</td>\n",
       "      <td>1.0</td>\n",
       "      <td>0.0</td>\n",
       "      <td>0.0</td>\n",
       "      <td>0.0</td>\n",
       "      <td>1.0</td>\n",
       "      <td>9.0</td>\n",
       "    </tr>\n",
       "    <tr>\n",
       "      <th>7</th>\n",
       "      <td>0.511482</td>\n",
       "      <td>0.000</td>\n",
       "      <td>0.000000</td>\n",
       "      <td>0.0</td>\n",
       "      <td>0.0</td>\n",
       "      <td>1.0</td>\n",
       "      <td>0.0</td>\n",
       "      <td>1.0</td>\n",
       "      <td>1.0</td>\n",
       "    </tr>\n",
       "    <tr>\n",
       "      <th>8</th>\n",
       "      <td>0.160751</td>\n",
       "      <td>0.250</td>\n",
       "      <td>0.222222</td>\n",
       "      <td>1.0</td>\n",
       "      <td>0.0</td>\n",
       "      <td>0.0</td>\n",
       "      <td>0.0</td>\n",
       "      <td>1.0</td>\n",
       "      <td>1.0</td>\n",
       "    </tr>\n",
       "    <tr>\n",
       "      <th>9</th>\n",
       "      <td>0.686847</td>\n",
       "      <td>0.250</td>\n",
       "      <td>0.000000</td>\n",
       "      <td>0.0</td>\n",
       "      <td>0.0</td>\n",
       "      <td>1.0</td>\n",
       "      <td>1.0</td>\n",
       "      <td>0.0</td>\n",
       "      <td>1.0</td>\n",
       "    </tr>\n",
       "  </tbody>\n",
       "</table>\n",
       "</div>"
      ],
      "text/plain": [
       "          0      1         2    3    4    5    6    7    8\n",
       "0  0.524008  0.125  0.000000  0.0  0.0  1.0  0.0  1.0  4.0\n",
       "1  0.373695  0.000  0.000000  0.0  0.0  1.0  0.0  1.0  4.0\n",
       "2  0.048016  0.125  0.111111  0.0  0.0  1.0  1.0  0.0  9.0\n",
       "3  0.235908  0.000  0.222222  0.0  0.0  1.0  1.0  0.0  1.0\n",
       "4  0.461378  0.125  0.111111  1.0  0.0  0.0  0.0  1.0  1.0\n",
       "5  0.173277  0.125  0.000000  1.0  0.0  0.0  1.0  0.0  4.0\n",
       "6  0.348643  0.000  0.000000  1.0  0.0  0.0  0.0  1.0  9.0\n",
       "7  0.511482  0.000  0.000000  0.0  0.0  1.0  0.0  1.0  1.0\n",
       "8  0.160751  0.250  0.222222  1.0  0.0  0.0  0.0  1.0  1.0\n",
       "9  0.686847  0.250  0.000000  0.0  0.0  1.0  1.0  0.0  1.0"
      ]
     },
     "execution_count": 6,
     "metadata": {},
     "output_type": "execute_result"
    }
   ],
   "source": [
    "data_prep_data = data_prep_pipeline.fit_transform(train_features, train_labels)\n",
    "\n",
    "transformed_df = pd.DataFrame(data = data_prep_data)\n",
    "transformed_df.head(10)"
   ]
  },
  {
   "cell_type": "markdown",
   "id": "bd67ca85",
   "metadata": {},
   "source": [
    "#### Build the full pipeline"
   ]
  },
  {
   "cell_type": "code",
   "execution_count": 7,
   "id": "34f9a879",
   "metadata": {},
   "outputs": [
    {
     "name": "stdout",
     "output_type": "stream",
     "text": [
      "Pipeline(steps=[('preprocessor',\n",
      "                 ColumnTransformer(transformers=[('num',\n",
      "                                                  Pipeline(steps=[('imputer',\n",
      "                                                                   SimpleImputer(strategy='median')),\n",
      "                                                                  ('scaler',\n",
      "                                                                   MinMaxScaler())]),\n",
      "                                                  ['age', 'sibsp', 'parch']),\n",
      "                                                 ('ohe',\n",
      "                                                  Pipeline(steps=[('imputer',\n",
      "                                                                   SimpleImputer(strategy='most_frequent')),\n",
      "                                                                  ('ohe',\n",
      "                                                                   OneHotEncoder(handle_unknown='ignore'))]),\n",
      "                                                  ['embarked', 'sex']),\n",
      "                                                 ('cust',\n",
      "                                                  FunctionTransformer(func=<ufunc 'square'>,\n",
      "                                                                      validate=True),\n",
      "                                                  ['pclass'])])),\n",
      "                ('regressor', LogisticRegression())])\n"
     ]
    }
   ],
   "source": [
    "from sklearn.linear_model import LogisticRegression\n",
    "pipeline = Pipeline(steps=[('preprocessor', preprocessor), ('regressor', LogisticRegression())])\n",
    "pipeline_model = pipeline.fit(train_features, train_labels)\n",
    "print(pipeline_model)"
   ]
  },
  {
   "cell_type": "code",
   "execution_count": 8,
   "id": "5d251a7b",
   "metadata": {},
   "outputs": [
    {
     "data": {
      "text/html": [
       "<style>#sk-27e2b047-fd3e-4141-bf9b-2c62992aaa6a {color: black;background-color: white;}#sk-27e2b047-fd3e-4141-bf9b-2c62992aaa6a pre{padding: 0;}#sk-27e2b047-fd3e-4141-bf9b-2c62992aaa6a div.sk-toggleable {background-color: white;}#sk-27e2b047-fd3e-4141-bf9b-2c62992aaa6a label.sk-toggleable__label {cursor: pointer;display: block;width: 100%;margin-bottom: 0;padding: 0.2em 0.3em;box-sizing: border-box;text-align: center;}#sk-27e2b047-fd3e-4141-bf9b-2c62992aaa6a div.sk-toggleable__content {max-height: 0;max-width: 0;overflow: hidden;text-align: left;background-color: #f0f8ff;}#sk-27e2b047-fd3e-4141-bf9b-2c62992aaa6a div.sk-toggleable__content pre {margin: 0.2em;color: black;border-radius: 0.25em;background-color: #f0f8ff;}#sk-27e2b047-fd3e-4141-bf9b-2c62992aaa6a input.sk-toggleable__control:checked~div.sk-toggleable__content {max-height: 200px;max-width: 100%;overflow: auto;}#sk-27e2b047-fd3e-4141-bf9b-2c62992aaa6a div.sk-estimator input.sk-toggleable__control:checked~label.sk-toggleable__label {background-color: #d4ebff;}#sk-27e2b047-fd3e-4141-bf9b-2c62992aaa6a div.sk-label input.sk-toggleable__control:checked~label.sk-toggleable__label {background-color: #d4ebff;}#sk-27e2b047-fd3e-4141-bf9b-2c62992aaa6a input.sk-hidden--visually {border: 0;clip: rect(1px 1px 1px 1px);clip: rect(1px, 1px, 1px, 1px);height: 1px;margin: -1px;overflow: hidden;padding: 0;position: absolute;width: 1px;}#sk-27e2b047-fd3e-4141-bf9b-2c62992aaa6a div.sk-estimator {font-family: monospace;background-color: #f0f8ff;margin: 0.25em 0.25em;border: 1px dotted black;border-radius: 0.25em;box-sizing: border-box;}#sk-27e2b047-fd3e-4141-bf9b-2c62992aaa6a div.sk-estimator:hover {background-color: #d4ebff;}#sk-27e2b047-fd3e-4141-bf9b-2c62992aaa6a div.sk-parallel-item::after {content: \"\";width: 100%;border-bottom: 1px solid gray;flex-grow: 1;}#sk-27e2b047-fd3e-4141-bf9b-2c62992aaa6a div.sk-label:hover label.sk-toggleable__label {background-color: #d4ebff;}#sk-27e2b047-fd3e-4141-bf9b-2c62992aaa6a div.sk-serial::before {content: \"\";position: absolute;border-left: 1px solid gray;box-sizing: border-box;top: 2em;bottom: 0;left: 50%;}#sk-27e2b047-fd3e-4141-bf9b-2c62992aaa6a div.sk-serial {display: flex;flex-direction: column;align-items: center;background-color: white;}#sk-27e2b047-fd3e-4141-bf9b-2c62992aaa6a div.sk-item {z-index: 1;}#sk-27e2b047-fd3e-4141-bf9b-2c62992aaa6a div.sk-parallel {display: flex;align-items: stretch;justify-content: center;background-color: white;}#sk-27e2b047-fd3e-4141-bf9b-2c62992aaa6a div.sk-parallel-item {display: flex;flex-direction: column;position: relative;background-color: white;}#sk-27e2b047-fd3e-4141-bf9b-2c62992aaa6a div.sk-parallel-item:first-child::after {align-self: flex-end;width: 50%;}#sk-27e2b047-fd3e-4141-bf9b-2c62992aaa6a div.sk-parallel-item:last-child::after {align-self: flex-start;width: 50%;}#sk-27e2b047-fd3e-4141-bf9b-2c62992aaa6a div.sk-parallel-item:only-child::after {width: 0;}#sk-27e2b047-fd3e-4141-bf9b-2c62992aaa6a div.sk-dashed-wrapped {border: 1px dashed gray;margin: 0.2em;box-sizing: border-box;padding-bottom: 0.1em;background-color: white;position: relative;}#sk-27e2b047-fd3e-4141-bf9b-2c62992aaa6a div.sk-label label {font-family: monospace;font-weight: bold;background-color: white;display: inline-block;line-height: 1.2em;}#sk-27e2b047-fd3e-4141-bf9b-2c62992aaa6a div.sk-label-container {position: relative;z-index: 2;text-align: center;}#sk-27e2b047-fd3e-4141-bf9b-2c62992aaa6a div.sk-container {display: inline-block;position: relative;}</style><div id=\"sk-27e2b047-fd3e-4141-bf9b-2c62992aaa6a\" class\"sk-top-container\"><div class=\"sk-container\"><div class=\"sk-item sk-dashed-wrapped\"><div class=\"sk-label-container\"><div class=\"sk-label sk-toggleable\"><input class=\"sk-toggleable__control sk-hidden--visually\" id=\"94b39315-c475-4b89-9df1-93bf62855cbe\" type=\"checkbox\" ><label class=\"sk-toggleable__label\" for=\"94b39315-c475-4b89-9df1-93bf62855cbe\">Pipeline</label><div class=\"sk-toggleable__content\"><pre>Pipeline(steps=[('preprocessor',\n",
       "                 ColumnTransformer(transformers=[('num',\n",
       "                                                  Pipeline(steps=[('imputer',\n",
       "                                                                   SimpleImputer(strategy='median')),\n",
       "                                                                  ('scaler',\n",
       "                                                                   MinMaxScaler())]),\n",
       "                                                  ['age', 'sibsp', 'parch']),\n",
       "                                                 ('ohe',\n",
       "                                                  Pipeline(steps=[('imputer',\n",
       "                                                                   SimpleImputer(strategy='most_frequent')),\n",
       "                                                                  ('ohe',\n",
       "                                                                   OneHotEncoder(handle_unknown='ignore'))]),\n",
       "                                                  ['embarked', 'sex']),\n",
       "                                                 ('cust',\n",
       "                                                  FunctionTransformer(func=<ufunc 'square'>,\n",
       "                                                                      validate=True),\n",
       "                                                  ['pclass'])])),\n",
       "                ('regressor', LogisticRegression())])</pre></div></div></div><div class=\"sk-serial\"><div class=\"sk-item sk-dashed-wrapped\"><div class=\"sk-label-container\"><div class=\"sk-label sk-toggleable\"><input class=\"sk-toggleable__control sk-hidden--visually\" id=\"74e0329a-3f3e-40e3-bdf1-a04ea39c78e4\" type=\"checkbox\" ><label class=\"sk-toggleable__label\" for=\"74e0329a-3f3e-40e3-bdf1-a04ea39c78e4\">preprocessor: ColumnTransformer</label><div class=\"sk-toggleable__content\"><pre>ColumnTransformer(transformers=[('num',\n",
       "                                 Pipeline(steps=[('imputer',\n",
       "                                                  SimpleImputer(strategy='median')),\n",
       "                                                 ('scaler', MinMaxScaler())]),\n",
       "                                 ['age', 'sibsp', 'parch']),\n",
       "                                ('ohe',\n",
       "                                 Pipeline(steps=[('imputer',\n",
       "                                                  SimpleImputer(strategy='most_frequent')),\n",
       "                                                 ('ohe',\n",
       "                                                  OneHotEncoder(handle_unknown='ignore'))]),\n",
       "                                 ['embarked', 'sex']),\n",
       "                                ('cust',\n",
       "                                 FunctionTransformer(func=<ufunc 'square'>,\n",
       "                                                     validate=True),\n",
       "                                 ['pclass'])])</pre></div></div></div><div class=\"sk-parallel\"><div class=\"sk-parallel-item\"><div class=\"sk-item\"><div class=\"sk-label-container\"><div class=\"sk-label sk-toggleable\"><input class=\"sk-toggleable__control sk-hidden--visually\" id=\"ebb99307-0e98-4316-9cf3-12e78bda4bc4\" type=\"checkbox\" ><label class=\"sk-toggleable__label\" for=\"ebb99307-0e98-4316-9cf3-12e78bda4bc4\">num</label><div class=\"sk-toggleable__content\"><pre>['age', 'sibsp', 'parch']</pre></div></div></div><div class=\"sk-serial\"><div class=\"sk-item\"><div class=\"sk-serial\"><div class=\"sk-item\"><div class=\"sk-estimator sk-toggleable\"><input class=\"sk-toggleable__control sk-hidden--visually\" id=\"2700c5cd-3148-499a-aaa1-1a0873ec83b6\" type=\"checkbox\" ><label class=\"sk-toggleable__label\" for=\"2700c5cd-3148-499a-aaa1-1a0873ec83b6\">SimpleImputer</label><div class=\"sk-toggleable__content\"><pre>SimpleImputer(strategy='median')</pre></div></div></div><div class=\"sk-item\"><div class=\"sk-estimator sk-toggleable\"><input class=\"sk-toggleable__control sk-hidden--visually\" id=\"8525fcbc-82dc-4e50-99ff-71882fb649e7\" type=\"checkbox\" ><label class=\"sk-toggleable__label\" for=\"8525fcbc-82dc-4e50-99ff-71882fb649e7\">MinMaxScaler</label><div class=\"sk-toggleable__content\"><pre>MinMaxScaler()</pre></div></div></div></div></div></div></div></div><div class=\"sk-parallel-item\"><div class=\"sk-item\"><div class=\"sk-label-container\"><div class=\"sk-label sk-toggleable\"><input class=\"sk-toggleable__control sk-hidden--visually\" id=\"d2150730-6025-4570-9150-45c668a4bfc7\" type=\"checkbox\" ><label class=\"sk-toggleable__label\" for=\"d2150730-6025-4570-9150-45c668a4bfc7\">ohe</label><div class=\"sk-toggleable__content\"><pre>['embarked', 'sex']</pre></div></div></div><div class=\"sk-serial\"><div class=\"sk-item\"><div class=\"sk-serial\"><div class=\"sk-item\"><div class=\"sk-estimator sk-toggleable\"><input class=\"sk-toggleable__control sk-hidden--visually\" id=\"dda2b03d-62bc-432e-bed4-d3047ef2d332\" type=\"checkbox\" ><label class=\"sk-toggleable__label\" for=\"dda2b03d-62bc-432e-bed4-d3047ef2d332\">SimpleImputer</label><div class=\"sk-toggleable__content\"><pre>SimpleImputer(strategy='most_frequent')</pre></div></div></div><div class=\"sk-item\"><div class=\"sk-estimator sk-toggleable\"><input class=\"sk-toggleable__control sk-hidden--visually\" id=\"2db7a7eb-022d-48d4-a361-a0104c13c487\" type=\"checkbox\" ><label class=\"sk-toggleable__label\" for=\"2db7a7eb-022d-48d4-a361-a0104c13c487\">OneHotEncoder</label><div class=\"sk-toggleable__content\"><pre>OneHotEncoder(handle_unknown='ignore')</pre></div></div></div></div></div></div></div></div><div class=\"sk-parallel-item\"><div class=\"sk-item\"><div class=\"sk-label-container\"><div class=\"sk-label sk-toggleable\"><input class=\"sk-toggleable__control sk-hidden--visually\" id=\"877139e0-4f9e-4dce-8e53-1320ff8441a1\" type=\"checkbox\" ><label class=\"sk-toggleable__label\" for=\"877139e0-4f9e-4dce-8e53-1320ff8441a1\">cust</label><div class=\"sk-toggleable__content\"><pre>['pclass']</pre></div></div></div><div class=\"sk-serial\"><div class=\"sk-item\"><div class=\"sk-estimator sk-toggleable\"><input class=\"sk-toggleable__control sk-hidden--visually\" id=\"d0c2ddca-4287-4182-842b-3d5affffe486\" type=\"checkbox\" ><label class=\"sk-toggleable__label\" for=\"d0c2ddca-4287-4182-842b-3d5affffe486\">FunctionTransformer</label><div class=\"sk-toggleable__content\"><pre>FunctionTransformer(func=<ufunc 'square'>, validate=True)</pre></div></div></div></div></div></div></div></div><div class=\"sk-item\"><div class=\"sk-estimator sk-toggleable\"><input class=\"sk-toggleable__control sk-hidden--visually\" id=\"dda1d18b-f896-4861-a106-bc4b34017d27\" type=\"checkbox\" ><label class=\"sk-toggleable__label\" for=\"dda1d18b-f896-4861-a106-bc4b34017d27\">LogisticRegression</label><div class=\"sk-toggleable__content\"><pre>LogisticRegression()</pre></div></div></div></div></div></div></div>"
      ],
      "text/plain": [
       "Pipeline(steps=[('preprocessor',\n",
       "                 ColumnTransformer(transformers=[('num',\n",
       "                                                  Pipeline(steps=[('imputer',\n",
       "                                                                   SimpleImputer(strategy='median')),\n",
       "                                                                  ('scaler',\n",
       "                                                                   MinMaxScaler())]),\n",
       "                                                  ['age', 'sibsp', 'parch']),\n",
       "                                                 ('ohe',\n",
       "                                                  Pipeline(steps=[('imputer',\n",
       "                                                                   SimpleImputer(strategy='most_frequent')),\n",
       "                                                                  ('ohe',\n",
       "                                                                   OneHotEncoder(handle_unknown='ignore'))]),\n",
       "                                                  ['embarked', 'sex']),\n",
       "                                                 ('cust',\n",
       "                                                  FunctionTransformer(func=<ufunc 'square'>,\n",
       "                                                                      validate=True),\n",
       "                                                  ['pclass'])])),\n",
       "                ('regressor', LogisticRegression())])"
      ]
     },
     "execution_count": 8,
     "metadata": {},
     "output_type": "execute_result"
    }
   ],
   "source": [
    "from sklearn import set_config\n",
    "\n",
    "set_config(display='diagram')\n",
    "pipeline"
   ]
  },
  {
   "cell_type": "markdown",
   "id": "eafce26d",
   "metadata": {},
   "source": [
    "#### Use pipeline to predict values"
   ]
  },
  {
   "cell_type": "code",
   "execution_count": 9,
   "id": "fbdb445c",
   "metadata": {},
   "outputs": [],
   "source": [
    "scored_data = pipeline.predict(test_features)"
   ]
  },
  {
   "cell_type": "markdown",
   "id": "2f3c2e3c",
   "metadata": {},
   "source": [
    "#### Show predicted values"
   ]
  },
  {
   "cell_type": "code",
   "execution_count": 10,
   "id": "f8056caa",
   "metadata": {},
   "outputs": [
    {
     "data": {
      "text/html": [
       "<div>\n",
       "<style scoped>\n",
       "    .dataframe tbody tr th:only-of-type {\n",
       "        vertical-align: middle;\n",
       "    }\n",
       "\n",
       "    .dataframe tbody tr th {\n",
       "        vertical-align: top;\n",
       "    }\n",
       "\n",
       "    .dataframe thead th {\n",
       "        text-align: right;\n",
       "    }\n",
       "</style>\n",
       "<table border=\"1\" class=\"dataframe\">\n",
       "  <thead>\n",
       "    <tr style=\"text-align: right;\">\n",
       "      <th></th>\n",
       "      <th>0</th>\n",
       "      <th>survived</th>\n",
       "    </tr>\n",
       "  </thead>\n",
       "  <tbody>\n",
       "    <tr>\n",
       "      <th>0</th>\n",
       "      <td>0</td>\n",
       "      <td>0</td>\n",
       "    </tr>\n",
       "    <tr>\n",
       "      <th>1</th>\n",
       "      <td>1</td>\n",
       "      <td>1</td>\n",
       "    </tr>\n",
       "    <tr>\n",
       "      <th>2</th>\n",
       "      <td>0</td>\n",
       "      <td>0</td>\n",
       "    </tr>\n",
       "    <tr>\n",
       "      <th>3</th>\n",
       "      <td>1</td>\n",
       "      <td>0</td>\n",
       "    </tr>\n",
       "    <tr>\n",
       "      <th>4</th>\n",
       "      <td>1</td>\n",
       "      <td>1</td>\n",
       "    </tr>\n",
       "    <tr>\n",
       "      <th>5</th>\n",
       "      <td>1</td>\n",
       "      <td>1</td>\n",
       "    </tr>\n",
       "    <tr>\n",
       "      <th>6</th>\n",
       "      <td>1</td>\n",
       "      <td>0</td>\n",
       "    </tr>\n",
       "    <tr>\n",
       "      <th>7</th>\n",
       "      <td>1</td>\n",
       "      <td>1</td>\n",
       "    </tr>\n",
       "    <tr>\n",
       "      <th>8</th>\n",
       "      <td>0</td>\n",
       "      <td>0</td>\n",
       "    </tr>\n",
       "    <tr>\n",
       "      <th>9</th>\n",
       "      <td>1</td>\n",
       "      <td>1</td>\n",
       "    </tr>\n",
       "  </tbody>\n",
       "</table>\n",
       "</div>"
      ],
      "text/plain": [
       "   0 survived\n",
       "0  0        0\n",
       "1  1        1\n",
       "2  0        0\n",
       "3  1        0\n",
       "4  1        1\n",
       "5  1        1\n",
       "6  1        0\n",
       "7  1        1\n",
       "8  0        0\n",
       "9  1        1"
      ]
     },
     "execution_count": 10,
     "metadata": {},
     "output_type": "execute_result"
    }
   ],
   "source": [
    "scored_df = pd.DataFrame(data = scored_data)\n",
    "\n",
    "scored_df = pd.concat([scored_df, test_labels], axis=1)\n",
    "scored_df.head(10)"
   ]
  },
  {
   "cell_type": "markdown",
   "id": "181e67f4",
   "metadata": {},
   "source": [
    "### Model evaluation"
   ]
  },
  {
   "cell_type": "markdown",
   "id": "0cdd2e14",
   "metadata": {},
   "source": [
    "#### Confusion matrix\n",
    "https://scikit-learn.org/stable/modules/generated/sklearn.metrics.confusion_matrix.html"
   ]
  },
  {
   "cell_type": "code",
   "execution_count": 11,
   "id": "5c8e91b6",
   "metadata": {},
   "outputs": [],
   "source": [
    "from sklearn.metrics import confusion_matrix\n",
    "tn, fp, fn, tp = confusion_matrix(test_labels, scored_data).ravel()"
   ]
  },
  {
   "cell_type": "markdown",
   "id": "b480abab",
   "metadata": {},
   "source": [
    "#### Plot Confusion Matrix\n",
    "https://scikit-learn.org/stable/modules/generated/sklearn.metrics.confusion_matrix.html"
   ]
  },
  {
   "cell_type": "code",
   "execution_count": 12,
   "id": "9fcac487",
   "metadata": {},
   "outputs": [],
   "source": [
    "from sklearn.metrics import plot_confusion_matrix\n",
    "\n",
    "def plotConfusionMatrix(test_features, test_labels, pipeline):\n",
    "    title = \"Confusion matrix\"\n",
    "    \n",
    "    disp = plot_confusion_matrix(pipeline, test_features, test_labels,\n",
    "                                 display_labels=['Survived', 'Not survived'],\n",
    "                                 cmap=plt.cm.Blues)\n",
    "    disp.ax_.set_title(title)\n",
    "    \n",
    "    print(title)\n",
    "    print(disp.confusion_matrix)\n",
    "    \n",
    "    plt.show()"
   ]
  },
  {
   "cell_type": "code",
   "execution_count": 13,
   "id": "a12a4b48",
   "metadata": {
    "scrolled": true
   },
   "outputs": [
    {
     "name": "stdout",
     "output_type": "stream",
     "text": [
      "Confusion matrix\n",
      "[[137  33]\n",
      " [ 27  65]]\n"
     ]
    },
    {
     "data": {
      "image/png": "[encoded data removed]",
      "text/plain": [
       "<Figure size 432x288 with 2 Axes>"
      ]
     },
     "metadata": {
      "needs_background": "light"
     },
     "output_type": "display_data"
    }
   ],
   "source": [
    "plotConfusionMatrix(test_features, test_labels, pipeline)"
   ]
  },
  {
   "cell_type": "markdown",
   "id": "59f1c6a8",
   "metadata": {},
   "source": [
    "#### Metrics \n",
    "https://scikit-learn.org/stable/modules/generated/sklearn.metrics.accuracy_score.html  \n",
    "https://scikit-learn.org/stable/modules/generated/sklearn.metrics.precision_score.html  \n",
    "https://scikit-learn.org/stable/modules/generated/sklearn.metrics.recall_score.html  \n",
    "https://scikit-learn.org/stable/modules/generated/sklearn.metrics.f1_score.html  \n",
    "https://scikit-learn.org/stable/modules/generated/sklearn.metrics.roc_auc_score.html\n",
    "https://scikit-learn.org/stable/modules/generated/sklearn.metrics.log_loss.html"
   ]
  },
  {
   "cell_type": "code",
   "execution_count": 14,
   "id": "659b6745",
   "metadata": {},
   "outputs": [],
   "source": [
    "def showMetrics(test_features, test_labels, scored_data, pipeline):\n",
    "    from sklearn.metrics import accuracy_score\n",
    "    print(\"Accuracy: \", accuracy_score(test_labels, scored_data))\n",
    "    \n",
    "    from sklearn.metrics import precision_score\n",
    "    print( \"Precission\", precision_score(test_labels, scored_data, average='binary', pos_label='1'))\n",
    "    \n",
    "    from sklearn.metrics import recall_score\n",
    "    print( \"Sensitivity/Recall: \", recall_score(test_labels, scored_data, average='binary', pos_label='1'))\n",
    "\n",
    "    print(\"Specify\", tn / (tn+fp))\n",
    "    \n",
    "    from sklearn.metrics import f1_score\n",
    "    print( \"F1 score\", f1_score(test_labels, scored_data, average='binary', pos_label='1'))\n",
    "    \n",
    "    from sklearn.metrics import roc_auc_score\n",
    "    print( \"AuROC\", roc_auc_score(test_labels, pipeline.predict_proba(test_features)[:, 1]))\n",
    "\n",
    "    from sklearn.metrics import log_loss\n",
    "    print( \"Cross-entropy loss\", log_loss(test_labels, pipeline.predict_proba(test_features)[:, 1]))\n",
    "\n",
    "    log_loss\n",
    "    "
   ]
  },
  {
   "cell_type": "code",
   "execution_count": 15,
   "id": "4f1dd0c0",
   "metadata": {},
   "outputs": [
    {
     "name": "stdout",
     "output_type": "stream",
     "text": [
      "Accuracy:  0.7709923664122137\n",
      "Precission 0.6632653061224489\n",
      "Sensitivity/Recall:  0.7065217391304348\n",
      "Specify 0.8058823529411765\n",
      "F1 score 0.6842105263157895\n",
      "AuROC 0.8079283887468031\n",
      "Cross-entropy loss 0.4822372152825382\n"
     ]
    }
   ],
   "source": [
    "showMetrics(test_features, test_labels, scored_data, pipeline)"
   ]
  },
  {
   "cell_type": "markdown",
   "id": "0154055e",
   "metadata": {},
   "source": [
    "#### Roc Curve - plot\n",
    "\n",
    "https://scikit-learn.org/stable/modules/generated/sklearn.metrics.RocCurveDisplay.html\n",
    "https://scikit-learn.org/stable/modules/generated/sklearn.metrics.plot_roc_curve.html"
   ]
  },
  {
   "cell_type": "code",
   "execution_count": 16,
   "id": "5f495895",
   "metadata": {},
   "outputs": [],
   "source": [
    "import matplotlib.pyplot as plt  \n",
    "import numpy as np\n",
    "from sklearn import metrics\n",
    "\n",
    "def plotAuROC(test_features, test_labels, pipeline, ax = None):\n",
    "    fpr, tpr, thresholds = metrics.roc_curve(test_labels, pipeline.predict_proba(test_features)[:, 1], pos_label='1')\n",
    "    roc_auc = metrics.auc(fpr, tpr)\n",
    "    display = metrics.RocCurveDisplay(fpr=fpr, tpr=tpr, roc_auc=roc_auc, estimator_name='Logistic regression estimator')\n",
    "    display.plot(ax)  "
   ]
  },
  {
   "cell_type": "code",
   "execution_count": 17,
   "id": "f9a18a03",
   "metadata": {
    "scrolled": true
   },
   "outputs": [
    {
     "data": {
      "image/png": "[encoded data removed]",
      "text/plain": [
       "<Figure size 432x288 with 1 Axes>"
      ]
     },
     "metadata": {
      "needs_background": "light"
     },
     "output_type": "display_data"
    }
   ],
   "source": [
    "plotAuROC(test_features, test_labels, pipeline)\n",
    "plt.show()   "
   ]
  },
  {
   "cell_type": "markdown",
   "id": "53c63358",
   "metadata": {},
   "source": [
    "### Build basic model without feature engineering and compare metrics"
   ]
  },
  {
   "cell_type": "code",
   "execution_count": 18,
   "id": "aca94be6",
   "metadata": {},
   "outputs": [],
   "source": [
    "train_dataset_new = train_dataset[['pclass','sibsp','parch', 'survived' ]].copy()\n",
    "test_dataset_new = test_dataset[['pclass','sibsp','parch', 'survived' ]].copy()\n",
    "\n",
    "train_features_new = train_dataset_new.copy()\n",
    "test_features_new = test_dataset_new.copy()\n",
    "\n",
    "train_labels_new = train_features_new.pop('survived')\n",
    "test_labels_new = test_features_new.pop('survived')"
   ]
  },
  {
   "cell_type": "code",
   "execution_count": 19,
   "id": "001ffbca",
   "metadata": {},
   "outputs": [],
   "source": [
    "from sklearn.linear_model import LogisticRegression\n",
    "\n",
    "logistic_regressor_new = LogisticRegression().fit(train_features_new, train_labels_new)\n",
    "scored_data_new = logistic_regressor_new.predict(test_features_new)"
   ]
  },
  {
   "cell_type": "code",
   "execution_count": 20,
   "id": "d7fa61f6",
   "metadata": {},
   "outputs": [],
   "source": [
    "tn, fp, fn, tp = confusion_matrix(test_labels_new, scored_data_new).ravel()"
   ]
  },
  {
   "cell_type": "code",
   "execution_count": 21,
   "id": "e90be13d",
   "metadata": {},
   "outputs": [
    {
     "name": "stdout",
     "output_type": "stream",
     "text": [
      "Confusion matrix\n",
      "[[142  28]\n",
      " [ 52  40]]\n"
     ]
    },
    {
     "data": {
      "image/png": "[encoded data removed]",
      "text/plain": [
       "<Figure size 432x288 with 2 Axes>"
      ]
     },
     "metadata": {
      "needs_background": "light"
     },
     "output_type": "display_data"
    }
   ],
   "source": [
    "plotConfusionMatrix(test_features_new, test_labels_new, logistic_regressor_new)"
   ]
  },
  {
   "cell_type": "code",
   "execution_count": 22,
   "id": "1168f326",
   "metadata": {},
   "outputs": [
    {
     "name": "stdout",
     "output_type": "stream",
     "text": [
      "Accuracy:  0.6946564885496184\n",
      "Precission 0.5882352941176471\n",
      "Sensitivity/Recall:  0.43478260869565216\n",
      "Specify 0.8352941176470589\n",
      "F1 score 0.5\n",
      "AuROC 0.6530690537084398\n",
      "Cross-entropy loss 0.6087381522014366\n"
     ]
    }
   ],
   "source": [
    "showMetrics(test_features_new, test_labels_new, scored_data_new, logistic_regressor_new)"
   ]
  },
  {
   "cell_type": "code",
   "execution_count": 23,
   "id": "cf8cbab7",
   "metadata": {},
   "outputs": [
    {
     "data": {
      "image/png": "[encoded data removed]",
      "text/plain": [
       "<Figure size 432x288 with 1 Axes>"
      ]
     },
     "metadata": {
      "needs_background": "light"
     },
     "output_type": "display_data"
    }
   ],
   "source": [
    "fig, ax = plt.subplots(1,1)\n",
    "plotAuROC(test_features, test_labels, pipeline, ax)\n",
    "plotAuROC(test_features_new, test_labels_new, logistic_regressor_new, ax)\n",
    "plt.show()"
   ]
  },
  {
   "cell_type": "code",
   "execution_count": null,
   "id": "80879ab0",
   "metadata": {},
   "outputs": [],
   "source": []
  }
 ],
 "metadata": {
  "kernelspec": {
   "display_name": "Python 3",
   "language": "python",
   "name": "python3"
  },
  "language_info": {
   "codemirror_mode": {
    "name": "ipython",
    "version": 3
   },
   "file_extension": ".py",
   "mimetype": "text/x-python",
   "name": "python",
   "nbconvert_exporter": "python",
   "pygments_lexer": "ipython3",
   "version": "3.8.10"
  }
 },
 "nbformat": 4,
 "nbformat_minor": 5
}

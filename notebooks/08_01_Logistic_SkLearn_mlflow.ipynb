{
 "cells": [
  {
   "cell_type": "markdown",
   "id": "d4313799",
   "metadata": {},
   "source": [
    "### Cross validation for logistic regression\n",
    "Cross validation with sklearm for logistic regression on the Titanic dataset"
   ]
  },
  {
   "cell_type": "markdown",
   "id": "7a9b2108",
   "metadata": {},
   "source": [
    "***\n",
    "#### Environment\n",
    "`conda activate sklearn-env`\n",
    "\n",
    "\n",
    "Note: make sure that you have `mlflow` installed in your conda env. Check this by running:\n",
    "\n",
    "`pip list |grep mlflow`\n",
    "\n",
    "If result is zero you can install either by recreating the `sklearn-env` conda environment or by running \n",
    "\n",
    "`pip install mlflow`\n",
    "\n",
    "#### Goals\n",
    "- Build a pipeline\n",
    "- Use the pipeline to transform data\n",
    "- Use the pipeline to predict\n",
    "- Save model in local mlflow repository \n",
    "- Programatically load model and score it locally \n",
    "- Serve model from local repository and test scoring results via HTTP endpoint \n",
    "***\n",
    "#### References\n",
    "\n",
    "https://scikit-learn.org/stable/modules/generated/sklearn.preprocessing.OneHotEncoder.html\n",
    "\n",
    "https://scikit-learn.org/stable/auto_examples/compose/plot_column_transformer_mixed_types.html\n",
    "\n",
    "https://scikit-learn.org/stable/modules/generated/sklearn.preprocessing.MinMaxScaler.html\n",
    "\n",
    "https://scikit-learn.org/stable/modules/generated/sklearn.linear_model.LinearRegression.html\n",
    "\n",
    "https://scikit-learn.org/stable/modules/generated/sklearn.pipeline.Pipeline.html\n",
    "\n",
    "https://www.mlflow.org\n",
    "\n"
   ]
  },
  {
   "cell_type": "code",
   "execution_count": 1,
   "id": "61478e57",
   "metadata": {},
   "outputs": [],
   "source": [
    "import matplotlib.pyplot as plt\n",
    "import numpy as np\n",
    "import pandas as pd\n",
    "import seaborn as sns\n",
    "import random\n",
    "from pprint import pprint\n",
    "import mlflow\n",
    "\n",
    "# enable autologging\n",
    "mlflow.sklearn.autolog()\n",
    "# Make numpy printouts easier to read.\n",
    "np.set_printoptions(precision=3, suppress=True)"
   ]
  },
  {
   "cell_type": "markdown",
   "id": "52fcc7b0",
   "metadata": {},
   "source": [
    "#### Dataset load from CSV located on UCI website.\n",
    "\n",
    "http://archive.ics.uci.edu/ml/machine-learning-databases/auto-mpg/auto-mpg.data  \n",
    "If the URL does not work the dataset can be loaded from the data folder `./data/auto-mpg.data`."
   ]
  },
  {
   "cell_type": "code",
   "execution_count": 2,
   "id": "fa69154c",
   "metadata": {
    "scrolled": false
   },
   "outputs": [
    {
     "data": {
      "text/html": [
       "<div>\n",
       "<style scoped>\n",
       "    .dataframe tbody tr th:only-of-type {\n",
       "        vertical-align: middle;\n",
       "    }\n",
       "\n",
       "    .dataframe tbody tr th {\n",
       "        vertical-align: top;\n",
       "    }\n",
       "\n",
       "    .dataframe thead th {\n",
       "        text-align: right;\n",
       "    }\n",
       "</style>\n",
       "<table border=\"1\" class=\"dataframe\">\n",
       "  <thead>\n",
       "    <tr style=\"text-align: right;\">\n",
       "      <th></th>\n",
       "      <th>pclass</th>\n",
       "      <th>survived</th>\n",
       "      <th>name</th>\n",
       "      <th>sex</th>\n",
       "      <th>age</th>\n",
       "      <th>sibsp</th>\n",
       "      <th>parch</th>\n",
       "      <th>ticket</th>\n",
       "      <th>fare</th>\n",
       "      <th>cabin</th>\n",
       "      <th>embarked</th>\n",
       "      <th>boat</th>\n",
       "      <th>body</th>\n",
       "      <th>home.dest</th>\n",
       "    </tr>\n",
       "  </thead>\n",
       "  <tbody>\n",
       "    <tr>\n",
       "      <th>0</th>\n",
       "      <td>1.0</td>\n",
       "      <td>1</td>\n",
       "      <td>Allen, Miss. Elisabeth Walton</td>\n",
       "      <td>female</td>\n",
       "      <td>29.0000</td>\n",
       "      <td>0.0</td>\n",
       "      <td>0.0</td>\n",
       "      <td>24160</td>\n",
       "      <td>211.3375</td>\n",
       "      <td>B5</td>\n",
       "      <td>S</td>\n",
       "      <td>2</td>\n",
       "      <td>NaN</td>\n",
       "      <td>St Louis, MO</td>\n",
       "    </tr>\n",
       "    <tr>\n",
       "      <th>1</th>\n",
       "      <td>1.0</td>\n",
       "      <td>1</td>\n",
       "      <td>Allison, Master. Hudson Trevor</td>\n",
       "      <td>male</td>\n",
       "      <td>0.9167</td>\n",
       "      <td>1.0</td>\n",
       "      <td>2.0</td>\n",
       "      <td>113781</td>\n",
       "      <td>151.5500</td>\n",
       "      <td>C22 C26</td>\n",
       "      <td>S</td>\n",
       "      <td>11</td>\n",
       "      <td>NaN</td>\n",
       "      <td>Montreal, PQ / Chesterville, ON</td>\n",
       "    </tr>\n",
       "    <tr>\n",
       "      <th>2</th>\n",
       "      <td>1.0</td>\n",
       "      <td>0</td>\n",
       "      <td>Allison, Miss. Helen Loraine</td>\n",
       "      <td>female</td>\n",
       "      <td>2.0000</td>\n",
       "      <td>1.0</td>\n",
       "      <td>2.0</td>\n",
       "      <td>113781</td>\n",
       "      <td>151.5500</td>\n",
       "      <td>C22 C26</td>\n",
       "      <td>S</td>\n",
       "      <td>None</td>\n",
       "      <td>NaN</td>\n",
       "      <td>Montreal, PQ / Chesterville, ON</td>\n",
       "    </tr>\n",
       "    <tr>\n",
       "      <th>3</th>\n",
       "      <td>1.0</td>\n",
       "      <td>0</td>\n",
       "      <td>Allison, Mr. Hudson Joshua Creighton</td>\n",
       "      <td>male</td>\n",
       "      <td>30.0000</td>\n",
       "      <td>1.0</td>\n",
       "      <td>2.0</td>\n",
       "      <td>113781</td>\n",
       "      <td>151.5500</td>\n",
       "      <td>C22 C26</td>\n",
       "      <td>S</td>\n",
       "      <td>None</td>\n",
       "      <td>135.0</td>\n",
       "      <td>Montreal, PQ / Chesterville, ON</td>\n",
       "    </tr>\n",
       "    <tr>\n",
       "      <th>4</th>\n",
       "      <td>1.0</td>\n",
       "      <td>0</td>\n",
       "      <td>Allison, Mrs. Hudson J C (Bessie Waldo Daniels)</td>\n",
       "      <td>female</td>\n",
       "      <td>25.0000</td>\n",
       "      <td>1.0</td>\n",
       "      <td>2.0</td>\n",
       "      <td>113781</td>\n",
       "      <td>151.5500</td>\n",
       "      <td>C22 C26</td>\n",
       "      <td>S</td>\n",
       "      <td>None</td>\n",
       "      <td>NaN</td>\n",
       "      <td>Montreal, PQ / Chesterville, ON</td>\n",
       "    </tr>\n",
       "    <tr>\n",
       "      <th>5</th>\n",
       "      <td>1.0</td>\n",
       "      <td>1</td>\n",
       "      <td>Anderson, Mr. Harry</td>\n",
       "      <td>male</td>\n",
       "      <td>48.0000</td>\n",
       "      <td>0.0</td>\n",
       "      <td>0.0</td>\n",
       "      <td>19952</td>\n",
       "      <td>26.5500</td>\n",
       "      <td>E12</td>\n",
       "      <td>S</td>\n",
       "      <td>3</td>\n",
       "      <td>NaN</td>\n",
       "      <td>New York, NY</td>\n",
       "    </tr>\n",
       "    <tr>\n",
       "      <th>6</th>\n",
       "      <td>1.0</td>\n",
       "      <td>1</td>\n",
       "      <td>Andrews, Miss. Kornelia Theodosia</td>\n",
       "      <td>female</td>\n",
       "      <td>63.0000</td>\n",
       "      <td>1.0</td>\n",
       "      <td>0.0</td>\n",
       "      <td>13502</td>\n",
       "      <td>77.9583</td>\n",
       "      <td>D7</td>\n",
       "      <td>S</td>\n",
       "      <td>10</td>\n",
       "      <td>NaN</td>\n",
       "      <td>Hudson, NY</td>\n",
       "    </tr>\n",
       "    <tr>\n",
       "      <th>7</th>\n",
       "      <td>1.0</td>\n",
       "      <td>0</td>\n",
       "      <td>Andrews, Mr. Thomas Jr</td>\n",
       "      <td>male</td>\n",
       "      <td>39.0000</td>\n",
       "      <td>0.0</td>\n",
       "      <td>0.0</td>\n",
       "      <td>112050</td>\n",
       "      <td>0.0000</td>\n",
       "      <td>A36</td>\n",
       "      <td>S</td>\n",
       "      <td>None</td>\n",
       "      <td>NaN</td>\n",
       "      <td>Belfast, NI</td>\n",
       "    </tr>\n",
       "    <tr>\n",
       "      <th>8</th>\n",
       "      <td>1.0</td>\n",
       "      <td>1</td>\n",
       "      <td>Appleton, Mrs. Edward Dale (Charlotte Lamson)</td>\n",
       "      <td>female</td>\n",
       "      <td>53.0000</td>\n",
       "      <td>2.0</td>\n",
       "      <td>0.0</td>\n",
       "      <td>11769</td>\n",
       "      <td>51.4792</td>\n",
       "      <td>C101</td>\n",
       "      <td>S</td>\n",
       "      <td>D</td>\n",
       "      <td>NaN</td>\n",
       "      <td>Bayside, Queens, NY</td>\n",
       "    </tr>\n",
       "    <tr>\n",
       "      <th>9</th>\n",
       "      <td>1.0</td>\n",
       "      <td>0</td>\n",
       "      <td>Artagaveytia, Mr. Ramon</td>\n",
       "      <td>male</td>\n",
       "      <td>71.0000</td>\n",
       "      <td>0.0</td>\n",
       "      <td>0.0</td>\n",
       "      <td>PC 17609</td>\n",
       "      <td>49.5042</td>\n",
       "      <td>None</td>\n",
       "      <td>C</td>\n",
       "      <td>None</td>\n",
       "      <td>22.0</td>\n",
       "      <td>Montevideo, Uruguay</td>\n",
       "    </tr>\n",
       "  </tbody>\n",
       "</table>\n",
       "</div>"
      ],
      "text/plain": [
       "   pclass survived                                             name     sex  \\\n",
       "0     1.0        1                    Allen, Miss. Elisabeth Walton  female   \n",
       "1     1.0        1                   Allison, Master. Hudson Trevor    male   \n",
       "2     1.0        0                     Allison, Miss. Helen Loraine  female   \n",
       "3     1.0        0             Allison, Mr. Hudson Joshua Creighton    male   \n",
       "4     1.0        0  Allison, Mrs. Hudson J C (Bessie Waldo Daniels)  female   \n",
       "5     1.0        1                              Anderson, Mr. Harry    male   \n",
       "6     1.0        1                Andrews, Miss. Kornelia Theodosia  female   \n",
       "7     1.0        0                           Andrews, Mr. Thomas Jr    male   \n",
       "8     1.0        1    Appleton, Mrs. Edward Dale (Charlotte Lamson)  female   \n",
       "9     1.0        0                          Artagaveytia, Mr. Ramon    male   \n",
       "\n",
       "       age  sibsp  parch    ticket      fare    cabin embarked  boat   body  \\\n",
       "0  29.0000    0.0    0.0     24160  211.3375       B5        S     2    NaN   \n",
       "1   0.9167    1.0    2.0    113781  151.5500  C22 C26        S    11    NaN   \n",
       "2   2.0000    1.0    2.0    113781  151.5500  C22 C26        S  None    NaN   \n",
       "3  30.0000    1.0    2.0    113781  151.5500  C22 C26        S  None  135.0   \n",
       "4  25.0000    1.0    2.0    113781  151.5500  C22 C26        S  None    NaN   \n",
       "5  48.0000    0.0    0.0     19952   26.5500      E12        S     3    NaN   \n",
       "6  63.0000    1.0    0.0     13502   77.9583       D7        S    10    NaN   \n",
       "7  39.0000    0.0    0.0    112050    0.0000      A36        S  None    NaN   \n",
       "8  53.0000    2.0    0.0     11769   51.4792     C101        S     D    NaN   \n",
       "9  71.0000    0.0    0.0  PC 17609   49.5042     None        C  None   22.0   \n",
       "\n",
       "                         home.dest  \n",
       "0                     St Louis, MO  \n",
       "1  Montreal, PQ / Chesterville, ON  \n",
       "2  Montreal, PQ / Chesterville, ON  \n",
       "3  Montreal, PQ / Chesterville, ON  \n",
       "4  Montreal, PQ / Chesterville, ON  \n",
       "5                     New York, NY  \n",
       "6                       Hudson, NY  \n",
       "7                      Belfast, NI  \n",
       "8              Bayside, Queens, NY  \n",
       "9              Montevideo, Uruguay  "
      ]
     },
     "execution_count": 2,
     "metadata": {},
     "output_type": "execute_result"
    }
   ],
   "source": [
    "from sklearn.datasets import fetch_openml\n",
    "\n",
    "# Load data from https://www.openml.org/d/40945\n",
    "raw_dataset = fetch_openml(\"titanic\", version=1, as_frame=True).frame\n",
    "dataset = raw_dataset.copy()\n",
    "dataset.head(10)"
   ]
  },
  {
   "cell_type": "code",
   "execution_count": 3,
   "id": "46b34939",
   "metadata": {},
   "outputs": [],
   "source": [
    "dataset.drop(['boat', 'body', 'home.dest', 'fare', 'cabin'],  axis=1, inplace=True)"
   ]
  },
  {
   "cell_type": "markdown",
   "id": "87d0fb4f",
   "metadata": {},
   "source": [
    "### Dataset split\n",
    "- row base in test and train datasets\n",
    "- column base in features and labels"
   ]
  },
  {
   "cell_type": "code",
   "execution_count": 4,
   "id": "bfa0f99f",
   "metadata": {},
   "outputs": [],
   "source": [
    "train_dataset = dataset.sample(frac=0.8, random_state=random.randint(0, 1000))\n",
    "test_dataset = dataset.drop(train_dataset.index)\n",
    "\n",
    "train_features = train_dataset.copy()\n",
    "test_features = test_dataset.copy()\n",
    "\n",
    "train_labels = train_features.pop('survived')\n",
    "test_labels = test_features.pop('survived')\n",
    "\n",
    "test_labels.reset_index(drop=True, inplace=True)"
   ]
  },
  {
   "cell_type": "markdown",
   "id": "7973f31a",
   "metadata": {},
   "source": [
    "#### Build the pipeline"
   ]
  },
  {
   "cell_type": "code",
   "execution_count": 5,
   "id": "289963a0",
   "metadata": {
    "scrolled": true
   },
   "outputs": [
    {
     "name": "stderr",
     "output_type": "stream",
     "text": [
      "2021/10/06 18:55:21 WARNING mlflow.tracking.context.git_context: Failed to import Git (the Git executable is probably not on your PATH), so Git SHA is not available. Error: Failed to initialize: Bad git executable.\n",
      "The git executable must be specified in one of the following ways:\n",
      "    - be included in your $PATH\n",
      "    - be set via $GIT_PYTHON_GIT_EXECUTABLE\n",
      "    - explicitly set via git.refresh()\n",
      "\n",
      "All git commands will error until this is rectified.\n",
      "\n",
      "This initial warning can be silenced or aggravated in the future by setting the\n",
      "$GIT_PYTHON_REFRESH environment variable. Use one of the following values:\n",
      "    - quiet|q|silence|s|none|n|0: for no warning or exception\n",
      "    - warn|w|warning|1: for a printed warning\n",
      "    - error|e|raise|r|2: for a raised exception\n",
      "\n",
      "Example:\n",
      "    export GIT_PYTHON_REFRESH=quiet\n",
      "\n",
      "2021/10/06 18:55:21 WARNING mlflow.utils: Truncated the value of the key `steps`. Truncated value: `[('preprocessor', ColumnTransformer(transformers=[('num',\n",
      "                                 Pipeline(steps=[('imputer',\n",
      "                                                  SimpleImputer(strategy='median')),\n",
      "                                           ...`\n",
      "2021/10/06 18:55:21 WARNING mlflow.utils: Truncated the value of the key `preprocessor`. Truncated value: `ColumnTransformer(transformers=[('num',\n",
      "                                 Pipeline(steps=[('imputer',\n",
      "                                                  SimpleImputer(strategy='median')),\n",
      "                                                 ('scaler', M...`\n",
      "2021/10/06 18:55:21 WARNING mlflow.utils: Truncated the value of the key `preprocessor__transformers`. Truncated value: `[('num', Pipeline(steps=[('imputer', SimpleImputer(strategy='median')),\n",
      "                ('scaler', MinMaxScaler())]), ['age', 'sibsp', 'parch']), ('ohe', Pipeline(steps=[('imputer', SimpleImputer(strategy='most_frequent')),\n",
      "                ('ohe',...`\n",
      "c:\\users\\drago\\.conda\\envs\\sklearn-env\\lib\\site-packages\\sklearn\\linear_model\\_logistic.py:763: ConvergenceWarning: lbfgs failed to converge (status=1):\n",
      "STOP: TOTAL NO. of ITERATIONS REACHED LIMIT.\n",
      "\n",
      "Increase the number of iterations (max_iter) or scale the data as shown in:\n",
      "    https://scikit-learn.org/stable/modules/preprocessing.html\n",
      "Please also refer to the documentation for alternative solver options:\n",
      "    https://scikit-learn.org/stable/modules/linear_model.html#logistic-regression\n",
      "  n_iter_i = _check_optimize_result(\n",
      "2021/10/06 18:55:22 WARNING mlflow.sklearn: Failed to infer model signature: Unable to map 'np.object' type to MLflow DataType. np.object canbe mapped iff all values have identical data type which is one of (string, (bytes or byterray),  int, float).\n"
     ]
    },
    {
     "name": "stdout",
     "output_type": "stream",
     "text": [
      "Pipeline model :Pipeline(steps=[('preprocessor',\n",
      "                 ColumnTransformer(transformers=[('num',\n",
      "                                                  Pipeline(steps=[('imputer',\n",
      "                                                                   SimpleImputer(strategy='median')),\n",
      "                                                                  ('scaler',\n",
      "                                                                   MinMaxScaler())]),\n",
      "                                                  ['age', 'sibsp', 'parch']),\n",
      "                                                 ('ohe',\n",
      "                                                  Pipeline(steps=[('imputer',\n",
      "                                                                   SimpleImputer(strategy='most_frequent')),\n",
      "                                                                  ('ohe',\n",
      "                                                                   OneHotEncoder(handle_unknown='ignore'))]),\n",
      "                                                  ['embarked', 'sex']),\n",
      "                                                 ('cust',\n",
      "                                                  FunctionTransformer(func=<ufunc 'square'>,\n",
      "                                                                      validate=True),\n",
      "                                                  ['pclass'])])),\n",
      "                ('regressor', LogisticRegression())])\n"
     ]
    }
   ],
   "source": [
    "from sklearn.preprocessing import MinMaxScaler\n",
    "from sklearn.impute import SimpleImputer\n",
    "from sklearn.preprocessing import OneHotEncoder,OrdinalEncoder\n",
    "from sklearn.compose import ColumnTransformer\n",
    "from sklearn.preprocessing import FunctionTransformer\n",
    "\n",
    "from sklearn.pipeline import Pipeline\n",
    "\n",
    "numeric_features = ['age', 'sibsp', 'parch']\n",
    "numeric_transformer = Pipeline(steps=[\n",
    "    ('imputer', SimpleImputer(strategy='median')),\n",
    "    ('scaler', MinMaxScaler())])\n",
    "\n",
    "custom_features = ['pclass']\n",
    "custom_transformer = FunctionTransformer(np.square, validate=True)\n",
    "\n",
    "categorical_features = ['embarked', 'sex']\n",
    "ohe_transformer = OneHotEncoder(handle_unknown='ignore')\n",
    "categorical_transformer = Pipeline(steps=[\n",
    "    ('imputer', SimpleImputer(strategy='most_frequent')),\n",
    "    ('ohe', ohe_transformer)])\n",
    "\n",
    "preprocessor = ColumnTransformer(\n",
    "    transformers=[\n",
    "        ('num', numeric_transformer, numeric_features),\n",
    "        ('ohe', categorical_transformer, categorical_features),\n",
    "        ('cust', custom_transformer, custom_features)])\n",
    "\n",
    "from sklearn.linear_model import LogisticRegression\n",
    "\n",
    "pipeline = Pipeline(steps=[('preprocessor', preprocessor), ('regressor', LogisticRegression())])\n",
    "with mlflow.start_run(run_name='run_123') as run:\n",
    "    pipeline_model = pipeline.fit(train_features, train_labels)\n",
    "    print('Pipeline model :' +str( pipeline_model))\n"
   ]
  },
  {
   "cell_type": "markdown",
   "id": "fd32c954",
   "metadata": {},
   "source": [
    "#### Extract pipeline metadata"
   ]
  },
  {
   "cell_type": "code",
   "execution_count": 6,
   "id": "f6bad235",
   "metadata": {},
   "outputs": [
    {
     "name": "stdout",
     "output_type": "stream",
     "text": [
      "'RunId:02b1eeebd2974a37b3e065635d649ead'\n"
     ]
    }
   ],
   "source": [
    "def fetch_logged_data(run_id):\n",
    "    pprint(\"RunId:\" + str(run_id))\n",
    "    client = mlflow.tracking.MlflowClient()\n",
    "    data = client.get_run(run_id).data\n",
    "    tags = {k: v for k, v in data.tags.items() if not k.startswith(\"mlflow.\")}\n",
    "    artifacts = [f.path for f in client.list_artifacts(run_id, \"model\")]\n",
    "    return data.params, data.metrics, tags, artifacts\n",
    "\n",
    "# fetch logged data\n",
    "params, metrics, tags, artifacts = fetch_logged_data(run.info.run_id)"
   ]
  },
  {
   "cell_type": "markdown",
   "id": "f706d2ee",
   "metadata": {},
   "source": [
    "#### Show captured params"
   ]
  },
  {
   "cell_type": "code",
   "execution_count": 7,
   "id": "a4f4741a",
   "metadata": {},
   "outputs": [
    {
     "data": {
      "text/plain": [
       "'Params'"
      ]
     },
     "metadata": {},
     "output_type": "display_data"
    },
    {
     "data": {
      "text/plain": [
       "{'memory': 'None',\n",
       " 'preprocessor': \"ColumnTransformer(transformers=[('num',\\n                                 Pipeline(steps=[('imputer',\\n                                                  SimpleImputer(strategy='median')),\\n                                                 ('scaler', M...\",\n",
       " 'preprocessor__cust': \"FunctionTransformer(func=<ufunc 'square'>, validate=True)\",\n",
       " 'preprocessor__cust__accept_sparse': 'False',\n",
       " 'preprocessor__cust__check_inverse': 'True',\n",
       " 'preprocessor__cust__func': \"<ufunc 'square'>\",\n",
       " 'preprocessor__cust__inverse_func': 'None',\n",
       " 'preprocessor__cust__inv_kw_args': 'None',\n",
       " 'preprocessor__cust__kw_args': 'None',\n",
       " 'preprocessor__cust__validate': 'True',\n",
       " 'preprocessor__num': \"Pipeline(steps=[('imputer', SimpleImputer(strategy='median')),\\n                ('scaler', MinMaxScaler())])\",\n",
       " 'preprocessor__num__imputer': \"SimpleImputer(strategy='median')\",\n",
       " 'preprocessor__num__imputer__add_indicator': 'False',\n",
       " 'preprocessor__num__imputer__copy': 'True',\n",
       " 'preprocessor__num__imputer__fill_value': 'None',\n",
       " 'preprocessor__num__imputer__missing_values': 'nan',\n",
       " 'preprocessor__num__imputer__strategy': 'median',\n",
       " 'preprocessor__num__imputer__verbose': '0',\n",
       " 'preprocessor__num__memory': 'None',\n",
       " 'preprocessor__num__scaler': 'MinMaxScaler()',\n",
       " 'preprocessor__num__scaler__clip': 'False',\n",
       " 'preprocessor__num__scaler__copy': 'True',\n",
       " 'preprocessor__num__scaler__feature_range': '(0, 1)',\n",
       " 'preprocessor__num__steps': \"[('imputer', SimpleImputer(strategy='median')), ('scaler', MinMaxScaler())]\",\n",
       " 'preprocessor__num__verbose': 'False',\n",
       " 'preprocessor__n_jobs': 'None',\n",
       " 'preprocessor__ohe': \"Pipeline(steps=[('imputer', SimpleImputer(strategy='most_frequent')),\\n                ('ohe', OneHotEncoder(handle_unknown='ignore'))])\",\n",
       " 'preprocessor__ohe__imputer': \"SimpleImputer(strategy='most_frequent')\",\n",
       " 'preprocessor__ohe__imputer__add_indicator': 'False',\n",
       " 'preprocessor__ohe__imputer__copy': 'True',\n",
       " 'preprocessor__ohe__imputer__fill_value': 'None',\n",
       " 'preprocessor__ohe__imputer__missing_values': 'nan',\n",
       " 'preprocessor__ohe__imputer__strategy': 'most_frequent',\n",
       " 'preprocessor__ohe__imputer__verbose': '0',\n",
       " 'preprocessor__ohe__memory': 'None',\n",
       " 'preprocessor__ohe__ohe': \"OneHotEncoder(handle_unknown='ignore')\",\n",
       " 'preprocessor__ohe__ohe__categories': 'auto',\n",
       " 'preprocessor__ohe__ohe__drop': 'None',\n",
       " 'preprocessor__ohe__ohe__dtype': \"<class 'numpy.float64'>\",\n",
       " 'preprocessor__ohe__ohe__handle_unknown': 'ignore',\n",
       " 'preprocessor__ohe__ohe__sparse': 'True',\n",
       " 'preprocessor__ohe__steps': \"[('imputer', SimpleImputer(strategy='most_frequent')), ('ohe', OneHotEncoder(handle_unknown='ignore'))]\",\n",
       " 'preprocessor__ohe__verbose': 'False',\n",
       " 'preprocessor__remainder': 'drop',\n",
       " 'preprocessor__sparse_threshold': '0.3',\n",
       " 'preprocessor__transformers': \"[('num', Pipeline(steps=[('imputer', SimpleImputer(strategy='median')),\\n                ('scaler', MinMaxScaler())]), ['age', 'sibsp', 'parch']), ('ohe', Pipeline(steps=[('imputer', SimpleImputer(strategy='most_frequent')),\\n                ('ohe',...\",\n",
       " 'preprocessor__transformer_weights': 'None',\n",
       " 'preprocessor__verbose': 'False',\n",
       " 'regressor': 'LogisticRegression()',\n",
       " 'regressor__C': '1.0',\n",
       " 'regressor__class_weight': 'None',\n",
       " 'regressor__dual': 'False',\n",
       " 'regressor__fit_intercept': 'True',\n",
       " 'regressor__intercept_scaling': '1',\n",
       " 'regressor__l1_ratio': 'None',\n",
       " 'regressor__max_iter': '100',\n",
       " 'regressor__multi_class': 'auto',\n",
       " 'regressor__n_jobs': 'None',\n",
       " 'regressor__penalty': 'l2',\n",
       " 'regressor__random_state': 'None',\n",
       " 'regressor__solver': 'lbfgs',\n",
       " 'regressor__tol': '0.0001',\n",
       " 'regressor__verbose': '0',\n",
       " 'regressor__warm_start': 'False',\n",
       " 'steps': \"[('preprocessor', ColumnTransformer(transformers=[('num',\\n                                 Pipeline(steps=[('imputer',\\n                                                  SimpleImputer(strategy='median')),\\n                                           ...\",\n",
       " 'verbose': 'False'}"
      ]
     },
     "metadata": {},
     "output_type": "display_data"
    },
    {
     "data": {
      "text/plain": [
       "'Metrics'"
      ]
     },
     "metadata": {},
     "output_type": "display_data"
    },
    {
     "data": {
      "text/plain": [
       "{'training_accuracy_score': 0.7956064947468959,\n",
       " 'training_f1_score': 0.7946886525133585,\n",
       " 'training_log_loss': 0.4477285284168118,\n",
       " 'training_precision_score': 0.7942587412038208,\n",
       " 'training_recall_score': 0.7956064947468959,\n",
       " 'training_roc_auc_score': 0.851981737831637,\n",
       " 'training_score': 0.7956064947468959}"
      ]
     },
     "metadata": {},
     "output_type": "display_data"
    },
    {
     "data": {
      "text/plain": [
       "'Tags'"
      ]
     },
     "metadata": {},
     "output_type": "display_data"
    },
    {
     "data": {
      "text/plain": [
       "{'estimator_class': 'sklearn.pipeline.Pipeline', 'estimator_name': 'Pipeline'}"
      ]
     },
     "metadata": {},
     "output_type": "display_data"
    },
    {
     "data": {
      "text/plain": [
       "'Artifacts'"
      ]
     },
     "metadata": {},
     "output_type": "display_data"
    },
    {
     "data": {
      "text/plain": [
       "['model/MLmodel',\n",
       " 'model/conda.yaml',\n",
       " 'model/model.pkl',\n",
       " 'model/requirements.txt']"
      ]
     },
     "metadata": {},
     "output_type": "display_data"
    }
   ],
   "source": [
    "from IPython.display import display\n",
    "display('Params', params)\n",
    "display('Metrics', metrics)\n",
    "display('Tags', tags)\n",
    "display('Artifacts', artifacts)"
   ]
  },
  {
   "cell_type": "markdown",
   "id": "05bde4c6",
   "metadata": {},
   "source": [
    "#### Load model and score it programatically from mlflow repository"
   ]
  },
  {
   "cell_type": "code",
   "execution_count": 8,
   "id": "658300eb",
   "metadata": {},
   "outputs": [
    {
     "name": "stdout",
     "output_type": "stream",
     "text": [
      "Scored DF:    0 survived\n",
      "0  1        1\n",
      "1  0        1\n",
      "2  0        1\n",
      "3  1        0\n",
      "4  1        1\n",
      "5  1        1\n",
      "6  0        0\n",
      "7  0        1\n",
      "8  1        1\n",
      "9  1        1\n"
     ]
    }
   ],
   "source": [
    "model = mlflow.sklearn.load_model('runs:/{}/model'.format(run.info.run_id))\n",
    "scored_data = model.predict(test_features)\n",
    "\n",
    "scored_data = pipeline.predict(test_features)\n",
    "scored_df = pd.DataFrame(data = scored_data)\n",
    "scored_df = pd.concat([scored_df, test_labels], axis=1)\n",
    "print('Scored DF: '+ str(scored_df.head(10)))\n"
   ]
  },
  {
   "cell_type": "markdown",
   "id": "0f10038f",
   "metadata": {},
   "source": [
    "#### Start mlflow UI and notice saved model along with it metadata (metrics , logs artifacts etc)\n",
    "Note: mlflow UI url is http://localhost:5000 "
   ]
  },
  {
   "cell_type": "code",
   "execution_count": 9,
   "id": "2f2314d4",
   "metadata": {},
   "outputs": [],
   "source": [
    "#!mlflow ui --port 5000"
   ]
  },
  {
   "cell_type": "markdown",
   "id": "d2679985",
   "metadata": {},
   "source": [
    "#### Start an `mlflow serve` instance to expose HTTP rest call for scoring\n",
    "Note: The following lines are disabled because ipython notebook can not run cells in parallel and previous cel \"hangs\" on `mlflow ui` command"
   ]
  },
  {
   "cell_type": "code",
   "execution_count": null,
   "id": "962beb8e",
   "metadata": {},
   "outputs": [],
   "source": [
    "!mlflow models serve -m runs:/{run.info.run_id}/model --port 1234"
   ]
  },
  {
   "cell_type": "markdown",
   "id": "b51ce674",
   "metadata": {},
   "source": [
    "#### Score loaded mode via http command line tool (`curl`)"
   ]
  },
  {
   "cell_type": "code",
   "execution_count": null,
   "id": "72fd2864",
   "metadata": {},
   "outputs": [],
   "source": [
    "#!curl -d '{\"columns\":[\"pclass\",\"name\",\"sex\",\"age\",\"sibsp\",\"parch\",\"ticket\",\"embarked\"], \"data\":[[1,\"Allen, Miss. Elisabeth Walton\",\"female\",29,0,0,\"24160\",\"S\"]]}' -H 'Content-Type: application/json; format=pandas-split' -X POST localhost:1234/invocations"
   ]
  }
 ],
 "metadata": {
  "kernelspec": {
   "display_name": "Python 3",
   "language": "python",
   "name": "python3"
  },
  "language_info": {
   "codemirror_mode": {
    "name": "ipython",
    "version": 3
   },
   "file_extension": ".py",
   "mimetype": "text/x-python",
   "name": "python",
   "nbconvert_exporter": "python",
   "pygments_lexer": "ipython3",
   "version": "3.8.10"
  }
 },
 "nbformat": 4,
 "nbformat_minor": 5
}

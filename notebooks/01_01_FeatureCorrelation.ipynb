{
 "cells": [
  {
   "cell_type": "markdown",
   "id": "53012b48",
   "metadata": {},
   "source": [
    "### Feature Corelation\n",
    "Basic data analysis with sklearn on the auto-mpg dataset"
   ]
  },
  {
   "cell_type": "markdown",
   "id": "919d9299",
   "metadata": {},
   "source": [
    "***\n",
    "#### Environment\n",
    "`conda activate sklearn-env`\n",
    "\n",
    "***\n",
    "#### Goals\n",
    "   \n",
    "- Load data in a pandas dataframe\n",
    "- Remove records with missing values\n",
    "- Display statistical information about the data\n",
    "- Display dataset features correlation matrix\n",
    "- Visualise dataset features heatmap"
   ]
  },
  {
   "cell_type": "markdown",
   "id": "ebd63d56",
   "metadata": {},
   "source": [
    "#### Basic python imports for panda (dataframe) and seaborn(visualization) packages"
   ]
  },
  {
   "cell_type": "code",
   "execution_count": null,
   "id": "2d79a233",
   "metadata": {},
   "outputs": [],
   "source": [
    "import pandas as pd\n",
    "import numpy as np\n",
    "import seaborn as sns\n",
    "import matplotlib.pyplot as plt"
   ]
  },
  {
   "cell_type": "markdown",
   "id": "97b67d43",
   "metadata": {},
   "source": [
    "#### Dataset load from CSV located on UCI website.\n",
    "\n",
    "http://archive.ics.uci.edu/ml/machine-learning-databases/auto-mpg/auto-mpg.data  \n",
    "If the URL does not work the dataset can be loaded from the data folder `./data/auto-mpg.data`."
   ]
  },
  {
   "cell_type": "code",
   "execution_count": null,
   "id": "52f7f0b0",
   "metadata": {},
   "outputs": [],
   "source": [
    "url = 'http://archive.ics.uci.edu/ml/machine-learning-databases/auto-mpg/auto-mpg.data'\n",
    "column_names = ['MPG', 'Cylinders', 'Displacement', 'Horsepower', 'Weight',\n",
    "                'Acceleration', 'Model Year', 'Origin']\n",
    "\n",
    "raw_dataset = pd.read_csv(url, names=column_names,\n",
    "                          na_values='?', comment='\\t',\n",
    "                          sep=' ', skipinitialspace=True)"
   ]
  },
  {
   "cell_type": "markdown",
   "id": "c2ea0cc8",
   "metadata": {},
   "source": [
    "#### Keep original dataset imutabe and copy its content in a new dataset for further changes"
   ]
  },
  {
   "cell_type": "code",
   "execution_count": null,
   "id": "59490da5",
   "metadata": {},
   "outputs": [],
   "source": [
    "dataset = raw_dataset.copy()\n",
    "dataset.tail()"
   ]
  },
  {
   "cell_type": "markdown",
   "id": "eef60435",
   "metadata": {},
   "source": [
    "#### Display dataset info"
   ]
  },
  {
   "cell_type": "code",
   "execution_count": null,
   "id": "a69f5bde",
   "metadata": {},
   "outputs": [],
   "source": [
    "dataset.info()"
   ]
  },
  {
   "cell_type": "markdown",
   "id": "75ad183d",
   "metadata": {},
   "source": [
    "#### Display total count of missing values "
   ]
  },
  {
   "cell_type": "code",
   "execution_count": null,
   "id": "839069aa",
   "metadata": {},
   "outputs": [],
   "source": [
    "dataset.isna().sum()"
   ]
  },
  {
   "cell_type": "markdown",
   "id": "5970c452",
   "metadata": {},
   "source": [
    "#### Eliminate records with missing values from dataset"
   ]
  },
  {
   "cell_type": "code",
   "execution_count": null,
   "id": "026e4ef1",
   "metadata": {},
   "outputs": [],
   "source": [
    "dataset = dataset.dropna()"
   ]
  },
  {
   "cell_type": "markdown",
   "id": "daf94618",
   "metadata": {},
   "source": [
    "#### Compute basic statistics"
   ]
  },
  {
   "cell_type": "code",
   "execution_count": null,
   "id": "dba6d90f",
   "metadata": {},
   "outputs": [],
   "source": [
    "stats = dataset.describe().transpose()[['mean', 'std', 'count', 'min', 'max']]\n",
    "stats"
   ]
  },
  {
   "cell_type": "markdown",
   "id": "1beb2a26",
   "metadata": {},
   "source": [
    "#### Compute correlation matrix on this dataset"
   ]
  },
  {
   "cell_type": "code",
   "execution_count": null,
   "id": "887a695c",
   "metadata": {},
   "outputs": [],
   "source": [
    "corr = dataset.corr()\n",
    "corr"
   ]
  },
  {
   "cell_type": "markdown",
   "id": "87e1716f",
   "metadata": {},
   "source": [
    "#### Visualize correlation matrix using seaborn heatmap plot\n",
    "\n",
    "https://seaborn.pydata.org/examples/many_pairwise_correlations.html"
   ]
  },
  {
   "cell_type": "code",
   "execution_count": null,
   "id": "e92939a4",
   "metadata": {},
   "outputs": [],
   "source": [
    "# Generate a mask for the upper triangle\n",
    "mask = np.triu(np.ones_like(corr, dtype=bool))\n",
    "plt.figure(figsize = (8,6))\n",
    "sns.heatmap(corr, mask = mask, xticklabels=corr.columns.values,yticklabels=corr.columns.values,cmap=\"Greens\")"
   ]
  },
  {
   "cell_type": "markdown",
   "id": "0f9e7370",
   "metadata": {},
   "source": [
    "#### Visualize pairs of fields\n",
    "\n",
    "https://seaborn.pydata.org/examples/scatterplot_matrix.html"
   ]
  },
  {
   "cell_type": "code",
   "execution_count": null,
   "id": "d7f969e7",
   "metadata": {},
   "outputs": [],
   "source": [
    "sns.pairplot(dataset[['MPG', 'Cylinders', 'Displacement', 'Horsepower', 'Weight', 'Acceleration']], diag_kind='kde', corner=True)"
   ]
  },
  {
   "cell_type": "markdown",
   "id": "7874390f",
   "metadata": {},
   "source": [
    "#### Linear Regression"
   ]
  },
  {
   "cell_type": "code",
   "execution_count": null,
   "id": "1196a4fc",
   "metadata": {},
   "outputs": [],
   "source": [
    "sns.pairplot(dataset[['MPG', 'Cylinders', 'Displacement', 'Horsepower', 'Weight', 'Acceleration']], diag_kind='kde', corner=True, height=5, aspect=.8, kind=\"reg\")"
   ]
  },
  {
   "cell_type": "markdown",
   "id": "f9c342dc",
   "metadata": {},
   "source": [
    "#### Dataset metadata"
   ]
  },
  {
   "cell_type": "code",
   "execution_count": null,
   "id": "3a7e1544",
   "metadata": {},
   "outputs": [],
   "source": [
    "from sklearn.datasets import load_iris\n",
    "data = load_iris(as_frame = True )\n",
    "print(data.DESCR)"
   ]
  },
  {
   "cell_type": "code",
   "execution_count": null,
   "id": "913cfeae",
   "metadata": {},
   "outputs": [],
   "source": []
  }
 ],
 "metadata": {
  "kernelspec": {
   "display_name": "Python 3",
   "language": "python",
   "name": "python3"
  },
  "language_info": {
   "codemirror_mode": {
    "name": "ipython",
    "version": 3
   },
   "file_extension": ".py",
   "mimetype": "text/x-python",
   "name": "python",
   "nbconvert_exporter": "python",
   "pygments_lexer": "ipython3",
   "version": "3.8.10"
  }
 },
 "nbformat": 4,
 "nbformat_minor": 5
}

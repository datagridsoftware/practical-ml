{
 "cells": [
  {
   "cell_type": "markdown",
   "id": "2f28a8c6",
   "metadata": {},
   "source": [
    "### Logistic regression for data with multiple features\n",
    "Logistic regression with sklearn on the Titanic dataset "
   ]
  },
  {
   "cell_type": "markdown",
   "id": "40f39743",
   "metadata": {},
   "source": [
    "***\n",
    "#### Environment\n",
    "`conda activate sklearn-env`\n",
    "\n",
    "***\n",
    "#### Goals\n",
    "\n",
    "- Train logistic regression with sklearn\n",
    "- Predict values from test dataset and compare with test labels\n",
    "\n",
    "***\n",
    "#### References\n",
    "https://scikit-learn.org/stable/modules/generated/sklearn.linear_model.LogisticRegression.html"
   ]
  },
  {
   "cell_type": "markdown",
   "id": "4f21506c",
   "metadata": {},
   "source": [
    "#### Basic python imports"
   ]
  },
  {
   "cell_type": "code",
   "execution_count": null,
   "id": "dda7a399",
   "metadata": {},
   "outputs": [],
   "source": [
    "import matplotlib.pyplot as plt\n",
    "import numpy as np\n",
    "import pandas as pd\n",
    "import random\n",
    "\n",
    "# Make numpy printouts easier to read.\n",
    "np.set_printoptions(precision=3, suppress=True)"
   ]
  },
  {
   "cell_type": "markdown",
   "id": "7b6c34eb",
   "metadata": {},
   "source": [
    "#### Dataset load using sklearn API from https://www.openml.org site\n",
    "\n",
    "https://www.openml.org/d/40945\n",
    "\n",
    "If the URL does not work the dataset can be loaded from the data folder `./data/titanic/`. \n",
    "- `train.csv`\n",
    "- `test.csv`\n",
    "- `gender_submission.csv`"
   ]
  },
  {
   "cell_type": "code",
   "execution_count": null,
   "id": "3ba610e6",
   "metadata": {},
   "outputs": [],
   "source": [
    "from sklearn.datasets import fetch_openml\n",
    "\n",
    "# Load data from https://www.openml.org/d/40945\n",
    "raw_dataset = fetch_openml(\"titanic\", version=1, as_frame=True).frame\n",
    "dataset = raw_dataset.copy()\n",
    "dataset.head(10)"
   ]
  },
  {
   "cell_type": "markdown",
   "id": "80daeea2",
   "metadata": {},
   "source": [
    "#### Data preparation\n",
    "\n",
    "Split data in `training` and `test` datasets"
   ]
  },
  {
   "cell_type": "code",
   "execution_count": null,
   "id": "9d50af21",
   "metadata": {},
   "outputs": [],
   "source": [
    "dataset = dataset[['age','sibsp','parch', 'fare', 'survived' ]].dropna().copy()\n",
    "\n",
    "train_dataset = dataset.sample(frac=0.8, random_state=0)\n",
    "test_dataset = dataset.drop(train_dataset.index)\n",
    "\n",
    "train_features = train_dataset.copy()\n",
    "test_features = test_dataset.copy()\n",
    "\n",
    "train_labels = train_features.pop('survived')\n",
    "test_labels = test_features.pop('survived')\n",
    "\n",
    "train_dataset.head()"
   ]
  },
  {
   "cell_type": "markdown",
   "id": "ead43b52",
   "metadata": {},
   "source": [
    "#### Traing sklean linear regression algorithm (based on training datasets)"
   ]
  },
  {
   "cell_type": "code",
   "execution_count": null,
   "id": "51243115",
   "metadata": {
    "scrolled": true
   },
   "outputs": [],
   "source": [
    "from sklearn.linear_model import LogisticRegression\n",
    "\n",
    "logistic_regressor = LogisticRegression().fit(train_features, train_labels)"
   ]
  },
  {
   "cell_type": "markdown",
   "id": "5ec192d7",
   "metadata": {},
   "source": [
    "#### Predict values from test dataset and compare with test labels"
   ]
  },
  {
   "cell_type": "code",
   "execution_count": null,
   "id": "5381c7ea",
   "metadata": {},
   "outputs": [],
   "source": [
    "scored_test = logistic_regressor.predict(test_features)\n",
    "scored_test_proba = logistic_regressor.predict_proba(test_features)\n",
    "test_dataset['Predicted'] = scored_test\n",
    "test_dataset[['False Proba', 'True Proba']] = scored_test_proba\n"
   ]
  },
  {
   "cell_type": "code",
   "execution_count": null,
   "id": "12e236b1",
   "metadata": {},
   "outputs": [],
   "source": [
    "test_dataset.sample(10)"
   ]
  },
  {
   "cell_type": "code",
   "execution_count": null,
   "id": "7a4d0356",
   "metadata": {},
   "outputs": [],
   "source": [
    "test_digit = random.randint(1, len(scored_test))\n",
    "test_dataset.iloc[[test_digit]]"
   ]
  }
 ],
 "metadata": {
  "kernelspec": {
   "display_name": "Python 3",
   "language": "python",
   "name": "python3"
  },
  "language_info": {
   "codemirror_mode": {
    "name": "ipython",
    "version": 3
   },
   "file_extension": ".py",
   "mimetype": "text/x-python",
   "name": "python",
   "nbconvert_exporter": "python",
   "pygments_lexer": "ipython3",
   "version": "3.8.10"
  }
 },
 "nbformat": 4,
 "nbformat_minor": 5
}

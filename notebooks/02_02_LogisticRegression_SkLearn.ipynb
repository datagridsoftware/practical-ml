{
 "cells": [
  {
   "cell_type": "markdown",
   "id": "b93c835c",
   "metadata": {},
   "source": [
    "### Logistic regression for data with multiple features\n",
    "Logistic regression with sklearn on the Titanic dataset "
   ]
  },
  {
   "cell_type": "markdown",
   "id": "5c4706d8",
   "metadata": {},
   "source": [
    "***\n",
    "#### Environment\n",
    "`conda activate sklearn-env`\n",
    "\n",
    "***\n",
    "#### Goals\n",
    "\n",
    "- Train logistic regression with sklearn\n",
    "- Predict values from test dataset and compare with test labels\n",
    "\n",
    "***\n",
    "#### References\n",
    "https://scikit-learn.org/stable/modules/generated/sklearn.linear_model.LogisticRegression.html"
   ]
  },
  {
   "cell_type": "markdown",
   "id": "8965e2c3",
   "metadata": {},
   "source": [
    "#### Basic python imports"
   ]
  },
  {
   "cell_type": "code",
   "execution_count": null,
   "id": "eed52a09",
   "metadata": {},
   "outputs": [],
   "source": [
    "import matplotlib.pyplot as plt\n",
    "import numpy as np\n",
    "import pandas as pd\n",
    "import random\n",
    "\n",
    "# Make numpy printouts easier to read.\n",
    "np.set_printoptions(precision=3, suppress=True)"
   ]
  },
  {
   "cell_type": "markdown",
   "id": "6f8cb6b9",
   "metadata": {},
   "source": [
    "#### Dataset load using sklearn API from https://www.openml.org site\n",
    "\n",
    "https://www.openml.org/d/40945\n",
    "\n",
    "If the URL does not work the dataset can be loaded from the data folder `./data/titanic/`. \n",
    "- `train.csv`\n",
    "- `test.csv`\n",
    "- `gender_submission.csv`"
   ]
  },
  {
   "cell_type": "code",
   "execution_count": null,
   "id": "ef1d4277",
   "metadata": {},
   "outputs": [],
   "source": [
    "from sklearn.datasets import fetch_openml\n",
    "\n",
    "# Load data from https://www.openml.org/d/40945\n",
    "raw_dataset = fetch_openml(\"titanic\", version=1, as_frame=True).frame\n",
    "dataset = raw_dataset.copy()\n",
    "dataset.head(10)"
   ]
  },
  {
   "cell_type": "markdown",
   "id": "5817aaca",
   "metadata": {},
   "source": [
    "#### Data preparation\n",
    "\n",
    "Split data in `training` and `test` datasets"
   ]
  },
  {
   "cell_type": "code",
   "execution_count": null,
   "id": "9a9c2f11",
   "metadata": {},
   "outputs": [],
   "source": [
    "dataset = dataset[['age','sibsp','parch', 'fare', 'survived' ]].dropna().copy()\n",
    "\n",
    "train_dataset = dataset.sample(frac=0.8, random_state=0)\n",
    "test_dataset = dataset.drop(train_dataset.index)\n",
    "\n",
    "train_features = train_dataset.copy()\n",
    "test_features = test_dataset.copy()\n",
    "\n",
    "train_labels = train_features.pop('survived')\n",
    "test_labels = test_features.pop('survived')\n",
    "\n",
    "train_dataset.head()"
   ]
  },
  {
   "cell_type": "markdown",
   "id": "9cf93f15",
   "metadata": {},
   "source": [
    "#### Traing sklean linear regression algorithm (based on training datasets)"
   ]
  },
  {
   "cell_type": "code",
   "execution_count": null,
   "id": "52e978ed",
   "metadata": {
    "scrolled": true
   },
   "outputs": [],
   "source": [
    "from sklearn.linear_model import LogisticRegression\n",
    "\n",
    "logistic_regressor = LogisticRegression().fit(train_features, train_labels)"
   ]
  },
  {
   "cell_type": "markdown",
   "id": "32cc1436",
   "metadata": {},
   "source": [
    "#### Predict values from test dataset and compare with test labels"
   ]
  },
  {
   "cell_type": "code",
   "execution_count": null,
   "id": "20fdaf10",
   "metadata": {},
   "outputs": [],
   "source": [
    "scored_test = logistic_regressor.predict(test_features)\n",
    "scored_test_proba = logistic_regressor.predict_proba(test_features)\n",
    "test_dataset['Predicted'] = scored_test\n",
    "test_dataset[['False Proba', 'True Proba']] = scored_test_proba\n"
   ]
  },
  {
   "cell_type": "code",
   "execution_count": null,
   "id": "e68e01f9",
   "metadata": {},
   "outputs": [],
   "source": [
    "test_dataset.sample(10)"
   ]
  },
  {
   "cell_type": "code",
   "execution_count": null,
   "id": "7994f165",
   "metadata": {},
   "outputs": [],
   "source": [
    "test_digit = random.randint(1, len(scored_test))\n",
    "test_dataset.iloc[[test_digit]]"
   ]
  }
 ],
 "metadata": {
  "kernelspec": {
   "display_name": "Python 3",
   "language": "python",
   "name": "python3"
  },
  "language_info": {
   "codemirror_mode": {
    "name": "ipython",
    "version": 3
   },
   "file_extension": ".py",
   "mimetype": "text/x-python",
   "name": "python",
   "nbconvert_exporter": "python",
   "pygments_lexer": "ipython3",
   "version": "3.8.10"
  }
 },
 "nbformat": 4,
 "nbformat_minor": 5
}

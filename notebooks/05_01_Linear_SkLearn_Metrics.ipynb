{
 "cells": [
  {
   "cell_type": "markdown",
   "id": "6f8ca9bd",
   "metadata": {},
   "source": [
    "### Model evaluation for linear regression\n",
    "Model metrics with sklearn for linear regression on the auto-mpg dataset"
   ]
  },
  {
   "cell_type": "markdown",
   "id": "8bb0a864",
   "metadata": {},
   "source": [
    "***\n",
    "#### Environment\n",
    "`conda activate sklearn-env`\n",
    "\n",
    "***\n",
    "#### Goals\n",
    "- Build a pipeline\n",
    "- Use the pipeline to transform data\n",
    "- Use the pipeline to predict\n",
    "- Compute various metrics specific to regression models\n",
    "\n",
    "***\n",
    "#### References\n",
    "\n",
    "https://scikit-learn.org/stable/modules/generated/sklearn.preprocessing.OneHotEncoder.html\n",
    "\n",
    "https://scikit-learn.org/stable/auto_examples/compose/plot_column_transformer_mixed_types.html\n",
    "\n",
    "https://scikit-learn.org/stable/modules/generated/sklearn.preprocessing.MinMaxScaler.html\n",
    "\n",
    "https://scikit-learn.org/stable/modules/generated/sklearn.linear_model.LinearRegression.html\n",
    "\n",
    "https://scikit-learn.org/stable/modules/generated/sklearn.pipeline.Pipeline.html\n",
    "\n",
    "https://scikit-learn.org/stable/modules/model_evaluation.html\n"
   ]
  },
  {
   "cell_type": "code",
   "execution_count": 1,
   "id": "2c09634a",
   "metadata": {},
   "outputs": [],
   "source": [
    "import matplotlib.pyplot as plt\n",
    "import numpy as np\n",
    "import pandas as pd\n",
    "import seaborn as sns\n",
    "import random\n",
    "\n",
    "# Make numpy printouts easier to read.\n",
    "np.set_printoptions(precision=3, suppress=True)"
   ]
  },
  {
   "cell_type": "markdown",
   "id": "b15daaa7",
   "metadata": {},
   "source": [
    "#### Dataset load from CSV located on UCI website.\n",
    "\n",
    "http://archive.ics.uci.edu/ml/machine-learning-databases/auto-mpg/auto-mpg.data  \n",
    "If the URL does not work the dataset can be loaded from the data folder `./data/auto-mpg.data`."
   ]
  },
  {
   "cell_type": "code",
   "execution_count": 2,
   "id": "431367cf",
   "metadata": {},
   "outputs": [
    {
     "data": {
      "text/html": [
       "<div>\n",
       "<style scoped>\n",
       "    .dataframe tbody tr th:only-of-type {\n",
       "        vertical-align: middle;\n",
       "    }\n",
       "\n",
       "    .dataframe tbody tr th {\n",
       "        vertical-align: top;\n",
       "    }\n",
       "\n",
       "    .dataframe thead th {\n",
       "        text-align: right;\n",
       "    }\n",
       "</style>\n",
       "<table border=\"1\" class=\"dataframe\">\n",
       "  <thead>\n",
       "    <tr style=\"text-align: right;\">\n",
       "      <th></th>\n",
       "      <th>MPG</th>\n",
       "      <th>Cylinders</th>\n",
       "      <th>Displacement</th>\n",
       "      <th>Horsepower</th>\n",
       "      <th>Weight</th>\n",
       "      <th>Acceleration</th>\n",
       "      <th>Model Year</th>\n",
       "      <th>Origin</th>\n",
       "    </tr>\n",
       "  </thead>\n",
       "  <tbody>\n",
       "    <tr>\n",
       "      <th>228</th>\n",
       "      <td>18.5</td>\n",
       "      <td>6</td>\n",
       "      <td>250.0</td>\n",
       "      <td>98.0</td>\n",
       "      <td>3525.0</td>\n",
       "      <td>19.0</td>\n",
       "      <td>77</td>\n",
       "      <td>1</td>\n",
       "    </tr>\n",
       "    <tr>\n",
       "      <th>58</th>\n",
       "      <td>25.0</td>\n",
       "      <td>4</td>\n",
       "      <td>97.5</td>\n",
       "      <td>80.0</td>\n",
       "      <td>2126.0</td>\n",
       "      <td>17.0</td>\n",
       "      <td>72</td>\n",
       "      <td>1</td>\n",
       "    </tr>\n",
       "    <tr>\n",
       "      <th>162</th>\n",
       "      <td>15.0</td>\n",
       "      <td>6</td>\n",
       "      <td>258.0</td>\n",
       "      <td>110.0</td>\n",
       "      <td>3730.0</td>\n",
       "      <td>19.0</td>\n",
       "      <td>75</td>\n",
       "      <td>1</td>\n",
       "    </tr>\n",
       "    <tr>\n",
       "      <th>24</th>\n",
       "      <td>21.0</td>\n",
       "      <td>6</td>\n",
       "      <td>199.0</td>\n",
       "      <td>90.0</td>\n",
       "      <td>2648.0</td>\n",
       "      <td>15.0</td>\n",
       "      <td>70</td>\n",
       "      <td>1</td>\n",
       "    </tr>\n",
       "    <tr>\n",
       "      <th>153</th>\n",
       "      <td>18.0</td>\n",
       "      <td>6</td>\n",
       "      <td>250.0</td>\n",
       "      <td>105.0</td>\n",
       "      <td>3459.0</td>\n",
       "      <td>16.0</td>\n",
       "      <td>75</td>\n",
       "      <td>1</td>\n",
       "    </tr>\n",
       "  </tbody>\n",
       "</table>\n",
       "</div>"
      ],
      "text/plain": [
       "      MPG  Cylinders  Displacement  Horsepower  Weight  Acceleration  \\\n",
       "228  18.5          6         250.0        98.0  3525.0          19.0   \n",
       "58   25.0          4          97.5        80.0  2126.0          17.0   \n",
       "162  15.0          6         258.0       110.0  3730.0          19.0   \n",
       "24   21.0          6         199.0        90.0  2648.0          15.0   \n",
       "153  18.0          6         250.0       105.0  3459.0          16.0   \n",
       "\n",
       "     Model Year  Origin  \n",
       "228          77       1  \n",
       "58           72       1  \n",
       "162          75       1  \n",
       "24           70       1  \n",
       "153          75       1  "
      ]
     },
     "execution_count": 2,
     "metadata": {},
     "output_type": "execute_result"
    }
   ],
   "source": [
    "url = 'http://archive.ics.uci.edu/ml/machine-learning-databases/auto-mpg/auto-mpg.data'\n",
    "column_names = ['MPG', 'Cylinders', 'Displacement', 'Horsepower', 'Weight',\n",
    "                'Acceleration', 'Model Year', 'Origin']\n",
    "\n",
    "raw_dataset = pd.read_csv(url, names=column_names,\n",
    "                          na_values='?', comment='\\t',\n",
    "                          sep=' ', skipinitialspace=True)\n",
    "dataset = raw_dataset.copy()\n",
    "dataset.sample(5)"
   ]
  },
  {
   "cell_type": "markdown",
   "id": "98d62708",
   "metadata": {},
   "source": [
    "### Dataset split\n",
    "- row base in test and train datasets\n",
    "- column base in features and labels"
   ]
  },
  {
   "cell_type": "code",
   "execution_count": 3,
   "id": "afea41f4",
   "metadata": {},
   "outputs": [],
   "source": [
    "train_dataset = dataset.sample(frac=0.8, random_state=random.randint(0, 1000))\n",
    "test_dataset = dataset.drop(train_dataset.index)\n",
    "\n",
    "train_features = train_dataset.copy()\n",
    "test_features = test_dataset.copy()\n",
    "\n",
    "train_labels = train_features.pop('MPG')\n",
    "test_labels = test_features.pop('MPG')\n",
    "\n",
    "test_labels.reset_index(drop=True, inplace=True)"
   ]
  },
  {
   "cell_type": "markdown",
   "id": "cd64d37f",
   "metadata": {},
   "source": [
    "#### Build the pipeline"
   ]
  },
  {
   "cell_type": "code",
   "execution_count": 4,
   "id": "c15500e4",
   "metadata": {
    "scrolled": true
   },
   "outputs": [],
   "source": [
    "from sklearn.preprocessing import MinMaxScaler\n",
    "from sklearn.linear_model import LinearRegression\n",
    "from sklearn.impute import SimpleImputer\n",
    "from sklearn.preprocessing import StandardScaler, OneHotEncoder\n",
    "from sklearn.compose import ColumnTransformer\n",
    "\n",
    "from sklearn.pipeline import Pipeline\n",
    "\n",
    "numeric_features = ['Cylinders', 'Displacement', 'Horsepower', 'Weight', 'Acceleration', 'Model Year']\n",
    "numeric_transformer = Pipeline(steps=[\n",
    "    ('imputer', SimpleImputer(strategy='median')),\n",
    "    ('scaler', StandardScaler())])\n",
    "\n",
    "categorical_features = ['Origin']\n",
    "categorical_transformer = OneHotEncoder(handle_unknown='ignore')\n",
    "\n",
    "preprocessor = ColumnTransformer(\n",
    "    transformers=[\n",
    "        ('num', numeric_transformer, numeric_features),\n",
    "        ('cat', categorical_transformer, categorical_features)])\n",
    "\n",
    "data_prep_pipeline = Pipeline(steps=[('preprocessor', preprocessor)])"
   ]
  },
  {
   "cell_type": "markdown",
   "id": "35db1d85",
   "metadata": {},
   "source": [
    "#### Use the pipeline to transform data"
   ]
  },
  {
   "cell_type": "code",
   "execution_count": 5,
   "id": "879debf2",
   "metadata": {},
   "outputs": [
    {
     "data": {
      "text/html": [
       "<div>\n",
       "<style scoped>\n",
       "    .dataframe tbody tr th:only-of-type {\n",
       "        vertical-align: middle;\n",
       "    }\n",
       "\n",
       "    .dataframe tbody tr th {\n",
       "        vertical-align: top;\n",
       "    }\n",
       "\n",
       "    .dataframe thead th {\n",
       "        text-align: right;\n",
       "    }\n",
       "</style>\n",
       "<table border=\"1\" class=\"dataframe\">\n",
       "  <thead>\n",
       "    <tr style=\"text-align: right;\">\n",
       "      <th></th>\n",
       "      <th>0</th>\n",
       "      <th>1</th>\n",
       "      <th>2</th>\n",
       "      <th>3</th>\n",
       "      <th>4</th>\n",
       "      <th>5</th>\n",
       "      <th>6</th>\n",
       "      <th>7</th>\n",
       "      <th>8</th>\n",
       "    </tr>\n",
       "  </thead>\n",
       "  <tbody>\n",
       "    <tr>\n",
       "      <th>0</th>\n",
       "      <td>0.344029</td>\n",
       "      <td>0.568093</td>\n",
       "      <td>-0.413884</td>\n",
       "      <td>0.214554</td>\n",
       "      <td>-0.402578</td>\n",
       "      <td>-1.369660</td>\n",
       "      <td>1.0</td>\n",
       "      <td>0.0</td>\n",
       "      <td>0.0</td>\n",
       "    </tr>\n",
       "    <tr>\n",
       "      <th>1</th>\n",
       "      <td>-0.845115</td>\n",
       "      <td>-1.019814</td>\n",
       "      <td>-1.020405</td>\n",
       "      <td>-1.010501</td>\n",
       "      <td>0.835384</td>\n",
       "      <td>1.105067</td>\n",
       "      <td>0.0</td>\n",
       "      <td>0.0</td>\n",
       "      <td>1.0</td>\n",
       "    </tr>\n",
       "    <tr>\n",
       "      <th>2</th>\n",
       "      <td>0.344029</td>\n",
       "      <td>0.083975</td>\n",
       "      <td>-0.413884</td>\n",
       "      <td>0.120502</td>\n",
       "      <td>0.544099</td>\n",
       "      <td>1.380036</td>\n",
       "      <td>1.0</td>\n",
       "      <td>0.0</td>\n",
       "      <td>0.0</td>\n",
       "    </tr>\n",
       "    <tr>\n",
       "      <th>3</th>\n",
       "      <td>1.533174</td>\n",
       "      <td>1.071575</td>\n",
       "      <td>0.931011</td>\n",
       "      <td>0.727672</td>\n",
       "      <td>-1.021559</td>\n",
       "      <td>0.555127</td>\n",
       "      <td>1.0</td>\n",
       "      <td>0.0</td>\n",
       "      <td>0.0</td>\n",
       "    </tr>\n",
       "    <tr>\n",
       "      <th>4</th>\n",
       "      <td>1.533174</td>\n",
       "      <td>1.226493</td>\n",
       "      <td>1.221086</td>\n",
       "      <td>1.465800</td>\n",
       "      <td>-0.948738</td>\n",
       "      <td>0.005188</td>\n",
       "      <td>1.0</td>\n",
       "      <td>0.0</td>\n",
       "      <td>0.0</td>\n",
       "    </tr>\n",
       "  </tbody>\n",
       "</table>\n",
       "</div>"
      ],
      "text/plain": [
       "          0         1         2         3         4         5    6    7    8\n",
       "0  0.344029  0.568093 -0.413884  0.214554 -0.402578 -1.369660  1.0  0.0  0.0\n",
       "1 -0.845115 -1.019814 -1.020405 -1.010501  0.835384  1.105067  0.0  0.0  1.0\n",
       "2  0.344029  0.083975 -0.413884  0.120502  0.544099  1.380036  1.0  0.0  0.0\n",
       "3  1.533174  1.071575  0.931011  0.727672 -1.021559  0.555127  1.0  0.0  0.0\n",
       "4  1.533174  1.226493  1.221086  1.465800 -0.948738  0.005188  1.0  0.0  0.0"
      ]
     },
     "execution_count": 5,
     "metadata": {},
     "output_type": "execute_result"
    }
   ],
   "source": [
    "data_prep_data = data_prep_pipeline.fit_transform(train_features, train_labels)\n",
    "\n",
    "transformed_df = pd.DataFrame(data = data_prep_data)\n",
    "transformed_df.head(5)"
   ]
  },
  {
   "cell_type": "markdown",
   "id": "99214467",
   "metadata": {},
   "source": [
    "#### Build the full pipeline"
   ]
  },
  {
   "cell_type": "code",
   "execution_count": 6,
   "id": "c787c1c9",
   "metadata": {},
   "outputs": [
    {
     "name": "stdout",
     "output_type": "stream",
     "text": [
      "Pipeline(steps=[('preprocessor',\n",
      "                 ColumnTransformer(transformers=[('num',\n",
      "                                                  Pipeline(steps=[('imputer',\n",
      "                                                                   SimpleImputer(strategy='median')),\n",
      "                                                                  ('scaler',\n",
      "                                                                   StandardScaler())]),\n",
      "                                                  ['Cylinders', 'Displacement',\n",
      "                                                   'Horsepower', 'Weight',\n",
      "                                                   'Acceleration',\n",
      "                                                   'Model Year']),\n",
      "                                                 ('cat',\n",
      "                                                  OneHotEncoder(handle_unknown='ignore'),\n",
      "                                                  ['Origin'])])),\n",
      "                ('regressor', LinearRegression())])\n"
     ]
    }
   ],
   "source": [
    "pipeline = Pipeline(steps=[('preprocessor', preprocessor), ('regressor', LinearRegression())])\n",
    "pipeline_model = pipeline.fit(train_features, train_labels)\n",
    "print(pipeline_model)"
   ]
  },
  {
   "cell_type": "code",
   "execution_count": 7,
   "id": "5cca1c26",
   "metadata": {},
   "outputs": [
    {
     "data": {
      "text/html": [
       "<style>#sk-19aa3971-940f-4fa5-a4dc-b885994d66e1 {color: black;background-color: white;}#sk-19aa3971-940f-4fa5-a4dc-b885994d66e1 pre{padding: 0;}#sk-19aa3971-940f-4fa5-a4dc-b885994d66e1 div.sk-toggleable {background-color: white;}#sk-19aa3971-940f-4fa5-a4dc-b885994d66e1 label.sk-toggleable__label {cursor: pointer;display: block;width: 100%;margin-bottom: 0;padding: 0.2em 0.3em;box-sizing: border-box;text-align: center;}#sk-19aa3971-940f-4fa5-a4dc-b885994d66e1 div.sk-toggleable__content {max-height: 0;max-width: 0;overflow: hidden;text-align: left;background-color: #f0f8ff;}#sk-19aa3971-940f-4fa5-a4dc-b885994d66e1 div.sk-toggleable__content pre {margin: 0.2em;color: black;border-radius: 0.25em;background-color: #f0f8ff;}#sk-19aa3971-940f-4fa5-a4dc-b885994d66e1 input.sk-toggleable__control:checked~div.sk-toggleable__content {max-height: 200px;max-width: 100%;overflow: auto;}#sk-19aa3971-940f-4fa5-a4dc-b885994d66e1 div.sk-estimator input.sk-toggleable__control:checked~label.sk-toggleable__label {background-color: #d4ebff;}#sk-19aa3971-940f-4fa5-a4dc-b885994d66e1 div.sk-label input.sk-toggleable__control:checked~label.sk-toggleable__label {background-color: #d4ebff;}#sk-19aa3971-940f-4fa5-a4dc-b885994d66e1 input.sk-hidden--visually {border: 0;clip: rect(1px 1px 1px 1px);clip: rect(1px, 1px, 1px, 1px);height: 1px;margin: -1px;overflow: hidden;padding: 0;position: absolute;width: 1px;}#sk-19aa3971-940f-4fa5-a4dc-b885994d66e1 div.sk-estimator {font-family: monospace;background-color: #f0f8ff;margin: 0.25em 0.25em;border: 1px dotted black;border-radius: 0.25em;box-sizing: border-box;}#sk-19aa3971-940f-4fa5-a4dc-b885994d66e1 div.sk-estimator:hover {background-color: #d4ebff;}#sk-19aa3971-940f-4fa5-a4dc-b885994d66e1 div.sk-parallel-item::after {content: \"\";width: 100%;border-bottom: 1px solid gray;flex-grow: 1;}#sk-19aa3971-940f-4fa5-a4dc-b885994d66e1 div.sk-label:hover label.sk-toggleable__label {background-color: #d4ebff;}#sk-19aa3971-940f-4fa5-a4dc-b885994d66e1 div.sk-serial::before {content: \"\";position: absolute;border-left: 1px solid gray;box-sizing: border-box;top: 2em;bottom: 0;left: 50%;}#sk-19aa3971-940f-4fa5-a4dc-b885994d66e1 div.sk-serial {display: flex;flex-direction: column;align-items: center;background-color: white;}#sk-19aa3971-940f-4fa5-a4dc-b885994d66e1 div.sk-item {z-index: 1;}#sk-19aa3971-940f-4fa5-a4dc-b885994d66e1 div.sk-parallel {display: flex;align-items: stretch;justify-content: center;background-color: white;}#sk-19aa3971-940f-4fa5-a4dc-b885994d66e1 div.sk-parallel-item {display: flex;flex-direction: column;position: relative;background-color: white;}#sk-19aa3971-940f-4fa5-a4dc-b885994d66e1 div.sk-parallel-item:first-child::after {align-self: flex-end;width: 50%;}#sk-19aa3971-940f-4fa5-a4dc-b885994d66e1 div.sk-parallel-item:last-child::after {align-self: flex-start;width: 50%;}#sk-19aa3971-940f-4fa5-a4dc-b885994d66e1 div.sk-parallel-item:only-child::after {width: 0;}#sk-19aa3971-940f-4fa5-a4dc-b885994d66e1 div.sk-dashed-wrapped {border: 1px dashed gray;margin: 0.2em;box-sizing: border-box;padding-bottom: 0.1em;background-color: white;position: relative;}#sk-19aa3971-940f-4fa5-a4dc-b885994d66e1 div.sk-label label {font-family: monospace;font-weight: bold;background-color: white;display: inline-block;line-height: 1.2em;}#sk-19aa3971-940f-4fa5-a4dc-b885994d66e1 div.sk-label-container {position: relative;z-index: 2;text-align: center;}#sk-19aa3971-940f-4fa5-a4dc-b885994d66e1 div.sk-container {display: inline-block;position: relative;}</style><div id=\"sk-19aa3971-940f-4fa5-a4dc-b885994d66e1\" class\"sk-top-container\"><div class=\"sk-container\"><div class=\"sk-item sk-dashed-wrapped\"><div class=\"sk-label-container\"><div class=\"sk-label sk-toggleable\"><input class=\"sk-toggleable__control sk-hidden--visually\" id=\"789702a1-e71b-4c96-92aa-b6817ef40cf2\" type=\"checkbox\" ><label class=\"sk-toggleable__label\" for=\"789702a1-e71b-4c96-92aa-b6817ef40cf2\">Pipeline</label><div class=\"sk-toggleable__content\"><pre>Pipeline(steps=[('preprocessor',\n",
       "                 ColumnTransformer(transformers=[('num',\n",
       "                                                  Pipeline(steps=[('imputer',\n",
       "                                                                   SimpleImputer(strategy='median')),\n",
       "                                                                  ('scaler',\n",
       "                                                                   StandardScaler())]),\n",
       "                                                  ['Cylinders', 'Displacement',\n",
       "                                                   'Horsepower', 'Weight',\n",
       "                                                   'Acceleration',\n",
       "                                                   'Model Year']),\n",
       "                                                 ('cat',\n",
       "                                                  OneHotEncoder(handle_unknown='ignore'),\n",
       "                                                  ['Origin'])])),\n",
       "                ('regressor', LinearRegression())])</pre></div></div></div><div class=\"sk-serial\"><div class=\"sk-item sk-dashed-wrapped\"><div class=\"sk-label-container\"><div class=\"sk-label sk-toggleable\"><input class=\"sk-toggleable__control sk-hidden--visually\" id=\"44ec7647-a165-402e-a7d6-0d2d073f2241\" type=\"checkbox\" ><label class=\"sk-toggleable__label\" for=\"44ec7647-a165-402e-a7d6-0d2d073f2241\">preprocessor: ColumnTransformer</label><div class=\"sk-toggleable__content\"><pre>ColumnTransformer(transformers=[('num',\n",
       "                                 Pipeline(steps=[('imputer',\n",
       "                                                  SimpleImputer(strategy='median')),\n",
       "                                                 ('scaler', StandardScaler())]),\n",
       "                                 ['Cylinders', 'Displacement', 'Horsepower',\n",
       "                                  'Weight', 'Acceleration', 'Model Year']),\n",
       "                                ('cat', OneHotEncoder(handle_unknown='ignore'),\n",
       "                                 ['Origin'])])</pre></div></div></div><div class=\"sk-parallel\"><div class=\"sk-parallel-item\"><div class=\"sk-item\"><div class=\"sk-label-container\"><div class=\"sk-label sk-toggleable\"><input class=\"sk-toggleable__control sk-hidden--visually\" id=\"ec72cdfd-2541-4ce4-8119-bd4af93b972b\" type=\"checkbox\" ><label class=\"sk-toggleable__label\" for=\"ec72cdfd-2541-4ce4-8119-bd4af93b972b\">num</label><div class=\"sk-toggleable__content\"><pre>['Cylinders', 'Displacement', 'Horsepower', 'Weight', 'Acceleration', 'Model Year']</pre></div></div></div><div class=\"sk-serial\"><div class=\"sk-item\"><div class=\"sk-serial\"><div class=\"sk-item\"><div class=\"sk-estimator sk-toggleable\"><input class=\"sk-toggleable__control sk-hidden--visually\" id=\"d56811ed-71ba-4f59-81e2-d730a4d248dc\" type=\"checkbox\" ><label class=\"sk-toggleable__label\" for=\"d56811ed-71ba-4f59-81e2-d730a4d248dc\">SimpleImputer</label><div class=\"sk-toggleable__content\"><pre>SimpleImputer(strategy='median')</pre></div></div></div><div class=\"sk-item\"><div class=\"sk-estimator sk-toggleable\"><input class=\"sk-toggleable__control sk-hidden--visually\" id=\"8f7988b6-e806-43fb-89cc-05430f5a0e7c\" type=\"checkbox\" ><label class=\"sk-toggleable__label\" for=\"8f7988b6-e806-43fb-89cc-05430f5a0e7c\">StandardScaler</label><div class=\"sk-toggleable__content\"><pre>StandardScaler()</pre></div></div></div></div></div></div></div></div><div class=\"sk-parallel-item\"><div class=\"sk-item\"><div class=\"sk-label-container\"><div class=\"sk-label sk-toggleable\"><input class=\"sk-toggleable__control sk-hidden--visually\" id=\"fff9629f-694e-4dcd-84fa-7df9f57a0c1d\" type=\"checkbox\" ><label class=\"sk-toggleable__label\" for=\"fff9629f-694e-4dcd-84fa-7df9f57a0c1d\">cat</label><div class=\"sk-toggleable__content\"><pre>['Origin']</pre></div></div></div><div class=\"sk-serial\"><div class=\"sk-item\"><div class=\"sk-estimator sk-toggleable\"><input class=\"sk-toggleable__control sk-hidden--visually\" id=\"b824ee3c-c7ba-409a-a0b6-60bf81bf58d5\" type=\"checkbox\" ><label class=\"sk-toggleable__label\" for=\"b824ee3c-c7ba-409a-a0b6-60bf81bf58d5\">OneHotEncoder</label><div class=\"sk-toggleable__content\"><pre>OneHotEncoder(handle_unknown='ignore')</pre></div></div></div></div></div></div></div></div><div class=\"sk-item\"><div class=\"sk-estimator sk-toggleable\"><input class=\"sk-toggleable__control sk-hidden--visually\" id=\"ef3f3848-a033-4199-b3fa-ab3c4a226d80\" type=\"checkbox\" ><label class=\"sk-toggleable__label\" for=\"ef3f3848-a033-4199-b3fa-ab3c4a226d80\">LinearRegression</label><div class=\"sk-toggleable__content\"><pre>LinearRegression()</pre></div></div></div></div></div></div></div>"
      ],
      "text/plain": [
       "Pipeline(steps=[('preprocessor',\n",
       "                 ColumnTransformer(transformers=[('num',\n",
       "                                                  Pipeline(steps=[('imputer',\n",
       "                                                                   SimpleImputer(strategy='median')),\n",
       "                                                                  ('scaler',\n",
       "                                                                   StandardScaler())]),\n",
       "                                                  ['Cylinders', 'Displacement',\n",
       "                                                   'Horsepower', 'Weight',\n",
       "                                                   'Acceleration',\n",
       "                                                   'Model Year']),\n",
       "                                                 ('cat',\n",
       "                                                  OneHotEncoder(handle_unknown='ignore'),\n",
       "                                                  ['Origin'])])),\n",
       "                ('regressor', LinearRegression())])"
      ]
     },
     "execution_count": 7,
     "metadata": {},
     "output_type": "execute_result"
    }
   ],
   "source": [
    "from sklearn import set_config\n",
    "\n",
    "set_config(display='diagram')\n",
    "pipeline"
   ]
  },
  {
   "cell_type": "markdown",
   "id": "96aa2a19",
   "metadata": {},
   "source": [
    "#### Use pipeline to predict values"
   ]
  },
  {
   "cell_type": "code",
   "execution_count": 8,
   "id": "8fe63353",
   "metadata": {},
   "outputs": [],
   "source": [
    "scored_data = pipeline.predict(test_features)"
   ]
  },
  {
   "cell_type": "markdown",
   "id": "6d107772",
   "metadata": {},
   "source": [
    "#### Show predicted values"
   ]
  },
  {
   "cell_type": "code",
   "execution_count": 9,
   "id": "d74f66b8",
   "metadata": {},
   "outputs": [
    {
     "data": {
      "text/html": [
       "<div>\n",
       "<style scoped>\n",
       "    .dataframe tbody tr th:only-of-type {\n",
       "        vertical-align: middle;\n",
       "    }\n",
       "\n",
       "    .dataframe tbody tr th {\n",
       "        vertical-align: top;\n",
       "    }\n",
       "\n",
       "    .dataframe thead th {\n",
       "        text-align: right;\n",
       "    }\n",
       "</style>\n",
       "<table border=\"1\" class=\"dataframe\">\n",
       "  <thead>\n",
       "    <tr style=\"text-align: right;\">\n",
       "      <th></th>\n",
       "      <th>0</th>\n",
       "      <th>MPG</th>\n",
       "    </tr>\n",
       "  </thead>\n",
       "  <tbody>\n",
       "    <tr>\n",
       "      <th>0</th>\n",
       "      <td>14.728830</td>\n",
       "      <td>18.0</td>\n",
       "    </tr>\n",
       "    <tr>\n",
       "      <th>1</th>\n",
       "      <td>14.643889</td>\n",
       "      <td>17.0</td>\n",
       "    </tr>\n",
       "    <tr>\n",
       "      <th>2</th>\n",
       "      <td>21.536621</td>\n",
       "      <td>14.0</td>\n",
       "    </tr>\n",
       "    <tr>\n",
       "      <th>3</th>\n",
       "      <td>18.487941</td>\n",
       "      <td>22.0</td>\n",
       "    </tr>\n",
       "    <tr>\n",
       "      <th>4</th>\n",
       "      <td>18.969361</td>\n",
       "      <td>18.0</td>\n",
       "    </tr>\n",
       "  </tbody>\n",
       "</table>\n",
       "</div>"
      ],
      "text/plain": [
       "           0   MPG\n",
       "0  14.728830  18.0\n",
       "1  14.643889  17.0\n",
       "2  21.536621  14.0\n",
       "3  18.487941  22.0\n",
       "4  18.969361  18.0"
      ]
     },
     "execution_count": 9,
     "metadata": {},
     "output_type": "execute_result"
    }
   ],
   "source": [
    "scored_df = pd.DataFrame(data = scored_data)\n",
    "\n",
    "scored_df = pd.concat([scored_df, test_labels], axis=1)\n",
    "scored_df.head(5)"
   ]
  },
  {
   "cell_type": "markdown",
   "id": "82b5a498",
   "metadata": {},
   "source": [
    "### Model evaluation"
   ]
  },
  {
   "cell_type": "markdown",
   "id": "fa392caf",
   "metadata": {},
   "source": [
    "#### Mean squared error\n",
    "\n",
    "https://scikit-learn.org/stable/modules/generated/sklearn.metrics.mean_squared_error.html    \n",
    "https://scikit-learn.org/stable/modules/generated/sklearn.metrics.mean_absolute_error.html  \n",
    "https://scikit-learn.org/stable/modules/generated/sklearn.metrics.mean_squared_log_error.html#sklearn.metrics.mean_squared_log_error  "
   ]
  },
  {
   "cell_type": "code",
   "execution_count": 10,
   "id": "6c12c433",
   "metadata": {},
   "outputs": [],
   "source": [
    "from sklearn.metrics import mean_squared_error, mean_absolute_error, mean_squared_log_error, mean_squared_log_error\n",
    "\n",
    "def printMetrics(test_labels, scored_data):\n",
    "    print( \"RMSE:\", mean_squared_error(test_labels, scored_data))\n",
    "    print( \"MAE: \", mean_absolute_error(test_labels, scored_data))\n",
    "    print( \"MSLE:\", mean_squared_log_error(test_labels, scored_data))\n",
    "    print( \"RMSLE:\", np.sqrt(mean_squared_log_error(test_labels, scored_data)))"
   ]
  },
  {
   "cell_type": "code",
   "execution_count": 11,
   "id": "3bb5092e",
   "metadata": {},
   "outputs": [
    {
     "name": "stdout",
     "output_type": "stream",
     "text": [
      "RMSE: 10.904181474440874\n",
      "MAE:  2.6474773908768863\n",
      "MSLE: 0.023185600631875913\n",
      "RMSLE: 0.1522681865390007\n"
     ]
    }
   ],
   "source": [
    "printMetrics(test_labels, scored_data)"
   ]
  },
  {
   "cell_type": "markdown",
   "id": "884bf462",
   "metadata": {},
   "source": [
    "### Build basic model without feature engineering and compare metrics"
   ]
  },
  {
   "cell_type": "code",
   "execution_count": 12,
   "id": "a692bc01",
   "metadata": {},
   "outputs": [],
   "source": [
    "train_features_new = train_dataset[['Weight','Acceleration']].copy()\n",
    "test_features_new = test_dataset[['Weight','Acceleration']].copy()\n",
    "\n",
    "train_labels_new = train_labels.copy()\n",
    "test_labels_new = test_labels.copy()"
   ]
  },
  {
   "cell_type": "code",
   "execution_count": 13,
   "id": "27dd9f28",
   "metadata": {},
   "outputs": [],
   "source": [
    "from sklearn.linear_model import LinearRegression\n",
    "\n",
    "linear_regressor_new = LinearRegression().fit(train_features_new, train_labels_new)\n",
    "scored_data_new = linear_regressor_new.predict(test_features_new)"
   ]
  },
  {
   "cell_type": "code",
   "execution_count": 14,
   "id": "3ac747c7",
   "metadata": {},
   "outputs": [
    {
     "data": {
      "text/html": [
       "<div>\n",
       "<style scoped>\n",
       "    .dataframe tbody tr th:only-of-type {\n",
       "        vertical-align: middle;\n",
       "    }\n",
       "\n",
       "    .dataframe tbody tr th {\n",
       "        vertical-align: top;\n",
       "    }\n",
       "\n",
       "    .dataframe thead th {\n",
       "        text-align: right;\n",
       "    }\n",
       "</style>\n",
       "<table border=\"1\" class=\"dataframe\">\n",
       "  <thead>\n",
       "    <tr style=\"text-align: right;\">\n",
       "      <th></th>\n",
       "      <th>0</th>\n",
       "      <th>MPG</th>\n",
       "    </tr>\n",
       "  </thead>\n",
       "  <tbody>\n",
       "    <tr>\n",
       "      <th>0</th>\n",
       "      <td>18.508252</td>\n",
       "      <td>18.0</td>\n",
       "    </tr>\n",
       "    <tr>\n",
       "      <th>1</th>\n",
       "      <td>18.467751</td>\n",
       "      <td>17.0</td>\n",
       "    </tr>\n",
       "    <tr>\n",
       "      <th>2</th>\n",
       "      <td>20.936307</td>\n",
       "      <td>14.0</td>\n",
       "    </tr>\n",
       "    <tr>\n",
       "      <th>3</th>\n",
       "      <td>24.359014</td>\n",
       "      <td>22.0</td>\n",
       "    </tr>\n",
       "    <tr>\n",
       "      <th>4</th>\n",
       "      <td>24.783892</td>\n",
       "      <td>18.0</td>\n",
       "    </tr>\n",
       "  </tbody>\n",
       "</table>\n",
       "</div>"
      ],
      "text/plain": [
       "           0   MPG\n",
       "0  18.508252  18.0\n",
       "1  18.467751  17.0\n",
       "2  20.936307  14.0\n",
       "3  24.359014  22.0\n",
       "4  24.783892  18.0"
      ]
     },
     "execution_count": 14,
     "metadata": {},
     "output_type": "execute_result"
    }
   ],
   "source": [
    "scored_df = pd.DataFrame(data = scored_data_new)\n",
    "\n",
    "scored_df = pd.concat([scored_df, test_labels_new], axis=1)\n",
    "scored_df.head(5)"
   ]
  },
  {
   "cell_type": "code",
   "execution_count": 15,
   "id": "2a0347c0",
   "metadata": {},
   "outputs": [
    {
     "name": "stdout",
     "output_type": "stream",
     "text": [
      "RMSE: 18.759450456007006\n",
      "MAE:  3.344734192206181\n",
      "MSLE: 0.03314089402390515\n",
      "RMSLE: 0.18204640623727003\n"
     ]
    }
   ],
   "source": [
    "printMetrics(test_labels_new, scored_data_new)"
   ]
  }
 ],
 "metadata": {
  "kernelspec": {
   "display_name": "Python 3",
   "language": "python",
   "name": "python3"
  },
  "language_info": {
   "codemirror_mode": {
    "name": "ipython",
    "version": 3
   },
   "file_extension": ".py",
   "mimetype": "text/x-python",
   "name": "python",
   "nbconvert_exporter": "python",
   "pygments_lexer": "ipython3",
   "version": "3.8.10"
  }
 },
 "nbformat": 4,
 "nbformat_minor": 5
}

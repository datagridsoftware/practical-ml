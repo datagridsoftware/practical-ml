{
 "cells": [
  {
   "cell_type": "markdown",
   "id": "fcc265c1",
   "metadata": {},
   "source": [
    "### Image Recognition with Keras\n",
    "CNN with Keras on the MNIST dataset"
   ]
  },
  {
   "cell_type": "markdown",
   "id": "54c783d9",
   "metadata": {},
   "source": [
    "***\n",
    "#### Environment\n",
    "`conda activate tf-env`\n",
    "\n",
    "***\n",
    "#### Goals\n",
    "- Build a neural network model\n",
    "- Observe time taken to train\n",
    "- Observe ease of use\n",
    "- Experiment predicting on samples from test data\n",
    "\n",
    "***\n",
    "#### References:\n",
    "https://keras.io/examples/vision/mnist_convnet/"
   ]
  },
  {
   "cell_type": "markdown",
   "id": "1d7f7d45",
   "metadata": {},
   "source": [
    "#### Basic python imports"
   ]
  },
  {
   "cell_type": "code",
   "execution_count": 1,
   "id": "9ba4a0fc",
   "metadata": {},
   "outputs": [],
   "source": [
    "import numpy as np\n",
    "import random\n",
    "from tensorflow import keras\n",
    "from tensorflow.keras import layers\n",
    "import matplotlib.pyplot as plt\n",
    "import datetime\n",
    "import tensorflow as tf"
   ]
  },
  {
   "cell_type": "markdown",
   "id": "14a63a00",
   "metadata": {},
   "source": [
    "#### Load and prepare data\n",
    "\n",
    "Predefined dataset consisting in 6000 28x28 images for train and 1000 28x28 images for test"
   ]
  },
  {
   "cell_type": "code",
   "execution_count": 2,
   "id": "d5f96bc3",
   "metadata": {},
   "outputs": [
    {
     "name": "stdout",
     "output_type": "stream",
     "text": [
      "x_train shape: (60000, 28, 28, 1)\n",
      "60000 train samples\n",
      "10000 test samples\n"
     ]
    }
   ],
   "source": [
    "# Model / data parameters\n",
    "num_classes = 10\n",
    "input_shape = (28, 28, 1)\n",
    "\n",
    "# the data, split between train and test sets\n",
    "(x_train, y_train), (x_test, y_test) = keras.datasets.mnist.load_data()\n",
    "\n",
    "# Scale images to the [0, 1] range\n",
    "x_train = x_train.astype(\"float32\") / 255\n",
    "x_test = x_test.astype(\"float32\") / 255\n",
    "# Make sure images have shape (28, 28, 1)\n",
    "x_train = np.expand_dims(x_train, -1)\n",
    "x_test = np.expand_dims(x_test, -1)\n",
    "print(\"x_train shape:\", x_train.shape)\n",
    "print(x_train.shape[0], \"train samples\")\n",
    "print(x_test.shape[0], \"test samples\")\n",
    "\n",
    "\n",
    "# convert class vectors to binary class matrices\n",
    "y_train = keras.utils.to_categorical(y_train, num_classes)\n",
    "y_test = keras.utils.to_categorical(y_test, num_classes)"
   ]
  },
  {
   "cell_type": "markdown",
   "id": "312f47d5",
   "metadata": {},
   "source": [
    "#### Define the Neural Network's Architecture\n",
    "\n",
    "This is a multiclass classification, hence Softmax is used on the last layer."
   ]
  },
  {
   "cell_type": "code",
   "execution_count": 3,
   "id": "77e43cbc",
   "metadata": {},
   "outputs": [
    {
     "name": "stdout",
     "output_type": "stream",
     "text": [
      "WARNING:tensorflow:Please add `keras.layers.InputLayer` instead of `keras.Input` to Sequential model. `keras.Input` is intended to be used by Functional model.\n",
      "Model: \"sequential\"\n",
      "_________________________________________________________________\n",
      "Layer (type)                 Output Shape              Param #   \n",
      "=================================================================\n",
      "conv2d (Conv2D)              (None, 26, 26, 32)        320       \n",
      "_________________________________________________________________\n",
      "max_pooling2d (MaxPooling2D) (None, 13, 13, 32)        0         \n",
      "_________________________________________________________________\n",
      "conv2d_1 (Conv2D)            (None, 11, 11, 64)        18496     \n",
      "_________________________________________________________________\n",
      "max_pooling2d_1 (MaxPooling2 (None, 5, 5, 64)          0         \n",
      "_________________________________________________________________\n",
      "flatten (Flatten)            (None, 1600)              0         \n",
      "_________________________________________________________________\n",
      "dropout (Dropout)            (None, 1600)              0         \n",
      "_________________________________________________________________\n",
      "dense (Dense)                (None, 10)                16010     \n",
      "=================================================================\n",
      "Total params: 34,826\n",
      "Trainable params: 34,826\n",
      "Non-trainable params: 0\n",
      "_________________________________________________________________\n"
     ]
    }
   ],
   "source": [
    "model = keras.Sequential(\n",
    "    [\n",
    "        keras.layers.Input(shape=input_shape),\n",
    "        layers.Conv2D(32, kernel_size=(3, 3), activation=\"relu\"),\n",
    "        layers.MaxPooling2D(pool_size=(2, 2)),\n",
    "        layers.Conv2D(64, kernel_size=(3, 3), activation=\"relu\"),\n",
    "        layers.MaxPooling2D(pool_size=(2, 2)),\n",
    "        layers.Flatten(),\n",
    "        layers.Dropout(0.5),\n",
    "        layers.Dense(num_classes, activation=\"softmax\"),\n",
    "    ]\n",
    ")\n",
    "\n",
    "model.summary()"
   ]
  },
  {
   "cell_type": "markdown",
   "id": "5523e087",
   "metadata": {},
   "source": [
    "#### Train the model\n",
    "\n",
    "Observe time taken for a small data set of 6000 28x28 images"
   ]
  },
  {
   "cell_type": "code",
   "execution_count": 4,
   "id": "76c085f2",
   "metadata": {},
   "outputs": [
    {
     "name": "stdout",
     "output_type": "stream",
     "text": [
      "Epoch 1/15\n",
      "422/422 [==============================] - 23s 53ms/step - loss: 0.3660 - accuracy: 0.8906 - val_loss: 0.0817 - val_accuracy: 0.9782\n",
      "Epoch 2/15\n",
      "422/422 [==============================] - 22s 52ms/step - loss: 0.1105 - accuracy: 0.9667 - val_loss: 0.0555 - val_accuracy: 0.9863\n",
      "Epoch 3/15\n",
      "422/422 [==============================] - 22s 52ms/step - loss: 0.0816 - accuracy: 0.9742 - val_loss: 0.0479 - val_accuracy: 0.9872\n",
      "Epoch 4/15\n",
      "422/422 [==============================] - 22s 53ms/step - loss: 0.0681 - accuracy: 0.9791 - val_loss: 0.0405 - val_accuracy: 0.9895\n",
      "Epoch 5/15\n",
      "422/422 [==============================] - 22s 53ms/step - loss: 0.0606 - accuracy: 0.9814 - val_loss: 0.0413 - val_accuracy: 0.9882\n",
      "Epoch 6/15\n",
      "422/422 [==============================] - 24s 56ms/step - loss: 0.0546 - accuracy: 0.9832 - val_loss: 0.0368 - val_accuracy: 0.9908\n",
      "Epoch 7/15\n",
      "422/422 [==============================] - 22s 52ms/step - loss: 0.0502 - accuracy: 0.9845 - val_loss: 0.0348 - val_accuracy: 0.9915\n",
      "Epoch 8/15\n",
      "422/422 [==============================] - 21s 49ms/step - loss: 0.0445 - accuracy: 0.9861 - val_loss: 0.0313 - val_accuracy: 0.9907\n",
      "Epoch 9/15\n",
      "422/422 [==============================] - 21s 51ms/step - loss: 0.0433 - accuracy: 0.9865 - val_loss: 0.0337 - val_accuracy: 0.9927\n",
      "Epoch 10/15\n",
      "422/422 [==============================] - 21s 51ms/step - loss: 0.0390 - accuracy: 0.9877 - val_loss: 0.0319 - val_accuracy: 0.9915\n",
      "Epoch 11/15\n",
      "422/422 [==============================] - 21s 51ms/step - loss: 0.0384 - accuracy: 0.9877 - val_loss: 0.0289 - val_accuracy: 0.9918\n",
      "Epoch 12/15\n",
      "422/422 [==============================] - 21s 50ms/step - loss: 0.0342 - accuracy: 0.9891 - val_loss: 0.0308 - val_accuracy: 0.9912\n",
      "Epoch 13/15\n",
      "422/422 [==============================] - 21s 50ms/step - loss: 0.0336 - accuracy: 0.9890 - val_loss: 0.0296 - val_accuracy: 0.9910\n",
      "Epoch 14/15\n",
      "422/422 [==============================] - 21s 51ms/step - loss: 0.0325 - accuracy: 0.9890 - val_loss: 0.0325 - val_accuracy: 0.9913\n",
      "Epoch 15/15\n",
      "422/422 [==============================] - 21s 50ms/step - loss: 0.0310 - accuracy: 0.9901 - val_loss: 0.0297 - val_accuracy: 0.9922\n"
     ]
    },
    {
     "data": {
      "text/plain": [
       "<tensorflow.python.keras.callbacks.History at 0x24a26e694f0>"
      ]
     },
     "execution_count": 4,
     "metadata": {},
     "output_type": "execute_result"
    }
   ],
   "source": [
    "batch_size = 128\n",
    "epochs = 15 # use 15 for a better model\n",
    "\n",
    "model.compile(loss=\"categorical_crossentropy\", optimizer=\"adam\", metrics=[\"accuracy\"])\n",
    "log_dir = \"logs/fit/\" + datetime.datetime.now().strftime(\"%Y%m%d-%H%M%S\")\n",
    "tensorboard_callback = tf.keras.callbacks.TensorBoard(log_dir=log_dir, histogram_freq=1)\n",
    "\n",
    "\n",
    "model.fit(x_train, y_train, batch_size=batch_size, epochs=epochs, validation_split=0.1,\n",
    "         callbacks=[tensorboard_callback])"
   ]
  },
  {
   "cell_type": "markdown",
   "id": "c5e49695",
   "metadata": {},
   "source": [
    "#### Run on test data\n",
    "\n",
    "Asses model qulity on the test dataset"
   ]
  },
  {
   "cell_type": "code",
   "execution_count": 5,
   "id": "95e7de62",
   "metadata": {},
   "outputs": [
    {
     "name": "stdout",
     "output_type": "stream",
     "text": [
      "Test loss: 0.024754339829087257\n",
      "Test accuracy: 0.9914000034332275\n"
     ]
    }
   ],
   "source": [
    "score = model.evaluate(x_test, y_test, verbose=0)\n",
    "predictions = model.predict(x_test)\n",
    "print(\"Test loss:\", score[0])\n",
    "print(\"Test accuracy:\", score[1])"
   ]
  },
  {
   "cell_type": "markdown",
   "id": "6800a58c",
   "metadata": {},
   "source": [
    "#### Pick a random sample"
   ]
  },
  {
   "cell_type": "code",
   "execution_count": 6,
   "id": "7e8fb3b5",
   "metadata": {},
   "outputs": [
    {
     "name": "stdout",
     "output_type": "stream",
     "text": [
      "Using test digit sample 418\n"
     ]
    },
    {
     "data": {
      "text/plain": [
       "<matplotlib.image.AxesImage at 0x24a274eab20>"
      ]
     },
     "execution_count": 6,
     "metadata": {},
     "output_type": "execute_result"
    },
    {
     "data": {
      "image/png": "[encoded data removed]",
      "text/plain": [
       "<Figure size 432x288 with 1 Axes>"
      ]
     },
     "metadata": {
      "needs_background": "light"
     },
     "output_type": "display_data"
    }
   ],
   "source": [
    "test_digit = random.randint(1, 1000)\n",
    "print(\"Using test digit sample\", test_digit)\n",
    "plt.imshow(x_test[test_digit])"
   ]
  },
  {
   "cell_type": "markdown",
   "id": "6a4cd5e5",
   "metadata": {},
   "source": [
    "#### Make the prediction on the sample"
   ]
  },
  {
   "cell_type": "code",
   "execution_count": 7,
   "id": "6b474cd0",
   "metadata": {},
   "outputs": [
    {
     "name": "stdout",
     "output_type": "stream",
     "text": [
      "Max probability:  0.9999999\n",
      "I reckon the digit is:  2\n"
     ]
    }
   ],
   "source": [
    "prediction = predictions[test_digit]\n",
    "\n",
    "index_min = np.argmax(predictions[test_digit])\n",
    "print( \"Max probability: \", max(predictions[test_digit]))\n",
    "print( \"I reckon the digit is: \", index_min)       "
   ]
  },
  {
   "cell_type": "code",
   "execution_count": null,
   "id": "ffca6146",
   "metadata": {},
   "outputs": [],
   "source": [
    "!tensorboard --logdir logs/fit"
   ]
  },
  {
   "cell_type": "code",
   "execution_count": null,
   "id": "f39199dd",
   "metadata": {},
   "outputs": [],
   "source": []
  }
 ],
 "metadata": {
  "kernelspec": {
   "display_name": "Python 3",
   "language": "python",
   "name": "python3"
  },
  "language_info": {
   "codemirror_mode": {
    "name": "ipython",
    "version": 3
   },
   "file_extension": ".py",
   "mimetype": "text/x-python",
   "name": "python",
   "nbconvert_exporter": "python",
   "pygments_lexer": "ipython3",
   "version": "3.8.10"
  }
 },
 "nbformat": 4,
 "nbformat_minor": 5
}

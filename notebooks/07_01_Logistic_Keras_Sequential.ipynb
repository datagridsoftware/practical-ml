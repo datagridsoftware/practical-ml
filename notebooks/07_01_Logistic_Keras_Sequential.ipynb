{
 "cells": [
  {
   "cell_type": "markdown",
   "id": "2f28a8c6",
   "metadata": {},
   "source": [
    "### Keras Example\n",
    "Logistic regression for structured data on the Titanic dataset"
   ]
  },
  {
   "cell_type": "markdown",
   "id": "98fd33af",
   "metadata": {},
   "source": [
    "***\n",
    "#### Environment\n",
    "`conda activate tf-env`\n",
    "\n",
    "***\n",
    "#### Goals\n",
    "- Explore Tensorflow via Keras API\n",
    "\n",
    "***\n",
    "#### References\n",
    "\n",
    "https://keras.io/  \n",
    "https://www.tensorflow.org/tutorials/structured_data/preprocessing_layers  "
   ]
  },
  {
   "cell_type": "markdown",
   "id": "516c89a7",
   "metadata": {},
   "source": [
    "#### Basic python imports"
   ]
  },
  {
   "cell_type": "code",
   "execution_count": 1,
   "id": "3ba610e6",
   "metadata": {},
   "outputs": [],
   "source": [
    "import numpy as np\n",
    "import pandas as pd\n",
    "np.set_printoptions(precision=3, suppress=True)\n",
    "from IPython.display import display"
   ]
  },
  {
   "cell_type": "markdown",
   "id": "96d747c5",
   "metadata": {},
   "source": [
    "#### Dataset load using sklearn API from https://www.openml.org site\n",
    "\n",
    "https://www.openml.org/d/40945\n",
    "\n",
    "If the URL does not work the dataset can be loaded from the data folder `./data/titanic/`. "
   ]
  },
  {
   "cell_type": "code",
   "execution_count": 2,
   "id": "9ca68922",
   "metadata": {},
   "outputs": [
    {
     "data": {
      "text/html": [
       "<div>\n",
       "<style scoped>\n",
       "    .dataframe tbody tr th:only-of-type {\n",
       "        vertical-align: middle;\n",
       "    }\n",
       "\n",
       "    .dataframe tbody tr th {\n",
       "        vertical-align: top;\n",
       "    }\n",
       "\n",
       "    .dataframe thead th {\n",
       "        text-align: right;\n",
       "    }\n",
       "</style>\n",
       "<table border=\"1\" class=\"dataframe\">\n",
       "  <thead>\n",
       "    <tr style=\"text-align: right;\">\n",
       "      <th></th>\n",
       "      <th>pclass</th>\n",
       "      <th>survived</th>\n",
       "      <th>name</th>\n",
       "      <th>sex</th>\n",
       "      <th>age</th>\n",
       "      <th>sibsp</th>\n",
       "      <th>parch</th>\n",
       "      <th>ticket</th>\n",
       "      <th>fare</th>\n",
       "      <th>cabin</th>\n",
       "      <th>embarked</th>\n",
       "      <th>boat</th>\n",
       "      <th>body</th>\n",
       "      <th>home.dest</th>\n",
       "    </tr>\n",
       "  </thead>\n",
       "  <tbody>\n",
       "    <tr>\n",
       "      <th>0</th>\n",
       "      <td>1.0</td>\n",
       "      <td>1</td>\n",
       "      <td>Allen, Miss. Elisabeth Walton</td>\n",
       "      <td>female</td>\n",
       "      <td>29.0000</td>\n",
       "      <td>0.0</td>\n",
       "      <td>0.0</td>\n",
       "      <td>24160</td>\n",
       "      <td>211.3375</td>\n",
       "      <td>B5</td>\n",
       "      <td>S</td>\n",
       "      <td>2</td>\n",
       "      <td>NaN</td>\n",
       "      <td>St Louis, MO</td>\n",
       "    </tr>\n",
       "    <tr>\n",
       "      <th>1</th>\n",
       "      <td>1.0</td>\n",
       "      <td>1</td>\n",
       "      <td>Allison, Master. Hudson Trevor</td>\n",
       "      <td>male</td>\n",
       "      <td>0.9167</td>\n",
       "      <td>1.0</td>\n",
       "      <td>2.0</td>\n",
       "      <td>113781</td>\n",
       "      <td>151.5500</td>\n",
       "      <td>C22 C26</td>\n",
       "      <td>S</td>\n",
       "      <td>11</td>\n",
       "      <td>NaN</td>\n",
       "      <td>Montreal, PQ / Chesterville, ON</td>\n",
       "    </tr>\n",
       "    <tr>\n",
       "      <th>2</th>\n",
       "      <td>1.0</td>\n",
       "      <td>0</td>\n",
       "      <td>Allison, Miss. Helen Loraine</td>\n",
       "      <td>female</td>\n",
       "      <td>2.0000</td>\n",
       "      <td>1.0</td>\n",
       "      <td>2.0</td>\n",
       "      <td>113781</td>\n",
       "      <td>151.5500</td>\n",
       "      <td>C22 C26</td>\n",
       "      <td>S</td>\n",
       "      <td>None</td>\n",
       "      <td>NaN</td>\n",
       "      <td>Montreal, PQ / Chesterville, ON</td>\n",
       "    </tr>\n",
       "    <tr>\n",
       "      <th>3</th>\n",
       "      <td>1.0</td>\n",
       "      <td>0</td>\n",
       "      <td>Allison, Mr. Hudson Joshua Creighton</td>\n",
       "      <td>male</td>\n",
       "      <td>30.0000</td>\n",
       "      <td>1.0</td>\n",
       "      <td>2.0</td>\n",
       "      <td>113781</td>\n",
       "      <td>151.5500</td>\n",
       "      <td>C22 C26</td>\n",
       "      <td>S</td>\n",
       "      <td>None</td>\n",
       "      <td>135.0</td>\n",
       "      <td>Montreal, PQ / Chesterville, ON</td>\n",
       "    </tr>\n",
       "    <tr>\n",
       "      <th>4</th>\n",
       "      <td>1.0</td>\n",
       "      <td>0</td>\n",
       "      <td>Allison, Mrs. Hudson J C (Bessie Waldo Daniels)</td>\n",
       "      <td>female</td>\n",
       "      <td>25.0000</td>\n",
       "      <td>1.0</td>\n",
       "      <td>2.0</td>\n",
       "      <td>113781</td>\n",
       "      <td>151.5500</td>\n",
       "      <td>C22 C26</td>\n",
       "      <td>S</td>\n",
       "      <td>None</td>\n",
       "      <td>NaN</td>\n",
       "      <td>Montreal, PQ / Chesterville, ON</td>\n",
       "    </tr>\n",
       "  </tbody>\n",
       "</table>\n",
       "</div>"
      ],
      "text/plain": [
       "   pclass survived                                             name     sex  \\\n",
       "0     1.0        1                    Allen, Miss. Elisabeth Walton  female   \n",
       "1     1.0        1                   Allison, Master. Hudson Trevor    male   \n",
       "2     1.0        0                     Allison, Miss. Helen Loraine  female   \n",
       "3     1.0        0             Allison, Mr. Hudson Joshua Creighton    male   \n",
       "4     1.0        0  Allison, Mrs. Hudson J C (Bessie Waldo Daniels)  female   \n",
       "\n",
       "       age  sibsp  parch  ticket      fare    cabin embarked  boat   body  \\\n",
       "0  29.0000    0.0    0.0   24160  211.3375       B5        S     2    NaN   \n",
       "1   0.9167    1.0    2.0  113781  151.5500  C22 C26        S    11    NaN   \n",
       "2   2.0000    1.0    2.0  113781  151.5500  C22 C26        S  None    NaN   \n",
       "3  30.0000    1.0    2.0  113781  151.5500  C22 C26        S  None  135.0   \n",
       "4  25.0000    1.0    2.0  113781  151.5500  C22 C26        S  None    NaN   \n",
       "\n",
       "                         home.dest  \n",
       "0                     St Louis, MO  \n",
       "1  Montreal, PQ / Chesterville, ON  \n",
       "2  Montreal, PQ / Chesterville, ON  \n",
       "3  Montreal, PQ / Chesterville, ON  \n",
       "4  Montreal, PQ / Chesterville, ON  "
      ]
     },
     "execution_count": 2,
     "metadata": {},
     "output_type": "execute_result"
    }
   ],
   "source": [
    "from sklearn.datasets import fetch_openml\n",
    "\n",
    "# Load data from https://www.openml.org/d/40945\n",
    "raw_dataset = fetch_openml(\"titanic\", version=1, as_frame=True).frame\n",
    "raw_dataset.head(5)"
   ]
  },
  {
   "cell_type": "code",
   "execution_count": 3,
   "id": "8b4bc343",
   "metadata": {},
   "outputs": [
    {
     "data": {
      "text/html": [
       "<div>\n",
       "<style scoped>\n",
       "    .dataframe tbody tr th:only-of-type {\n",
       "        vertical-align: middle;\n",
       "    }\n",
       "\n",
       "    .dataframe tbody tr th {\n",
       "        vertical-align: top;\n",
       "    }\n",
       "\n",
       "    .dataframe thead th {\n",
       "        text-align: right;\n",
       "    }\n",
       "</style>\n",
       "<table border=\"1\" class=\"dataframe\">\n",
       "  <thead>\n",
       "    <tr style=\"text-align: right;\">\n",
       "      <th></th>\n",
       "      <th>count</th>\n",
       "      <th>mean</th>\n",
       "      <th>std</th>\n",
       "      <th>min</th>\n",
       "      <th>25%</th>\n",
       "      <th>50%</th>\n",
       "      <th>75%</th>\n",
       "      <th>max</th>\n",
       "    </tr>\n",
       "  </thead>\n",
       "  <tbody>\n",
       "    <tr>\n",
       "      <th>pclass</th>\n",
       "      <td>1309.0</td>\n",
       "      <td>2.294882</td>\n",
       "      <td>0.837836</td>\n",
       "      <td>1.0000</td>\n",
       "      <td>2.0000</td>\n",
       "      <td>3.0000</td>\n",
       "      <td>3.000</td>\n",
       "      <td>3.0000</td>\n",
       "    </tr>\n",
       "    <tr>\n",
       "      <th>age</th>\n",
       "      <td>1046.0</td>\n",
       "      <td>29.881135</td>\n",
       "      <td>14.413500</td>\n",
       "      <td>0.1667</td>\n",
       "      <td>21.0000</td>\n",
       "      <td>28.0000</td>\n",
       "      <td>39.000</td>\n",
       "      <td>80.0000</td>\n",
       "    </tr>\n",
       "    <tr>\n",
       "      <th>sibsp</th>\n",
       "      <td>1309.0</td>\n",
       "      <td>0.498854</td>\n",
       "      <td>1.041658</td>\n",
       "      <td>0.0000</td>\n",
       "      <td>0.0000</td>\n",
       "      <td>0.0000</td>\n",
       "      <td>1.000</td>\n",
       "      <td>8.0000</td>\n",
       "    </tr>\n",
       "    <tr>\n",
       "      <th>parch</th>\n",
       "      <td>1309.0</td>\n",
       "      <td>0.385027</td>\n",
       "      <td>0.865560</td>\n",
       "      <td>0.0000</td>\n",
       "      <td>0.0000</td>\n",
       "      <td>0.0000</td>\n",
       "      <td>0.000</td>\n",
       "      <td>9.0000</td>\n",
       "    </tr>\n",
       "    <tr>\n",
       "      <th>fare</th>\n",
       "      <td>1308.0</td>\n",
       "      <td>33.295479</td>\n",
       "      <td>51.758668</td>\n",
       "      <td>0.0000</td>\n",
       "      <td>7.8958</td>\n",
       "      <td>14.4542</td>\n",
       "      <td>31.275</td>\n",
       "      <td>512.3292</td>\n",
       "    </tr>\n",
       "  </tbody>\n",
       "</table>\n",
       "</div>"
      ],
      "text/plain": [
       "         count       mean        std     min      25%      50%     75%  \\\n",
       "pclass  1309.0   2.294882   0.837836  1.0000   2.0000   3.0000   3.000   \n",
       "age     1046.0  29.881135  14.413500  0.1667  21.0000  28.0000  39.000   \n",
       "sibsp   1309.0   0.498854   1.041658  0.0000   0.0000   0.0000   1.000   \n",
       "parch   1309.0   0.385027   0.865560  0.0000   0.0000   0.0000   0.000   \n",
       "fare    1308.0  33.295479  51.758668  0.0000   7.8958  14.4542  31.275   \n",
       "\n",
       "             max  \n",
       "pclass    3.0000  \n",
       "age      80.0000  \n",
       "sibsp     8.0000  \n",
       "parch     9.0000  \n",
       "fare    512.3292  "
      ]
     },
     "metadata": {},
     "output_type": "display_data"
    },
    {
     "name": "stdout",
     "output_type": "stream",
     "text": [
      "<class 'pandas.core.frame.DataFrame'>\n",
      "RangeIndex: 1309 entries, 0 to 1308\n",
      "Data columns (total 8 columns):\n",
      " #   Column    Non-Null Count  Dtype   \n",
      "---  ------    --------------  -----   \n",
      " 0   pclass    1309 non-null   int32   \n",
      " 1   survived  1309 non-null   category\n",
      " 2   sex       1309 non-null   category\n",
      " 3   age       1046 non-null   float64 \n",
      " 4   sibsp     1309 non-null   int32   \n",
      " 5   parch     1309 non-null   int32   \n",
      " 6   fare      1308 non-null   float64 \n",
      " 7   embarked  1307 non-null   category\n",
      "dtypes: category(3), float64(2), int32(3)\n",
      "memory usage: 40.1 KB\n"
     ]
    },
    {
     "data": {
      "text/plain": [
       "None"
      ]
     },
     "metadata": {},
     "output_type": "display_data"
    },
    {
     "data": {
      "text/plain": [
       "pclass        0\n",
       "survived      0\n",
       "sex           0\n",
       "age         263\n",
       "sibsp         0\n",
       "parch         0\n",
       "fare          1\n",
       "embarked      2\n",
       "dtype: int64"
      ]
     },
     "metadata": {},
     "output_type": "display_data"
    }
   ],
   "source": [
    "# Convert categorical numeric columns pclass , sibsp and parch to int values\n",
    "# Drop un-used columns.\n",
    "raw_dataset.pclass = raw_dataset.pclass.astype(int)\n",
    "raw_dataset.sibsp = raw_dataset.sibsp.astype(int)\n",
    "raw_dataset.parch = raw_dataset.parch.astype(int)\n",
    "dataset = raw_dataset.copy().drop(columns=['name','ticket','cabin','boat', 'body', 'home.dest'])\n",
    "display(dataset.describe().transpose())\n",
    "display(dataset.info())\n",
    "display(dataset.isna().sum())"
   ]
  },
  {
   "cell_type": "code",
   "execution_count": 4,
   "id": "39148e47",
   "metadata": {},
   "outputs": [],
   "source": [
    "# Remove NA\n",
    "dataset = dataset.dropna()\n",
    "#dataset.info()"
   ]
  },
  {
   "cell_type": "markdown",
   "id": "cd67b6a1",
   "metadata": {},
   "source": [
    "### Prepare train, validation and test datasets"
   ]
  },
  {
   "cell_type": "code",
   "execution_count": 5,
   "id": "31532d64",
   "metadata": {},
   "outputs": [
    {
     "name": "stdout",
     "output_type": "stream",
     "text": [
      "667 train examples\n",
      "167 validation examples\n",
      "209 test examples\n"
     ]
    }
   ],
   "source": [
    "from sklearn.model_selection import train_test_split\n",
    "\n",
    "train, test = train_test_split(dataset, test_size=0.2)\n",
    "train, val = train_test_split(train, test_size=0.2)\n",
    "print(len(train), 'train examples')\n",
    "print(len(val), 'validation examples')\n",
    "print(len(test), 'test examples')"
   ]
  },
  {
   "cell_type": "code",
   "execution_count": 6,
   "id": "49f723c7",
   "metadata": {},
   "outputs": [],
   "source": [
    "import tensorflow as tf\n",
    "\n",
    "# A utility method to create a tf.data dataset from a Pandas Dataframe\n",
    "def df_to_dataset(dataframe, shuffle=True, batch_size=32):\n",
    "  dataframe = dataframe.copy()\n",
    "  labels = dataframe.pop('survived').astype(int)\n",
    "  ds = tf.data.Dataset.from_tensor_slices((dict(dataframe), labels))\n",
    "  if shuffle:\n",
    "    ds = ds.shuffle(buffer_size=len(dataframe))\n",
    "  ds = ds.batch(batch_size)\n",
    "  ds = ds.prefetch(batch_size)\n",
    "  return ds"
   ]
  },
  {
   "cell_type": "code",
   "execution_count": 7,
   "id": "9adfaf97",
   "metadata": {},
   "outputs": [],
   "source": [
    "from tensorflow.keras import layers\n",
    "from tensorflow.keras.layers.experimental import preprocessing\n",
    "\n",
    "def get_normalization_layer(name, dataset):\n",
    "    # Create a Normalization layer for our feature.\n",
    "    normalizer = preprocessing.Normalization()\n",
    "\n",
    "    # Prepare a Dataset that only yields our feature.\n",
    "    feature_ds = dataset.map(lambda x, y: x[name])\n",
    "\n",
    "    # Learn the statistics of the data.\n",
    "    normalizer.adapt(feature_ds)\n",
    "\n",
    "    return normalizer"
   ]
  },
  {
   "cell_type": "code",
   "execution_count": 8,
   "id": "db7c9a19",
   "metadata": {},
   "outputs": [],
   "source": [
    "def get_category_encoding_layer(name, dataset, dtype, max_tokens=None):\n",
    "    # Create a StringLookup layer which will turn strings into integer indices\n",
    "    if dtype == 'string':\n",
    "        index = preprocessing.StringLookup(max_tokens=max_tokens)\n",
    "    else:\n",
    "        index = preprocessing.IntegerLookup(max_tokens=max_tokens)\n",
    "\n",
    "    # Prepare a Dataset that only yields our feature\n",
    "    feature_ds = dataset.map(lambda x, y: x[name])\n",
    "\n",
    "    # Learn the set of possible values and assign them a fixed integer index.\n",
    "    index.adapt(feature_ds)\n",
    "\n",
    "    # Create a Discretization for our integer indices.\n",
    "    encoder = preprocessing.CategoryEncoding(num_tokens=index.vocabulary_size())\n",
    "\n",
    "    # Apply one-hot encoding to our indices. The lambda function captures the\n",
    "    # layer so we can use them, or include them in the functional model later.\n",
    "    return lambda feature: encoder(index(feature))"
   ]
  },
  {
   "cell_type": "code",
   "execution_count": 9,
   "id": "694f3761",
   "metadata": {},
   "outputs": [],
   "source": [
    "batch_size = 100\n",
    "train_ds = df_to_dataset(train, shuffle=True, batch_size=batch_size)\n",
    "val_ds = df_to_dataset(val, shuffle=False, batch_size=batch_size)\n",
    "test_ds = df_to_dataset(test, shuffle=False, batch_size=batch_size)"
   ]
  },
  {
   "cell_type": "code",
   "execution_count": 10,
   "id": "68ac246b",
   "metadata": {},
   "outputs": [
    {
     "name": "stdout",
     "output_type": "stream",
     "text": [
      "Every feature: ['pclass', 'sex', 'age', 'sibsp', 'parch', 'fare', 'embarked']\n",
      "A batch of ages: tf.Tensor(\n",
      "[31.    19.    32.    22.     9.    21.    70.    36.    30.    54.\n",
      " 31.    26.     2.    14.    40.    31.    20.    23.    28.     9.\n",
      " 29.    33.    35.    32.    24.    12.    26.    18.    38.    31.\n",
      " 50.    31.    24.    21.    33.    21.    47.    35.    47.    39.\n",
      " 30.    76.    25.    25.    30.    45.    45.    22.    19.    18.\n",
      " 11.5   25.    18.    52.    62.     0.417 58.    29.    45.    54.\n",
      " 48.    64.    18.    17.    11.    42.    37.    32.    17.    20.\n",
      " 24.    23.    38.    31.    36.    31.    22.     9.    48.    39.\n",
      " 47.    30.5   52.    18.    28.    40.    22.    54.     6.     8.\n",
      " 48.    21.    32.    19.    28.    34.    24.    28.    49.    23.   ], shape=(100,), dtype=float64)\n",
      "A batch of targets: tf.Tensor(\n",
      "[0 0 0 0 0 0 0 0 1 1 1 1 1 0 1 1 1 1 1 1 0 1 0 0 0 1 0 1 1 1 0 0 0 1 0 0 1\n",
      " 1 0 0 0 1 0 0 0 0 0 1 0 0 0 0 0 0 0 1 0 1 1 1 1 0 1 0 0 0 0 0 0 1 0 1 0 0\n",
      " 1 0 0 1 0 0 0 0 1 0 0 0 0 0 1 1 1 1 0 0 0 1 0 1 1 1], shape=(100,), dtype=int32)\n"
     ]
    }
   ],
   "source": [
    "[(train_features, label_batch)] = train_ds.take(1)\n",
    "print('Every feature:', list(train_features.keys()))\n",
    "print('A batch of ages:', train_features['age'])\n",
    "print('A batch of targets:', label_batch )"
   ]
  },
  {
   "cell_type": "code",
   "execution_count": 11,
   "id": "14e11326",
   "metadata": {},
   "outputs": [
    {
     "data": {
      "text/html": [
       "<div>\n",
       "<style scoped>\n",
       "    .dataframe tbody tr th:only-of-type {\n",
       "        vertical-align: middle;\n",
       "    }\n",
       "\n",
       "    .dataframe tbody tr th {\n",
       "        vertical-align: top;\n",
       "    }\n",
       "\n",
       "    .dataframe thead th {\n",
       "        text-align: right;\n",
       "    }\n",
       "</style>\n",
       "<table border=\"1\" class=\"dataframe\">\n",
       "  <thead>\n",
       "    <tr style=\"text-align: right;\">\n",
       "      <th></th>\n",
       "      <th>pclass</th>\n",
       "      <th>survived</th>\n",
       "      <th>sex</th>\n",
       "      <th>age</th>\n",
       "      <th>sibsp</th>\n",
       "      <th>parch</th>\n",
       "      <th>fare</th>\n",
       "      <th>embarked</th>\n",
       "    </tr>\n",
       "  </thead>\n",
       "  <tbody>\n",
       "    <tr>\n",
       "      <th>1140</th>\n",
       "      <td>3</td>\n",
       "      <td>0</td>\n",
       "      <td>male</td>\n",
       "      <td>21.0</td>\n",
       "      <td>0</td>\n",
       "      <td>0</td>\n",
       "      <td>8.0500</td>\n",
       "      <td>S</td>\n",
       "    </tr>\n",
       "    <tr>\n",
       "      <th>1107</th>\n",
       "      <td>3</td>\n",
       "      <td>0</td>\n",
       "      <td>male</td>\n",
       "      <td>21.0</td>\n",
       "      <td>0</td>\n",
       "      <td>0</td>\n",
       "      <td>8.6625</td>\n",
       "      <td>S</td>\n",
       "    </tr>\n",
       "    <tr>\n",
       "      <th>905</th>\n",
       "      <td>3</td>\n",
       "      <td>1</td>\n",
       "      <td>male</td>\n",
       "      <td>32.0</td>\n",
       "      <td>0</td>\n",
       "      <td>0</td>\n",
       "      <td>7.8542</td>\n",
       "      <td>S</td>\n",
       "    </tr>\n",
       "    <tr>\n",
       "      <th>374</th>\n",
       "      <td>2</td>\n",
       "      <td>0</td>\n",
       "      <td>male</td>\n",
       "      <td>29.0</td>\n",
       "      <td>0</td>\n",
       "      <td>0</td>\n",
       "      <td>10.5000</td>\n",
       "      <td>S</td>\n",
       "    </tr>\n",
       "    <tr>\n",
       "      <th>417</th>\n",
       "      <td>2</td>\n",
       "      <td>0</td>\n",
       "      <td>male</td>\n",
       "      <td>26.0</td>\n",
       "      <td>0</td>\n",
       "      <td>0</td>\n",
       "      <td>10.5000</td>\n",
       "      <td>S</td>\n",
       "    </tr>\n",
       "  </tbody>\n",
       "</table>\n",
       "</div>"
      ],
      "text/plain": [
       "      pclass survived   sex   age  sibsp  parch     fare embarked\n",
       "1140       3        0  male  21.0      0      0   8.0500        S\n",
       "1107       3        0  male  21.0      0      0   8.6625        S\n",
       "905        3        1  male  32.0      0      0   7.8542        S\n",
       "374        2        0  male  29.0      0      0  10.5000        S\n",
       "417        2        0  male  26.0      0      0  10.5000        S"
      ]
     },
     "execution_count": 11,
     "metadata": {},
     "output_type": "execute_result"
    }
   ],
   "source": [
    "test.head()"
   ]
  },
  {
   "cell_type": "markdown",
   "id": "e846ab66",
   "metadata": {},
   "source": [
    "### Build the pipeline components"
   ]
  },
  {
   "cell_type": "code",
   "execution_count": 12,
   "id": "f48193cc",
   "metadata": {},
   "outputs": [],
   "source": [
    "all_inputs = []\n",
    "encoded_features = []\n",
    "\n",
    "# Numeric features.\n",
    "for header in ['age', 'fare']:\n",
    "    numeric_col = tf.keras.Input(shape=(1,), name=header)\n",
    "    normalization_layer = get_normalization_layer(header, train_ds)\n",
    "    encoded_numeric_col = normalization_layer(numeric_col)\n",
    "    all_inputs.append(numeric_col)\n",
    "    encoded_features.append(encoded_numeric_col)"
   ]
  },
  {
   "cell_type": "code",
   "execution_count": 13,
   "id": "1762c7ea",
   "metadata": {},
   "outputs": [],
   "source": [
    "# # Categorical features encoded as integers.\n",
    "int_categorical_col = ['pclass', 'sibsp', 'parch']\n",
    "for header in int_categorical_col:\n",
    "    numeric_cat_col = tf.keras.Input(shape=(1,), name=header, dtype='int64')\n",
    "    encoding_layer = get_category_encoding_layer(header, train_ds, dtype='int64',\n",
    "                                             max_tokens=5)\n",
    "    encoded_numeric_cat_col = encoding_layer(numeric_cat_col)\n",
    "    all_inputs.append(numeric_cat_col)\n",
    "    encoded_features.append(encoded_numeric_cat_col)\n"
   ]
  },
  {
   "cell_type": "code",
   "execution_count": 14,
   "id": "abccd70a",
   "metadata": {},
   "outputs": [],
   "source": [
    "# Categorical features encoded as string.\n",
    "categorical_cols = ['sex', 'embarked']\n",
    "for header in categorical_cols:\n",
    "    categorical_col = tf.keras.Input(shape=(1,), name=header, dtype='string')\n",
    "    encoding_layer = get_category_encoding_layer(header, train_ds, dtype='string',\n",
    "                                               max_tokens=5)\n",
    "    encoded_categorical_col = encoding_layer(categorical_col)\n",
    "    all_inputs.append(categorical_col)\n",
    "    encoded_features.append(encoded_categorical_col)\n"
   ]
  },
  {
   "cell_type": "markdown",
   "id": "d59dae87",
   "metadata": {},
   "source": [
    "### Assemble the pipeline"
   ]
  },
  {
   "cell_type": "code",
   "execution_count": 15,
   "id": "61d7cc44",
   "metadata": {},
   "outputs": [],
   "source": [
    "all_features = tf.keras.layers.concatenate(encoded_features)\n",
    "x = tf.keras.layers.Dense(32, activation=\"relu\")(all_features)\n",
    "x = tf.keras.layers.Dropout(0.5)(x)\n",
    "output = tf.keras.layers.Dense(1)(x)\n",
    "model = tf.keras.Model(all_inputs, output)\n",
    "model.compile(optimizer='adam',\n",
    "              loss=tf.keras.losses.BinaryCrossentropy(from_logits=True),\n",
    "              metrics=[\"accuracy\"])\n"
   ]
  },
  {
   "cell_type": "markdown",
   "id": "a078186c",
   "metadata": {},
   "source": [
    "### Visualize the pipeline"
   ]
  },
  {
   "cell_type": "code",
   "execution_count": 16,
   "id": "209de2b1",
   "metadata": {},
   "outputs": [
    {
     "data": {
      "image/png": "[encoded data removed]",
      "text/plain": [
       "<IPython.core.display.Image object>"
      ]
     },
     "execution_count": 16,
     "metadata": {},
     "output_type": "execute_result"
    }
   ],
   "source": [
    "# rankdir='LR' is used to make the graph horizontal.\n",
    "tf.keras.utils.plot_model(model, show_shapes=True, rankdir=\"LR\")\n"
   ]
  },
  {
   "cell_type": "markdown",
   "id": "91462cba",
   "metadata": {},
   "source": [
    "### Train the model"
   ]
  },
  {
   "cell_type": "code",
   "execution_count": 17,
   "id": "6344338e",
   "metadata": {},
   "outputs": [
    {
     "name": "stdout",
     "output_type": "stream",
     "text": [
      "Epoch 1/10\n",
      "7/7 [==============================] - 1s 56ms/step - loss: 0.7205 - accuracy: 0.5772 - val_loss: 0.7021 - val_accuracy: 0.6168\n",
      "Epoch 2/10\n",
      "7/7 [==============================] - 0s 5ms/step - loss: 0.7143 - accuracy: 0.6087 - val_loss: 0.6796 - val_accuracy: 0.6287\n",
      "Epoch 3/10\n",
      "7/7 [==============================] - 0s 5ms/step - loss: 0.6675 - accuracy: 0.6252 - val_loss: 0.6598 - val_accuracy: 0.6347\n",
      "Epoch 4/10\n",
      "7/7 [==============================] - 0s 5ms/step - loss: 0.6636 - accuracy: 0.6117 - val_loss: 0.6423 - val_accuracy: 0.6407\n",
      "Epoch 5/10\n",
      "7/7 [==============================] - 0s 5ms/step - loss: 0.6363 - accuracy: 0.6267 - val_loss: 0.6272 - val_accuracy: 0.6647\n",
      "Epoch 6/10\n",
      "7/7 [==============================] - 0s 5ms/step - loss: 0.6395 - accuracy: 0.6402 - val_loss: 0.6137 - val_accuracy: 0.6587\n",
      "Epoch 7/10\n",
      "7/7 [==============================] - 0s 5ms/step - loss: 0.6199 - accuracy: 0.6372 - val_loss: 0.6011 - val_accuracy: 0.6587\n",
      "Epoch 8/10\n",
      "7/7 [==============================] - 0s 6ms/step - loss: 0.6198 - accuracy: 0.6672 - val_loss: 0.5898 - val_accuracy: 0.6707\n",
      "Epoch 9/10\n",
      "7/7 [==============================] - 0s 5ms/step - loss: 0.5870 - accuracy: 0.6597 - val_loss: 0.5801 - val_accuracy: 0.6826\n",
      "Epoch 10/10\n",
      "7/7 [==============================] - 0s 6ms/step - loss: 0.5807 - accuracy: 0.6702 - val_loss: 0.5712 - val_accuracy: 0.6886\n",
      "Wall time: 1.82 s\n"
     ]
    },
    {
     "data": {
      "text/plain": [
       "<tensorflow.python.keras.callbacks.History at 0x245de29d430>"
      ]
     },
     "execution_count": 17,
     "metadata": {},
     "output_type": "execute_result"
    }
   ],
   "source": [
    "%%time\n",
    "model.fit(train_ds, epochs=10, validation_data=val_ds)"
   ]
  },
  {
   "cell_type": "markdown",
   "id": "d5757bd2",
   "metadata": {},
   "source": [
    "### Evaluate the model"
   ]
  },
  {
   "cell_type": "code",
   "execution_count": 18,
   "id": "0302e453",
   "metadata": {},
   "outputs": [
    {
     "name": "stdout",
     "output_type": "stream",
     "text": [
      "3/3 [==============================] - 0s 2ms/step - loss: 0.5550 - accuracy: 0.6938\n",
      "Accuracy 0.6937798857688904\n",
      "Loss 0.554993748664856\n"
     ]
    }
   ],
   "source": [
    "loss, accuracy = model.evaluate(test_ds)\n",
    "print(\"Accuracy\", accuracy)\n",
    "print(\"Loss\", loss)\n"
   ]
  },
  {
   "cell_type": "markdown",
   "id": "3db51245",
   "metadata": {},
   "source": [
    "### Save the model"
   ]
  },
  {
   "cell_type": "code",
   "execution_count": 19,
   "id": "fadbbfd7",
   "metadata": {},
   "outputs": [
    {
     "name": "stdout",
     "output_type": "stream",
     "text": [
      "INFO:tensorflow:Assets written to: my_keras_titanic_classifier\\assets\n"
     ]
    }
   ],
   "source": [
    "model.save('my_keras_titanic_classifier')"
   ]
  },
  {
   "cell_type": "markdown",
   "id": "61ab11e0",
   "metadata": {},
   "source": [
    "### Reload the model"
   ]
  },
  {
   "cell_type": "code",
   "execution_count": 20,
   "id": "a24949e6",
   "metadata": {},
   "outputs": [
    {
     "name": "stdout",
     "output_type": "stream",
     "text": [
      "3/3 [==============================] - 0s 3ms/step - loss: 0.5550 - accuracy: 0.6938\n"
     ]
    }
   ],
   "source": [
    "reloaded_model = tf.keras.models.load_model('my_keras_titanic_classifier')\n",
    "loss, accuracy = reloaded_model.evaluate(test_ds)"
   ]
  },
  {
   "cell_type": "code",
   "execution_count": 21,
   "id": "0812b509",
   "metadata": {},
   "outputs": [],
   "source": [
    "def predict_survival(sample):\n",
    "    input_dict = {name: tf.convert_to_tensor([value]) for name, value in sample.items()}\n",
    "    predictions = reloaded_model.predict(input_dict)\n",
    "    prob = tf.nn.sigmoid(predictions[0])\n",
    "    print( \"This person had a %.1f percent probability of survival.\" % (100 * prob))"
   ]
  },
  {
   "cell_type": "markdown",
   "id": "8fd8d8b3",
   "metadata": {},
   "source": [
    "### Predict using the model"
   ]
  },
  {
   "cell_type": "code",
   "execution_count": 22,
   "id": "65487bd5",
   "metadata": {},
   "outputs": [
    {
     "name": "stdout",
     "output_type": "stream",
     "text": [
      "This person had a 63.4 percent probability of survival.\n",
      "This person had a 46.3 percent probability of survival.\n",
      "Wall time: 393 ms\n"
     ]
    }
   ],
   "source": [
    "%%time\n",
    "\n",
    "predict_survival({\n",
    "    'pclass': 1,\n",
    "    'sex': 'female',\n",
    "    'age': 7,\n",
    "    'sibsp': 1,\n",
    "    'parch': 2,\n",
    "    'fare': 39.4000,\n",
    "    'embarked': 'S'\n",
    "})\n",
    "\n",
    "predict_survival({\n",
    "    'pclass': 1,\n",
    "    'sex': 'male',\n",
    "    'age': 7,\n",
    "    'sibsp': 1,\n",
    "    'parch': 2,\n",
    "    'fare': 39.4000,\n",
    "    'embarked': 'S'\n",
    "})"
   ]
  },
  {
   "cell_type": "code",
   "execution_count": null,
   "id": "e50a070c",
   "metadata": {},
   "outputs": [],
   "source": []
  }
 ],
 "metadata": {
  "kernelspec": {
   "display_name": "Python 3",
   "language": "python",
   "name": "python3"
  },
  "language_info": {
   "codemirror_mode": {
    "name": "ipython",
    "version": 3
   },
   "file_extension": ".py",
   "mimetype": "text/x-python",
   "name": "python",
   "nbconvert_exporter": "python",
   "pygments_lexer": "ipython3",
   "version": "3.8.10"
  }
 },
 "nbformat": 4,
 "nbformat_minor": 5
}

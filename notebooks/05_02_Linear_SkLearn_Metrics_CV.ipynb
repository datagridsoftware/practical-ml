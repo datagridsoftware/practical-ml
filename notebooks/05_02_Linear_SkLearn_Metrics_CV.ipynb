{
 "cells": [
  {
   "cell_type": "markdown",
   "id": "260bf83e",
   "metadata": {},
   "source": [
    "### Cross validation for linear regression\n",
    "Cross validation with sklearn for linear regression on the auto-mpg dataset"
   ]
  },
  {
   "cell_type": "markdown",
   "id": "3f389fdf",
   "metadata": {},
   "source": [
    "***\n",
    "#### Environment\n",
    "`conda activate sklearn-env`\n",
    "\n",
    "***\n",
    "#### Goals\n",
    "- Build a pipeline\n",
    "- Use the pipeline to transform data\n",
    "- Use the pipeline to predict\n",
    "- Run cross validation on generated pipeline model and display default score metrics for each fold\n",
    "\n",
    "***\n",
    "#### References\n",
    "https://scikit-learn.org/stable/modules/generated/sklearn.preprocessing.OneHotEncoder.html\n",
    "\n",
    "https://scikit-learn.org/stable/auto_examples/compose/plot_column_transformer_mixed_types.html\n",
    "\n",
    "https://scikit-learn.org/stable/modules/generated/sklearn.preprocessing.MinMaxScaler.html\n",
    "\n",
    "https://scikit-learn.org/stable/modules/generated/sklearn.linear_model.LinearRegression.html\n",
    "\n",
    "https://scikit-learn.org/stable/modules/generated/sklearn.pipeline.Pipeline.html\n",
    "\n",
    "https://scikit-learn.org/stable/modules/cross_validation.html\n"
   ]
  },
  {
   "cell_type": "code",
   "execution_count": 1,
   "id": "3e357927",
   "metadata": {},
   "outputs": [],
   "source": [
    "import matplotlib.pyplot as plt\n",
    "import numpy as np\n",
    "import pandas as pd\n",
    "import seaborn as sns\n",
    "import random\n",
    "\n",
    "# Make numpy printouts easier to read.\n",
    "np.set_printoptions(precision=3, suppress=True)"
   ]
  },
  {
   "cell_type": "markdown",
   "id": "5b1c01f3",
   "metadata": {},
   "source": [
    "#### Dataset load from CSV located on UCI website.\n",
    "\n",
    "http://archive.ics.uci.edu/ml/machine-learning-databases/auto-mpg/auto-mpg.data  \n",
    "If the URL does not work the dataset can be loaded from the data folder `./data/auto-mpg.data`."
   ]
  },
  {
   "cell_type": "code",
   "execution_count": 2,
   "id": "25959a8c",
   "metadata": {},
   "outputs": [
    {
     "data": {
      "text/html": [
       "<div>\n",
       "<style scoped>\n",
       "    .dataframe tbody tr th:only-of-type {\n",
       "        vertical-align: middle;\n",
       "    }\n",
       "\n",
       "    .dataframe tbody tr th {\n",
       "        vertical-align: top;\n",
       "    }\n",
       "\n",
       "    .dataframe thead th {\n",
       "        text-align: right;\n",
       "    }\n",
       "</style>\n",
       "<table border=\"1\" class=\"dataframe\">\n",
       "  <thead>\n",
       "    <tr style=\"text-align: right;\">\n",
       "      <th></th>\n",
       "      <th>MPG</th>\n",
       "      <th>Cylinders</th>\n",
       "      <th>Displacement</th>\n",
       "      <th>Horsepower</th>\n",
       "      <th>Weight</th>\n",
       "      <th>Acceleration</th>\n",
       "      <th>Model Year</th>\n",
       "      <th>Origin</th>\n",
       "    </tr>\n",
       "  </thead>\n",
       "  <tbody>\n",
       "    <tr>\n",
       "      <th>323</th>\n",
       "      <td>27.9</td>\n",
       "      <td>4</td>\n",
       "      <td>156.0</td>\n",
       "      <td>105.0</td>\n",
       "      <td>2800.0</td>\n",
       "      <td>14.4</td>\n",
       "      <td>80</td>\n",
       "      <td>1</td>\n",
       "    </tr>\n",
       "    <tr>\n",
       "      <th>222</th>\n",
       "      <td>17.0</td>\n",
       "      <td>8</td>\n",
       "      <td>260.0</td>\n",
       "      <td>110.0</td>\n",
       "      <td>4060.0</td>\n",
       "      <td>19.0</td>\n",
       "      <td>77</td>\n",
       "      <td>1</td>\n",
       "    </tr>\n",
       "    <tr>\n",
       "      <th>5</th>\n",
       "      <td>15.0</td>\n",
       "      <td>8</td>\n",
       "      <td>429.0</td>\n",
       "      <td>198.0</td>\n",
       "      <td>4341.0</td>\n",
       "      <td>10.0</td>\n",
       "      <td>70</td>\n",
       "      <td>1</td>\n",
       "    </tr>\n",
       "    <tr>\n",
       "      <th>227</th>\n",
       "      <td>19.0</td>\n",
       "      <td>6</td>\n",
       "      <td>225.0</td>\n",
       "      <td>100.0</td>\n",
       "      <td>3630.0</td>\n",
       "      <td>17.7</td>\n",
       "      <td>77</td>\n",
       "      <td>1</td>\n",
       "    </tr>\n",
       "    <tr>\n",
       "      <th>57</th>\n",
       "      <td>24.0</td>\n",
       "      <td>4</td>\n",
       "      <td>113.0</td>\n",
       "      <td>95.0</td>\n",
       "      <td>2278.0</td>\n",
       "      <td>15.5</td>\n",
       "      <td>72</td>\n",
       "      <td>3</td>\n",
       "    </tr>\n",
       "  </tbody>\n",
       "</table>\n",
       "</div>"
      ],
      "text/plain": [
       "      MPG  Cylinders  Displacement  Horsepower  Weight  Acceleration  \\\n",
       "323  27.9          4         156.0       105.0  2800.0          14.4   \n",
       "222  17.0          8         260.0       110.0  4060.0          19.0   \n",
       "5    15.0          8         429.0       198.0  4341.0          10.0   \n",
       "227  19.0          6         225.0       100.0  3630.0          17.7   \n",
       "57   24.0          4         113.0        95.0  2278.0          15.5   \n",
       "\n",
       "     Model Year  Origin  \n",
       "323          80       1  \n",
       "222          77       1  \n",
       "5            70       1  \n",
       "227          77       1  \n",
       "57           72       3  "
      ]
     },
     "execution_count": 2,
     "metadata": {},
     "output_type": "execute_result"
    }
   ],
   "source": [
    "url = 'http://archive.ics.uci.edu/ml/machine-learning-databases/auto-mpg/auto-mpg.data'\n",
    "column_names = ['MPG', 'Cylinders', 'Displacement', 'Horsepower', 'Weight',\n",
    "                'Acceleration', 'Model Year', 'Origin']\n",
    "\n",
    "raw_dataset = pd.read_csv(url, names=column_names,\n",
    "                          na_values='?', comment='\\t',\n",
    "                          sep=' ', skipinitialspace=True)\n",
    "dataset = raw_dataset.copy()\n",
    "dataset.sample(5)"
   ]
  },
  {
   "cell_type": "markdown",
   "id": "54c8e218",
   "metadata": {},
   "source": [
    "### Dataset split\n",
    "- row base in test and train datasets\n",
    "- column base in features and labels"
   ]
  },
  {
   "cell_type": "code",
   "execution_count": 3,
   "id": "e8ca6a48",
   "metadata": {},
   "outputs": [],
   "source": [
    "train_dataset = dataset.sample(frac=0.8, random_state=random.randint(0, 1000))\n",
    "test_dataset = dataset.drop(train_dataset.index)\n",
    "\n",
    "train_features = train_dataset.copy()\n",
    "test_features = test_dataset.copy()\n",
    "\n",
    "train_labels = train_features.pop('MPG')\n",
    "test_labels = test_features.pop('MPG')\n",
    "\n",
    "test_labels.reset_index(drop=True, inplace=True)"
   ]
  },
  {
   "cell_type": "markdown",
   "id": "2d4e7af1",
   "metadata": {},
   "source": [
    "#### Build the pipeline"
   ]
  },
  {
   "cell_type": "code",
   "execution_count": 4,
   "id": "803ea611",
   "metadata": {
    "scrolled": true
   },
   "outputs": [],
   "source": [
    "from sklearn.preprocessing import MinMaxScaler\n",
    "from sklearn.linear_model import LinearRegression\n",
    "from sklearn.impute import SimpleImputer\n",
    "from sklearn.preprocessing import StandardScaler, OneHotEncoder\n",
    "from sklearn.compose import ColumnTransformer\n",
    "\n",
    "from sklearn.pipeline import Pipeline\n",
    "\n",
    "numeric_features = ['Cylinders', 'Displacement', 'Horsepower', 'Weight', 'Acceleration', 'Model Year']\n",
    "numeric_transformer = Pipeline(steps=[\n",
    "    ('imputer', SimpleImputer(strategy='median')),\n",
    "    ('scaler', StandardScaler())])\n",
    "\n",
    "categorical_features = ['Origin']\n",
    "categorical_transformer = OneHotEncoder(handle_unknown='ignore')\n",
    "\n",
    "preprocessor = ColumnTransformer(\n",
    "    transformers=[\n",
    "        ('num', numeric_transformer, numeric_features),\n",
    "        ('cat', categorical_transformer, categorical_features)])\n",
    "\n",
    "data_prep_pipeline = Pipeline(steps=[('preprocessor', preprocessor)])"
   ]
  },
  {
   "cell_type": "markdown",
   "id": "1e7e0664",
   "metadata": {},
   "source": [
    "#### Use the pipeline to transform data"
   ]
  },
  {
   "cell_type": "code",
   "execution_count": 5,
   "id": "fe0c8857",
   "metadata": {},
   "outputs": [
    {
     "data": {
      "text/html": [
       "<div>\n",
       "<style scoped>\n",
       "    .dataframe tbody tr th:only-of-type {\n",
       "        vertical-align: middle;\n",
       "    }\n",
       "\n",
       "    .dataframe tbody tr th {\n",
       "        vertical-align: top;\n",
       "    }\n",
       "\n",
       "    .dataframe thead th {\n",
       "        text-align: right;\n",
       "    }\n",
       "</style>\n",
       "<table border=\"1\" class=\"dataframe\">\n",
       "  <thead>\n",
       "    <tr style=\"text-align: right;\">\n",
       "      <th></th>\n",
       "      <th>0</th>\n",
       "      <th>1</th>\n",
       "      <th>2</th>\n",
       "      <th>3</th>\n",
       "      <th>4</th>\n",
       "      <th>5</th>\n",
       "      <th>6</th>\n",
       "      <th>7</th>\n",
       "      <th>8</th>\n",
       "    </tr>\n",
       "  </thead>\n",
       "  <tbody>\n",
       "    <tr>\n",
       "      <th>0</th>\n",
       "      <td>1.557482</td>\n",
       "      <td>0.693772</td>\n",
       "      <td>-0.344272</td>\n",
       "      <td>0.564983</td>\n",
       "      <td>2.437945</td>\n",
       "      <td>0.798095</td>\n",
       "      <td>1.0</td>\n",
       "      <td>0.0</td>\n",
       "      <td>0.0</td>\n",
       "    </tr>\n",
       "    <tr>\n",
       "      <th>1</th>\n",
       "      <td>-0.840965</td>\n",
       "      <td>-0.906494</td>\n",
       "      <td>-0.622560</td>\n",
       "      <td>-1.242592</td>\n",
       "      <td>-0.473223</td>\n",
       "      <td>0.798095</td>\n",
       "      <td>1.0</td>\n",
       "      <td>0.0</td>\n",
       "      <td>0.0</td>\n",
       "    </tr>\n",
       "    <tr>\n",
       "      <th>2</th>\n",
       "      <td>0.358259</td>\n",
       "      <td>0.594990</td>\n",
       "      <td>-0.065984</td>\n",
       "      <td>0.998561</td>\n",
       "      <td>0.497166</td>\n",
       "      <td>-0.576738</td>\n",
       "      <td>1.0</td>\n",
       "      <td>0.0</td>\n",
       "      <td>0.0</td>\n",
       "    </tr>\n",
       "    <tr>\n",
       "      <th>3</th>\n",
       "      <td>-0.840965</td>\n",
       "      <td>-0.333560</td>\n",
       "      <td>-0.288614</td>\n",
       "      <td>-0.395854</td>\n",
       "      <td>-0.473223</td>\n",
       "      <td>1.348028</td>\n",
       "      <td>1.0</td>\n",
       "      <td>0.0</td>\n",
       "      <td>0.0</td>\n",
       "    </tr>\n",
       "    <tr>\n",
       "      <th>4</th>\n",
       "      <td>-0.840965</td>\n",
       "      <td>-0.916373</td>\n",
       "      <td>-0.678218</td>\n",
       "      <td>-0.780189</td>\n",
       "      <td>-0.435901</td>\n",
       "      <td>-0.576738</td>\n",
       "      <td>0.0</td>\n",
       "      <td>1.0</td>\n",
       "      <td>0.0</td>\n",
       "    </tr>\n",
       "  </tbody>\n",
       "</table>\n",
       "</div>"
      ],
      "text/plain": [
       "          0         1         2         3         4         5    6    7    8\n",
       "0  1.557482  0.693772 -0.344272  0.564983  2.437945  0.798095  1.0  0.0  0.0\n",
       "1 -0.840965 -0.906494 -0.622560 -1.242592 -0.473223  0.798095  1.0  0.0  0.0\n",
       "2  0.358259  0.594990 -0.065984  0.998561  0.497166 -0.576738  1.0  0.0  0.0\n",
       "3 -0.840965 -0.333560 -0.288614 -0.395854 -0.473223  1.348028  1.0  0.0  0.0\n",
       "4 -0.840965 -0.916373 -0.678218 -0.780189 -0.435901 -0.576738  0.0  1.0  0.0"
      ]
     },
     "execution_count": 5,
     "metadata": {},
     "output_type": "execute_result"
    }
   ],
   "source": [
    "data_prep_values = data_prep_pipeline.fit_transform(train_features, train_labels)\n",
    "\n",
    "transformed_df = pd.DataFrame(data = data_prep_values)\n",
    "transformed_df.head(5)"
   ]
  },
  {
   "cell_type": "markdown",
   "id": "a7a0ac45",
   "metadata": {},
   "source": [
    "#### Build the full pipeline"
   ]
  },
  {
   "cell_type": "code",
   "execution_count": 6,
   "id": "74bdc84d",
   "metadata": {},
   "outputs": [
    {
     "name": "stdout",
     "output_type": "stream",
     "text": [
      "Pipeline(steps=[('preprocessor',\n",
      "                 ColumnTransformer(transformers=[('num',\n",
      "                                                  Pipeline(steps=[('imputer',\n",
      "                                                                   SimpleImputer(strategy='median')),\n",
      "                                                                  ('scaler',\n",
      "                                                                   StandardScaler())]),\n",
      "                                                  ['Cylinders', 'Displacement',\n",
      "                                                   'Horsepower', 'Weight',\n",
      "                                                   'Acceleration',\n",
      "                                                   'Model Year']),\n",
      "                                                 ('cat',\n",
      "                                                  OneHotEncoder(handle_unknown='ignore'),\n",
      "                                                  ['Origin'])])),\n",
      "                ('regressor', LinearRegression())])\n"
     ]
    }
   ],
   "source": [
    "pipeline = Pipeline(steps=[('preprocessor', preprocessor), ('regressor', LinearRegression())])\n",
    "pipeline_model = pipeline.fit(train_features, train_labels)\n",
    "print(pipeline_model)"
   ]
  },
  {
   "cell_type": "code",
   "execution_count": 7,
   "id": "9c2393e6",
   "metadata": {},
   "outputs": [
    {
     "data": {
      "text/html": [
       "<style>#sk-eab4a2a6-5dc2-4e6a-8974-816417d62ac4 {color: black;background-color: white;}#sk-eab4a2a6-5dc2-4e6a-8974-816417d62ac4 pre{padding: 0;}#sk-eab4a2a6-5dc2-4e6a-8974-816417d62ac4 div.sk-toggleable {background-color: white;}#sk-eab4a2a6-5dc2-4e6a-8974-816417d62ac4 label.sk-toggleable__label {cursor: pointer;display: block;width: 100%;margin-bottom: 0;padding: 0.2em 0.3em;box-sizing: border-box;text-align: center;}#sk-eab4a2a6-5dc2-4e6a-8974-816417d62ac4 div.sk-toggleable__content {max-height: 0;max-width: 0;overflow: hidden;text-align: left;background-color: #f0f8ff;}#sk-eab4a2a6-5dc2-4e6a-8974-816417d62ac4 div.sk-toggleable__content pre {margin: 0.2em;color: black;border-radius: 0.25em;background-color: #f0f8ff;}#sk-eab4a2a6-5dc2-4e6a-8974-816417d62ac4 input.sk-toggleable__control:checked~div.sk-toggleable__content {max-height: 200px;max-width: 100%;overflow: auto;}#sk-eab4a2a6-5dc2-4e6a-8974-816417d62ac4 div.sk-estimator input.sk-toggleable__control:checked~label.sk-toggleable__label {background-color: #d4ebff;}#sk-eab4a2a6-5dc2-4e6a-8974-816417d62ac4 div.sk-label input.sk-toggleable__control:checked~label.sk-toggleable__label {background-color: #d4ebff;}#sk-eab4a2a6-5dc2-4e6a-8974-816417d62ac4 input.sk-hidden--visually {border: 0;clip: rect(1px 1px 1px 1px);clip: rect(1px, 1px, 1px, 1px);height: 1px;margin: -1px;overflow: hidden;padding: 0;position: absolute;width: 1px;}#sk-eab4a2a6-5dc2-4e6a-8974-816417d62ac4 div.sk-estimator {font-family: monospace;background-color: #f0f8ff;margin: 0.25em 0.25em;border: 1px dotted black;border-radius: 0.25em;box-sizing: border-box;}#sk-eab4a2a6-5dc2-4e6a-8974-816417d62ac4 div.sk-estimator:hover {background-color: #d4ebff;}#sk-eab4a2a6-5dc2-4e6a-8974-816417d62ac4 div.sk-parallel-item::after {content: \"\";width: 100%;border-bottom: 1px solid gray;flex-grow: 1;}#sk-eab4a2a6-5dc2-4e6a-8974-816417d62ac4 div.sk-label:hover label.sk-toggleable__label {background-color: #d4ebff;}#sk-eab4a2a6-5dc2-4e6a-8974-816417d62ac4 div.sk-serial::before {content: \"\";position: absolute;border-left: 1px solid gray;box-sizing: border-box;top: 2em;bottom: 0;left: 50%;}#sk-eab4a2a6-5dc2-4e6a-8974-816417d62ac4 div.sk-serial {display: flex;flex-direction: column;align-items: center;background-color: white;}#sk-eab4a2a6-5dc2-4e6a-8974-816417d62ac4 div.sk-item {z-index: 1;}#sk-eab4a2a6-5dc2-4e6a-8974-816417d62ac4 div.sk-parallel {display: flex;align-items: stretch;justify-content: center;background-color: white;}#sk-eab4a2a6-5dc2-4e6a-8974-816417d62ac4 div.sk-parallel-item {display: flex;flex-direction: column;position: relative;background-color: white;}#sk-eab4a2a6-5dc2-4e6a-8974-816417d62ac4 div.sk-parallel-item:first-child::after {align-self: flex-end;width: 50%;}#sk-eab4a2a6-5dc2-4e6a-8974-816417d62ac4 div.sk-parallel-item:last-child::after {align-self: flex-start;width: 50%;}#sk-eab4a2a6-5dc2-4e6a-8974-816417d62ac4 div.sk-parallel-item:only-child::after {width: 0;}#sk-eab4a2a6-5dc2-4e6a-8974-816417d62ac4 div.sk-dashed-wrapped {border: 1px dashed gray;margin: 0.2em;box-sizing: border-box;padding-bottom: 0.1em;background-color: white;position: relative;}#sk-eab4a2a6-5dc2-4e6a-8974-816417d62ac4 div.sk-label label {font-family: monospace;font-weight: bold;background-color: white;display: inline-block;line-height: 1.2em;}#sk-eab4a2a6-5dc2-4e6a-8974-816417d62ac4 div.sk-label-container {position: relative;z-index: 2;text-align: center;}#sk-eab4a2a6-5dc2-4e6a-8974-816417d62ac4 div.sk-container {display: inline-block;position: relative;}</style><div id=\"sk-eab4a2a6-5dc2-4e6a-8974-816417d62ac4\" class\"sk-top-container\"><div class=\"sk-container\"><div class=\"sk-item sk-dashed-wrapped\"><div class=\"sk-label-container\"><div class=\"sk-label sk-toggleable\"><input class=\"sk-toggleable__control sk-hidden--visually\" id=\"ae4d1a03-ad77-40de-9ed8-d1e0c11f3fe8\" type=\"checkbox\" ><label class=\"sk-toggleable__label\" for=\"ae4d1a03-ad77-40de-9ed8-d1e0c11f3fe8\">Pipeline</label><div class=\"sk-toggleable__content\"><pre>Pipeline(steps=[('preprocessor',\n",
       "                 ColumnTransformer(transformers=[('num',\n",
       "                                                  Pipeline(steps=[('imputer',\n",
       "                                                                   SimpleImputer(strategy='median')),\n",
       "                                                                  ('scaler',\n",
       "                                                                   StandardScaler())]),\n",
       "                                                  ['Cylinders', 'Displacement',\n",
       "                                                   'Horsepower', 'Weight',\n",
       "                                                   'Acceleration',\n",
       "                                                   'Model Year']),\n",
       "                                                 ('cat',\n",
       "                                                  OneHotEncoder(handle_unknown='ignore'),\n",
       "                                                  ['Origin'])])),\n",
       "                ('regressor', LinearRegression())])</pre></div></div></div><div class=\"sk-serial\"><div class=\"sk-item sk-dashed-wrapped\"><div class=\"sk-label-container\"><div class=\"sk-label sk-toggleable\"><input class=\"sk-toggleable__control sk-hidden--visually\" id=\"39498cff-993e-46d9-b83a-4f660618c3d9\" type=\"checkbox\" ><label class=\"sk-toggleable__label\" for=\"39498cff-993e-46d9-b83a-4f660618c3d9\">preprocessor: ColumnTransformer</label><div class=\"sk-toggleable__content\"><pre>ColumnTransformer(transformers=[('num',\n",
       "                                 Pipeline(steps=[('imputer',\n",
       "                                                  SimpleImputer(strategy='median')),\n",
       "                                                 ('scaler', StandardScaler())]),\n",
       "                                 ['Cylinders', 'Displacement', 'Horsepower',\n",
       "                                  'Weight', 'Acceleration', 'Model Year']),\n",
       "                                ('cat', OneHotEncoder(handle_unknown='ignore'),\n",
       "                                 ['Origin'])])</pre></div></div></div><div class=\"sk-parallel\"><div class=\"sk-parallel-item\"><div class=\"sk-item\"><div class=\"sk-label-container\"><div class=\"sk-label sk-toggleable\"><input class=\"sk-toggleable__control sk-hidden--visually\" id=\"7d4903c0-ec3c-4d5d-94fc-42f0a3e7304f\" type=\"checkbox\" ><label class=\"sk-toggleable__label\" for=\"7d4903c0-ec3c-4d5d-94fc-42f0a3e7304f\">num</label><div class=\"sk-toggleable__content\"><pre>['Cylinders', 'Displacement', 'Horsepower', 'Weight', 'Acceleration', 'Model Year']</pre></div></div></div><div class=\"sk-serial\"><div class=\"sk-item\"><div class=\"sk-serial\"><div class=\"sk-item\"><div class=\"sk-estimator sk-toggleable\"><input class=\"sk-toggleable__control sk-hidden--visually\" id=\"69680e4e-6bd7-4372-8ef0-a5d7bfb15b29\" type=\"checkbox\" ><label class=\"sk-toggleable__label\" for=\"69680e4e-6bd7-4372-8ef0-a5d7bfb15b29\">SimpleImputer</label><div class=\"sk-toggleable__content\"><pre>SimpleImputer(strategy='median')</pre></div></div></div><div class=\"sk-item\"><div class=\"sk-estimator sk-toggleable\"><input class=\"sk-toggleable__control sk-hidden--visually\" id=\"ab1d8023-d295-4165-9f31-c395ef950566\" type=\"checkbox\" ><label class=\"sk-toggleable__label\" for=\"ab1d8023-d295-4165-9f31-c395ef950566\">StandardScaler</label><div class=\"sk-toggleable__content\"><pre>StandardScaler()</pre></div></div></div></div></div></div></div></div><div class=\"sk-parallel-item\"><div class=\"sk-item\"><div class=\"sk-label-container\"><div class=\"sk-label sk-toggleable\"><input class=\"sk-toggleable__control sk-hidden--visually\" id=\"39194080-8071-477e-ac87-f4bf0151f287\" type=\"checkbox\" ><label class=\"sk-toggleable__label\" for=\"39194080-8071-477e-ac87-f4bf0151f287\">cat</label><div class=\"sk-toggleable__content\"><pre>['Origin']</pre></div></div></div><div class=\"sk-serial\"><div class=\"sk-item\"><div class=\"sk-estimator sk-toggleable\"><input class=\"sk-toggleable__control sk-hidden--visually\" id=\"4dc6d991-4f10-4c5d-a7df-4f2bd71938ab\" type=\"checkbox\" ><label class=\"sk-toggleable__label\" for=\"4dc6d991-4f10-4c5d-a7df-4f2bd71938ab\">OneHotEncoder</label><div class=\"sk-toggleable__content\"><pre>OneHotEncoder(handle_unknown='ignore')</pre></div></div></div></div></div></div></div></div><div class=\"sk-item\"><div class=\"sk-estimator sk-toggleable\"><input class=\"sk-toggleable__control sk-hidden--visually\" id=\"6198c41b-1906-40af-9457-a98cf4267149\" type=\"checkbox\" ><label class=\"sk-toggleable__label\" for=\"6198c41b-1906-40af-9457-a98cf4267149\">LinearRegression</label><div class=\"sk-toggleable__content\"><pre>LinearRegression()</pre></div></div></div></div></div></div></div>"
      ],
      "text/plain": [
       "Pipeline(steps=[('preprocessor',\n",
       "                 ColumnTransformer(transformers=[('num',\n",
       "                                                  Pipeline(steps=[('imputer',\n",
       "                                                                   SimpleImputer(strategy='median')),\n",
       "                                                                  ('scaler',\n",
       "                                                                   StandardScaler())]),\n",
       "                                                  ['Cylinders', 'Displacement',\n",
       "                                                   'Horsepower', 'Weight',\n",
       "                                                   'Acceleration',\n",
       "                                                   'Model Year']),\n",
       "                                                 ('cat',\n",
       "                                                  OneHotEncoder(handle_unknown='ignore'),\n",
       "                                                  ['Origin'])])),\n",
       "                ('regressor', LinearRegression())])"
      ]
     },
     "execution_count": 7,
     "metadata": {},
     "output_type": "execute_result"
    }
   ],
   "source": [
    "from sklearn import set_config\n",
    "\n",
    "set_config(display='diagram')\n",
    "pipeline"
   ]
  },
  {
   "cell_type": "markdown",
   "id": "39507e56",
   "metadata": {},
   "source": [
    "#### Use pipeline to predict values"
   ]
  },
  {
   "cell_type": "code",
   "execution_count": 8,
   "id": "5e35f59d",
   "metadata": {},
   "outputs": [],
   "source": [
    "scored_data = pipeline.predict(test_features)"
   ]
  },
  {
   "cell_type": "markdown",
   "id": "b9d8e625",
   "metadata": {},
   "source": [
    "#### Show predicted values"
   ]
  },
  {
   "cell_type": "code",
   "execution_count": 9,
   "id": "456629a8",
   "metadata": {},
   "outputs": [
    {
     "data": {
      "text/html": [
       "<div>\n",
       "<style scoped>\n",
       "    .dataframe tbody tr th:only-of-type {\n",
       "        vertical-align: middle;\n",
       "    }\n",
       "\n",
       "    .dataframe tbody tr th {\n",
       "        vertical-align: top;\n",
       "    }\n",
       "\n",
       "    .dataframe thead th {\n",
       "        text-align: right;\n",
       "    }\n",
       "</style>\n",
       "<table border=\"1\" class=\"dataframe\">\n",
       "  <thead>\n",
       "    <tr style=\"text-align: right;\">\n",
       "      <th></th>\n",
       "      <th>0</th>\n",
       "      <th>MPG</th>\n",
       "    </tr>\n",
       "  </thead>\n",
       "  <tbody>\n",
       "    <tr>\n",
       "      <th>0</th>\n",
       "      <td>14.015444</td>\n",
       "      <td>15.0</td>\n",
       "    </tr>\n",
       "    <tr>\n",
       "      <th>1</th>\n",
       "      <td>10.397067</td>\n",
       "      <td>14.0</td>\n",
       "    </tr>\n",
       "    <tr>\n",
       "      <th>2</th>\n",
       "      <td>9.864148</td>\n",
       "      <td>14.0</td>\n",
       "    </tr>\n",
       "    <tr>\n",
       "      <th>3</th>\n",
       "      <td>13.039408</td>\n",
       "      <td>15.0</td>\n",
       "    </tr>\n",
       "    <tr>\n",
       "      <th>4</th>\n",
       "      <td>19.318016</td>\n",
       "      <td>18.0</td>\n",
       "    </tr>\n",
       "  </tbody>\n",
       "</table>\n",
       "</div>"
      ],
      "text/plain": [
       "           0   MPG\n",
       "0  14.015444  15.0\n",
       "1  10.397067  14.0\n",
       "2   9.864148  14.0\n",
       "3  13.039408  15.0\n",
       "4  19.318016  18.0"
      ]
     },
     "execution_count": 9,
     "metadata": {},
     "output_type": "execute_result"
    }
   ],
   "source": [
    "scored_df = pd.DataFrame(data = scored_data)\n",
    "\n",
    "scored_df = pd.concat([scored_df, test_labels], axis=1)\n",
    "scored_df.head(5)"
   ]
  },
  {
   "cell_type": "markdown",
   "id": "e9d1c766",
   "metadata": {},
   "source": [
    "### Cross Validation"
   ]
  },
  {
   "cell_type": "code",
   "execution_count": 10,
   "id": "11062d4b",
   "metadata": {},
   "outputs": [
    {
     "data": {
      "text/plain": [
       "array([0.688, 0.788, 0.751, 0.822, 0.852, 0.772, 0.822, 0.848, 0.827,\n",
       "       0.788])"
      ]
     },
     "execution_count": 10,
     "metadata": {},
     "output_type": "execute_result"
    }
   ],
   "source": [
    "from sklearn.model_selection import cross_val_score\n",
    "folds = 10\n",
    "\n",
    "scores = cross_val_score(pipeline,train_features, train_labels, cv=folds)\n",
    "scores"
   ]
  },
  {
   "cell_type": "code",
   "execution_count": 11,
   "id": "75ad86da",
   "metadata": {},
   "outputs": [
    {
     "name": "stdout",
     "output_type": "stream",
     "text": [
      "0.80 R-squared (R2), with a standard deviation of 0.05\n"
     ]
    }
   ],
   "source": [
    "print(\"%0.2f R-squared (R2), with a standard deviation of %0.2f\" % (scores.mean(), scores.std()))"
   ]
  },
  {
   "cell_type": "code",
   "execution_count": 12,
   "id": "57145e13",
   "metadata": {},
   "outputs": [
    {
     "data": {
      "image/png": "[encoded data removed]",
      "text/plain": [
       "<Figure size 560x560 with 1 Axes>"
      ]
     },
     "metadata": {
      "needs_background": "light"
     },
     "output_type": "display_data"
    }
   ],
   "source": [
    "fig, ax = plt.subplots(figsize=(7, 7), dpi=80)\n",
    "plt.ylim(0,1)\n",
    "plt.plot(range(folds), scores)\n",
    "ax.set_xlabel('KFolds')\n",
    "ax.set_ylabel('R-squared (The Higher,the better )')\n",
    "plt.show()"
   ]
  },
  {
   "cell_type": "code",
   "execution_count": 13,
   "id": "c31a93be",
   "metadata": {},
   "outputs": [
    {
     "data": {
      "image/png": "[encoded data removed]",
      "text/plain": [
       "<Figure size 560x560 with 1 Axes>"
      ]
     },
     "metadata": {
      "needs_background": "light"
     },
     "output_type": "display_data"
    }
   ],
   "source": [
    "from sklearn.model_selection import cross_val_predict\n",
    "# cross_val_predict returns an array of the same size as `y` where each entry\n",
    "# is a prediction obtained by cross validation:\n",
    "predicted = cross_val_predict(pipeline, train_features, train_labels, cv=10)\n",
    "\n",
    "fig, ax = plt.subplots(figsize=(7, 7), dpi=80)\n",
    "ax.scatter(train_labels, predicted, edgecolors=(0, 0, 0))\n",
    "ax.plot([train_labels.min(), train_labels.max()], [train_labels.min(), train_labels.max()], 'k--', lw=4)\n",
    "ax.set_xlabel('Measured MPG')\n",
    "ax.set_ylabel('Predicted MPG')\n",
    "plt.show()"
   ]
  },
  {
   "cell_type": "code",
   "execution_count": null,
   "id": "bcdf442e",
   "metadata": {},
   "outputs": [],
   "source": []
  }
 ],
 "metadata": {
  "kernelspec": {
   "display_name": "Python 3",
   "language": "python",
   "name": "python3"
  },
  "language_info": {
   "codemirror_mode": {
    "name": "ipython",
    "version": 3
   },
   "file_extension": ".py",
   "mimetype": "text/x-python",
   "name": "python",
   "nbconvert_exporter": "python",
   "pygments_lexer": "ipython3",
   "version": "3.8.10"
  }
 },
 "nbformat": 4,
 "nbformat_minor": 5
}

{
 "cells": [
  {
   "cell_type": "markdown",
   "id": "a671a167",
   "metadata": {},
   "source": [
    "### Decission Tree \n",
    "Decission Tree with sklearn on the Iris dataset"
   ]
  },
  {
   "cell_type": "markdown",
   "id": "0a9b4509",
   "metadata": {},
   "source": [
    "***\n",
    "#### Environment\n",
    "`conda activate sklearn-env`\n",
    "\n",
    "***\n",
    "#### Goals\n",
    "- build a decission tree\n",
    "- visualize the tree\n",
    "- examine the nodes, notice the leaf nodes\n",
    "\n",
    "***\n",
    "#### References\n",
    "https://scikit-learn.org/stable/modules/tree.html"
   ]
  },
  {
   "cell_type": "code",
   "execution_count": null,
   "id": "892147d7",
   "metadata": {},
   "outputs": [],
   "source": [
    "from sklearn.datasets import load_iris\n",
    "import matplotlib.pyplot as plt\n",
    "import numpy as np\n",
    "import random"
   ]
  },
  {
   "cell_type": "markdown",
   "id": "144c0258",
   "metadata": {},
   "source": [
    "#### Load the Iris sample dataset"
   ]
  },
  {
   "cell_type": "code",
   "execution_count": null,
   "id": "ac35ed50",
   "metadata": {},
   "outputs": [],
   "source": [
    "data = load_iris(as_frame = True )\n",
    "dataset = data.frame\n",
    "dataset.head(2)"
   ]
  },
  {
   "cell_type": "markdown",
   "id": "d801a0a4",
   "metadata": {},
   "source": [
    "#### Data preparation\n",
    "\n",
    "Split data in `training` and `test` datasets"
   ]
  },
  {
   "cell_type": "code",
   "execution_count": null,
   "id": "9b749d0e",
   "metadata": {},
   "outputs": [],
   "source": [
    "dataset = dataset.copy()\n",
    "\n",
    "train_dataset = dataset.sample(frac=0.8, random_state=0)\n",
    "test_dataset = dataset.drop(train_dataset.index)\n",
    "\n",
    "train_features = train_dataset.copy()\n",
    "test_features = test_dataset.copy()\n",
    "\n",
    "train_labels = train_features.pop('target')\n",
    "test_labels = test_features.pop('target')\n"
   ]
  },
  {
   "cell_type": "markdown",
   "id": "be114c21",
   "metadata": {},
   "source": [
    "#### Traing sklean decision tree algorithm (based on training datasets)"
   ]
  },
  {
   "cell_type": "code",
   "execution_count": null,
   "id": "6fe1eae0",
   "metadata": {},
   "outputs": [],
   "source": [
    "from sklearn import tree\n",
    "\n",
    "clf = tree.DecisionTreeClassifier().fit(train_features, train_labels)"
   ]
  },
  {
   "cell_type": "markdown",
   "id": "d304844e",
   "metadata": {},
   "source": [
    "#### Predict values from test dataset and compare with test labels"
   ]
  },
  {
   "cell_type": "code",
   "execution_count": null,
   "id": "d9ab36d9",
   "metadata": {},
   "outputs": [],
   "source": [
    "scored_test = clf.predict(test_features)\n",
    "test_dataset['Predicted'] = scored_test"
   ]
  },
  {
   "cell_type": "markdown",
   "id": "4a23c056",
   "metadata": {},
   "source": [
    "#### Plot the tree"
   ]
  },
  {
   "cell_type": "code",
   "execution_count": null,
   "id": "86c0b7bc",
   "metadata": {},
   "outputs": [],
   "source": [
    "plt.figure(figsize=(15,15))  \n",
    "tree.plot_tree(clf, fontsize=10, filled=True, rounded=True)\n",
    "plt.title('\\n'.join([\"X[\"+str(idx)+\"]=\"+str(elem) for idx, elem in enumerate(data.feature_names)]), \n",
    "          fontsize=12, fontweight=\"normal\",loc='right',horizontalalignment='left')\n",
    "plt.show()"
   ]
  },
  {
   "cell_type": "code",
   "execution_count": null,
   "id": "10a4a475",
   "metadata": {},
   "outputs": [],
   "source": [
    "test_digit = random.randint(1, len(scored_test))\n",
    "test_dataset.iloc[[test_digit]]"
   ]
  },
  {
   "cell_type": "code",
   "execution_count": null,
   "id": "eb83849c",
   "metadata": {},
   "outputs": [],
   "source": []
  }
 ],
 "metadata": {
  "kernelspec": {
   "display_name": "Python 3",
   "language": "python",
   "name": "python3"
  },
  "language_info": {
   "codemirror_mode": {
    "name": "ipython",
    "version": 3
   },
   "file_extension": ".py",
   "mimetype": "text/x-python",
   "name": "python",
   "nbconvert_exporter": "python",
   "pygments_lexer": "ipython3",
   "version": "3.8.10"
  }
 },
 "nbformat": 4,
 "nbformat_minor": 5
}

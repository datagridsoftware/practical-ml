{
 "cells": [
  {
   "cell_type": "markdown",
   "id": "53012b48",
   "metadata": {},
   "source": [
    "### Module 01 - Assignment"
   ]
  },
  {
   "cell_type": "markdown",
   "id": "919d9299",
   "metadata": {},
   "source": [
    "***\n",
    "#### Environment\n",
    "`conda activate sklearn-env`\n",
    "***\n",
    "#### Goals\n",
    "   \n",
    "- [Load the data sets from the links page](#Dataset-load-from-CSV-located-on-OpenML-website)\n",
    "- [Print statistics about the data](#Print-statistics-about-the-data)\n",
    "- [Plot correlation and heat maps](#Plot-correlation-and-heat-maps)\n",
    "- [Optional](#Optional) *\n",
    "  - [Plot linear regression](#Plot-linear-regression)\n",
    "  - [Predict MEDV from CRIM, RM, INDUS, NOX](#Train-model-to-predict-MEDV-from-CRIM,-RM,-INDUS,-NOX)"
   ]
  },
  {
   "cell_type": "markdown",
   "id": "ebd63d56",
   "metadata": {},
   "source": [
    "#### Basic python imports for panda (dataframe) and seaborn(visualization) packages"
   ]
  },
  {
   "cell_type": "code",
   "execution_count": null,
   "id": "2d79a233",
   "metadata": {},
   "outputs": [],
   "source": [
    "import pandas as pd\n",
    "import numpy as np\n",
    "import seaborn as sns\n",
    "import matplotlib.pyplot as plt\n",
    "from IPython.display import display"
   ]
  },
  {
   "cell_type": "code",
   "execution_count": null,
   "id": "52f7f0b0",
   "metadata": {},
   "outputs": [],
   "source": [
    "from sklearn.datasets import fetch_openml\n",
    "\n",
    "# Load data from https://www.openml.org/d/40945\n",
    "data = fetch_openml(\"boston\", version=1, as_frame=True)\n",
    "dataset = data.frame.copy()\n",
    "dataset['CHAS'] = pd.to_numeric(dataset['CHAS'])\n",
    "dataset['RAD'] = pd.to_numeric(dataset['RAD'])\n",
    "\n",
    "dataset.head()"
   ]
  },
  {
   "cell_type": "markdown",
   "id": "eef60435",
   "metadata": {},
   "source": [
    "### Print statistics about the data\n",
    "\n",
    "#### Data description"
   ]
  },
  {
   "cell_type": "code",
   "execution_count": null,
   "id": "b7e4fd35",
   "metadata": {},
   "outputs": [],
   "source": [
    "print(data.DESCR)"
   ]
  },
  {
   "cell_type": "markdown",
   "id": "efc21d96",
   "metadata": {},
   "source": [
    "#### Dataset meta information"
   ]
  },
  {
   "cell_type": "code",
   "execution_count": null,
   "id": "a69f5bde",
   "metadata": {},
   "outputs": [],
   "source": [
    "dataset.info()"
   ]
  },
  {
   "cell_type": "markdown",
   "id": "75ad183d",
   "metadata": {},
   "source": [
    "#### Display total count of missing values "
   ]
  },
  {
   "cell_type": "code",
   "execution_count": null,
   "id": "839069aa",
   "metadata": {},
   "outputs": [],
   "source": [
    "dataset.isna().sum()"
   ]
  },
  {
   "cell_type": "markdown",
   "id": "daf94618",
   "metadata": {},
   "source": [
    "#### Basic statistical properties"
   ]
  },
  {
   "cell_type": "code",
   "execution_count": null,
   "id": "dba6d90f",
   "metadata": {},
   "outputs": [],
   "source": [
    "dataset.describe().transpose()[['mean', 'std', 'count', 'min', 'max']]"
   ]
  },
  {
   "cell_type": "markdown",
   "id": "1beb2a26",
   "metadata": {},
   "source": [
    "### Plot correlation and heat maps\n",
    "\n",
    "#### Correlation matrix"
   ]
  },
  {
   "cell_type": "code",
   "execution_count": null,
   "id": "887a695c",
   "metadata": {},
   "outputs": [],
   "source": [
    "corr = dataset.corr()\n",
    "corr"
   ]
  },
  {
   "cell_type": "markdown",
   "id": "87e1716f",
   "metadata": {},
   "source": [
    "#### Visualize correlation metrix using seaborn heatmap plot\n",
    "\n",
    "https://seaborn.pydata.org/examples/many_pairwise_correlations.html"
   ]
  },
  {
   "cell_type": "code",
   "execution_count": null,
   "id": "e92939a4",
   "metadata": {},
   "outputs": [],
   "source": [
    "# Generate a mask for the upper triangle\n",
    "mask = np.triu(np.ones_like(corr, dtype=bool))\n",
    "plt.figure(figsize = (12,8))\n",
    "sns.heatmap(corr, mask = mask, annot=True, fmt='.2f', xticklabels=corr.columns.values,yticklabels=corr.columns.values,cmap=\"Greens\")"
   ]
  },
  {
   "cell_type": "markdown",
   "id": "0f9e7370",
   "metadata": {},
   "source": [
    "## Optional\n",
    "\n",
    "\n",
    "### Plot linear regression\n",
    "\n",
    "\n",
    "https://seaborn.pydata.org/tutorial/regression.html\n",
    "\n",
    "https://seaborn.pydata.org/generated/seaborn.pairplot.html"
   ]
  },
  {
   "cell_type": "code",
   "execution_count": null,
   "id": "d7f969e7",
   "metadata": {
    "scrolled": true
   },
   "outputs": [],
   "source": [
    "sns.pairplot(dataset, x_vars= ['CRIM', 'RM', 'INDUS', 'NOX'],y_vars= 'MEDV', height=5, aspect=.8, kind=\"reg\")"
   ]
  },
  {
   "cell_type": "code",
   "execution_count": null,
   "id": "26087b46",
   "metadata": {},
   "outputs": [],
   "source": [
    "fig, axes = plt.subplots(1, 3, figsize=(16, 6))\n",
    "sns.regplot(ax=axes[0], x='RM', y='MEDV', data=dataset, order=1, ci=None, line_kws={'color': 'red'});\n",
    "sns.regplot(ax=axes[1], x='RM', y='MEDV', data=dataset, order=2, ci=None, line_kws={'color': 'red'});\n",
    "sns.regplot(ax=axes[2], x='RM', y='MEDV', data=dataset, order=10, ci=None, line_kws={'color': 'red'});"
   ]
  },
  {
   "cell_type": "markdown",
   "id": "faadd773",
   "metadata": {},
   "source": [
    "#### Gradiend descent and cost function"
   ]
  },
  {
   "cell_type": "code",
   "execution_count": null,
   "id": "c333a9bd",
   "metadata": {},
   "outputs": [],
   "source": [
    "def costFunction(X, y , theta):\n",
    "    m = len(y)\n",
    "    sqHipe = np.matmul(X , theta) - y\n",
    "    cost = (1/(2*m)) * np.sum(sqHipe * sqHipe)\n",
    "    return cost\n",
    "    \n",
    "\n",
    "def gradientDescent(X, y, theta, alpha, num_iter):\n",
    "    m = len(y)\n",
    "    jurnal = np.zeros(num_iter)\n",
    "    theta_jurnal = np.zeros((num_iter, len(theta)))\n",
    "    for iter in range(num_iter):\n",
    "        theta = theta - alpha * (1/m) * np.sum(((np.matmul(X , theta) - y).transpose() * X.transpose()).transpose(), axis=0)\n",
    "        jurnal[iter] = costFunction(X, y, theta)\n",
    "        theta_jurnal[iter] = theta\n",
    "    return theta, jurnal, theta_jurnal\n"
   ]
  },
  {
   "cell_type": "markdown",
   "id": "431a5edd",
   "metadata": {},
   "source": [
    "### Train model to predict MEDV from CRIM, RM, INDUS, NOX"
   ]
  },
  {
   "cell_type": "code",
   "execution_count": null,
   "id": "b6d4c09e",
   "metadata": {},
   "outputs": [],
   "source": [
    "train_dataset = dataset[['MEDV', 'CRIM', 'RM', 'INDUS', 'NOX']]\n",
    "#train_dataset = ... <select from dataset 'MEDV', 'CRIM', 'RM', 'INDUS', 'NOX' features>\n"
   ]
  },
  {
   "cell_type": "code",
   "execution_count": null,
   "id": "fcedb97d",
   "metadata": {},
   "outputs": [],
   "source": [
    "train_features = train_dataset.copy()\n",
    "train_labels = train_features.pop('MEDV')\n",
    "\n",
    "stats = train_features.describe().transpose()[['mean', 'std', 'count', 'min', 'max']]\n",
    "stats\n",
    "\n",
    "normalized_train_features = (train_features - stats['mean'].transpose()) /  stats['std'].transpose()\n",
    "normalized_train_features.tail()\n",
    "\n",
    "normalized_ones_features = normalized_train_features.copy()\n",
    "normalized_ones_features.insert(0, 'Oness', 1.0)\n",
    "normalized_ones_features.head()\n",
    "\n",
    "\n",
    "theta = np.zeros(len(normalized_ones_features.columns))\n",
    "alpha = 0.01;\n",
    "num_iters = 400;\n",
    "theta , jurnal, theta_jurnal = gradientDescent(normalized_ones_features.to_numpy(), train_labels.to_numpy(), theta, alpha, num_iters);\n",
    "print(f\"Hypothesis: h(X)= {theta[0]:.3f} {theta[1]:+.3f}*CRIM {theta[2]:+.3f}*RM {theta[3]:+.3f}*INDUS {theta[4]:+.3f}*NOX\")"
   ]
  },
  {
   "cell_type": "markdown",
   "id": "9515ff40",
   "metadata": {},
   "source": [
    "#### Predict MEDV from CRIM, RM, INDUS, NOX"
   ]
  },
  {
   "cell_type": "code",
   "execution_count": null,
   "id": "87809bba",
   "metadata": {},
   "outputs": [],
   "source": [
    "score_elem = np.array([0.03237, 6.998, 2.18, 0.458])\n",
    "expected_prediction = 30.319424810512324\n",
    "\n",
    "score_input = (score_elem -  stats['mean'].transpose()) /  stats['std'].transpose();\n",
    "score_elem = np.insert(score_input.to_numpy(),0,1,axis=0)\n",
    "\n",
    "test_mpg = np.matmul(score_elem , theta)\n",
    "print(\"Predicted MPG:\" ,test_mpg,  \" expected value \", expected_prediction)"
   ]
  }
 ],
 "metadata": {
  "kernelspec": {
   "display_name": "Python 3",
   "language": "python",
   "name": "python3"
  },
  "language_info": {
   "codemirror_mode": {
    "name": "ipython",
    "version": 3
   },
   "file_extension": ".py",
   "mimetype": "text/x-python",
   "name": "python",
   "nbconvert_exporter": "python",
   "pygments_lexer": "ipython3",
   "version": "3.8.10"
  }
 },
 "nbformat": 4,
 "nbformat_minor": 5
}

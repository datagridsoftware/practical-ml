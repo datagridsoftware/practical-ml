{
 "cells": [
  {
   "cell_type": "markdown",
   "id": "aacb493a",
   "metadata": {},
   "source": [
    "### Test Scikit-learn environment\n",
    "Test installation with the sklearn environment"
   ]
  },
  {
   "cell_type": "markdown",
   "id": "45dec1d8",
   "metadata": {},
   "source": [
    "***\n",
    "#### Environment\n",
    "`conda activate sklearn-env`\n",
    "\n",
    "***\n",
    "#### Goals\n",
    "- verify the installation\n",
    "- expected results:\n",
    "    - no errors\n",
    "    - a textual description of the Iris dataset"
   ]
  },
  {
   "cell_type": "code",
   "execution_count": null,
   "id": "8b590687",
   "metadata": {},
   "outputs": [],
   "source": [
    "from sklearn.datasets import load_iris\n",
    "data = load_iris(as_frame = True )\n",
    "print(data.DESCR)"
   ]
  },
  {
   "cell_type": "code",
   "execution_count": null,
   "id": "f371f428",
   "metadata": {},
   "outputs": [],
   "source": []
  }
 ],
 "metadata": {
  "kernelspec": {
   "display_name": "Python 3",
   "language": "python",
   "name": "python3"
  },
  "language_info": {
   "codemirror_mode": {
    "name": "ipython",
    "version": 3
   },
   "file_extension": ".py",
   "mimetype": "text/x-python",
   "name": "python",
   "nbconvert_exporter": "python",
   "pygments_lexer": "ipython3",
   "version": "3.8.10"
  }
 },
 "nbformat": 4,
 "nbformat_minor": 5
}

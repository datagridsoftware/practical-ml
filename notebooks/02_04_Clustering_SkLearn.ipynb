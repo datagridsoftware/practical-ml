{
 "cells": [
  {
   "cell_type": "markdown",
   "id": "2f28a8c6",
   "metadata": {},
   "source": [
    "### Clustering\n",
    "kMeans clustering with sklearn on the auto-mpg dataset"
   ]
  },
  {
   "cell_type": "markdown",
   "id": "e380772d",
   "metadata": {},
   "source": [
    "***\n",
    "#### Environment\n",
    "`conda activate sklearn-env`\n",
    "\n",
    "***\n",
    "#### Goals\n",
    "- Compute 4 clusters based on input dataset\n",
    "- Compute test dataset cluster value based on trained model\n",
    "- Visualize pair of features and highlight clustre membership\n",
    "\n",
    "***\n",
    "#### References\n",
    "https://scikit-learn.org/stable/modules/generated/sklearn.cluster.KMeans.html"
   ]
  },
  {
   "cell_type": "markdown",
   "id": "06e602a8",
   "metadata": {},
   "source": [
    "#### Basic python imports"
   ]
  },
  {
   "cell_type": "code",
   "execution_count": null,
   "id": "dda7a399",
   "metadata": {},
   "outputs": [],
   "source": [
    "import matplotlib.pyplot as plt\n",
    "import numpy as np\n",
    "import pandas as pd\n",
    "import seaborn as sns\n",
    "\n",
    "\n",
    "# Make numpy printouts easier to read.\n",
    "np.set_printoptions(precision=3, suppress=True)"
   ]
  },
  {
   "cell_type": "markdown",
   "id": "59316e58",
   "metadata": {},
   "source": [
    "#### Dataset load from CSV located on UCI website.\n",
    "\n",
    "http://archive.ics.uci.edu/ml/machine-learning-databases/auto-mpg/auto-mpg.data  \n",
    "If the URL does not work the dataset can be loaded from the data folder `./data/auto-mpg.data`."
   ]
  },
  {
   "cell_type": "code",
   "execution_count": null,
   "id": "3ba610e6",
   "metadata": {},
   "outputs": [],
   "source": [
    "url = 'http://archive.ics.uci.edu/ml/machine-learning-databases/auto-mpg/auto-mpg.data'\n",
    "column_names = ['MPG', 'Cylinders', 'Displacement', 'Horsepower', 'Weight',\n",
    "                'Acceleration', 'Model Year', 'Origin']\n",
    "\n",
    "raw_dataset = pd.read_csv(url, names=column_names,\n",
    "                          na_values='?', comment='\\t',\n",
    "                          sep=' ', skipinitialspace=True)\n",
    "dataset = raw_dataset.copy()\n",
    "dataset.tail()"
   ]
  },
  {
   "cell_type": "markdown",
   "id": "82d1cf45",
   "metadata": {},
   "source": [
    "#### Data preparation\n",
    "\n",
    "- Choose only continuous features\n",
    "- Split data in `training` and `test` datasets"
   ]
  },
  {
   "cell_type": "code",
   "execution_count": null,
   "id": "0053439d",
   "metadata": {},
   "outputs": [],
   "source": [
    "dataset = dataset.dropna()\n",
    "continuous_dataset = dataset[['MPG', 'Displacement', 'Horsepower', 'Weight']]\n",
    "train_dataset = continuous_dataset.sample(frac=0.8, random_state=0)\n",
    "test_dataset = continuous_dataset.drop(train_dataset.index)"
   ]
  },
  {
   "cell_type": "markdown",
   "id": "f1e7837e",
   "metadata": {},
   "source": [
    "#### Traing sklean KMeans algorithm (based on training datasets)"
   ]
  },
  {
   "cell_type": "code",
   "execution_count": null,
   "id": "3203295a",
   "metadata": {},
   "outputs": [],
   "source": [
    "from sklearn.cluster import KMeans\n",
    "clusters_no = 3\n",
    "kmeans = KMeans(n_clusters=clusters_no, random_state=0).fit(train_dataset)"
   ]
  },
  {
   "cell_type": "markdown",
   "id": "2e9b7ec4",
   "metadata": {},
   "source": [
    "#### Determin in which cluster the sample belongs to"
   ]
  },
  {
   "cell_type": "code",
   "execution_count": null,
   "id": "93e9dfa0",
   "metadata": {},
   "outputs": [],
   "source": [
    "predicted_clusters = kmeans.predict(test_dataset)\n",
    "clustered_test_dataset = test_dataset.copy()\n",
    "clustered_test_dataset['Cluster'] = predicted_clusters\n",
    "clustered_test_dataset.head(10)"
   ]
  },
  {
   "cell_type": "markdown",
   "id": "2b31286a",
   "metadata": {},
   "source": [
    "#### Visualize piar of features and highlight cluster membership"
   ]
  },
  {
   "cell_type": "code",
   "execution_count": null,
   "id": "a2df60aa",
   "metadata": {},
   "outputs": [],
   "source": [
    "sns.pairplot(clustered_test_dataset, hue = 'Cluster', diag_kind='kde', palette=sns.color_palette(\"hls\",clusters_no), corner=True)"
   ]
  },
  {
   "cell_type": "code",
   "execution_count": null,
   "id": "dec62481",
   "metadata": {},
   "outputs": [],
   "source": []
  }
 ],
 "metadata": {
  "kernelspec": {
   "display_name": "Python 3",
   "language": "python",
   "name": "python3"
  },
  "language_info": {
   "codemirror_mode": {
    "name": "ipython",
    "version": 3
   },
   "file_extension": ".py",
   "mimetype": "text/x-python",
   "name": "python",
   "nbconvert_exporter": "python",
   "pygments_lexer": "ipython3",
   "version": "3.8.10"
  }
 },
 "nbformat": 4,
 "nbformat_minor": 5
}

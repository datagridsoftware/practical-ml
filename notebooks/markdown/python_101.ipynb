{
 "cells": [
  {
   "cell_type": "markdown",
   "id": "cb27e8ce",
   "metadata": {},
   "source": [
    "## Basic Python for DataScience"
   ]
  },
  {
   "cell_type": "markdown",
   "id": "9246950b",
   "metadata": {},
   "source": [
    "- Python 101: https://python101.pythonlibrary.org/\n",
    "- StackOverflow: https://stackoverflow.com/questions/tagged/python\n",
    "- Pandas User Guide: https://pandas.pydata.org/docs/user_guide/index.html#user-guide\n",
    "- Pandas API: https://pandas.pydata.org/docs/reference/api/pandas.DataFrame.html"
   ]
  },
  {
   "cell_type": "markdown",
   "id": "0002191d",
   "metadata": {},
   "source": [
    "### Variables"
   ]
  },
  {
   "cell_type": "code",
   "execution_count": null,
   "id": "7e0d7612",
   "metadata": {},
   "outputs": [],
   "source": [
    "# a variable is defined on first use\n",
    "v = 1\n",
    "print(v)"
   ]
  },
  {
   "cell_type": "markdown",
   "id": "fe95dd03",
   "metadata": {},
   "source": [
    "### Arrays/Collections"
   ]
  },
  {
   "cell_type": "code",
   "execution_count": null,
   "id": "47c48d6b",
   "metadata": {},
   "outputs": [],
   "source": [
    "# lists are not strongly typed, they can have mixed content\n",
    "lst = [1, 2, \"Test\", 3]\n",
    "lst"
   ]
  },
  {
   "cell_type": "code",
   "execution_count": null,
   "id": "e80ba73d",
   "metadata": {},
   "outputs": [],
   "source": [
    "# 0 based index\n",
    "lst[1]"
   ]
  },
  {
   "cell_type": "markdown",
   "id": "f12484b6",
   "metadata": {},
   "source": [
    "#### Slicing\n",
    "\n",
    "https://railsware.com/blog/python-for-machine-learning-indexing-and-slicing-for-lists-tuples-strings-and-other-sequential-types/"
   ]
  },
  {
   "cell_type": "code",
   "execution_count": null,
   "id": "85c6a5ea",
   "metadata": {},
   "outputs": [],
   "source": [
    "# last item\n",
    "print(lst[-1])\n",
    "\n",
    "# the items from position -3 to position -1\n",
    "print(lst[-3:-1])"
   ]
  },
  {
   "cell_type": "code",
   "execution_count": null,
   "id": "cb68b920",
   "metadata": {},
   "outputs": [],
   "source": [
    "# replace using slicing\n",
    "lst[-3:-1] = [11, 22]\n",
    "lst"
   ]
  },
  {
   "cell_type": "markdown",
   "id": "28590915",
   "metadata": {},
   "source": [
    "### Dictionaries"
   ]
  },
  {
   "cell_type": "code",
   "execution_count": null,
   "id": "4efd6469",
   "metadata": {},
   "outputs": [],
   "source": [
    "dict = {\n",
    "    \"alpha\": 1,\n",
    "    \"beta\": \"B\",\n",
    "    \"gamma\": [1,2,3],\n",
    "    \"delta\": {\n",
    "        \"d1\": 1,\n",
    "        \"d2\": 2\n",
    "    }\n",
    "    \n",
    "}\n",
    "\n",
    "dict"
   ]
  },
  {
   "cell_type": "code",
   "execution_count": null,
   "id": "5b0ce618",
   "metadata": {},
   "outputs": [],
   "source": [
    "dict[\"gamma\"]"
   ]
  },
  {
   "cell_type": "markdown",
   "id": "2c5f0b07",
   "metadata": {},
   "source": [
    "### Basic Instructions"
   ]
  },
  {
   "cell_type": "code",
   "execution_count": null,
   "id": "1e6b20c8",
   "metadata": {},
   "outputs": [],
   "source": [
    "if dict[\"alpha\"] == 1:\n",
    "    print(\"yes\")\n",
    "else:\n",
    "    print(\"no\")"
   ]
  },
  {
   "cell_type": "code",
   "execution_count": null,
   "id": "b7464d41",
   "metadata": {},
   "outputs": [],
   "source": [
    "for x in range(1, 6):\n",
    "    print(\"Value: \" + str(x))"
   ]
  },
  {
   "cell_type": "code",
   "execution_count": null,
   "id": "b815b71e",
   "metadata": {},
   "outputs": [],
   "source": [
    "for x in [\"alpha\", \"beta\", \"gamma\"]:\n",
    "    print(\"Value: \" + x)"
   ]
  },
  {
   "cell_type": "markdown",
   "id": "76f99a3c",
   "metadata": {},
   "source": [
    "### Functions"
   ]
  },
  {
   "cell_type": "code",
   "execution_count": null,
   "id": "107d69e2",
   "metadata": {},
   "outputs": [],
   "source": [
    "# param types and return types do not need to be declared\n",
    "def square_x(x):\n",
    "    return x*x"
   ]
  },
  {
   "cell_type": "code",
   "execution_count": null,
   "id": "808c469b",
   "metadata": {},
   "outputs": [],
   "source": [
    "square_x(12)"
   ]
  },
  {
   "cell_type": "markdown",
   "id": "ccd6a1cf",
   "metadata": {},
   "source": [
    "### Libraries"
   ]
  },
  {
   "cell_type": "code",
   "execution_count": null,
   "id": "8df24149",
   "metadata": {},
   "outputs": [],
   "source": [
    "#libraries receive an alias name when imported\n",
    "\n",
    "import pandas as pd\n",
    "import numpy as np"
   ]
  },
  {
   "cell_type": "code",
   "execution_count": null,
   "id": "688b6506",
   "metadata": {},
   "outputs": [],
   "source": [
    "# use the Pandas library through it's pd handle to load a dataframe and store it in the df variable\n",
    "df = pd.read_csv(\"markdown.csv\")"
   ]
  },
  {
   "cell_type": "code",
   "execution_count": null,
   "id": "422773ef",
   "metadata": {},
   "outputs": [],
   "source": [
    "# display a random 5 records from the dataframe\n",
    "# type the first letter after . and double tap \"tab\" to see a list of properties\n",
    "df.sample(5)"
   ]
  },
  {
   "cell_type": "code",
   "execution_count": null,
   "id": "4aeb859a",
   "metadata": {},
   "outputs": [],
   "source": [
    "# a single function can be imported from a module\n",
    "from matplotlib.pyplot import scatter"
   ]
  },
  {
   "cell_type": "code",
   "execution_count": null,
   "id": "db77c132",
   "metadata": {
    "scrolled": true
   },
   "outputs": [],
   "source": [
    "scatter(df[\"quantity\"], df[\"sold\"])"
   ]
  },
  {
   "cell_type": "markdown",
   "id": "67e41009",
   "metadata": {},
   "source": [
    "### Exception handling"
   ]
  },
  {
   "cell_type": "code",
   "execution_count": null,
   "id": "4a17382d",
   "metadata": {},
   "outputs": [],
   "source": [
    "try:\n",
    "    1 / 0\n",
    "except Exception as e:\n",
    "    print(\"Something went wrong. Error is: {0}\".format(e))"
   ]
  }
 ],
 "metadata": {
  "kernelspec": {
   "display_name": "Python 3.9.7 ('msys-service')",
   "language": "python",
   "name": "python397jvsc74a57bd0f42bfc7f82b78fadfa5b696e835f78c371811b379f7076e7637f462999e39e2d"
  },
  "language_info": {
   "codemirror_mode": {
    "name": "ipython",
    "version": 3
   },
   "file_extension": ".py",
   "mimetype": "text/x-python",
   "name": "python",
   "nbconvert_exporter": "python",
   "pygments_lexer": "ipython3",
   "version": "3.9.7"
  }
 },
 "nbformat": 4,
 "nbformat_minor": 5
}

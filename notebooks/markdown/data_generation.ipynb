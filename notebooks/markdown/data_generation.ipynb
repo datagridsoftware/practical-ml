{
 "cells": [
  {
   "cell_type": "markdown",
   "id": "5003ad6c",
   "metadata": {},
   "source": [
    "## Data Generation\n",
    "\n",
    "Generates the simulation data using the properties of the actual data"
   ]
  },
  {
   "cell_type": "code",
   "execution_count": null,
   "id": "38f6840f",
   "metadata": {},
   "outputs": [],
   "source": [
    "import pandas as pd\n",
    "import numpy as np\n",
    "from datetime import date"
   ]
  },
  {
   "cell_type": "code",
   "execution_count": null,
   "id": "3760f9e6",
   "metadata": {},
   "outputs": [],
   "source": [
    "def generate_data():\n",
    "    num_samples = 200000\n",
    "\n",
    "    # The desired mean values of the sample.\n",
    "    mu = np.array([4.689133, 6.220279, 74.026988, 44.740914])\n",
    "\n",
    "    # The desired covariance matrix.\n",
    "    r = np.array(\n",
    "        [\n",
    "            #  sold    quantity   price  reduction\n",
    "            [7.035221, 38.483902, -42.132574, 8.941785],\n",
    "            [38.483902, 63.069710, -44.900212, 9.328755],\n",
    "            [-42.132574, -44.900212, 5117.449392, -0.615325],\n",
    "            [8.941785, 9.328755, -0.615325, 100.391853]\n",
    "        ]\n",
    "    )\n",
    "\n",
    "    # Generate the random samples.\n",
    "    rng = np.random.default_rng()\n",
    "    y = rng.multivariate_normal(mu, r, size=num_samples)\n",
    "\n",
    "    df = pd.DataFrame(y, columns=[\"sold\", \"quantity\", \"price\", \"reduction\"])\n",
    "    df = df.round(0)\n",
    "    df = df[df[\"sold\"] >= 0]\n",
    "    df = df[df[\"quantity\"] > 0]\n",
    "    df = df[df[\"quantity\"] < 7]\n",
    "    df = df[df[\"price\"] > 10]\n",
    "    df = df[df[\"quantity\"] >= df[\"sold\"]]\n",
    "\n",
    "    num_samples = df.shape[0]\n",
    "    print(\"RECORDS: {0}\".format(num_samples))\n",
    "\n",
    "    dates = np.tile(pd.date_range(start='1/1/2021', end='4/1/2022').to_series(), 1000)\n",
    "    np.random.shuffle(dates)\n",
    "    df[\"date\"] = dates[-num_samples:,]\n",
    "\n",
    "    df[\"reduction\"] = 50\n",
    "    n = int(num_samples/4)\n",
    "    changes = df.sample(n).index \n",
    "    df.loc[changes, \"reduction\"]=30\n",
    "\n",
    "    n = int(num_samples/10)\n",
    "    changes = df.sample(n).index \n",
    "    df.loc[changes, \"reduction\"] = 40\n",
    "\n",
    "    n = int(num_samples/10)\n",
    "    changes = df.sample(n).index \n",
    "    df.loc[changes, \"quantity\"] =  df.loc[changes, \"quantity\"] * 2\n",
    "    df.loc[changes, \"sold\"] =  df.loc[changes, \"sold\"] * 2\n",
    "\n",
    "    n = int(num_samples*0.02)\n",
    "    changes = df.sample(n).index \n",
    "    df.loc[changes, \"quantity\"] =  df.loc[changes, \"quantity\"] * 5\n",
    "    df.loc[changes, \"sold\"] =  df.loc[changes, \"sold\"] * 5\n",
    "    \n",
    "    n = int(num_samples*0.001)\n",
    "    changes = df.sample(n).index \n",
    "    df.loc[changes, \"quantity\"] =  df.loc[changes, \"quantity\"] * 10\n",
    "    df.loc[changes, \"sold\"] =  df.loc[changes, \"sold\"] * 10\n",
    "\n",
    "    df[\"store\"] = np.random.randint(1,5,size=(num_samples, 1))\n",
    "    df[\"store\"] = df[\"store\"].astype(str)\n",
    "    df[\"store\"] = \"MAG_\" + df[\"store\"]\n",
    "    \n",
    "    df[\"days\"] = np.random.randint(3,10,size=(num_samples, 1))\n",
    "\n",
    "    n = int(num_samples*0.2)\n",
    "    changes = df.sample(n).index \n",
    "    df.loc[changes, \"days\"] =  2\n",
    "    \n",
    "    n = int(num_samples*0.3)\n",
    "    changes = df.sample(n).index \n",
    "    df.loc[changes, \"days\"] =  0\n",
    "\n",
    "    n = int(num_samples*0.4)\n",
    "    changes = df.sample(n).index \n",
    "    df.loc[changes, \"days\"] =  1\n",
    "    \n",
    "    changes = df[df[\"days\"] > 2].index\n",
    "    df.loc[changes, \"sold\"] = df.loc[changes, \"quantity\"]\n",
    "\n",
    "    return df"
   ]
  },
  {
   "cell_type": "code",
   "execution_count": null,
   "id": "3b99b122",
   "metadata": {},
   "outputs": [],
   "source": [
    "df = generate_data()\n",
    "display(df.shape)\n",
    "df.sample(10)"
   ]
  },
  {
   "cell_type": "code",
   "execution_count": null,
   "id": "5e4253e1",
   "metadata": {},
   "outputs": [],
   "source": [
    "url = \"markdown.csv\"\n",
    "df.to_csv(url, index=False)"
   ]
  }
 ],
 "metadata": {
  "kernelspec": {
   "display_name": "Python 3.9.7 ('msys-service')",
   "language": "python",
   "name": "python397jvsc74a57bd0f42bfc7f82b78fadfa5b696e835f78c371811b379f7076e7637f462999e39e2d"
  },
  "language_info": {
   "codemirror_mode": {
    "name": "ipython",
    "version": 3
   },
   "file_extension": ".py",
   "mimetype": "text/x-python",
   "name": "python",
   "nbconvert_exporter": "python",
   "pygments_lexer": "ipython3",
   "version": "3.9.7"
  }
 },
 "nbformat": 4,
 "nbformat_minor": 5
}

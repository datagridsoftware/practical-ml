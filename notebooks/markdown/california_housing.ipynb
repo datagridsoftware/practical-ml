{
 "cells": [
  {
   "cell_type": "markdown",
   "id": "cb27e8ce",
   "metadata": {},
   "source": [
    "## California Housing Prices Regression\n",
    "\n",
    "A sample analysis using various other linear models, here: https://sherbold.github.io/intro-to-data-science/exercises/Solution_Regression.html\n",
    "\n",
    "\n",
    "Another analysis here: https://inria.github.io/scikit-learn-mooc/python_scripts/datasets_california_housing.html\n",
    "\n",
    "\n",
    "... or here https://scikit-learn-extra.readthedocs.io/en/stable/auto_examples/robust/plot_robust_regression_california_houses.html\n"
   ]
  },
  {
   "cell_type": "markdown",
   "id": "9246950b",
   "metadata": {},
   "source": [
    "### Resources\n",
    "\n",
    "- Python 101: https://python101.pythonlibrary.org/\n",
    "- StackOverflow: https://stackoverflow.com/questions/tagged/python\n",
    "- Pandas User Guide: https://pandas.pydata.org/docs/user_guide/index.html#user-guide\n",
    "- Pandas API: https://pandas.pydata.org/docs/reference/api/pandas.DataFrame.html"
   ]
  },
  {
   "cell_type": "code",
   "execution_count": null,
   "id": "b7e68dbe",
   "metadata": {},
   "outputs": [],
   "source": [
    "import pandas as pd\n",
    "import numpy as np"
   ]
  },
  {
   "cell_type": "markdown",
   "id": "b42d1882",
   "metadata": {},
   "source": [
    "### Load the housing data set\n",
    "\n",
    "https://scikit-learn.org/stable/datasets/real_world.html"
   ]
  },
  {
   "cell_type": "code",
   "execution_count": null,
   "id": "4d2bcd41",
   "metadata": {},
   "outputs": [],
   "source": [
    "from sklearn.datasets import fetch_california_housing\n",
    "california_housing = fetch_california_housing(as_frame=True)"
   ]
  },
  {
   "cell_type": "code",
   "execution_count": null,
   "id": "1da401dd",
   "metadata": {},
   "outputs": [],
   "source": [
    "print(california_housing.DESCR)"
   ]
  },
  {
   "cell_type": "code",
   "execution_count": null,
   "id": "cedb3bee",
   "metadata": {},
   "outputs": [],
   "source": [
    "df_raw = california_housing.data.copy()\n",
    "df_raw[\"med_house_value\"] = california_housing.target\n",
    "df_raw.head(5)"
   ]
  },
  {
   "cell_type": "markdown",
   "id": "d65253f9",
   "metadata": {},
   "source": [
    "### Helper functions"
   ]
  },
  {
   "cell_type": "code",
   "execution_count": null,
   "id": "a3de7bcb",
   "metadata": {},
   "outputs": [],
   "source": [
    "from sklearn.metrics import mean_squared_error\n",
    "from sklearn.metrics import mean_absolute_error\n",
    "from sklearn.metrics import r2_score\n",
    "\n",
    "def print_metrics(y_test, y_pred):\n",
    "    display(\"R2: {0}\".format(r2_score(y_test, y_pred)))\n",
    "    display(\"MAE: {0}\".format(mean_absolute_error(y_test, y_pred)))\n",
    "    display(\"RMSE: {0}\".format(mean_squared_error(y_test, y_pred, squared=False)))\n",
    "    display(\"MSE: {0}\".format(mean_squared_error(y_test, y_pred, squared=True)))"
   ]
  },
  {
   "cell_type": "code",
   "execution_count": null,
   "id": "fd38d8d6",
   "metadata": {},
   "outputs": [],
   "source": [
    "import seaborn as sns\n",
    "import matplotlib.pyplot as plt\n",
    "\n",
    "# render the regression line and the coefficient of determination\n",
    "def plot_reg(y_test, y_pred):\n",
    "    plt.figure(figsize=(10, 8), dpi=80)\n",
    "    \n",
    "    plt.scatter(y_test, y_pred)\n",
    "    plt.xlabel('Actual values')\n",
    "    plt.ylabel('Predicted values')\n",
    "\n",
    "    y_mean = [np.mean(y_test)]*len(y_test)\n",
    "\n",
    "    plt.plot(y_test, y_mean, linestyle='--', color=\"green\")\n",
    "    plt.plot(np.unique(y_test), np.poly1d(np.polyfit(y_test, y_pred, 1))(np.unique(y_test)), color=\"red\")\n",
    "\n",
    "    plt.text(0, 0, 'R-squared = %0.2f' % r2_score(y_test, y_pred), color=\"red\")\n",
    "    \n",
    "    plt.show()"
   ]
  },
  {
   "cell_type": "markdown",
   "id": "8e7cad5c",
   "metadata": {},
   "source": [
    "### Inspect the data"
   ]
  },
  {
   "cell_type": "code",
   "execution_count": null,
   "id": "e8b98163",
   "metadata": {},
   "outputs": [],
   "source": [
    "sns.set(rc={\"figure.figsize\": (11.7, 8.27)})\n",
    "plt.figure(figsize=(12, 8), dpi=80)"
   ]
  },
  {
   "cell_type": "code",
   "execution_count": null,
   "id": "14f670fd",
   "metadata": {},
   "outputs": [],
   "source": [
    "# all features are numeric\n",
    "df_raw.info()"
   ]
  },
  {
   "cell_type": "code",
   "execution_count": null,
   "id": "8787247f",
   "metadata": {},
   "outputs": [],
   "source": [
    "df_raw.describe().transpose()"
   ]
  },
  {
   "cell_type": "code",
   "execution_count": null,
   "id": "c38dd504",
   "metadata": {},
   "outputs": [],
   "source": [
    "# mask = np.triu(np.ones_like(corr, dtype=bool))\n",
    "corr = df_raw.corr()\n",
    "sns.heatmap(\n",
    "    corr,\n",
    "    annot=True,\n",
    "    fmt=\".2f\",\n",
    "    xticklabels=corr.columns.values,\n",
    "    yticklabels=corr.columns.values,\n",
    "    cmap=\"Greens\",\n",
    ")\n",
    "plt.title(\"Correlation Heatmap\")"
   ]
  },
  {
   "cell_type": "code",
   "execution_count": null,
   "id": "18dbed7e",
   "metadata": {},
   "outputs": [],
   "source": [
    "sns.pairplot(df_raw.sample(100), x_vars=[\"HouseAge\", \"AveRooms\"], y_vars=\"med_house_value\", height=8, kind=\"reg\");"
   ]
  },
  {
   "cell_type": "code",
   "execution_count": null,
   "id": "38c1edc1",
   "metadata": {},
   "outputs": [],
   "source": [
    "# this will take a few seconds to run \n",
    "# please wait\n",
    "\n",
    "df_plot = df_raw.copy().sample(1000)\n",
    "\n",
    "df_plot = df_plot.drop(columns=[\"Longitude\", \"Latitude\"])\n",
    "\n",
    "# Quantize the target and keep the midpoint for each interval\n",
    "df_plot[\"med_house_value\"] = pd.qcut(df_plot[\"med_house_value\"], 6, retbins=False)\n",
    "df_plot[\"med_house_value\"] = df_plot[\"med_house_value\"].apply(lambda x: x.mid)\n",
    "\n",
    "_ = sns.pairplot(data=df_plot, hue=\"med_house_value\", palette=\"viridis\")"
   ]
  },
  {
   "cell_type": "markdown",
   "id": "5d045304",
   "metadata": {},
   "source": [
    "### Scikit Learn OLS"
   ]
  },
  {
   "cell_type": "code",
   "execution_count": null,
   "id": "02db976b",
   "metadata": {},
   "outputs": [],
   "source": [
    "from sklearn.model_selection import train_test_split\n",
    "from sklearn.linear_model import LinearRegression"
   ]
  },
  {
   "cell_type": "code",
   "execution_count": null,
   "id": "ce17d01e",
   "metadata": {},
   "outputs": [],
   "source": [
    "X = california_housing.data\n",
    "y = california_housing.target\n",
    "X_train, X_test, y_train, y_test = train_test_split(X, y, test_size=0.2, random_state=42)"
   ]
  },
  {
   "cell_type": "code",
   "execution_count": null,
   "id": "737cf3e4",
   "metadata": {},
   "outputs": [],
   "source": [
    "reg = LinearRegression().fit(X_train, y_train)\n",
    "y_pred_ols = reg.predict(X_test)"
   ]
  },
  {
   "cell_type": "code",
   "execution_count": null,
   "id": "0a76e746",
   "metadata": {},
   "outputs": [],
   "source": [
    "plot_reg(y_test, y_pred_ols)"
   ]
  },
  {
   "cell_type": "code",
   "execution_count": null,
   "id": "60ba0ac7",
   "metadata": {},
   "outputs": [],
   "source": [
    "print_metrics(y_test, y_pred_ols)"
   ]
  },
  {
   "cell_type": "code",
   "execution_count": null,
   "id": "c0b17c2a",
   "metadata": {},
   "outputs": [],
   "source": [
    "# show model coefficients. for a nicer display, pack them as a dataframe\n",
    "df_coeff = pd.DataFrame(X_train.columns, columns=[\"Feature\"])\n",
    "df_coeff[\"Coefficient\"] = reg.coef_\n",
    "\n",
    "display(df_coeff)\n",
    "\n",
    "print( \"Intercept term = {0}\".format(reg.intercept_))"
   ]
  },
  {
   "cell_type": "markdown",
   "id": "c6433d38",
   "metadata": {},
   "source": [
    "### Stats models OLS\n",
    "\n",
    "https://www.statsmodels.org/dev/generated/statsmodels.regression.linear_model.OLS.html#statsmodels.regression.linear_model.OLS\n",
    "\n",
    "Note: an intercept term is not added as done by the ScikitLearn implementation"
   ]
  },
  {
   "cell_type": "code",
   "execution_count": null,
   "id": "d7d8f583",
   "metadata": {},
   "outputs": [],
   "source": [
    "import statsmodels.api as sm\n",
    "\n",
    "# stats model OLS does not add an intercept term\n",
    "X_sm = sm.add_constant(california_housing.data)\n",
    "y_sm = california_housing.target\n",
    "X_train_sm, X_test_sm, y_train_sm, y_test_sm = train_test_split(X_sm, y_sm, test_size=0.2, random_state=42)\n",
    "\n",
    "model = sm.OLS(y_train_sm, X_train_sm)\n",
    "mdf = model.fit()\n",
    "display(mdf.summary())\n",
    "\n",
    "y_pred_sm = mdf.predict(X_test_sm)\n",
    "\n",
    "print_metrics(y_test_sm, y_pred_sm)"
   ]
  },
  {
   "cell_type": "markdown",
   "id": "1c5a12cd",
   "metadata": {},
   "source": [
    "### Decission Tree"
   ]
  },
  {
   "cell_type": "code",
   "execution_count": null,
   "id": "df7fcd5a",
   "metadata": {},
   "outputs": [],
   "source": [
    "from sklearn.tree import DecisionTreeRegressor\n",
    "dtree = DecisionTreeRegressor(random_state=42, max_depth=3)\n",
    "%time dtree = dtree.fit(X_train, y_train)\n",
    "\n",
    "display(\"R2 score on training data: {0}\".format(dtree.score(X_train, y_train)))"
   ]
  },
  {
   "cell_type": "code",
   "execution_count": null,
   "id": "3f4c24c5",
   "metadata": {},
   "outputs": [],
   "source": [
    "y_pred_dt = dtree.predict(X_test)\n",
    "print_metrics(y_test, y_pred_dt)"
   ]
  },
  {
   "cell_type": "code",
   "execution_count": null,
   "id": "9ccff0b1",
   "metadata": {},
   "outputs": [],
   "source": [
    "try:\n",
    "    import graphviz\n",
    "    from sklearn import tree\n",
    "    dot_data = tree.export_graphviz(dtree, feature_names=X_train.columns.values, out_file=None, filled=True)\n",
    "    graph = graphviz.Source(dot_data, format=\"svg\") \n",
    "    display(graph)\n",
    "except Exception as e:\n",
    "    print(\"Failed rendering to graphviz. Verify that graphviz is installed. Error is: {0}\".format(e))"
   ]
  },
  {
   "cell_type": "markdown",
   "id": "0db47a21",
   "metadata": {},
   "source": [
    "### XGBoost"
   ]
  },
  {
   "cell_type": "code",
   "execution_count": null,
   "id": "ed212540",
   "metadata": {},
   "outputs": [],
   "source": [
    "from xgboost import XGBRegressor\n",
    "\n",
    "# train using the default parameters\n",
    "xgb = XGBRegressor()\n",
    "\n",
    "%time rf = xgb.fit(X_train, y_train)\n",
    "print(\"R2 on training data: {0}\".format(xgb.score(X_train, y_train)))\n",
    "\n",
    "y_pred_xgb = xgb.predict(X_test)\n",
    "print_metrics(y_test, y_pred_xgb)"
   ]
  },
  {
   "cell_type": "code",
   "execution_count": null,
   "id": "a7890c62",
   "metadata": {},
   "outputs": [],
   "source": []
  }
 ],
 "metadata": {
  "kernelspec": {
   "display_name": "Python 3 (ipykernel)",
   "language": "python",
   "name": "python3"
  },
  "language_info": {
   "codemirror_mode": {
    "name": "ipython",
    "version": 3
   },
   "file_extension": ".py",
   "mimetype": "text/x-python",
   "name": "python",
   "nbconvert_exporter": "python",
   "pygments_lexer": "ipython3",
   "version": "3.9.12"
  }
 },
 "nbformat": 4,
 "nbformat_minor": 5
}

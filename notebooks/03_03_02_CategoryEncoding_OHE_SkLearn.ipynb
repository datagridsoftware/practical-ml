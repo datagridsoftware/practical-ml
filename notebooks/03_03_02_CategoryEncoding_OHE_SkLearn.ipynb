{
 "cells": [
  {
   "cell_type": "markdown",
   "id": "9f0d7cd0",
   "metadata": {},
   "source": [
    "### Feature engineering - CategoryEncoding - OneHotEncoder\n",
    "OneHotEncoder with sklearn on the Titanic dataset "
   ]
  },
  {
   "cell_type": "markdown",
   "id": "f6121498",
   "metadata": {},
   "source": [
    "***\n",
    "#### Environment\n",
    "`conda activate sklearn-env`\n",
    "\n",
    "***\n",
    "#### Goals\n",
    "- Replace categorical and discrete columns with categorical elements corespondng to each value from dataset\n",
    "- Note that name is not identified as a categorical value\n",
    "\n",
    "***\n",
    "#### References\n",
    "https://scikit-learn.org/stable/modules/generated/sklearn.preprocessing.OneHotEncoder.html\n"
   ]
  },
  {
   "cell_type": "markdown",
   "id": "ec29a731",
   "metadata": {},
   "source": [
    "#### Basic python imports"
   ]
  },
  {
   "cell_type": "code",
   "execution_count": null,
   "id": "13492101",
   "metadata": {},
   "outputs": [],
   "source": [
    "import matplotlib.pyplot as plt\n",
    "import numpy as np\n",
    "import pandas as pd\n",
    "import random\n",
    "import seaborn as sns\n",
    "\n",
    "# Make numpy printouts easier to read.\n",
    "np.set_printoptions(precision=3, suppress=True)"
   ]
  },
  {
   "cell_type": "markdown",
   "id": "47fc1bba",
   "metadata": {},
   "source": [
    "#### Dataset load using sklearn API from https://www.openml.org site\n",
    "\n",
    "https://www.openml.org/d/40945"
   ]
  },
  {
   "cell_type": "code",
   "execution_count": null,
   "id": "e412b258",
   "metadata": {},
   "outputs": [],
   "source": [
    "from sklearn.datasets import fetch_openml\n",
    "\n",
    "# Load data from https://www.openml.org/d/40945\n",
    "raw_dataset = fetch_openml(\"titanic\", version=1, as_frame=True).frame\n",
    "dataset = raw_dataset.copy()\n",
    "dataset.head(10)"
   ]
  },
  {
   "cell_type": "code",
   "execution_count": null,
   "id": "523c479b",
   "metadata": {},
   "outputs": [],
   "source": [
    "dataset.drop(['boat', 'body', 'home.dest'],  axis=1, inplace=True)\n",
    "dataset = dataset.dropna().copy()\n",
    "dataset.reset_index(drop=True, inplace=True)"
   ]
  },
  {
   "cell_type": "markdown",
   "id": "054a1c2a",
   "metadata": {},
   "source": [
    "### Verify categorical /discrete fields in dataset\n",
    "\n",
    "Notice:\n",
    "- `pclass` discrete fiels having 3 distinct values.\n",
    "- `sex` and `embarked` fields - categorical"
   ]
  },
  {
   "cell_type": "code",
   "execution_count": null,
   "id": "6264a471",
   "metadata": {},
   "outputs": [],
   "source": [
    "dataset.info()"
   ]
  },
  {
   "cell_type": "code",
   "execution_count": null,
   "id": "ae544648",
   "metadata": {},
   "outputs": [],
   "source": [
    "from sklearn.preprocessing import OneHotEncoder\n",
    "\n",
    "encoder = OneHotEncoder().fit(dataset[['pclass', 'sex', 'embarked']])\n",
    "encoder.categories_"
   ]
  },
  {
   "cell_type": "code",
   "execution_count": null,
   "id": "ec34226b",
   "metadata": {},
   "outputs": [],
   "source": [
    "ohe_f = encoder.transform(dataset[['pclass', 'sex', 'embarked']])\n",
    "print(ohe_f)"
   ]
  },
  {
   "cell_type": "code",
   "execution_count": null,
   "id": "4a54e0fe",
   "metadata": {},
   "outputs": [],
   "source": [
    "ohe_dataset = pd.DataFrame.sparse.from_spmatrix(ohe_f)\n",
    "ohe_dataset.columns =['pclass_1', 'pclass_2', 'pclass_3', 'sex_F', 'sex_M', 'embarked_C', 'embarked_Q', 'embarked_S']\n",
    "\n",
    "# the 2 datasets must have the same indexes or this operation will introduce NaNs\n",
    "new_dataset = pd.concat([dataset, ohe_dataset], axis=1)\n",
    "\n",
    "new_dataset.sample(7)"
   ]
  }
 ],
 "metadata": {
  "kernelspec": {
   "display_name": "Python 3",
   "language": "python",
   "name": "python3"
  },
  "language_info": {
   "codemirror_mode": {
    "name": "ipython",
    "version": 3
   },
   "file_extension": ".py",
   "mimetype": "text/x-python",
   "name": "python",
   "nbconvert_exporter": "python",
   "pygments_lexer": "ipython3",
   "version": "3.8.10"
  }
 },
 "nbformat": 4,
 "nbformat_minor": 5
}
